{
 "cells": [
  {
   "cell_type": "markdown",
   "metadata": {},
   "source": [
    "<img align=\"right\" src=\"tf-small.png\"/>\n",
    "\n",
    "# Atoms and Mothers\n",
    "\n",
    "One of the trickiest bits in the \n",
    "[ETCBC database of the Hebrew Bible](https://etcbc.github.io/text-fabric-data/features/hebrew/etcbc4c/0_home.html)\n",
    "are the\n",
    "[*atoms*](https://etcbc.github.io/text-fabric-data/features/hebrew/etcbc4c/otype.html#linguistic-types)\n",
    "within sentences, clauses and phrases, and the\n",
    "[*mother*](https://etcbc.github.io/text-fabric-data/features/hebrew/etcbc4c/mother.html)\n",
    "relationship between objects.\n",
    "\n",
    "Yet a lot of the coding effort of the ETCBC is located in precisely these concepts, especially in the treatment of *clause*-atoms.\n",
    "For example, there is a specific feature\n",
    "[code](https://etcbc.github.io/text-fabric-data/features/hebrew/etcbc4c/code.html)\n",
    "defined on clause atoms that provides a refined categorization of clauses.\n",
    "\n",
    "In this notebook, we will explore and highlight what you can do with mothers and clause_atoms.\n",
    "\n",
    "# Acknowledgement\n",
    "\n",
    "This notebook owes a lot to the eager questions of Joshua Grauman and the prompt answers by Hendrik-Jan Bosman, spiced with additional insights of Cody Kingham and David van Acker."
   ]
  },
  {
   "cell_type": "code",
   "execution_count": 22,
   "metadata": {
    "collapsed": true
   },
   "outputs": [],
   "source": [
    "import collections\n",
    "from tf.fabric import Fabric"
   ]
  },
  {
   "cell_type": "code",
   "execution_count": null,
   "metadata": {
    "collapsed": true
   },
   "outputs": [],
   "source": [
    "ETCBC = 'hebrew/etcbc4c'\n",
    "TF = Fabric( modules=ETCBC )"
   ]
  },
  {
   "cell_type": "code",
   "execution_count": 3,
   "metadata": {
    "collapsed": false
   },
   "outputs": [
    {
     "name": "stdout",
     "output_type": "stream",
     "text": [
      "  0.00s loading features ...\n",
      "   |     0.31s B typ                  from /Users/dirk/github/text-fabric-data/hebrew/etcbc4c\n",
      "   |     0.00s Feature overview: 102 for nodes; 5 for edges; 1 configs; 7 computed\n",
      "  0.36s All features loaded/computed - for details use loadLog()\n"
     ]
    }
   ],
   "source": [
    "api = TF.load('''\n",
    "    typ\n",
    "''')\n",
    "api.makeAvailableIn(globals())"
   ]
  },
  {
   "cell_type": "markdown",
   "metadata": {},
   "source": [
    "# clause and clause_atom\n",
    "\n",
    "The ETCBC does not work with *embedded* clauses. In the clause\n",
    "\n",
    "`we'll see whether this works out later`\n",
    "\n",
    "there is an inner clause `whether this works out`, and an outer clause `we'll see ... later`.\n",
    "\n",
    "In many types of linguistic analysis, the inner clause is part of the outer clause, in the role of\n",
    "direct object. The word `works` belongs both to the inner and outer clause.\n",
    "\n",
    "Not so in the ETCBC analysis of things. \n",
    "The inner clause *interrupts* the outer clause, and the outer clause has a *gap*.\n",
    "The word `works` belongs to the inner clause only.\n",
    "\n",
    "Because of the gap, the outer clause splits into two segments, one before the gap, and one after the gap.\n",
    "These parts are called the *clause_atoms*.\n",
    "\n",
    "The clause_atom before the gap is rather complete, it has a subject and a predicate.\n",
    "The clause_atom after the gap is, well, defective.\n",
    "\n",
    "## Explore\n",
    "\n",
    "Let us see some clauses that consist of multiple clause atoms."
   ]
  },
  {
   "cell_type": "code",
   "execution_count": 45,
   "metadata": {
    "collapsed": false
   },
   "outputs": [
    {
     "name": "stdout",
     "output_type": "stream",
     "text": [
      "  0.68s 2441 multiple atom clauses\n"
     ]
    }
   ],
   "source": [
    "results = list(S.search('''\n",
    "clause\n",
    "  clause_atom\n",
    "  < clause_atom\n",
    "'''))\n",
    "\n",
    "mClauses = sortNodes(set(x[0] for x in results))\n",
    "info('{} multiple atom clauses'.format(len(mClauses)))"
   ]
  },
  {
   "cell_type": "code",
   "execution_count": 46,
   "metadata": {
    "collapsed": false
   },
   "outputs": [
    {
     "name": "stdout",
     "output_type": "stream",
     "text": [
      "clause[וַיַּבְדֵּ֗ל בֵּ֤ין הַמַּ֨יִם֙ ...] clause_atom[וַיַּבְדֵּ֗ל בֵּ֤ין הַמַּ֨יִם֙ ] clause_atom[וּבֵ֣ין הַמַּ֔יִם ]\n",
      "clause[תַּֽדְשֵׁ֤א הָאָ֨רֶץ֙ דֶּ֔שֶׁא עֵ֚שֶׂב ...] clause_atom[תַּֽדְשֵׁ֤א הָאָ֨רֶץ֙ דֶּ֔שֶׁא עֵ֚שֶׂב ] clause_atom[עֵ֣ץ פְּרִ֞י ]\n",
      "clause[עֹ֤שֶׂה פְּרִי֙ לְמִינֹ֔ו עַל־...] clause_atom[עֹ֤שֶׂה פְּרִי֙ לְמִינֹ֔ו ] clause_atom[עַל־הָאָ֑רֶץ ]\n",
      "clause[וַתֹּוצֵ֨א הָאָ֜רֶץ דֶּ֠שֶׁא ...] clause_atom[וַתֹּוצֵ֨א הָאָ֜רֶץ דֶּ֠שֶׁא ...] clause_atom[וְעֵ֧ץ ]\n",
      "clause[עֹ֥שֶׂה פְּרִ֛י לְמִינֵ֑הוּ ] clause_atom[עֹ֥שֶׂה פְּרִ֛י ] clause_atom[לְמִינֵ֑הוּ ]\n"
     ]
    }
   ],
   "source": [
    "for r in results[0:5]: print(S.glean(r))"
   ]
  },
  {
   "cell_type": "markdown",
   "metadata": {},
   "source": [
    "Now count the how many clauses have how many atoms."
   ]
  },
  {
   "cell_type": "code",
   "execution_count": 47,
   "metadata": {
    "collapsed": false
   },
   "outputs": [
    {
     "name": "stdout",
     "output_type": "stream",
     "text": [
      " 2 atoms:  2334 clauses\n",
      " 3 atoms:    95 clauses\n",
      " 4 atoms:    10 clauses\n",
      " 5 atoms:     2 clauses\n"
     ]
    }
   ],
   "source": [
    "caCount = collections.Counter()\n",
    "for c in mClauses:\n",
    "    caCount[len(L.d(c, 'clause_atom'))] += 1\n",
    "for (nca, nc) in sorted(caCount.items(), key=lambda x: (-x[1], x[0])):\n",
    "    print('{:>2} atoms: {:>5} clauses'.format(nca, nc))"
   ]
  },
  {
   "cell_type": "markdown",
   "metadata": {},
   "source": [
    "The next thing is: we want to see every multi-atom clause, and for each atom at which slot it starts and end, and whether its \n",
    "[clause type](https://etcbc.github.io/text-fabric-data/features/hebrew/etcbc4c/typ.html)\n",
    "is defective or not."
   ]
  },
  {
   "cell_type": "code",
   "execution_count": 50,
   "metadata": {
    "collapsed": false
   },
   "outputs": [
    {
     "name": "stdout",
     "output_type": "stream",
     "text": [
      "101-115\n",
      "\t101---105\n",
      "\t112-D-115\n",
      "182-190\n",
      "\t182---186\n",
      "\t189-D-190\n",
      "191-200\n",
      "\t191---194\n",
      "\t198-D-200\n",
      "204-215\n",
      "\t204---209\n",
      "\t214-D-215\n",
      "216-222\n",
      "\t216---217\n",
      "\t221-D-222\n",
      "380-401\n",
      "\t380---391\n",
      "\t400-D-401\n",
      "593-611\n",
      "\t593---598\n",
      "\t607-D-611\n",
      "622-650\n",
      "\t622---640\n",
      "\t645-D-650\n",
      "989-995\n",
      "\t989-D-991\n",
      "\t994---995\n",
      "1097-1110\n",
      "\t1097---1103\n",
      "\t1109-D-1110\n"
     ]
    }
   ],
   "source": [
    "chunks = []\n",
    "for c in mClauses:\n",
    "    cas = L.d(c, 'clause_atom')\n",
    "    cwords = L.d(c, otype='word')\n",
    "    rep = ['{}-{}'.format(cwords[0], cwords[-1])]\n",
    "    for ca in cas:\n",
    "        defc = F.typ.v(ca) == 'Defc'\n",
    "        slots = L.d(ca, otype='word')\n",
    "        bs = slots[0]\n",
    "        es = slots[-1]\n",
    "        rep.append('\\t{}-{}-{}'.format(bs, 'D' if defc else '-', es))\n",
    "    chunks.append(rep)\n",
    "\n",
    "for ch in chunks[0:10]: print('\\n'.join(ch))"
   ]
  },
  {
   "cell_type": "markdown",
   "metadata": {},
   "source": [
    "Is it the case that every clause splits into exactly one non-defective atom and the rest defective?\n",
    "Lets count the profiles of clauses. A profile is a sequence of `-` and `D` characters, corresponding to the\n",
    "defectiveness of its successive clause_atoms."
   ]
  },
  {
   "cell_type": "code",
   "execution_count": 55,
   "metadata": {
    "collapsed": false
   },
   "outputs": [
    {
     "name": "stdout",
     "output_type": "stream",
     "text": [
      "13m 01s 10 profiles\n",
      "-      : 85559x\n",
      "-D     :  1083x\n",
      "-DD    :    62x\n",
      "-DDD   :     7x\n",
      "-DDDD  :     2x\n",
      "D-     :  1251x\n",
      "D-D    :    10x\n",
      "DD-    :    23x\n",
      "DD-D   :     1x\n",
      "DDD-   :     2x\n"
     ]
    }
   ],
   "source": [
    "profiles = collections.Counter()\n",
    "for c in F.otype.s('clause'):\n",
    "    cas = L.d(c, 'clause_atom')\n",
    "    profile = ''.join('D' if F.typ.v(ca) == 'Defc' else '-' for ca in L.d(c, otype='clause_atom'))\n",
    "    profiles[profile] += 1\n",
    "info('{} profiles'.format(len(profiles)))\n",
    "for (profile, n) in sorted(profiles.items()):\n",
    "    print('{:<6} : {:>5}x'.format(profile, n))"
   ]
  },
  {
   "cell_type": "markdown",
   "metadata": {},
   "source": [
    "This gives a pretty good picture of the construction of clauses out of their atoms.\n",
    "Note that we have inspected all clauses, including the single atoms clauses, and note that those are never\n",
    "defective."
   ]
  },
  {
   "cell_type": "code",
   "execution_count": null,
   "metadata": {
    "collapsed": true
   },
   "outputs": [],
   "source": []
  }
 ],
 "metadata": {
  "kernelspec": {
   "display_name": "Python 3",
   "language": "python",
   "name": "python3"
  },
  "language_info": {
   "codemirror_mode": {
    "name": "ipython",
    "version": 3
   },
   "file_extension": ".py",
   "mimetype": "text/x-python",
   "name": "python",
   "nbconvert_exporter": "python",
   "pygments_lexer": "ipython3",
   "version": "3.6.0"
  }
 },
 "nbformat": 4,
 "nbformat_minor": 2
}
