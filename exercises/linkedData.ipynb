{
 "cells": [
  {
   "cell_type": "markdown",
   "metadata": {
    "deletable": true,
    "editable": true
   },
   "source": [
    "<img align=\"right\" src=\"tf-small.png\"/>\n",
    "\n",
    "# Linked Data\n",
    "\n",
    "We prepare a Linked Data set of the\n",
    "[Hebrew Bible](https://etcbc.github.io/text-fabric-data/features/hebrew/etcbc4c/0_home.html)\n",
    "plus linguistic annotations.\n",
    "\n",
    "This is just an exercise, done for this\n",
    "[linked data course event](http://risis.eu/event/linked-data-for-science-and-innovation-studies/).\n",
    "\n",
    "It is not a definitive linked data export."
   ]
  },
  {
   "cell_type": "code",
   "execution_count": 5,
   "metadata": {
    "collapsed": false,
    "deletable": true,
    "editable": true
   },
   "outputs": [],
   "source": [
    "import os\n",
    "from tf.fabric import Fabric"
   ]
  },
  {
   "cell_type": "markdown",
   "metadata": {
    "deletable": true,
    "editable": true
   },
   "source": [
    "# Call Text-Fabric\n",
    "\n",
    "Everything starts by setting up Text-Fabric.\n",
    "It needs to know where to look for data."
   ]
  },
  {
   "cell_type": "code",
   "execution_count": 2,
   "metadata": {
    "collapsed": false,
    "deletable": true,
    "editable": true
   },
   "outputs": [
    {
     "name": "stdout",
     "output_type": "stream",
     "text": [
      "This is Text-Fabric 2.3.6\n",
      "Api reference : https://github.com/ETCBC/text-fabric/wiki/Api\n",
      "Tutorial      : https://github.com/ETCBC/text-fabric/blob/master/docs/tutorial.ipynb\n",
      "Data sources  : https://github.com/ETCBC/text-fabric-data\n",
      "Data docs     : https://etcbc.github.io/text-fabric-data\n",
      "Shebanq docs  : https://shebanq.ancient-data.org/text\n",
      "Slack team    : https://shebanq.slack.com/signup\n",
      "Questions? Ask shebanq@ancient-data.org for an invite to Slack\n",
      "111 features found and 0 ignored\n"
     ]
    }
   ],
   "source": [
    "ETCBC = 'hebrew/etcbc4c'\n",
    "PHONO = 'hebrew/phono'\n",
    "TF = Fabric( modules=[ETCBC, PHONO])"
   ]
  },
  {
   "cell_type": "markdown",
   "metadata": {
    "deletable": true,
    "editable": true
   },
   "source": [
    "# Load Features"
   ]
  },
  {
   "cell_type": "code",
   "execution_count": 3,
   "metadata": {
    "collapsed": false,
    "deletable": true,
    "editable": true
   },
   "outputs": [
    {
     "name": "stdout",
     "output_type": "stream",
     "text": [
      "  0.00s loading features ...\n",
      "   |     0.21s B g_word_utf8          from /Users/dirk/github/text-fabric-data/hebrew/etcbc4c\n",
      "   |     0.21s B phono                from /Users/dirk/github/text-fabric-data/hebrew/phono\n",
      "   |     0.07s B phono_trailer        from /Users/dirk/github/text-fabric-data/hebrew/phono\n",
      "   |     0.09s B trailer_utf8         from /Users/dirk/github/text-fabric-data/hebrew/etcbc4c\n",
      "   |     0.22s B lex                  from /Users/dirk/github/text-fabric-data/hebrew/etcbc4c\n",
      "   |     0.16s B sp                   from /Users/dirk/github/text-fabric-data/hebrew/etcbc4c\n",
      "   |     0.09s B function             from /Users/dirk/github/text-fabric-data/hebrew/etcbc4c\n",
      "   |     0.42s B typ                  from /Users/dirk/github/text-fabric-data/hebrew/etcbc4c\n",
      "   |     0.00s Feature overview: 104 for nodes; 5 for edges; 2 configs; 7 computed\n",
      "  7.05s All features loaded/computed - for details use loadLog()\n"
     ]
    }
   ],
   "source": [
    "api = TF.load('''\n",
    "    g_word_utf8 trailer_utf8\n",
    "    phono phono_trailer\n",
    "    lex sp function typ\n",
    "''')\n",
    "api.makeAvailableIn(globals())"
   ]
  },
  {
   "cell_type": "markdown",
   "metadata": {},
   "source": [
    "# Output location"
   ]
  },
  {
   "cell_type": "code",
   "execution_count": 6,
   "metadata": {
    "collapsed": false
   },
   "outputs": [],
   "source": [
    "outputDir = os.path.expanduser('~/Dropbox/public_dropbox/datasets/HebrewBible')\n",
    "if not os.path.exists(outputDir): os.makedirs(outputDir)\n",
    "outFile = 'HebrewBible.tsv'\n",
    "outPath = '{}/{}'.format(outputDir, outFile)"
   ]
  },
  {
   "cell_type": "markdown",
   "metadata": {
    "deletable": true,
    "editable": true
   },
   "source": [
    "# First step\n",
    "\n",
    "We compile a table, with a row for each word (>400,000 rows).\n",
    "In each row, we have fields for book, chapter, verse, Hebrew text, phonological text, lexeme, part of speech.\n",
    "We also add the phrase *function* of the surrounding phrase and the clause *type* of the \n",
    "surrounding clause.\n",
    "\n",
    "For more information on these features, see the\n",
    "[feature documentation](https://etcbc.github.io/text-fabric-data/features/hebrew/etcbc4c/0_overview.html),\n",
    "in particular\n",
    "\n",
    "* [g_word_utf8](https://etcbc.github.io/text-fabric-data/features/hebrew/etcbc4c/g_word_utf8.html)\n",
    "* [trailer_utf8](https://etcbc.github.io/text-fabric-data/features/hebrew/etcbc4c/trailer_utf8.html)\n",
    "* [phono](https://etcbc.github.io/text-fabric-data/features/hebrew/phono/phono.html)\n",
    "* [phono_trailer](https://etcbc.github.io/text-fabric-data/features/hebrew/phono/phono_trailer.html)\n",
    "* [sp](https://etcbc.github.io/text-fabric-data/features/hebrew/etcbc4c/sp.html)\n",
    "* [lex](https://etcbc.github.io/text-fabric-data/features/hebrew/etcbc4c/lex.html)\n",
    "* [function](https://etcbc.github.io/text-fabric-data/features/hebrew/etcbc4c/function.html)\n",
    "* [typ](https://etcbc.github.io/text-fabric-data/features/hebrew/etcbc4c/typ.html)"
   ]
  },
  {
   "cell_type": "code",
   "execution_count": 7,
   "metadata": {
    "collapsed": false,
    "deletable": true,
    "editable": true
   },
   "outputs": [
    {
     "name": "stdout",
     "output_type": "stream",
     "text": [
      "  0.00s Generating word table file\n",
      "    28s Done\n"
     ]
    }
   ],
   "source": [
    "fields = '''\n",
    "    book chapter verse\n",
    "    hebrew hsep \n",
    "    phono phsep\n",
    "    lexeme part-of-speech\n",
    "    phrase-function clause-type\n",
    "'''.strip().split()\n",
    "\n",
    "rowFormat = ('{}\\t' * (len(fields) - 1)) + '{}\\n'\n",
    "\n",
    "indent(reset=True)\n",
    "info('Generating word table file')\n",
    "\n",
    "with open(outPath, 'w') as tf:\n",
    "    tf.write(rowFormat.format(*fields))\n",
    "    for w in F.otype.s('word'):\n",
    "        (book, chapter, verse) = T.sectionFromNode(w)\n",
    "        p = L.u(w, 'phrase')[0]\n",
    "        c = L.u(w, 'clause')[0]\n",
    "        tf.write(rowFormat.format(\n",
    "            book, chapter, verse,\n",
    "            F.g_word_utf8.v(w), F.trailer_utf8.v(w),\n",
    "            F.phono.v(w), F.phono_trailer.v(w),\n",
    "            F.lex.v(w), F.sp.v(w),\n",
    "            F.function.v(p), F.typ.v(c),\n",
    "        ))\n",
    "tf.close()\n",
    "info('Done')"
   ]
  },
  {
   "cell_type": "code",
   "execution_count": null,
   "metadata": {
    "collapsed": true,
    "deletable": true,
    "editable": true
   },
   "outputs": [],
   "source": []
  }
 ],
 "metadata": {
  "kernelspec": {
   "display_name": "Python 3",
   "language": "python",
   "name": "python3"
  },
  "language_info": {
   "codemirror_mode": {
    "name": "ipython",
    "version": 3
   },
   "file_extension": ".py",
   "mimetype": "text/x-python",
   "name": "python",
   "nbconvert_exporter": "python",
   "pygments_lexer": "ipython3",
   "version": "3.6.0"
  }
 },
 "nbformat": 4,
 "nbformat_minor": 1
}
