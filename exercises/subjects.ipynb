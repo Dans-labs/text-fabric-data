{
 "cells": [
  {
   "cell_type": "markdown",
   "metadata": {
    "deletable": true,
    "editable": true
   },
   "source": [
    "<img align=\"right\" src=\"tf-small.png\"/>\n",
    "\n",
    "# Subjects\n",
    "\n",
    "Ultimate goal: determine the *number* (singular/plural) of every subject phrase.\n",
    "\n",
    "First step: an inventarisation of all subjects.\n",
    "\n",
    "Below is a categorisation of cases.\n",
    "The outcome of this crude analysis is that most cases we can compute, but there is a list of\n",
    "2777 cases that require attention.\n",
    "This notebook will generate those cases in an\n",
    "[Excel Sheet](subjectCases.xlsx)."
   ]
  },
  {
   "cell_type": "code",
   "execution_count": 1,
   "metadata": {
    "collapsed": false,
    "deletable": true,
    "editable": true
   },
   "outputs": [],
   "source": [
    "import sys, collections\n",
    "import xlsxwriter\n",
    "from tf.fabric import Fabric"
   ]
  },
  {
   "cell_type": "markdown",
   "metadata": {
    "deletable": true,
    "editable": true
   },
   "source": [
    "# Call Text-Fabric\n",
    "\n",
    "Everything starts by setting up Text-Fabric.\n",
    "It needs to know where to look for data."
   ]
  },
  {
   "cell_type": "code",
   "execution_count": 2,
   "metadata": {
    "collapsed": false,
    "deletable": true,
    "editable": true
   },
   "outputs": [
    {
     "name": "stdout",
     "output_type": "stream",
     "text": [
      "This is Text-Fabric 2.3.4\n",
      "Api reference : https://github.com/ETCBC/text-fabric/wiki/Api\n",
      "Tutorial      : https://github.com/ETCBC/text-fabric/blob/master/docs/tutorial.ipynb\n",
      "Data sources  : https://github.com/ETCBC/text-fabric-data\n",
      "Data docs     : https://etcbc.github.io/text-fabric-data\n",
      "Shebanq docs  : https://shebanq.ancient-data.org/text\n",
      "Slack team    : https://shebanq.slack.com/signup\n",
      "Questions? Ask shebanq@ancient-data.org for an invite to Slack\n",
      "108 features found and 0 ignored\n"
     ]
    }
   ],
   "source": [
    "ETCBC = 'hebrew/etcbc4c'\n",
    "TF = Fabric( modules=[ETCBC])"
   ]
  },
  {
   "cell_type": "markdown",
   "metadata": {
    "deletable": true,
    "editable": true
   },
   "source": [
    "# Load Features"
   ]
  },
  {
   "cell_type": "code",
   "execution_count": 18,
   "metadata": {
    "collapsed": false,
    "deletable": true,
    "editable": true
   },
   "outputs": [
    {
     "name": "stdout",
     "output_type": "stream",
     "text": [
      "  0.00s loading features ...\n",
      "   |     0.00s Feature overview: 102 nodes; 5 edges; 1 configs; 7 computeds\n",
      "  0.07s All features loaded/computed - for details use loadLog()\n"
     ]
    }
   ],
   "source": [
    "api = TF.load('''\n",
    "    sp st nu lex0\n",
    "    function\n",
    "''')\n",
    "api.makeAvailableIn(globals())"
   ]
  },
  {
   "cell_type": "markdown",
   "metadata": {
    "deletable": true,
    "editable": true
   },
   "source": [
    "# Counting\n",
    "\n",
    "We count the number of all subject phrases.\n",
    "\n",
    "Then we refine. We want to know how many subject phrases there are with 1, 2, 3, etc nouns in the\n",
    "absolute state.\n",
    "\n",
    "As a preliminary, we make sure that every node that has `function=Subj` is in fact a phrase node."
   ]
  },
  {
   "cell_type": "code",
   "execution_count": 4,
   "metadata": {
    "collapsed": false,
    "deletable": true,
    "editable": true
   },
   "outputs": [
    {
     "name": "stdout",
     "output_type": "stream",
     "text": [
      "  0.00s Checking Subj nodes\n",
      "  0.10s Done. 0 Subj nodes are not phrases\n"
     ]
    }
   ],
   "source": [
    "indent(reset=True)\n",
    "info('Checking Subj nodes')\n",
    "e = 0\n",
    "for n in F.function.s('Subj'):\n",
    "    if F.otype.v(n) != 'phrase': e += 1\n",
    "info('Done. {} Subj nodes are not phrases'.format(e))"
   ]
  },
  {
   "cell_type": "code",
   "execution_count": 5,
   "metadata": {
    "collapsed": false,
    "deletable": true,
    "editable": true
   },
   "outputs": [
    {
     "name": "stdout",
     "output_type": "stream",
     "text": [
      "  0.00s Counting subject phrases ...\n",
      "  0.34s Done: found 31930 subject phrases\n"
     ]
    }
   ],
   "source": [
    "subjects = collections.Counter()\n",
    "indent(reset=True)\n",
    "nounCodes = {'subs', 'nmpr'} # do not forget the proper nouns\n",
    "\n",
    "info('Counting subject phrases ...')\n",
    "for p in F.function.s('Subj'):\n",
    "    words = tuple(w for w in L.d(p, 'word') if F.sp.v(w) in nounCodes and F.st.v(w) == 'a')\n",
    "    nwords = len(words)\n",
    "    subjects[nwords] += 1\n",
    "\n",
    "info('Done: found {} subject phrases'.format(sum(subjects.values())))"
   ]
  },
  {
   "cell_type": "markdown",
   "metadata": {
    "deletable": true,
    "editable": true
   },
   "source": [
    "Now let us see how they are distributed with respect to the number of nouns in absolute state that they contain."
   ]
  },
  {
   "cell_type": "code",
   "execution_count": 6,
   "metadata": {
    "collapsed": false,
    "deletable": true,
    "editable": true
   },
   "outputs": [
    {
     "name": "stdout",
     "output_type": "stream",
     "text": [
      " 0 absolutes:  6890 subjects\n",
      " 1 absolutes: 20812 subjects\n",
      " 2 absolutes:  3098 subjects\n",
      " 3 absolutes:   677 subjects\n",
      " 4 absolutes:   221 subjects\n",
      " 5 absolutes:    88 subjects\n",
      " 6 absolutes:    52 subjects\n",
      " 7 absolutes:    37 subjects\n",
      " 8 absolutes:    36 subjects\n",
      " 9 absolutes:     8 subjects\n",
      "10 absolutes:     7 subjects\n",
      "11 absolutes:     1 subjects\n",
      "12 absolutes:     1 subjects\n",
      "13 absolutes:     2 subjects\n",
      ">2 absolutes:  4228 subjects\n"
     ]
    }
   ],
   "source": [
    "moreThanOne = 0\n",
    "for (nAbs, nSubjects) in sorted(subjects.items(), key=lambda x: (x[0], -x[1])):\n",
    "    print('{:>2} absolutes: {:>5} subjects'.format(nAbs, nSubjects))\n",
    "    if nAbs >= 2: moreThanOne += nSubjects\n",
    "print('>2 absolutes: {:>5} subjects'.format(moreThanOne))"
   ]
  },
  {
   "cell_type": "markdown",
   "metadata": {
    "deletable": true,
    "editable": true
   },
   "source": [
    "# Next steps:\n",
    "\n",
    "* Inspect the subjects with zero nouns in the absolute state. Are these phrases pronominal? Do they\n",
    "  consist of `asher`? We can assign an '??' value to `asher` cases, unless we want to go as far as determining\n",
    "  the antecedent phrases for number.\n",
    "* Inspect the phrases with one absolute noun. Can we safely identify the number of the phrase with the number of\n",
    "  the noun?\n",
    "* For the 4228 subjects with more than one absolute: inspect, classify, distinguis between easy classes and difficult\n",
    "  classes, \n",
    "  show difficult cases in a spreadsheet, sort them, and see whether you can   \n",
    "  assign a number to these semi-automatically."
   ]
  },
  {
   "cell_type": "markdown",
   "metadata": {
    "deletable": true,
    "editable": true
   },
   "source": [
    "# Zero nouns\n",
    "\n",
    "Let us see how the zero noun subjects are shaped. We want to know how many words they have, and how many for each part-of-speech."
   ]
  },
  {
   "cell_type": "code",
   "execution_count": 7,
   "metadata": {
    "collapsed": false,
    "deletable": true,
    "editable": true
   },
   "outputs": [
    {
     "name": "stdout",
     "output_type": "stream",
     "text": [
      "  0.00s Counting zero-noun subject phrases ...\n",
      "  0.38s Done. Found 111 profiles\n"
     ]
    }
   ],
   "source": [
    "zeroSubjects = collections.Counter()\n",
    "indent(reset=True)\n",
    "\n",
    "info('Counting zero-noun subject phrases ...')\n",
    "for p in F.function.s('Subj'):\n",
    "    allWords = L.d(p, 'word')\n",
    "    words = tuple(w for w in allWords if F.sp.v(w) in nounCodes and F.st.v(w) == 'a')\n",
    "    nwords = len(words)\n",
    "    if nwords > 0: continue\n",
    "    profile = collections.Counter()\n",
    "    for w in allWords:\n",
    "        profile[F.sp.v(w)] += 1\n",
    "    fixedProfile = tuple(sorted(profile.items(), key=lambda x: (x[0], -x[1])))\n",
    "    zeroSubjects[fixedProfile] += 1\n",
    "info('Done. Found {} profiles'.format(len(zeroSubjects)))"
   ]
  },
  {
   "cell_type": "markdown",
   "metadata": {
    "deletable": true,
    "editable": true
   },
   "source": [
    "Now show the profiles."
   ]
  },
  {
   "cell_type": "code",
   "execution_count": 8,
   "metadata": {
    "collapsed": false,
    "deletable": true,
    "editable": true
   },
   "outputs": [
    {
     "name": "stdout",
     "output_type": "stream",
     "text": [
      " 3766 subjects have profile (('prps', 1),)\n",
      "  610 subjects have profile (('prde', 1),)\n",
      "  495 subjects have profile (('adjv', 1),)\n",
      "  349 subjects have profile (('verb', 1),)\n",
      "  342 subjects have profile (('prin', 1),)\n",
      "  225 subjects have profile (('adjv', 1), ('art', 1))\n",
      "  180 subjects have profile (('adjv', 1), ('subs', 1))\n",
      "  157 subjects have profile (('art', 1), ('verb', 1))\n",
      "  156 subjects have profile (('advb', 1), ('prps', 1))\n",
      "  146 subjects have profile (('subs', 1),)\n",
      "   73 subjects have profile (('subs', 1), ('verb', 1))\n",
      "   51 subjects have profile (('prde', 1), ('subs', 1))\n",
      "   45 subjects have profile (('adjv', 1), ('art', 1), ('subs', 1))\n",
      "   22 subjects have profile (('prep', 1),)\n",
      "   21 subjects have profile (('advb', 1), ('prde', 1))\n",
      "   18 subjects have profile (('art', 1), ('subs', 1), ('verb', 1))\n",
      "   15 subjects have profile (('subs', 2),)\n",
      "   13 subjects have profile (('adjv', 2), ('art', 2), ('conj', 1))\n",
      "   12 subjects have profile (('adjv', 2), ('conj', 1))\n",
      "   12 subjects have profile (('prde', 1), ('prin', 1))\n",
      "   10 subjects have profile (('adjv', 1), ('verb', 1))\n",
      "    8 subjects have profile (('prep', 1), ('subs', 2))\n",
      "    7 subjects have profile (('adjv', 1), ('subs', 2))\n",
      "    7 subjects have profile (('adjv', 2),)\n",
      "    7 subjects have profile (('prep', 1), ('prin', 1))\n",
      "    6 subjects have profile (('adjv', 1), ('conj', 1), ('verb', 1))\n",
      "    5 subjects have profile (('art', 2), ('conj', 1), ('verb', 2))\n",
      "    5 subjects have profile (('conj', 1), ('verb', 2))\n",
      "    4 subjects have profile (('adjv', 1), ('art', 2), ('prde', 1))\n",
      "    4 subjects have profile (('art', 2), ('prde', 1), ('verb', 1))\n",
      "    4 subjects have profile (('conj', 1), ('prps', 2))\n",
      "    4 subjects have profile (('prde', 1), ('prep', 1), ('subs', 1))\n",
      "    3 subjects have profile (('adjv', 1), ('advb', 1))\n",
      "    3 subjects have profile (('adjv', 1), ('art', 1), ('prep', 1))\n",
      "    3 subjects have profile (('adjv', 1), ('art', 1), ('verb', 1))\n",
      "    3 subjects have profile (('adjv', 2), ('art', 2))\n",
      "    3 subjects have profile (('adjv', 2), ('art', 2), ('conj', 1), ('subs', 2))\n",
      "    3 subjects have profile (('conj', 1), ('subs', 4))\n",
      "    3 subjects have profile (('prep', 1), ('verb', 1))\n",
      "    3 subjects have profile (('prin', 1), ('subs', 1))\n",
      "    2 subjects have profile (('adjv', 1), ('advb', 1), ('art', 1))\n",
      "    2 subjects have profile (('adjv', 1), ('advb', 1), ('subs', 1))\n",
      "    2 subjects have profile (('adjv', 1), ('art', 1), ('prep', 1), ('subs', 1))\n",
      "    2 subjects have profile (('adjv', 1), ('art', 1), ('prps', 1))\n",
      "    2 subjects have profile (('adjv', 1), ('art', 1), ('subs', 2))\n",
      "    2 subjects have profile (('adjv', 1), ('art', 2), ('conj', 1), ('verb', 1))\n",
      "    2 subjects have profile (('adjv', 1), ('art', 2), ('verb', 1))\n",
      "    2 subjects have profile (('adjv', 1), ('prps', 1))\n",
      "    2 subjects have profile (('adjv', 2), ('art', 3), ('prde', 1))\n",
      "    2 subjects have profile (('adjv', 4), ('art', 4), ('conj', 3), ('subs', 4))\n",
      "    2 subjects have profile (('advb', 1), ('subs', 1))\n",
      "    2 subjects have profile (('conj', 1), ('prin', 2))\n",
      "    2 subjects have profile (('conj', 1), ('subs', 2))\n",
      "    2 subjects have profile (('prde', 1), ('prep', 1))\n",
      "    2 subjects have profile (('prep', 1), ('subs', 1))\n",
      "    2 subjects have profile (('subs', 2), ('verb', 1))\n",
      "    1 subjects have profile (('adjv', 1), ('advb', 1), ('art', 1), ('prps', 1))\n",
      "    1 subjects have profile (('adjv', 1), ('advb', 1), ('art', 1), ('subs', 1))\n",
      "    1 subjects have profile (('adjv', 1), ('advb', 2), ('verb', 1))\n",
      "    1 subjects have profile (('adjv', 1), ('art', 1), ('conj', 1), ('prps', 1))\n",
      "    1 subjects have profile (('adjv', 1), ('art', 1), ('conj', 1), ('subs', 1))\n",
      "    1 subjects have profile (('adjv', 1), ('art', 1), ('prep', 1), ('subs', 2), ('verb', 1))\n",
      "    1 subjects have profile (('adjv', 1), ('art', 1), ('subs', 1), ('verb', 1))\n",
      "    1 subjects have profile (('adjv', 1), ('art', 1), ('subs', 3))\n",
      "    1 subjects have profile (('adjv', 1), ('art', 2), ('prps', 1))\n",
      "    1 subjects have profile (('adjv', 1), ('art', 2), ('subs', 1), ('verb', 1))\n",
      "    1 subjects have profile (('adjv', 1), ('conj', 1), ('prep', 1), ('verb', 1))\n",
      "    1 subjects have profile (('adjv', 1), ('conj', 1), ('subs', 2), ('verb', 1))\n",
      "    1 subjects have profile (('adjv', 1), ('prde', 1))\n",
      "    1 subjects have profile (('adjv', 1), ('prde', 1), ('subs', 1))\n",
      "    1 subjects have profile (('adjv', 1), ('prep', 1))\n",
      "    1 subjects have profile (('adjv', 1), ('prep', 1), ('prin', 1))\n",
      "    1 subjects have profile (('adjv', 1), ('prep', 2))\n",
      "    1 subjects have profile (('adjv', 1), ('subs', 1), ('verb', 1))\n",
      "    1 subjects have profile (('adjv', 2), ('art', 1), ('subs', 1))\n",
      "    1 subjects have profile (('adjv', 2), ('art', 2), ('conj', 1), ('prep', 2))\n",
      "    1 subjects have profile (('adjv', 2), ('art', 2), ('conj', 1), ('subs', 4))\n",
      "    1 subjects have profile (('adjv', 2), ('conj', 1), ('prep', 1), ('subs', 2))\n",
      "    1 subjects have profile (('adjv', 2), ('subs', 2))\n",
      "    1 subjects have profile (('adjv', 3), ('art', 3), ('conj', 1), ('prep', 2), ('subs', 2))\n",
      "    1 subjects have profile (('adjv', 3), ('art', 3), ('conj', 2))\n",
      "    1 subjects have profile (('adjv', 3), ('conj', 2), ('verb', 1))\n",
      "    1 subjects have profile (('adjv', 4), ('art', 3), ('conj', 3), ('subs', 3))\n",
      "    1 subjects have profile (('advb', 1), ('prep', 1), ('prps', 1))\n",
      "    1 subjects have profile (('advb', 1), ('prps', 2))\n",
      "    1 subjects have profile (('advb', 1), ('subs', 1), ('verb', 1))\n",
      "    1 subjects have profile (('advb', 1), ('verb', 1))\n",
      "    1 subjects have profile (('advb', 2), ('prps', 2))\n",
      "    1 subjects have profile (('art', 1), ('conj', 3), ('prps', 1), ('verb', 3))\n",
      "    1 subjects have profile (('art', 1), ('prep', 1), ('verb', 1))\n",
      "    1 subjects have profile (('art', 1), ('subs', 2), ('verb', 1))\n",
      "    1 subjects have profile (('art', 2), ('conj', 1), ('subs', 1), ('verb', 2))\n",
      "    1 subjects have profile (('art', 2), ('prde', 1), ('subs', 1), ('verb', 1))\n",
      "    1 subjects have profile (('conj', 1), ('prde', 1), ('subs', 2))\n",
      "    1 subjects have profile (('conj', 1), ('prep', 2), ('subs', 1))\n",
      "    1 subjects have profile (('conj', 1), ('prps', 1), ('subs', 1), ('verb', 1))\n",
      "    1 subjects have profile (('conj', 1), ('prps', 1), ('verb', 1))\n",
      "    1 subjects have profile (('conj', 1), ('subs', 1), ('verb', 1))\n",
      "    1 subjects have profile (('conj', 1), ('subs', 5))\n",
      "    1 subjects have profile (('conj', 2), ('prep', 1), ('subs', 7))\n",
      "    1 subjects have profile (('conj', 2), ('subs', 5))\n",
      "    1 subjects have profile (('conj', 2), ('subs', 7))\n",
      "    1 subjects have profile (('conj', 2), ('subs', 10))\n",
      "    1 subjects have profile (('conj', 2), ('verb', 3))\n",
      "    1 subjects have profile (('intj', 1),)\n",
      "    1 subjects have profile (('prep', 1), ('prin', 1), ('verb', 1))\n",
      "    1 subjects have profile (('prep', 2), ('subs', 2))\n",
      "    1 subjects have profile (('prps', 1), ('subs', 2))\n",
      "    1 subjects have profile (('prps', 2),)\n",
      "    1 subjects have profile (('subs', 1), ('verb', 2))\n",
      "    1 subjects have profile (('subs', 3),)\n"
     ]
    }
   ],
   "source": [
    "for (profile, nSubjects) in sorted(zeroSubjects.items(), key=lambda x: (-x[1], x[0])):\n",
    "    print('{:>5} subjects have profile {}'.format(nSubjects, profile))"
   ]
  },
  {
   "cell_type": "markdown",
   "metadata": {
    "deletable": true,
    "editable": true
   },
   "source": [
    "## Observation\n",
    "More than half of the zero-noun subjects consist of a single personal pronoun.\n",
    "In those cases we can identify the number of the phrase with the number of the personal pronoun.\n",
    "\n",
    "That leaves roughly 3000 cases that merit closer inspection.\n",
    "\n",
    "Probably it is not needed to go over them individually, because there might be other profiles that allow us\n",
    "to determine the phrase number. E.g. tha profiles with a single demonstrative pronoun, adjective, verb or interrogative pronoun. That is a reduction of 1800 cases.\n",
    "\n",
    "The remaining 1200 can be reduced further. Where we have and adjective or verb with artice, or an adjective with substantive, or an adverb with personal pronoun,\n",
    "we can also determine the phrase number.\n",
    "This gives a reduction of 700 cases.\n",
    "\n",
    "Let's inspect the profiles of the remaining 500 cases.\n",
    "\n",
    "Cases with 1 noun (not in absolute state), or combinations of noun, article, adjective, verb, adverb, pronoun, preposition, but never more than one of each, are probably easy as well.\n",
    "That adds up to roughly 460 cases.\n",
    "\n",
    "### Result\n",
    "We are left with **40 cases for individual inspection**\n",
    "in the subclass of subjects with zero nouns in the absolute state."
   ]
  },
  {
   "cell_type": "markdown",
   "metadata": {
    "deletable": true,
    "editable": true
   },
   "source": [
    "# Two nouns\n",
    "\n",
    "This is a rather big class. Let us make profiles here, like in the zero-noun class, and identify useful patterns."
   ]
  },
  {
   "cell_type": "code",
   "execution_count": 9,
   "metadata": {
    "collapsed": false,
    "deletable": true,
    "editable": true
   },
   "outputs": [
    {
     "name": "stdout",
     "output_type": "stream",
     "text": [
      "  0.00s Counting two-noun subject phrases ...\n",
      "  0.33s Done. Found 265 profiles\n"
     ]
    }
   ],
   "source": [
    "twoSubjects = collections.Counter()\n",
    "indent(reset=True)\n",
    "\n",
    "info('Counting two-noun subject phrases ...')\n",
    "for p in F.function.s('Subj'):\n",
    "    allWords = L.d(p, 'word')\n",
    "    words = tuple(w for w in allWords if F.sp.v(w) in nounCodes and F.st.v(w) == 'a')\n",
    "    nwords = len(words)\n",
    "    if nwords != 2: continue\n",
    "    profile = collections.Counter()\n",
    "    for w in allWords:\n",
    "        profile[F.sp.v(w)] += 1\n",
    "    fixedProfile = tuple(sorted(profile.items(), key=lambda x: (x[0], -x[1])))\n",
    "    twoSubjects[fixedProfile] += 1\n",
    "info('Done. Found {} profiles'.format(len(twoSubjects)))"
   ]
  },
  {
   "cell_type": "markdown",
   "metadata": {
    "deletable": true,
    "editable": true
   },
   "source": [
    "Now show the profiles."
   ]
  },
  {
   "cell_type": "code",
   "execution_count": 10,
   "metadata": {
    "collapsed": false,
    "deletable": true,
    "editable": true
   },
   "outputs": [
    {
     "name": "stdout",
     "output_type": "stream",
     "text": [
      "  514 subjects have profile (('nmpr', 1), ('subs', 1))\n",
      "  448 subjects have profile (('nmpr', 2), ('subs', 1))\n",
      "  277 subjects have profile (('conj', 1), ('subs', 2))\n",
      "  213 subjects have profile (('subs', 2),)\n",
      "  183 subjects have profile (('art', 1), ('nmpr', 1), ('subs', 1))\n",
      "  161 subjects have profile (('nmpr', 2),)\n",
      "   94 subjects have profile (('conj', 1), ('nmpr', 2))\n",
      "   67 subjects have profile (('nmpr', 1), ('subs', 2))\n",
      "   54 subjects have profile (('conj', 1), ('nmpr', 1), ('subs', 1))\n",
      "   43 subjects have profile (('subs', 3),)\n",
      "   41 subjects have profile (('prep', 1), ('subs', 2))\n",
      "   37 subjects have profile (('art', 1), ('subs', 2))\n",
      "   37 subjects have profile (('conj', 1), ('subs', 3))\n",
      "   35 subjects have profile (('conj', 1), ('nmpr', 2), ('subs', 1))\n",
      "   34 subjects have profile (('art', 1), ('prep', 1), ('subs', 2))\n",
      "   34 subjects have profile (('nmpr', 1), ('prep', 1), ('subs', 2))\n",
      "   30 subjects have profile (('art', 2), ('conj', 1), ('subs', 2))\n",
      "   30 subjects have profile (('nmpr', 2), ('subs', 2))\n",
      "   28 subjects have profile (('nmpr', 1), ('prep', 1), ('subs', 1))\n",
      "   27 subjects have profile (('art', 1), ('nmpr', 1), ('subs', 2))\n",
      "   27 subjects have profile (('art', 2), ('subs', 3))\n",
      "   25 subjects have profile (('adjv', 1), ('subs', 2))\n",
      "   24 subjects have profile (('conj', 1), ('nmpr', 2), ('subs', 2))\n",
      "   23 subjects have profile (('conj', 1), ('subs', 4))\n",
      "   19 subjects have profile (('art', 1), ('conj', 1), ('subs', 3))\n",
      "   18 subjects have profile (('art', 1), ('conj', 1), ('nmpr', 1), ('subs', 1))\n",
      "   17 subjects have profile (('art', 1), ('conj', 1), ('nmpr', 1), ('subs', 2))\n",
      "   17 subjects have profile (('prep', 1), ('subs', 3))\n",
      "   15 subjects have profile (('adjv', 1), ('art', 1), ('nmpr', 2), ('subs', 1))\n",
      "   15 subjects have profile (('art', 2), ('subs', 2))\n",
      "   14 subjects have profile (('art', 2), ('conj', 1), ('subs', 3))\n",
      "   14 subjects have profile (('subs', 4),)\n",
      "   12 subjects have profile (('art', 1), ('conj', 1), ('subs', 2))\n",
      "   10 subjects have profile (('adjv', 1), ('conj', 1), ('subs', 2))\n",
      "   10 subjects have profile (('art', 1), ('subs', 3))\n",
      "   10 subjects have profile (('conj', 1), ('nmpr', 1), ('prps', 1), ('subs', 1))\n",
      "   10 subjects have profile (('conj', 1), ('nmpr', 1), ('subs', 2))\n",
      "    9 subjects have profile (('conj', 1), ('nmpr', 2), ('prep', 1), ('subs', 1))\n",
      "    9 subjects have profile (('nmpr', 1), ('subs', 3))\n",
      "    8 subjects have profile (('advb', 2), ('subs', 2))\n",
      "    8 subjects have profile (('art', 1), ('subs', 4))\n",
      "    8 subjects have profile (('art', 2), ('conj', 1), ('subs', 4))\n",
      "    8 subjects have profile (('conj', 1), ('subs', 2), ('verb', 1))\n",
      "    7 subjects have profile (('art', 1), ('nmpr', 1), ('prep', 1), ('subs', 2))\n",
      "    7 subjects have profile (('art', 2), ('prep', 1), ('subs', 3))\n",
      "    7 subjects have profile (('conj', 2), ('prps', 1), ('subs', 2))\n",
      "    6 subjects have profile (('adjv', 2), ('conj', 1), ('subs', 2))\n",
      "    6 subjects have profile (('art', 1), ('conj', 1), ('nmpr', 2), ('subs', 1))\n",
      "    6 subjects have profile (('art', 1), ('nmpr', 1), ('subs', 3))\n",
      "    6 subjects have profile (('nmpr', 1), ('prep', 1), ('subs', 3))\n",
      "    6 subjects have profile (('nmpr', 1), ('prps', 1), ('subs', 1))\n",
      "    5 subjects have profile (('adjv', 1), ('prep', 1), ('subs', 2))\n",
      "    5 subjects have profile (('art', 1), ('conj', 1), ('nmpr', 1), ('subs', 3))\n",
      "    5 subjects have profile (('art', 1), ('prep', 1), ('subs', 3))\n",
      "    5 subjects have profile (('nmpr', 2), ('prep', 1), ('subs', 1))\n",
      "    5 subjects have profile (('nmpr', 2), ('prep', 1), ('subs', 2))\n",
      "    4 subjects have profile (('adjv', 1), ('art', 1), ('prep', 1), ('subs', 2))\n",
      "    4 subjects have profile (('adjv', 1), ('art', 2), ('nmpr', 1), ('subs', 2))\n",
      "    4 subjects have profile (('adjv', 1), ('nmpr', 1), ('prep', 1), ('subs', 1))\n",
      "    4 subjects have profile (('advb', 1), ('conj', 1), ('subs', 2))\n",
      "    4 subjects have profile (('art', 1), ('conj', 1), ('nmpr', 1), ('subs', 4))\n",
      "    4 subjects have profile (('art', 1), ('nmpr', 1), ('prep', 1), ('subs', 1))\n",
      "    4 subjects have profile (('art', 2), ('subs', 4))\n",
      "    4 subjects have profile (('conj', 1), ('nmpr', 2), ('verb', 1))\n",
      "    3 subjects have profile (('adjv', 1), ('art', 1), ('nmpr', 1), ('subs', 1))\n",
      "    3 subjects have profile (('adjv', 1), ('art', 2), ('nmpr', 1), ('subs', 1))\n",
      "    3 subjects have profile (('adjv', 1), ('nmpr', 1), ('subs', 1))\n",
      "    3 subjects have profile (('advb', 1), ('art', 1), ('nmpr', 1), ('subs', 1))\n",
      "    3 subjects have profile (('art', 1), ('conj', 1), ('prps', 1), ('subs', 2))\n",
      "    3 subjects have profile (('art', 1), ('conj', 1), ('subs', 4))\n",
      "    3 subjects have profile (('art', 1), ('nmpr', 1), ('prep', 1), ('subs', 3))\n",
      "    3 subjects have profile (('art', 1), ('nmpr', 1), ('subs', 4))\n",
      "    3 subjects have profile (('art', 1), ('prep', 1), ('subs', 4))\n",
      "    3 subjects have profile (('art', 2), ('prep', 1), ('subs', 2))\n",
      "    3 subjects have profile (('conj', 1), ('nmpr', 1), ('prps', 1), ('subs', 2))\n",
      "    3 subjects have profile (('conj', 1), ('nmpr', 2), ('prps', 1), ('subs', 1))\n",
      "    3 subjects have profile (('conj', 1), ('nmpr', 2), ('subs', 1), ('verb', 1))\n",
      "    3 subjects have profile (('conj', 2), ('prps', 1), ('subs', 3))\n",
      "    3 subjects have profile (('nmpr', 2), ('prep', 1))\n",
      "    3 subjects have profile (('nmpr', 2), ('subs', 3))\n",
      "    3 subjects have profile (('nmpr', 2), ('verb', 1))\n",
      "    3 subjects have profile (('prep', 1), ('subs', 3), ('verb', 1))\n",
      "    3 subjects have profile (('prep', 1), ('subs', 4))\n",
      "    3 subjects have profile (('prep', 2), ('subs', 2))\n",
      "    2 subjects have profile (('adjv', 1), ('advb', 1), ('art', 1), ('nmpr', 1), ('subs', 1))\n",
      "    2 subjects have profile (('adjv', 1), ('art', 1), ('nmpr', 2), ('prep', 1), ('subs', 1))\n",
      "    2 subjects have profile (('adjv', 1), ('art', 1), ('nmpr', 2), ('subs', 2))\n",
      "    2 subjects have profile (('adjv', 1), ('conj', 1), ('subs', 2), ('verb', 1))\n",
      "    2 subjects have profile (('adjv', 1), ('nmpr', 1), ('subs', 2))\n",
      "    2 subjects have profile (('adjv', 1), ('nmpr', 2), ('verb', 1))\n",
      "    2 subjects have profile (('adjv', 1), ('prep', 1), ('subs', 3))\n",
      "    2 subjects have profile (('adjv', 1), ('subs', 3))\n",
      "    2 subjects have profile (('adjv', 2), ('art', 3), ('conj', 1), ('subs', 2))\n",
      "    2 subjects have profile (('adjv', 2), ('conj', 2), ('subs', 2))\n",
      "    2 subjects have profile (('advb', 1), ('art', 2), ('conj', 1), ('subs', 2))\n",
      "    2 subjects have profile (('advb', 1), ('nmpr', 2), ('subs', 2))\n",
      "    2 subjects have profile (('advb', 1), ('prep', 1), ('subs', 2))\n",
      "    2 subjects have profile (('advb', 2), ('prps', 1), ('subs', 2))\n",
      "    2 subjects have profile (('art', 1), ('conj', 1), ('nmpr', 1), ('prep', 1), ('subs', 2))\n",
      "    2 subjects have profile (('art', 1), ('conj', 1), ('nmpr', 1), ('prps', 1), ('subs', 2))\n",
      "    2 subjects have profile (('art', 1), ('nmpr', 1), ('subs', 1), ('verb', 1))\n",
      "    2 subjects have profile (('art', 1), ('nmpr', 2), ('subs', 1))\n",
      "    2 subjects have profile (('art', 2), ('subs', 2), ('verb', 1))\n",
      "    2 subjects have profile (('conj', 1), ('nmpr', 1), ('prep', 1), ('subs', 1), ('verb', 2))\n",
      "    2 subjects have profile (('conj', 1), ('nmpr', 1), ('subs', 1), ('verb', 1))\n",
      "    2 subjects have profile (('conj', 1), ('nmpr', 2), ('prep', 2))\n",
      "    2 subjects have profile (('conj', 1), ('nmpr', 2), ('subs', 3))\n",
      "    2 subjects have profile (('conj', 1), ('nmpr', 2), ('subs', 3), ('verb', 1))\n",
      "    2 subjects have profile (('conj', 1), ('prps', 1), ('subs', 3))\n",
      "    2 subjects have profile (('conj', 1), ('subs', 2), ('verb', 2))\n",
      "    2 subjects have profile (('conj', 2), ('nmpr', 1), ('prps', 1), ('subs', 2))\n",
      "    2 subjects have profile (('nmpr', 1), ('prep', 1), ('subs', 4))\n",
      "    2 subjects have profile (('nmpr', 1), ('prep', 2), ('subs', 1))\n",
      "    2 subjects have profile (('prep', 1), ('subs', 5))\n",
      "    2 subjects have profile (('subs', 2), ('verb', 1))\n",
      "    2 subjects have profile (('subs', 3), ('verb', 1))\n",
      "    1 subjects have profile (('adjv', 1), ('art', 1), ('conj', 1), ('nmpr', 1), ('prps', 1), ('subs', 1))\n",
      "    1 subjects have profile (('adjv', 1), ('art', 1), ('conj', 1), ('nmpr', 1), ('subs', 1))\n",
      "    1 subjects have profile (('adjv', 1), ('art', 1), ('conj', 1), ('nmpr', 2))\n",
      "    1 subjects have profile (('adjv', 1), ('art', 1), ('conj', 1), ('nmpr', 2), ('prep', 1), ('subs', 1))\n",
      "    1 subjects have profile (('adjv', 1), ('art', 1), ('conj', 2), ('nmpr', 2), ('verb', 2))\n",
      "    1 subjects have profile (('adjv', 1), ('art', 1), ('nmpr', 1), ('prep', 1), ('subs', 2))\n",
      "    1 subjects have profile (('adjv', 1), ('art', 1), ('nmpr', 1), ('subs', 2))\n",
      "    1 subjects have profile (('adjv', 1), ('art', 1), ('nmpr', 2), ('prep', 1))\n",
      "    1 subjects have profile (('adjv', 1), ('art', 1), ('nmpr', 2), ('subs', 2), ('verb', 1))\n",
      "    1 subjects have profile (('adjv', 1), ('art', 1), ('prep', 1), ('subs', 3), ('verb', 1))\n",
      "    1 subjects have profile (('adjv', 1), ('art', 1), ('subs', 2))\n",
      "    1 subjects have profile (('adjv', 1), ('art', 2), ('conj', 1), ('nmpr', 1), ('subs', 1))\n",
      "    1 subjects have profile (('adjv', 1), ('art', 2), ('conj', 1), ('prep', 1), ('subs', 2))\n",
      "    1 subjects have profile (('adjv', 1), ('art', 2), ('conj', 1), ('subs', 3))\n",
      "    1 subjects have profile (('adjv', 1), ('art', 2), ('nmpr', 1), ('prep', 1), ('subs', 1))\n",
      "    1 subjects have profile (('adjv', 1), ('art', 2), ('prep', 1), ('subs', 2))\n",
      "    1 subjects have profile (('adjv', 1), ('art', 2), ('prep', 1), ('subs', 3))\n",
      "    1 subjects have profile (('adjv', 1), ('art', 2), ('subs', 2))\n",
      "    1 subjects have profile (('adjv', 1), ('art', 2), ('subs', 3))\n",
      "    1 subjects have profile (('adjv', 1), ('art', 3), ('conj', 1), ('subs', 2))\n",
      "    1 subjects have profile (('adjv', 1), ('art', 3), ('conj', 1), ('subs', 3))\n",
      "    1 subjects have profile (('adjv', 1), ('art', 3), ('prde', 1), ('prep', 1), ('subs', 3))\n",
      "    1 subjects have profile (('adjv', 1), ('art', 4), ('subs', 3), ('verb', 1))\n",
      "    1 subjects have profile (('adjv', 1), ('conj', 1), ('nmpr', 1), ('subs', 1))\n",
      "    1 subjects have profile (('adjv', 1), ('conj', 1), ('nmpr', 2))\n",
      "    1 subjects have profile (('adjv', 1), ('conj', 1), ('nmpr', 2), ('prps', 1))\n",
      "    1 subjects have profile (('adjv', 1), ('conj', 1), ('nmpr', 2), ('subs', 1))\n",
      "    1 subjects have profile (('adjv', 1), ('conj', 1), ('nmpr', 2), ('verb', 1))\n",
      "    1 subjects have profile (('adjv', 1), ('conj', 1), ('prep', 1), ('prps', 1), ('subs', 2))\n",
      "    1 subjects have profile (('adjv', 1), ('conj', 1), ('prep', 1), ('prps', 1), ('subs', 2), ('verb', 1))\n",
      "    1 subjects have profile (('adjv', 1), ('conj', 1), ('prep', 2), ('prps', 1), ('subs', 3))\n",
      "    1 subjects have profile (('adjv', 1), ('conj', 1), ('subs', 4))\n",
      "    1 subjects have profile (('adjv', 1), ('conj', 2), ('nmpr', 2))\n",
      "    1 subjects have profile (('adjv', 1), ('conj', 2), ('nmpr', 2), ('subs', 3))\n",
      "    1 subjects have profile (('adjv', 1), ('conj', 2), ('subs', 2), ('verb', 1))\n",
      "    1 subjects have profile (('adjv', 1), ('conj', 2), ('subs', 3))\n",
      "    1 subjects have profile (('adjv', 1), ('nmpr', 1), ('prep', 2), ('subs', 1))\n",
      "    1 subjects have profile (('adjv', 1), ('nmpr', 2), ('subs', 1))\n",
      "    1 subjects have profile (('adjv', 1), ('nmpr', 2), ('subs', 2))\n",
      "    1 subjects have profile (('adjv', 1), ('subs', 2), ('verb', 1))\n",
      "    1 subjects have profile (('adjv', 2), ('art', 2), ('conj', 1), ('prep', 2), ('subs', 8))\n",
      "    1 subjects have profile (('adjv', 2), ('art', 2), ('conj', 2), ('nmpr', 1), ('prep', 2), ('subs', 6))\n",
      "    1 subjects have profile (('adjv', 2), ('art', 2), ('conj', 2), ('prep', 2), ('subs', 4))\n",
      "    1 subjects have profile (('adjv', 2), ('art', 2), ('nmpr', 1), ('prep', 1), ('subs', 1))\n",
      "    1 subjects have profile (('adjv', 2), ('art', 2), ('nmpr', 2), ('subs', 2), ('verb', 1))\n",
      "    1 subjects have profile (('adjv', 2), ('art', 3), ('conj', 3), ('nmpr', 1), ('subs', 3))\n",
      "    1 subjects have profile (('adjv', 2), ('conj', 1), ('nmpr', 2))\n",
      "    1 subjects have profile (('adjv', 2), ('conj', 1), ('subs', 3))\n",
      "    1 subjects have profile (('adjv', 2), ('conj', 2), ('nmpr', 2), ('subs', 1))\n",
      "    1 subjects have profile (('adjv', 2), ('conj', 3), ('subs', 3), ('verb', 2))\n",
      "    1 subjects have profile (('adjv', 2), ('subs', 3))\n",
      "    1 subjects have profile (('adjv', 3), ('art', 3), ('conj', 4), ('nmpr', 2))\n",
      "    1 subjects have profile (('adjv', 3), ('art', 4), ('conj', 2), ('prep', 1), ('subs', 3))\n",
      "    1 subjects have profile (('adjv', 3), ('conj', 1), ('subs', 2))\n",
      "    1 subjects have profile (('adjv', 3), ('conj', 1), ('subs', 3))\n",
      "    1 subjects have profile (('advb', 1), ('art', 1), ('conj', 1), ('nmpr', 1), ('prps', 1), ('subs', 1), ('verb', 1))\n",
      "    1 subjects have profile (('advb', 1), ('art', 1), ('conj', 1), ('subs', 2))\n",
      "    1 subjects have profile (('advb', 1), ('art', 1), ('conj', 1), ('subs', 3))\n",
      "    1 subjects have profile (('advb', 1), ('art', 1), ('nmpr', 2), ('subs', 1))\n",
      "    1 subjects have profile (('advb', 1), ('art', 1), ('prep', 1), ('subs', 2))\n",
      "    1 subjects have profile (('advb', 1), ('art', 1), ('prep', 1), ('subs', 3))\n",
      "    1 subjects have profile (('advb', 1), ('art', 2), ('conj', 1), ('prps', 1), ('subs', 2))\n",
      "    1 subjects have profile (('advb', 1), ('art', 2), ('conj', 1), ('subs', 4))\n",
      "    1 subjects have profile (('advb', 1), ('conj', 1), ('nmpr', 1), ('subs', 1))\n",
      "    1 subjects have profile (('advb', 1), ('conj', 1), ('nmpr', 2))\n",
      "    1 subjects have profile (('advb', 1), ('conj', 1), ('nmpr', 2), ('subs', 1))\n",
      "    1 subjects have profile (('advb', 1), ('conj', 1), ('nmpr', 2), ('subs', 2))\n",
      "    1 subjects have profile (('advb', 1), ('conj', 1), ('nmpr', 2), ('subs', 4))\n",
      "    1 subjects have profile (('advb', 1), ('conj', 1), ('prps', 1), ('subs', 2))\n",
      "    1 subjects have profile (('advb', 1), ('nmpr', 1), ('subs', 1))\n",
      "    1 subjects have profile (('advb', 1), ('subs', 2))\n",
      "    1 subjects have profile (('advb', 3), ('prps', 1), ('subs', 3))\n",
      "    1 subjects have profile (('art', 1), ('conj', 1), ('nmpr', 1), ('prep', 1), ('subs', 3))\n",
      "    1 subjects have profile (('art', 1), ('conj', 1), ('prep', 1), ('subs', 3))\n",
      "    1 subjects have profile (('art', 1), ('conj', 1), ('prps', 1), ('subs', 3))\n",
      "    1 subjects have profile (('art', 1), ('conj', 1), ('prps', 1), ('subs', 4))\n",
      "    1 subjects have profile (('art', 1), ('conj', 1), ('subs', 5))\n",
      "    1 subjects have profile (('art', 1), ('conj', 2), ('nmpr', 1), ('prep', 1), ('prps', 1), ('subs', 4))\n",
      "    1 subjects have profile (('art', 1), ('conj', 2), ('prps', 1), ('subs', 3))\n",
      "    1 subjects have profile (('art', 1), ('nmpr', 1), ('subs', 3), ('verb', 1))\n",
      "    1 subjects have profile (('art', 1), ('nmpr', 1), ('subs', 5))\n",
      "    1 subjects have profile (('art', 1), ('nmpr', 2), ('prep', 2), ('subs', 1), ('verb', 1))\n",
      "    1 subjects have profile (('art', 1), ('prde', 1), ('prps', 1), ('subs', 2))\n",
      "    1 subjects have profile (('art', 1), ('prep', 1), ('subs', 3), ('verb', 1))\n",
      "    1 subjects have profile (('art', 1), ('prep', 1), ('subs', 5))\n",
      "    1 subjects have profile (('art', 1), ('prep', 1), ('subs', 6))\n",
      "    1 subjects have profile (('art', 1), ('subs', 2), ('verb', 1))\n",
      "    1 subjects have profile (('art', 1), ('subs', 5))\n",
      "    1 subjects have profile (('art', 2), ('conj', 1), ('nmpr', 1), ('subs', 1), ('verb', 1))\n",
      "    1 subjects have profile (('art', 2), ('conj', 1), ('nmpr', 2))\n",
      "    1 subjects have profile (('art', 2), ('conj', 1), ('prde', 1), ('subs', 4))\n",
      "    1 subjects have profile (('art', 2), ('conj', 1), ('prde', 2), ('prep', 2), ('subs', 2))\n",
      "    1 subjects have profile (('art', 2), ('conj', 1), ('prep', 1), ('subs', 2))\n",
      "    1 subjects have profile (('art', 2), ('conj', 1), ('prep', 1), ('subs', 4))\n",
      "    1 subjects have profile (('art', 2), ('conj', 1), ('prep', 2), ('subs', 2))\n",
      "    1 subjects have profile (('art', 2), ('conj', 1), ('prps', 1), ('subs', 4))\n",
      "    1 subjects have profile (('art', 2), ('conj', 1), ('subs', 2), ('verb', 1))\n",
      "    1 subjects have profile (('art', 2), ('conj', 1), ('subs', 2), ('verb', 2))\n",
      "    1 subjects have profile (('art', 2), ('conj', 1), ('subs', 5))\n",
      "    1 subjects have profile (('art', 2), ('conj', 1), ('subs', 6))\n",
      "    1 subjects have profile (('art', 2), ('nmpr', 1), ('prde', 1), ('prep', 1), ('subs', 2), ('verb', 1))\n",
      "    1 subjects have profile (('art', 2), ('nmpr', 1), ('prde', 1), ('prep', 1), ('subs', 3))\n",
      "    1 subjects have profile (('art', 2), ('nmpr', 1), ('prde', 1), ('prep', 2), ('subs', 1))\n",
      "    1 subjects have profile (('art', 2), ('nmpr', 1), ('prde', 1), ('subs', 1))\n",
      "    1 subjects have profile (('art', 2), ('nmpr', 1), ('prde', 1), ('subs', 2))\n",
      "    1 subjects have profile (('art', 2), ('nmpr', 1), ('prep', 1), ('subs', 2), ('verb', 1))\n",
      "    1 subjects have profile (('art', 2), ('nmpr', 1), ('prep', 1), ('subs', 3))\n",
      "    1 subjects have profile (('art', 2), ('prde', 1), ('prep', 1), ('subs', 3))\n",
      "    1 subjects have profile (('art', 2), ('prde', 1), ('subs', 3))\n",
      "    1 subjects have profile (('art', 2), ('prep', 1), ('subs', 2), ('verb', 1))\n",
      "    1 subjects have profile (('art', 2), ('prep', 1), ('subs', 4))\n",
      "    1 subjects have profile (('art', 2), ('subs', 3), ('verb', 1))\n",
      "    1 subjects have profile (('art', 2), ('subs', 5))\n",
      "    1 subjects have profile (('art', 3), ('conj', 1), ('subs', 4), ('verb', 1))\n",
      "    1 subjects have profile (('art', 4), ('conj', 1), ('prps', 2), ('subs', 2), ('verb', 1))\n",
      "    1 subjects have profile (('conj', 1), ('nmpr', 1), ('prep', 1), ('prps', 1), ('subs', 1))\n",
      "    1 subjects have profile (('conj', 1), ('nmpr', 1), ('prep', 1), ('subs', 1))\n",
      "    1 subjects have profile (('conj', 1), ('nmpr', 1), ('prep', 1), ('subs', 2))\n",
      "    1 subjects have profile (('conj', 1), ('nmpr', 1), ('prep', 1), ('subs', 3), ('verb', 1))\n",
      "    1 subjects have profile (('conj', 1), ('nmpr', 1), ('subs', 2), ('verb', 1))\n",
      "    1 subjects have profile (('conj', 1), ('nmpr', 1), ('subs', 4))\n",
      "    1 subjects have profile (('conj', 1), ('nmpr', 1), ('subs', 5))\n",
      "    1 subjects have profile (('conj', 1), ('nmpr', 2), ('prep', 1))\n",
      "    1 subjects have profile (('conj', 1), ('nmpr', 2), ('prep', 1), ('prps', 1), ('subs', 2))\n",
      "    1 subjects have profile (('conj', 1), ('nmpr', 2), ('prps', 1), ('subs', 2))\n",
      "    1 subjects have profile (('conj', 1), ('nmpr', 2), ('subs', 4))\n",
      "    1 subjects have profile (('conj', 1), ('prde', 1), ('subs', 3))\n",
      "    1 subjects have profile (('conj', 1), ('prep', 1), ('prps', 1), ('subs', 2))\n",
      "    1 subjects have profile (('conj', 1), ('prep', 1), ('subs', 3))\n",
      "    1 subjects have profile (('conj', 1), ('prps', 1), ('subs', 2))\n",
      "    1 subjects have profile (('conj', 1), ('subs', 4), ('verb', 1))\n",
      "    1 subjects have profile (('conj', 2), ('nmpr', 2), ('prps', 1), ('subs', 2))\n",
      "    1 subjects have profile (('conj', 2), ('prep', 1), ('prps', 1), ('subs', 2))\n",
      "    1 subjects have profile (('conj', 2), ('prep', 1), ('prps', 1), ('subs', 3))\n",
      "    1 subjects have profile (('conj', 3), ('nmpr', 1), ('prps', 3), ('subs', 2))\n",
      "    1 subjects have profile (('nmpr', 1), ('prep', 1), ('subs', 2), ('verb', 1))\n",
      "    1 subjects have profile (('nmpr', 1), ('prep', 1), ('subs', 5))\n",
      "    1 subjects have profile (('nmpr', 1), ('prep', 2), ('subs', 2))\n",
      "    1 subjects have profile (('nmpr', 1), ('subs', 1), ('verb', 1))\n",
      "    1 subjects have profile (('nmpr', 1), ('subs', 2), ('verb', 2))\n",
      "    1 subjects have profile (('nmpr', 1), ('subs', 4))\n",
      "    1 subjects have profile (('nmpr', 2), ('prps', 1), ('subs', 1))\n",
      "    1 subjects have profile (('nmpr', 2), ('subs', 1), ('verb', 1))\n",
      "    1 subjects have profile (('nmpr', 2), ('subs', 2), ('verb', 1))\n",
      "    1 subjects have profile (('prde', 1), ('subs', 4))\n",
      "    1 subjects have profile (('prep', 2), ('subs', 4))\n",
      "    1 subjects have profile (('prps', 1), ('subs', 2))\n",
      "    1 subjects have profile (('subs', 4), ('verb', 1))\n",
      "    1 subjects have profile (('subs', 5),)\n"
     ]
    }
   ],
   "source": [
    "for (profile, nSubjects) in sorted(twoSubjects.items(), key=lambda x: (-x[1], x[0])):\n",
    "    print('{:>5} subjects have profile {}'.format(nSubjects, profile))"
   ]
  },
  {
   "cell_type": "markdown",
   "metadata": {
    "deletable": true,
    "editable": true
   },
   "source": [
    "## Observation\n",
    "\n",
    "There are 3100 cases in total.\n",
    "We quickly spot the usual suspect: noun + conjunction + noun.\n",
    "But this is not the overwhelming majority (as I had hoped), only 277 cases.\n",
    "If we add up all cases where we have a conjunction between to nouns (proper or otherwise), we see\n",
    "277 + 94 + 54 = 420 cases (roughly).\n",
    "\n",
    "Maybe it is better to make our profiles a bit coarser: let us only count nouns (including proper ones) and\n",
    "conjunctions, and see what profiles we get."
   ]
  },
  {
   "cell_type": "code",
   "execution_count": 11,
   "metadata": {
    "collapsed": false,
    "deletable": true,
    "editable": true
   },
   "outputs": [
    {
     "name": "stdout",
     "output_type": "stream",
     "text": [
      "  0.00s Counting two-noun subject phrases ...\n",
      "  0.34s Done. Found 44 profiles\n"
     ]
    }
   ],
   "source": [
    "twoSubjects = collections.Counter()\n",
    "indent(reset=True)\n",
    "\n",
    "relevantSp = nounCodes | {'conj'}\n",
    "\n",
    "info('Counting two-noun subject phrases ...')\n",
    "for p in F.function.s('Subj'):\n",
    "    allWords = L.d(p, 'word')\n",
    "    words = tuple(w for w in allWords if F.sp.v(w) in nounCodes and F.st.v(w) == 'a')\n",
    "    nwords = len(words)\n",
    "    if nwords != 2: continue\n",
    "    profile = collections.Counter()\n",
    "    for w in allWords:\n",
    "        sp = F.sp.v(w)\n",
    "        if sp not in relevantSp: continue\n",
    "        profile[F.sp.v(w)] += 1\n",
    "    fixedProfile = tuple(sorted(profile.items(), key=lambda x: (x[0], -x[1])))\n",
    "    twoSubjects[fixedProfile] += 1\n",
    "info('Done. Found {} profiles'.format(len(twoSubjects)))"
   ]
  },
  {
   "cell_type": "markdown",
   "metadata": {
    "deletable": true,
    "editable": true
   },
   "source": [
    "Now show the simplified profiles."
   ]
  },
  {
   "cell_type": "code",
   "execution_count": 12,
   "metadata": {
    "collapsed": false,
    "deletable": true,
    "editable": true
   },
   "outputs": [
    {
     "name": "stdout",
     "output_type": "stream",
     "text": [
      "  764 subjects have profile (('nmpr', 1), ('subs', 1))\n",
      "  477 subjects have profile (('nmpr', 2), ('subs', 1))\n",
      "  406 subjects have profile (('subs', 2),)\n",
      "  374 subjects have profile (('conj', 1), ('subs', 2))\n",
      "  170 subjects have profile (('nmpr', 2),)\n",
      "  149 subjects have profile (('nmpr', 1), ('subs', 2))\n",
      "  130 subjects have profile (('subs', 3),)\n",
      "  108 subjects have profile (('conj', 1), ('nmpr', 2))\n",
      "   95 subjects have profile (('conj', 1), ('nmpr', 1), ('subs', 1))\n",
      "   82 subjects have profile (('conj', 1), ('subs', 3))\n",
      "   59 subjects have profile (('conj', 1), ('nmpr', 2), ('subs', 1))\n",
      "   43 subjects have profile (('nmpr', 2), ('subs', 2))\n",
      "   42 subjects have profile (('conj', 1), ('subs', 4))\n",
      "   36 subjects have profile (('conj', 1), ('nmpr', 1), ('subs', 2))\n",
      "   36 subjects have profile (('subs', 4),)\n",
      "   27 subjects have profile (('conj', 1), ('nmpr', 2), ('subs', 2))\n",
      "   27 subjects have profile (('nmpr', 1), ('subs', 3))\n",
      "   11 subjects have profile (('conj', 2), ('subs', 2))\n",
      "    7 subjects have profile (('conj', 1), ('nmpr', 1), ('subs', 3))\n",
      "    7 subjects have profile (('conj', 2), ('subs', 3))\n",
      "    6 subjects have profile (('nmpr', 1), ('subs', 4))\n",
      "    6 subjects have profile (('subs', 5),)\n",
      "    5 subjects have profile (('conj', 1), ('nmpr', 1), ('subs', 4))\n",
      "    4 subjects have profile (('conj', 1), ('nmpr', 2), ('subs', 3))\n",
      "    3 subjects have profile (('nmpr', 2), ('subs', 3))\n",
      "    2 subjects have profile (('conj', 1), ('nmpr', 2), ('subs', 4))\n",
      "    2 subjects have profile (('conj', 1), ('subs', 5))\n",
      "    2 subjects have profile (('conj', 2), ('nmpr', 1), ('subs', 2))\n",
      "    2 subjects have profile (('conj', 2), ('nmpr', 2))\n",
      "    2 subjects have profile (('nmpr', 1), ('subs', 5))\n",
      "    1 subjects have profile (('conj', 1), ('nmpr', 1), ('subs', 5))\n",
      "    1 subjects have profile (('conj', 1), ('subs', 6))\n",
      "    1 subjects have profile (('conj', 1), ('subs', 8))\n",
      "    1 subjects have profile (('conj', 2), ('nmpr', 1), ('subs', 4))\n",
      "    1 subjects have profile (('conj', 2), ('nmpr', 1), ('subs', 6))\n",
      "    1 subjects have profile (('conj', 2), ('nmpr', 2), ('subs', 1))\n",
      "    1 subjects have profile (('conj', 2), ('nmpr', 2), ('subs', 2))\n",
      "    1 subjects have profile (('conj', 2), ('nmpr', 2), ('subs', 3))\n",
      "    1 subjects have profile (('conj', 2), ('subs', 4))\n",
      "    1 subjects have profile (('conj', 3), ('nmpr', 1), ('subs', 2))\n",
      "    1 subjects have profile (('conj', 3), ('nmpr', 1), ('subs', 3))\n",
      "    1 subjects have profile (('conj', 3), ('subs', 3))\n",
      "    1 subjects have profile (('conj', 4), ('nmpr', 2))\n",
      "    1 subjects have profile (('subs', 6),)\n"
     ]
    }
   ],
   "source": [
    "for (profile, nSubjects) in sorted(twoSubjects.items(), key=lambda x: (-x[1], x[0])):\n",
    "    print('{:>5} subjects have profile {}'.format(nSubjects, profile))"
   ]
  },
  {
   "cell_type": "markdown",
   "metadata": {
    "deletable": true,
    "editable": true
   },
   "source": [
    "# More than one noun\n",
    "\n",
    "Maybe it is plausible that phrases with multiple nouns and a conjunction are definitely plural.\n",
    "So let us consider all those cases solved, and list the simplified profiles of the other cases."
   ]
  },
  {
   "cell_type": "code",
   "execution_count": 13,
   "metadata": {
    "collapsed": false,
    "deletable": true,
    "editable": true
   },
   "outputs": [
    {
     "name": "stdout",
     "output_type": "stream",
     "text": [
      "  0.00s Counting >1-noun subject phrases without conjunction ...\n",
      "  0.36s Done. Found 40 profiles with 2633 cases\n"
     ]
    }
   ],
   "source": [
    "onePlusSubjects = collections.Counter()\n",
    "indent(reset=True)\n",
    "\n",
    "info('Counting >1-noun subject phrases without conjunction ...')\n",
    "for p in F.function.s('Subj'):\n",
    "    allWords = L.d(p, 'word')\n",
    "    words = tuple(w for w in allWords if F.sp.v(w) in nounCodes and F.st.v(w) == 'a')\n",
    "    nwords = len(words)\n",
    "    if nwords <= 1: continue\n",
    "    hasConj = len([w for w in allWords if F.sp.v(w) == 'conj']) >= 1\n",
    "    if hasConj: continue\n",
    "    profile = collections.Counter()\n",
    "    for w in allWords:\n",
    "        sp = F.sp.v(w)\n",
    "        if sp not in nounCodes: continue\n",
    "        profile[F.sp.v(w)] += 1\n",
    "\n",
    "    fixedProfile = tuple(sorted(profile.items(), key=lambda x: (x[0], -x[1])))\n",
    "    onePlusSubjects[fixedProfile] += 1\n",
    "info('Done. Found {} profiles with {} cases'.format(len(onePlusSubjects), sum(onePlusSubjects.values())))"
   ]
  },
  {
   "cell_type": "markdown",
   "metadata": {
    "deletable": true,
    "editable": true
   },
   "source": [
    "Now show the simplified profiles."
   ]
  },
  {
   "cell_type": "code",
   "execution_count": 14,
   "metadata": {
    "collapsed": false,
    "deletable": true,
    "editable": true
   },
   "outputs": [
    {
     "name": "stdout",
     "output_type": "stream",
     "text": [
      "  764 subjects have profile (('nmpr', 1), ('subs', 1))\n",
      "  485 subjects have profile (('nmpr', 2), ('subs', 1))\n",
      "  406 subjects have profile (('subs', 2),)\n",
      "  179 subjects have profile (('subs', 3),)\n",
      "  170 subjects have profile (('nmpr', 2),)\n",
      "  162 subjects have profile (('nmpr', 1), ('subs', 2))\n",
      "  112 subjects have profile (('nmpr', 2), ('subs', 2))\n",
      "   62 subjects have profile (('subs', 4),)\n",
      "   54 subjects have profile (('nmpr', 3), ('subs', 2))\n",
      "   41 subjects have profile (('nmpr', 3), ('subs', 3))\n",
      "   40 subjects have profile (('nmpr', 1), ('subs', 3))\n",
      "   40 subjects have profile (('nmpr', 3),)\n",
      "   16 subjects have profile (('nmpr', 1), ('subs', 4))\n",
      "   16 subjects have profile (('nmpr', 2), ('subs', 3))\n",
      "   15 subjects have profile (('subs', 5),)\n",
      "   10 subjects have profile (('nmpr', 3), ('subs', 1))\n",
      "    8 subjects have profile (('nmpr', 4), ('subs', 4))\n",
      "    6 subjects have profile (('nmpr', 4), ('subs', 3))\n",
      "    5 subjects have profile (('nmpr', 3), ('subs', 4))\n",
      "    5 subjects have profile (('nmpr', 5), ('subs', 4))\n",
      "    4 subjects have profile (('nmpr', 1), ('subs', 5))\n",
      "    4 subjects have profile (('nmpr', 2), ('subs', 4))\n",
      "    4 subjects have profile (('nmpr', 7), ('subs', 6))\n",
      "    4 subjects have profile (('subs', 6),)\n",
      "    2 subjects have profile (('nmpr', 3), ('subs', 5))\n",
      "    2 subjects have profile (('nmpr', 4),)\n",
      "    2 subjects have profile (('nmpr', 5),)\n",
      "    2 subjects have profile (('nmpr', 6), ('subs', 8))\n",
      "    2 subjects have profile (('nmpr', 7), ('subs', 7))\n",
      "    1 subjects have profile (('nmpr', 1), ('subs', 6))\n",
      "    1 subjects have profile (('nmpr', 1), ('subs', 7))\n",
      "    1 subjects have profile (('nmpr', 2), ('subs', 6))\n",
      "    1 subjects have profile (('nmpr', 4), ('subs', 8))\n",
      "    1 subjects have profile (('nmpr', 6),)\n",
      "    1 subjects have profile (('nmpr', 6), ('subs', 6))\n",
      "    1 subjects have profile (('nmpr', 7),)\n",
      "    1 subjects have profile (('nmpr', 7), ('subs', 1))\n",
      "    1 subjects have profile (('nmpr', 7), ('subs', 5))\n",
      "    1 subjects have profile (('nmpr', 8), ('subs', 7))\n",
      "    1 subjects have profile (('subs', 7),)\n"
     ]
    }
   ],
   "source": [
    "for (profile, nSubjects) in sorted(onePlusSubjects.items(), key=lambda x: (-x[1], x[0])):\n",
    "    print('{:>5} subjects have profile {}'.format(nSubjects, profile))"
   ]
  },
  {
   "cell_type": "markdown",
   "metadata": {
    "deletable": true,
    "editable": true
   },
   "source": [
    "## Conclusion\n",
    "We have **2633 cases to inspect** in the class of more than one noun.\n",
    "Maybe it is possible to make big strides here as well.\n",
    "\n",
    "As a final exercise, I will collect them in an excel file, together with passage indicator and full clause in which the subject occurs.\n",
    "The **40 problemetic cases** identified among the zero-noun subjects will also be included.\n",
    "\n",
    "For clarity, we'll make a fresh collection of the cases we want to list.\n",
    "\n",
    "# Zero noun cases\n",
    "Main condition: no nouns in the absolute state.\n",
    "\n",
    "Subset: only those with a profile in which all parts-of-speech occur at most once.\n",
    "\n",
    "# Multiple noun cases\n",
    "Main condition: more than one noun in the absolute state.\n",
    "\n",
    "Subset: no conjunction present.\n",
    "\n",
    "# Lexemes\n",
    "Now, for the first time, we are going to look at the actual lexemes of the remaining subjects.\n",
    "We take the ordered set of lexemes that occur in the subject, and make a frequency list."
   ]
  },
  {
   "cell_type": "code",
   "execution_count": 35,
   "metadata": {
    "collapsed": false,
    "deletable": true,
    "editable": true
   },
   "outputs": [
    {
     "name": "stdout",
     "output_type": "stream",
     "text": [
      "  0.00s Collecting subject phrases for inspection...\n",
      "  0.67s Done. Found 2777 cases\n",
      "  0.67s Found  279 distinct profiles    in 2777 cases\n",
      "  0.67s Found 1565 distinct lexeme sets in 2777 cases\n"
     ]
    }
   ],
   "source": [
    "subjectLexemes = collections.Counter()\n",
    "subjectProfiles = collections.Counter()\n",
    "indent(reset=True)\n",
    "\n",
    "info('Collecting subject phrases for inspection...')\n",
    "\n",
    "fields = '''book chapter verse node profile prof_freq lexemes lex_freq subject clause'''.split()\n",
    "result = []\n",
    "\n",
    "for p in F.function.s('Subj'):\n",
    "    allWords = L.d(p, 'word')\n",
    "    nouns = tuple(w for w in allWords if F.sp.v(w) in nounCodes and F.st.v(w) == 'a')\n",
    "    nwords = len(nouns)\n",
    "    if nwords == 1:\n",
    "        continue\n",
    "    profile = collections.Counter()\n",
    "    for w in allWords: profile[F.sp.v(w)] += 1\n",
    "    hasConj = 'conj' in profile\n",
    "    \n",
    "    if nwords == 0 and max(profile.values()) <= 1:\n",
    "        continue\n",
    "    if nwords > 1 and hasConj:\n",
    "        continue\n",
    "\n",
    "    fixedProfile = ' '.join('{}:{}'.format(*profileItem) for profileItem in sorted(profile.items()))\n",
    "    lexemes = ' '.join(sorted(set(F.lex0.v(w) for w in allWords)))\n",
    "    subjectProfiles[fixedProfile] += 1\n",
    "    subjectLexemes[lexemes] += 1\n",
    "    clause = L.u(p, 'clause')[0]\n",
    "    clauseText = T.text(L.d(clause, 'word'))\n",
    "    phraseText = T.text(L.d(p, 'word'))\n",
    "    (book, chapter, verse) = T.sectionFromNode(p)\n",
    "    result.append(dict(\n",
    "        book=book,\n",
    "        chapter=chapter, \n",
    "        verse=verse,\n",
    "        node=p,\n",
    "        profile=fixedProfile,\n",
    "        lexemes=lexemes,\n",
    "        subject=phraseText,\n",
    "        clause=clauseText,\n",
    "))\n",
    "info('Done. Found {} cases'.format(len(result)))\n",
    "info('Found {:>4} distinct profiles    in {} cases'.format(len(subjectProfiles), len(result)))\n",
    "info('Found {:>4} distinct lexeme sets in {} cases'.format(len(subjectLexemes), len(result)))\n"
   ]
  },
  {
   "cell_type": "markdown",
   "metadata": {
    "deletable": true,
    "editable": true
   },
   "source": [
    "Let us inspect the distribution of subjects according to their lexeme sets."
   ]
  },
  {
   "cell_type": "code",
   "execution_count": 36,
   "metadata": {
    "collapsed": false,
    "deletable": true,
    "editable": true
   },
   "outputs": [
    {
     "name": "stdout",
     "output_type": "stream",
     "text": [
      "  250 subjects consist of >LHJM JHWH\n",
      "  154 subjects consist of >DNJ JHWH\n",
      "  107 subjects consist of JHWH YB>\n",
      "   57 subjects consist of >LHJM JFR>L JHWH\n",
      "   36 subjects consist of >LHJM JFR>L JHWH YB>\n",
      "   26 subjects consist of CLMH H MLK\n",
      "   20 subjects consist of DWD H MLK\n",
      "   17 subjects consist of >DWN H MLK\n",
      "   15 subjects consist of <BD JHWH MCH\n",
      "   12 subjects consist of BBL MLK NBWKDR>YR\n",
      "   12 subjects consist of NBWZR>DN RB VBX\n",
      "   10 subjects consist of >B >LHJM JHWH\n",
      "   10 subjects consist of BBL MLK NBWKDN>YR\n",
      "   10 subjects consist of H MLK RXB<M\n",
      "    9 subjects consist of >XZ H MLK\n",
      "    9 subjects consist of H MLK YDQJHW\n",
      "    8 subjects consist of >B DWD\n",
      "    8 subjects consist of >DNJ JHWH N>M\n",
      "    8 subjects consist of >HRN BN H KHN\n",
      "    8 subjects consist of H JHWJD< KHN\n"
     ]
    }
   ],
   "source": [
    "for (lex, nSubjects) in sorted(subjectLexemes.items(), key=lambda x: (-x[1], x[0]))[0:20]:\n",
    "    print('{:>5} subjects consist of {}'.format(nSubjects, lex))"
   ]
  },
  {
   "cell_type": "markdown",
   "metadata": {
    "deletable": true,
    "editable": true
   },
   "source": [
    "We are going to write this to disk as an excel file.\n",
    "\n",
    "We add the profile and lexemes, and also their frequencies in the table,\n",
    "so that the user can sort in many convenient ways.\n",
    "\n",
    "Before we write the whole sheet, we check the first 10 results."
   ]
  },
  {
   "cell_type": "code",
   "execution_count": 37,
   "metadata": {
    "collapsed": false,
    "deletable": true,
    "editable": true
   },
   "outputs": [
    {
     "name": "stdout",
     "output_type": "stream",
     "text": [
      "{'book': 'Genesis', 'chapter': 1, 'verse': 9, 'node': 605233, 'profile': 'art:2 prep:1 subs:3', 'lexemes': 'CMJM H MJM MN TXT', 'subject': 'הַמַּ֜יִם מִתַּ֤חַת הַשָּׁמַ֨יִם֙ ', 'clause': 'יִקָּו֨וּ הַמַּ֜יִם מִתַּ֤חַת הַשָּׁמַ֨יִם֙ אֶל־מָקֹ֣ום אֶחָ֔ד ', 'prof_freq': 7, 'lex_freq': 1}\n",
      "{'book': 'Genesis', 'chapter': 2, 'verse': 4, 'node': 605560, 'profile': 'nmpr:1 subs:1', 'lexemes': '>LHJM JHWH', 'subject': 'יְהוָ֥ה אֱלֹהִ֖ים ', 'clause': 'עֲשֹׂ֛ות יְהוָ֥ה אֱלֹהִ֖ים אֶ֥רֶץ וְשָׁמָֽיִם׃ ', 'prof_freq': 514, 'lex_freq': 250}\n",
      "{'book': 'Genesis', 'chapter': 2, 'verse': 5, 'node': 605574, 'profile': 'nmpr:1 subs:1', 'lexemes': '>LHJM JHWH', 'subject': 'יְהוָ֤ה אֱלֹהִים֙ ', 'clause': 'כִּי֩ לֹ֨א הִמְטִ֜יר יְהוָ֤ה אֱלֹהִים֙ עַל־הָאָ֔רֶץ ', 'prof_freq': 514, 'lex_freq': 250}\n",
      "{'book': 'Genesis', 'chapter': 2, 'verse': 7, 'node': 605590, 'profile': 'nmpr:1 subs:1', 'lexemes': '>LHJM JHWH', 'subject': 'יְהוָ֨ה אֱלֹהִ֜ים ', 'clause': 'וַיִּיצֶר֩ יְהוָ֨ה אֱלֹהִ֜ים אֶת־הָֽאָדָ֗ם עָפָר֙ מִן־הָ֣אֲדָמָ֔ה ', 'prof_freq': 514, 'lex_freq': 250}\n",
      "{'book': 'Genesis', 'chapter': 2, 'verse': 8, 'node': 605603, 'profile': 'nmpr:1 subs:1', 'lexemes': '>LHJM JHWH', 'subject': 'יְהוָ֧ה אֱלֹהִ֛ים ', 'clause': 'וַיִּטַּ֞ע יְהוָ֧ה אֱלֹהִ֛ים גַּן־בְּעֵ֖דֶן מִקֶּ֑דֶם ', 'prof_freq': 514, 'lex_freq': 250}\n",
      "{'book': 'Genesis', 'chapter': 2, 'verse': 9, 'node': 605615, 'profile': 'nmpr:1 subs:1', 'lexemes': '>LHJM JHWH', 'subject': 'יְהוָ֤ה אֱלֹהִים֙ ', 'clause': 'וַיַּצְמַ֞ח יְהוָ֤ה אֱלֹהִים֙ מִן־הָ֣אֲדָמָ֔ה כָּל־עֵ֛ץ ', 'prof_freq': 514, 'lex_freq': 250}\n",
      "{'book': 'Genesis', 'chapter': 2, 'verse': 15, 'node': 605674, 'profile': 'nmpr:1 subs:1', 'lexemes': '>LHJM JHWH', 'subject': 'יְהוָ֥ה אֱלֹהִ֖ים ', 'clause': 'וַיִּקַּ֛ח יְהוָ֥ה אֱלֹהִ֖ים אֶת־הָֽאָדָ֑ם ', 'prof_freq': 514, 'lex_freq': 250}\n",
      "{'book': 'Genesis', 'chapter': 2, 'verse': 16, 'node': 605684, 'profile': 'nmpr:1 subs:1', 'lexemes': '>LHJM JHWH', 'subject': 'יְהוָ֣ה אֱלֹהִ֔ים ', 'clause': 'וַיְצַו֙ יְהוָ֣ה אֱלֹהִ֔ים עַל־הָֽאָדָ֖ם ', 'prof_freq': 514, 'lex_freq': 250}\n",
      "{'book': 'Genesis', 'chapter': 2, 'verse': 18, 'node': 605703, 'profile': 'nmpr:1 subs:1', 'lexemes': '>LHJM JHWH', 'subject': 'יְהוָ֣ה אֱלֹהִ֔ים ', 'clause': 'וַיֹּ֨אמֶר֙ יְהוָ֣ה אֱלֹהִ֔ים ', 'prof_freq': 514, 'lex_freq': 250}\n",
      "{'book': 'Genesis', 'chapter': 2, 'verse': 19, 'node': 605714, 'profile': 'nmpr:1 subs:1', 'lexemes': '>LHJM JHWH', 'subject': 'יְהוָ֨ה אֱלֹהִ֜ים ', 'clause': 'וַיִּצֶר֩ יְהוָ֨ה אֱלֹהִ֜ים מִן־הָֽאֲדָמָ֗ה כָּל־חַיַּ֤ת הַשָּׂדֶה֙ וְאֵת֙ כָּל־עֹ֣וף הַשָּׁמַ֔יִם ', 'prof_freq': 514, 'lex_freq': 250}\n"
     ]
    }
   ],
   "source": [
    "for r in result:\n",
    "    r['prof_freq'] = subjectProfiles[r['profile']]\n",
    "    r['lex_freq'] = subjectLexemes[r['lexemes']]\n",
    "\n",
    "for r in result[0:10]: print(r)"
   ]
  },
  {
   "cell_type": "code",
   "execution_count": 42,
   "metadata": {
    "collapsed": false,
    "deletable": true,
    "editable": true
   },
   "outputs": [],
   "source": [
    "workbook = xlsxwriter.Workbook('subjectCases.xlsx', {'strings_to_urls': False})\n",
    "worksheet = workbook.add_worksheet('subjects')\n",
    "\n",
    "hebrewFormat = workbook.add_format({'font_name': 'Ezra SIL', 'font_size': 14, 'align': 'right'})\n",
    "codeFormat = workbook.add_format({'font_name': 'Courier New', 'font_size': 11})\n",
    "smallFormat = workbook.add_format({'font_name': 'Arial', 'font_size': 10})\n",
    "nodeFormat = workbook.add_format({'font_name': 'Arial', 'font_size': 9})\n",
    "normalFormat = workbook.add_format({'font_name': 'Arial', 'font_size': 11})\n",
    "\n",
    "# book chapter verse node profile prof_freq lexemes lex_freq subject clause\n",
    "fieldSpecs = dict(\n",
    "    book=(10, smallFormat),\n",
    "    chapter=(3, smallFormat),\n",
    "    verse=(3, smallFormat),\n",
    "    node=(7, nodeFormat),\n",
    "    profile=(40, codeFormat),\n",
    "    prof_freq=(4, normalFormat),\n",
    "    lexemes=(30, codeFormat),\n",
    "    lex_freq=(4, normalFormat),\n",
    "    subject=(30, hebrewFormat),\n",
    "    clause=(100, hebrewFormat),\n",
    ")\n",
    "\n",
    "fieldOrder = list(enumerate(fields))\n",
    "\n",
    "for (f, field) in fieldOrder:\n",
    "    (width, fmt) = fieldSpecs[field]\n",
    "    worksheet.set_column(f, f, width, fmt)\n",
    "\n",
    "for r in range(len(result)):\n",
    "    worksheet.set_row(r, 24)\n",
    "\n",
    "for (f, field) in fieldOrder: worksheet.write(0, f, field)\n",
    "for (r, row) in enumerate(result):\n",
    "    for (f, field) in fieldOrder:\n",
    "        worksheet.write(r+1, f, row[field])\n",
    "workbook.close()"
   ]
  },
  {
   "cell_type": "markdown",
   "metadata": {
    "deletable": true,
    "editable": true
   },
   "source": [
    "Download the [Excel Sheet](subjectCases.xlsx)"
   ]
  },
  {
   "cell_type": "code",
   "execution_count": null,
   "metadata": {
    "collapsed": true,
    "deletable": true,
    "editable": true
   },
   "outputs": [],
   "source": []
  }
 ],
 "metadata": {
  "kernelspec": {
   "display_name": "Python 3",
   "language": "python",
   "name": "python3"
  },
  "language_info": {
   "codemirror_mode": {
    "name": "ipython",
    "version": 3
   },
   "file_extension": ".py",
   "mimetype": "text/x-python",
   "name": "python",
   "nbconvert_exporter": "python",
   "pygments_lexer": "ipython3",
   "version": "3.6.0"
  }
 },
 "nbformat": 4,
 "nbformat_minor": 1
}
