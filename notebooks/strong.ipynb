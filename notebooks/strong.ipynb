{
 "cells": [
  {
   "cell_type": "markdown",
   "metadata": {},
   "source": [
    "<img align=\"right\" src=\"images/tf-small.png\"/>\n",
    "\n",
    "# Strong numbers\n",
    "\n",
    "# Application: Strong numbers\n",
    "Stephen Ku has prepared a Strong number mapping for version `4`, based on \n",
    "[OpenScriptures Bible Lexicon](https://github.com/openscriptures/HebrewLexicon).\n",
    "\n",
    "This provides us with a nice use case:\n",
    "can we apply the Strong number mapping for version `4` to versions `3`, `4b` and `2016`\n",
    "as well?\n",
    "Below we will get a pretty good view on the differences between the versions.\n",
    "We use the\n",
    "[BHSA transcription](https://shebanq.ancient-data.org/shebanq/static/docs/BHSA-transcription.pdf)\n",
    "to write down the diffs."
   ]
  },
  {
   "cell_type": "code",
   "execution_count": 1,
   "metadata": {},
   "outputs": [],
   "source": [
    "import os,collections\n",
    "from tf.fabric import Fabric"
   ]
  },
  {
   "cell_type": "markdown",
   "metadata": {},
   "source": [
    "We need a map from a version to its previous version."
   ]
  },
  {
   "cell_type": "code",
   "execution_count": 19,
   "metadata": {},
   "outputs": [
    {
     "data": {
      "text/plain": [
       "{'4b': '4', '4c': '4b'}"
      ]
     },
     "execution_count": 19,
     "metadata": {},
     "output_type": "execute_result"
    }
   ],
   "source": [
    "versions = ['4', '4b', '4c']\n",
    "locations = {\n",
    "    '4': '~/github/text-fabric-data-legacy',\n",
    "    '4b': '~/github/text-fabric-data-legacy',\n",
    "    '4c': '~/github/text-fabric-data', \n",
    "}\n",
    "\n",
    "preVersion = dict(((v, versions[i]) for (i,v) in enumerate(versions[1:])))\n",
    "preVersion"
   ]
  },
  {
   "cell_type": "markdown",
   "metadata": {},
   "source": [
    "Load all versions in one go!\n",
    "For each version we load the `omap` feature that maps the slots from the previous version to the slots of this version."
   ]
  },
  {
   "cell_type": "code",
   "execution_count": 20,
   "metadata": {},
   "outputs": [
    {
     "name": "stdout",
     "output_type": "stream",
     "text": [
      "This is Text-Fabric 2.2.1\n",
      "Api reference : https://github.com/ETCBC/text-fabric/wiki/Api\n",
      "Tutorial      : https://github.com/ETCBC/text-fabric/blob/master/docs/tutorial.ipynb\n",
      "Data sources  : https://github.com/ETCBC/text-fabric-data\n",
      "Data docs     : https://etcbc.github.io/text-fabric-data\n",
      "Shebanq docs  : https://shebanq.ancient-data.org/text\n",
      "Slack team    : https://shebanq.slack.com/signup\n",
      "Questions? Ask shebanq@ancient-data.org for an invite to Slack\n",
      "110 features found and 0 ignored\n",
      "  0.00s loading features ...\n",
      "   |     0.16s B lex                  from /Users/dirk/github/text-fabric-data-legacy/hebrew/etcbc4\n",
      "   |     0.00s Feature overview: 105 nodes; 4 edges; 1 configs; 7 computeds\n",
      "  5.55s All features loaded/computed - for details use loadLog()\n",
      "This is Text-Fabric 2.2.1\n",
      "Api reference : https://github.com/ETCBC/text-fabric/wiki/Api\n",
      "Tutorial      : https://github.com/ETCBC/text-fabric/blob/master/docs/tutorial.ipynb\n",
      "Data sources  : https://github.com/ETCBC/text-fabric-data\n",
      "Data docs     : https://etcbc.github.io/text-fabric-data\n",
      "Shebanq docs  : https://shebanq.ancient-data.org/text\n",
      "Slack team    : https://shebanq.slack.com/signup\n",
      "Questions? Ask shebanq@ancient-data.org for an invite to Slack\n",
      "111 features found and 0 ignored\n",
      "  0.00s loading features ...\n",
      "   |     0.79s B omap@4-4b            from /Users/dirk/github/text-fabric-data-legacy/hebrew/etcbc4b\n",
      "   |     0.14s B lex                  from /Users/dirk/github/text-fabric-data-legacy/hebrew/etcbc4b\n",
      "   |     0.00s Feature overview: 105 nodes; 5 edges; 1 configs; 7 computeds\n",
      "  6.38s All features loaded/computed - for details use loadLog()\n",
      "This is Text-Fabric 2.2.1\n",
      "Api reference : https://github.com/ETCBC/text-fabric/wiki/Api\n",
      "Tutorial      : https://github.com/ETCBC/text-fabric/blob/master/docs/tutorial.ipynb\n",
      "Data sources  : https://github.com/ETCBC/text-fabric-data\n",
      "Data docs     : https://etcbc.github.io/text-fabric-data\n",
      "Shebanq docs  : https://shebanq.ancient-data.org/text\n",
      "Slack team    : https://shebanq.slack.com/signup\n",
      "Questions? Ask shebanq@ancient-data.org for an invite to Slack\n",
      "108 features found and 0 ignored\n",
      "  0.00s loading features ...\n",
      "   |     1.15s B omap@4b-4c           from /Users/dirk/github/text-fabric-data/hebrew/etcbc4c\n",
      "   |     0.18s B lex                  from /Users/dirk/github/text-fabric-data/hebrew/etcbc4c\n",
      "   |     0.00s Feature overview: 102 nodes; 5 edges; 1 configs; 7 computeds\n",
      "  8.24s All features loaded/computed - for details use loadLog()\n"
     ]
    }
   ],
   "source": [
    "TF = {}\n",
    "api = {}\n",
    "for v in versions:\n",
    "    omap = '' if v == '4' else 'omap@{}-{}'.format(preVersion[v], v)\n",
    "    TF[v] = Fabric(locations=locations[v], modules='hebrew/etcbc{}'.format(v))\n",
    "    api[v] = TF[v].load('''\n",
    "        {} lex\n",
    "    '''.format(omap))\n",
    "\n",
    "A4 = api['4']\n",
    "A4b = api['4b']\n",
    "A4c = api['4c']"
   ]
  },
  {
   "cell_type": "markdown",
   "metadata": {},
   "source": [
    "# Strong numbers\n",
    "\n",
    "Let us apply the maps for the purpose of assigning Strong numbers to the words of the versions 4b and 4c.\n",
    "We have a mapping for 4, compiled as a csv file by Stephen Ku from the OpenScriptures data.\n",
    "\n",
    "First we perform a basic check on the Strong numbers as provided for version 4."
   ]
  },
  {
   "cell_type": "code",
   "execution_count": 21,
   "metadata": {},
   "outputs": [],
   "source": [
    "STRONG = 'hebrew/strong'\n",
    "strongDir = '{}/{}'.format(os.path.expanduser(locations['4c']), STRONG)\n",
    "strongFile = '{}/{}'.format(strongDir, 'MonadStrong.csv')\n",
    "strongs = {}"
   ]
  },
  {
   "cell_type": "code",
   "execution_count": 22,
   "metadata": {},
   "outputs": [],
   "source": [
    "strongs['4'] = {}\n",
    "first = True\n",
    "with open(strongFile, encoding='utf-16') as fh:\n",
    "    for line in fh:\n",
    "        if first:\n",
    "            first = False\n",
    "            continue\n",
    "        (slot, strong) = line.rstrip().split(',', 1)\n",
    "        strongs['4'][int(slot)] = strong"
   ]
  },
  {
   "cell_type": "markdown",
   "metadata": {},
   "source": [
    "## Consistency check\n",
    "\n",
    "Do slots with the same lexemes get identical Strong numbers?"
   ]
  },
  {
   "cell_type": "code",
   "execution_count": 23,
   "metadata": {},
   "outputs": [],
   "source": [
    "def checkConsistency(v):\n",
    "    strongFromLex = collections.defaultdict(set)\n",
    "    lexFromStrong = collections.defaultdict(set)\n",
    "\n",
    "    for n in api[v].F.otype.s('word'):\n",
    "        if n in strongs[v]:\n",
    "            strongFromLex[api[v].F.lex.v(n)].add(strongs[v][n])\n",
    "            lexFromStrong[strongs[v][n]].add(api[v].F.lex.v(n))\n",
    "\n",
    "\n",
    "    multipleStrongs = set()\n",
    "    for (lx, strongset) in strongFromLex.items():\n",
    "        if len(strongset) > 1:\n",
    "            multipleStrongs.add(lx)\n",
    "\n",
    "    multipleLexs = set()\n",
    "    for (st, lexset) in lexFromStrong.items():\n",
    "        if len(lexset) > 1:\n",
    "            multipleLexs.add(lx)\n",
    "\n",
    "    print('{} lexemes with multiple Strong numbers'.format(len(multipleStrongs)))\n",
    "    print('{} Strong numbers with multiple lexemes'.format(len(multipleStrongs)))\n",
    "    for lx in sorted(multipleStrongs)[0:10]:\n",
    "        print('{}: {}'.format(lx, ', '.join(sorted(strongFromLex[lx]))))"
   ]
  },
  {
   "cell_type": "code",
   "execution_count": 24,
   "metadata": {},
   "outputs": [
    {
     "name": "stdout",
     "output_type": "stream",
     "text": [
      "1226 lexemes with multiple Strong numbers\n",
      "1226 Strong numbers with multiple lexemes\n",
      "<BD/: 5649, 5650\n",
      "<BD[: 5647, 5648\n",
      "<BD_NGW/: 5665, 5838\n",
      "<BJ/: 5645, 5672\n",
      "<BR/: 5675, 5676\n",
      "<CQ[: 6217, 6231\n",
      "<CT[: 6245 b, 6246\n",
      "<D: 5703, 5704, 5705\n",
      "<D/: 5703, 5704\n",
      "<DH[: 5709, 5710 b\n"
     ]
    }
   ],
   "source": [
    "checkConsistency('4')"
   ]
  },
  {
   "cell_type": "markdown",
   "metadata": {},
   "source": [
    "Obviously not. The ETCBC lexemes and the Strong numbers are different classification systems for word occurrences in the Bible!"
   ]
  },
  {
   "cell_type": "markdown",
   "metadata": {},
   "source": [
    "# Map the Strong numbers"
   ]
  },
  {
   "cell_type": "code",
   "execution_count": 25,
   "metadata": {},
   "outputs": [],
   "source": [
    "strongs['4b'] = {}\n",
    "for (n, s) in strongs['4'].items():\n",
    "    for m in A4b.Es('omap@4-4b').f(n):\n",
    "        strongs['4b'][m] = s"
   ]
  },
  {
   "cell_type": "code",
   "execution_count": 26,
   "metadata": {
    "collapsed": true
   },
   "outputs": [],
   "source": [
    "strongs['4c'] = {}\n",
    "for (n, s) in strongs['4b'].items():\n",
    "    for m in A4c.Es('omap@4b-4c').f(n):\n",
    "        strongs['4c'][m] = s"
   ]
  },
  {
   "cell_type": "markdown",
   "metadata": {},
   "source": [
    "# Check consistency again\n",
    "\n",
    "Now in the new versions."
   ]
  },
  {
   "cell_type": "code",
   "execution_count": 27,
   "metadata": {},
   "outputs": [
    {
     "name": "stdout",
     "output_type": "stream",
     "text": [
      "1219 lexemes with multiple Strong numbers\n",
      "1219 Strong numbers with multiple lexemes\n",
      "<BD/: 5649, 5650\n",
      "<BD[: 5647, 5648\n",
      "<BD_NGW/: 5665, 5838\n",
      "<BJ/: 5645, 5672\n",
      "<BR/: 5675, 5676\n",
      "<CQ[: 6217, 6231\n",
      "<CT[: 6245 b, 6246\n",
      "<D: 5703, 5704, 5705\n",
      "<D/: 5703, 5704\n",
      "<DH[: 5709, 5710 b\n"
     ]
    }
   ],
   "source": [
    "checkConsistency('4b')"
   ]
  },
  {
   "cell_type": "code",
   "execution_count": 28,
   "metadata": {},
   "outputs": [
    {
     "name": "stdout",
     "output_type": "stream",
     "text": [
      "1219 lexemes with multiple Strong numbers\n",
      "1219 Strong numbers with multiple lexemes\n",
      "<BD/: 5649, 5650\n",
      "<BD[: 5647, 5648\n",
      "<BD_NGW/: 5665, 5838\n",
      "<BJ/: 5645, 5672\n",
      "<BR/: 5675, 5676\n",
      "<CQ[: 6217, 6231\n",
      "<CT[: 6245 b, 6246\n",
      "<D: 5703, 5704, 5705\n",
      "<D/: 5703, 5704\n",
      "<DH[: 5709, 5710 b\n"
     ]
    }
   ],
   "source": [
    "checkConsistency('4c')"
   ]
  },
  {
   "cell_type": "markdown",
   "metadata": {},
   "source": [
    "That looks good.\n",
    "\n",
    "# Writing the Strong numbers"
   ]
  },
  {
   "cell_type": "code",
   "execution_count": 29,
   "metadata": {},
   "outputs": [
    {
     "name": "stdout",
     "output_type": "stream",
     "text": [
      "  0.00s Exporting 1 node and 0 edge and 1 config features to /Users/dirk/github/text-fabric-data-legacy/hebrew/strong/4:\n",
      "   |     0.73s T strong               to /Users/dirk/github/text-fabric-data-legacy/hebrew/strong/4\n",
      "   |     0.00s M otext@strong         to /Users/dirk/github/text-fabric-data-legacy/hebrew/strong/4\n",
      "  0.74s Exported 1 node features and 0 edge features and 1 config features to /Users/dirk/github/text-fabric-data-legacy/hebrew/strong/4\n",
      "  0.00s Exporting 1 node and 0 edge and 1 config features to /Users/dirk/github/text-fabric-data-legacy/hebrew/strong/4b:\n",
      "   |     0.72s T strong               to /Users/dirk/github/text-fabric-data-legacy/hebrew/strong/4b\n",
      "   |     0.00s M otext@strong         to /Users/dirk/github/text-fabric-data-legacy/hebrew/strong/4b\n",
      "  0.72s Exported 1 node features and 0 edge features and 1 config features to /Users/dirk/github/text-fabric-data-legacy/hebrew/strong/4b\n",
      "  0.00s Exporting 1 node and 0 edge and 1 config features to /Users/dirk/github/text-fabric-data/hebrew/strong/4c:\n",
      "   |     0.71s T strong               to /Users/dirk/github/text-fabric-data/hebrew/strong/4c\n",
      "   |     0.00s M otext@strong         to /Users/dirk/github/text-fabric-data/hebrew/strong/4c\n",
      "  0.71s Exported 1 node features and 0 edge features and 1 config features to /Users/dirk/github/text-fabric-data/hebrew/strong/4c\n"
     ]
    }
   ],
   "source": [
    "nodeFeatures = {}\n",
    "provenance = dict(\n",
    "    source='Strong numbers provided by https://github.com/openscriptures/HebrewLexicon',\n",
    "    author='Compiled for ETCBC by Stephen Ku; transferred across versions by Dirk Roorda',\n",
    ")\n",
    "\n",
    "for v in versions:\n",
    "    metaData = {\n",
    "        '': provenance,\n",
    "        'otext@strong': {\n",
    "            'about': 'Provides Strong numbers to Hebrew Words',\n",
    "            'see': 'https://github.com/ETCBC/text-fabric/blob/master/Versions/strong.ipynb',\n",
    "            'fmt:lex-strong-plain': '{strong} ',\n",
    "        },\n",
    "        'strong': {\n",
    "            'valueType': 'str',\n",
    "        },\n",
    "    }\n",
    "    nodeFeatures = dict(strong=strongs[v])\n",
    "    TF[v].save(\n",
    "        module='hebrew/strong/{}'.format(v),\n",
    "        nodeFeatures=nodeFeatures,\n",
    "        metaData=metaData,\n",
    "    )"
   ]
  },
  {
   "cell_type": "markdown",
   "metadata": {},
   "source": [
    "# Using Strong numbers\n",
    "\n",
    "Let us load the new `strong` feature in the newest ETCBC version, `4c`."
   ]
  },
  {
   "cell_type": "code",
   "execution_count": 13,
   "metadata": {},
   "outputs": [
    {
     "name": "stdout",
     "output_type": "stream",
     "text": [
      "This is Text-Fabric 2.2.1\n",
      "Api reference : https://github.com/ETCBC/text-fabric/wiki/Api\n",
      "Tutorial      : https://github.com/ETCBC/text-fabric/blob/master/docs/tutorial.ipynb\n",
      "Data sources  : https://github.com/ETCBC/text-fabric-data\n",
      "Data docs     : https://etcbc.github.io/text-fabric-data\n",
      "Shebanq docs  : https://shebanq.ancient-data.org/text\n",
      "Slack team    : https://shebanq.slack.com/signup\n",
      "Questions? Ask shebanq@ancient-data.org for an invite to Slack\n",
      "110 features found and 0 ignored\n",
      "  0.00s loading features ...\n",
      "   |     0.21s B g_word_utf8          from /Users/dirk/github/text-fabric-data/hebrew/etcbc4c\n",
      "   |     0.29s B strong               from /Users/dirk/github/text-fabric-data/hebrew/strong/4c\n",
      "   |     0.13s B lex                  from /Users/dirk/github/text-fabric-data/hebrew/etcbc4c\n",
      "   |     0.00s Feature overview: 103 nodes; 5 edges; 2 configs; 7 computeds\n",
      "  5.96s All features loaded/computed - for details use loadLog()\n"
     ]
    }
   ],
   "source": [
    "TF = Fabric(modules=['hebrew/etcbc4c', 'hebrew/strong/4c'])\n",
    "api = TF.load('''\n",
    "        g_word_utf8\n",
    "        lex strong\n",
    "''')\n",
    "api.makeAvailableIn(globals())"
   ]
  },
  {
   "cell_type": "markdown",
   "metadata": {},
   "source": [
    "We print a few verses of Genesis in lexeme and in strong representation.\n",
    "The module `strong` defines a new text format!"
   ]
  },
  {
   "cell_type": "code",
   "execution_count": 14,
   "metadata": {},
   "outputs": [
    {
     "name": "stdout",
     "output_type": "stream",
     "text": [
      "Genesis 1:1 (lex-trans-plain)\n",
      "\tB R>CJT BR> >LHJM >T H CMJM W >T H >RY \n",
      "Genesis 1:1 (lex-strong-plain)\n",
      "\t8675 7225 1254 a 430 853 8676 8064 8678 853 8676 776 \n",
      "Genesis 1:2 (lex-trans-plain)\n",
      "\tW H >RY HJH THW W BHW W XCK <L PNH THWM W RWX >LHJM RXP <L PNH H MJM \n",
      "Genesis 1:2 (lex-strong-plain)\n",
      "\t8678 8676 776 1961 8414 8678 922 8678 2822 5921 a 6440 8415 8678 7307 430 7363 b 5921 a 6440 8676 4325 \n",
      "Genesis 1:3 (lex-trans-plain)\n",
      "\tW >MR >LHJM HJH >WR W HJH >WR \n",
      "Genesis 1:3 (lex-strong-plain)\n",
      "\t8678 559 430 1961 216 8678 1961 216 \n"
     ]
    }
   ],
   "source": [
    "(book, chapter) = ('Genesis', 1)\n",
    "\n",
    "for verse in range(1,4):\n",
    "    vn = T.nodeFromSection((book, chapter, verse))\n",
    "    words = L.d(vn, otype='word')\n",
    "    for fmt in ('lex-trans-plain', 'lex-strong-plain'):\n",
    "        print('{} {}:{} ({})\\n\\t{}'.format(\n",
    "            book, chapter, verse, fmt,\n",
    "            T.text(words, fmt=fmt)\n",
    "        ))"
   ]
  },
  {
   "cell_type": "markdown",
   "metadata": {
    "collapsed": true
   },
   "source": [
    "# Divergence between lexemes and Strong\n",
    "\n",
    "As we noted when constructing the Strong features, there is no 1-1 correspondence between ETCBC lexemes and Strong numbers. Let us inspect a few cases where they diverge.\n",
    "\n",
    "We reimplement something like `consistencyCheck()` above, but now based on the active `strong` feature.\n",
    "And we collect the slots that exhibit one lexeme with several Strong numbers and vice versa.\n",
    "\n",
    "So let's just collect all relevant information."
   ]
  },
  {
   "cell_type": "code",
   "execution_count": 15,
   "metadata": {},
   "outputs": [
    {
     "name": "stdout",
     "output_type": "stream",
     "text": [
      "  0.00s Gathering lexemes and Strongs\n",
      "  2.38s Done: 8771 lexemes and 9300 Strongs\n"
     ]
    }
   ],
   "source": [
    "strongLex = collections.defaultdict(lambda: collections.defaultdict(set))\n",
    "lexStrong = collections.defaultdict(lambda: collections.defaultdict(set))\n",
    "\n",
    "indent(reset=True)\n",
    "info('Gathering lexemes and Strongs')\n",
    "for n in F.otype.s('word'):\n",
    "    lex = F.lex.v(n)\n",
    "    sng = F.strong.v(n)\n",
    "    if sng != None:\n",
    "        strongLex[sng][lex].add(n)\n",
    "        lexStrong[lex][sng].add(n)\n",
    "info('Done: {} lexemes and {} Strongs'.format(len(lexStrong), len(strongLex)))"
   ]
  },
  {
   "cell_type": "markdown",
   "metadata": {},
   "source": [
    "Now rank the lexemes by the number of Strongs they are associated with, and the Strongs by the number of lexemes they\n",
    "are associated with."
   ]
  },
  {
   "cell_type": "code",
   "execution_count": 16,
   "metadata": {
    "collapsed": true
   },
   "outputs": [],
   "source": [
    "lexRanked = sorted(lexStrong, key=lambda x: -len(lexStrong[x]))\n",
    "sngRanked = sorted(strongLex, key=lambda x: -len(strongLex[x]))"
   ]
  },
  {
   "cell_type": "markdown",
   "metadata": {},
   "source": [
    "Inspect the top 10 of both."
   ]
  },
  {
   "cell_type": "code",
   "execution_count": 21,
   "metadata": {
    "collapsed": true
   },
   "outputs": [],
   "source": [
    "def inspectTop(dataRanked, data, amount):\n",
    "    for d in dataRanked[0:amount]:\n",
    "        print(d)\n",
    "        related = data[d]\n",
    "        for r in related:\n",
    "            occs = sortNodes(related[r])\n",
    "            print('\\t{} ({} occs)'.format(r, len(occs)))\n",
    "            n = occs[0]\n",
    "            s = L.u(n, otype='sentence')[0]\n",
    "            ws = L.d(s, otype='word')\n",
    "            print('\\t\\te.g. {} {}:{} - {} in {}'.format(\n",
    "                *T.sectionFromNode(n),\n",
    "                F.g_word_utf8.v(n),\n",
    "                T.text(ws, fmt='text-orig-full'),\n",
    "            ))"
   ]
  },
  {
   "cell_type": "code",
   "execution_count": 22,
   "metadata": {
    "scrolled": false
   },
   "outputs": [
    {
     "name": "stdout",
     "output_type": "stream",
     "text": [
      "BJT/\n",
      "\t1004 b (2046 occs)\n",
      "\t\te.g. Genesis 6:14 - בַּ֥יִת in וְכָֽפַרְתָּ֥ אֹתָ֛הּ מִבַּ֥יִת וּמִח֖וּץ בַּכֹּֽפֶר׃ \n",
      "\t1030+ (2 occs)\n",
      "\t\te.g. 1_Samuel 6:14 - בֵּֽית in וְהָעֲגָלָ֡ה בָּ֠אָה אֶל־שְׂדֵ֨ה יְהֹושֻׁ֤עַ בֵּֽית־הַשִּׁמְשִׁי֙ \n",
      "\t1022+ (4 occs)\n",
      "\t\te.g. 1_Samuel 16:1 - בֵּֽית in אֶֽשְׁלָחֲךָ֙ אֶל־יִשַׁ֣י בֵּֽית־הַלַּחְמִ֔י \n",
      "\t1023+ (1 occs)\n",
      "\t\te.g. 2_Samuel 15:17 - בֵּ֥ית in וַיַּעַמְד֖וּ בֵּ֥ית הַמֶּרְחָֽק׃ \n",
      "\t1038+ (2 occs)\n",
      "\t\te.g. 2_Samuel 20:14 - בֵ֥ית in וַֽיַּעֲבֹ֞ר בְּכָל־שִׁבְטֵ֣י יִשְׂרָאֵ֗ל אָבֵ֛לָה וּבֵ֥ית מַעֲכָ֖ה \n",
      "\t1017+ (1 occs)\n",
      "\t\te.g. 1_Kings 16:34 - בֵּ֥ית in בְּיָמָ֞יו בָּנָ֥ה חִיאֵ֛ל בֵּ֥ית הָאֱלִ֖י אֶת־יְרִיחֹ֑ה \n",
      "\t1006 (1 occs)\n",
      "\t\te.g. Isaiah 15:2 - בַּ֧יִת in עָלָ֨ה הַבַּ֧יִת וְדִיבֹ֛ן הַבָּמֹ֖ות לְבֶ֑כִי \n",
      "\t1053+ (1 occs)\n",
      "\t\te.g. Jeremiah 43:13 - בֵּ֣ית in וְשִׁבַּ֗ר אֶֽת־מַצְּבֹות֙ בֵּ֣ית שֶׁ֔מֶשׁ אֲשֶׁ֖ר בְּאֶ֣רֶץ מִצְרָ֑יִם \n",
      "\t1004 a (3 occs)\n",
      "\t\te.g. Ezekiel 41:9 - בֵּ֥ית in רֹ֣חַב הַקִּ֧יר אֲֽשֶׁר־לַצֵּלָ֛ע אֶל־הַח֖וּץ חָמֵ֣שׁ אַמֹּ֑ות וַאֲשֶׁ֣ר מֻנָּ֔ח בֵּ֥ית צְלָעֹ֖ות אֲשֶׁ֥ר לַבָּֽיִת׃ \n",
      "\t1036+ (1 occs)\n",
      "\t\te.g. Micah 1:10 - בֵ֣ית in בְּבֵ֣ית לְעַפְרָ֔ה עָפָ֖ר הִתְפַּלָּֽשִׁי׃\n",
      "\t1005 (44 occs)\n",
      "\t\te.g. Daniel 2:5 - בָתֵּיכֹ֖ון in וּבָתֵּיכֹ֖ון נְוָלִ֥י יִתְּשָׂמֽוּן׃ \n",
      "\t1051+ (1 occs)\n",
      "\t\te.g. 1_Chronicles 4:12 - בֵּ֤ית in וְאֶשְׁתֹּ֗ון הֹולִ֞יד אֶת־בֵּ֤ית רָפָא֙ וְאֶת־פָּסֵ֔חַ וְאֶת־תְּחִנָּ֖ה אֲבִ֣י עִ֣יר נָחָ֑שׁ \n",
      "H\n",
      "\t8676 (30369 occs)\n",
      "\t\te.g. Genesis 1:1 - הַ in בְּרֵאשִׁ֖ית בָּרָ֣א אֱלֹהִ֑ים אֵ֥ת הַשָּׁמַ֖יִם וְאֵ֥ת הָאָֽרֶץ׃ \n",
      "\t1976 (2 occs)\n",
      "\t\te.g. Genesis 24:65 - הַ in מִֽי־הָאִ֤ישׁ הַלָּזֶה֙ הַהֹלֵ֤ךְ בַּשָּׂדֶה֙ לִקְרָאתֵ֔נוּ \n",
      "\t8677 (5 occs)\n",
      "\t\te.g. Deuteronomy 20:19 - הָֽ in כִּ֤י הָֽאָדָם֙ עֵ֣ץ הַשָּׂדֶ֔ה לָבֹ֥א מִפָּנֶ֖יךָ בַּמָּצֹֽור׃ \n",
      "\t1975 (7 occs)\n",
      "\t\te.g. Judges 6:20 - הַ in וְהַנַּח֙ אֶל־הַסֶּ֣לַע הַלָּ֔ז \n",
      "\t5875 (1 occs)\n",
      "\t\te.g. Judges 15:19 - הַ in עַל־כֵּ֣ן׀ קָרָ֣א שְׁמָ֗הּ עֵ֤ין הַקֹּורֵא֙ אֲשֶׁ֣ר בַּלֶּ֔חִי עַ֖ד הַיֹּ֥ום הַזֶּֽה׃ \n",
      "\t237 (1 occs)\n",
      "\t\te.g. 1_Samuel 20:19 - הָ in וְיָ֣שַׁבְתָּ֔ אֵ֖צֶל הָאֶ֥בֶן הָאָֽזֶל׃ \n",
      "\t1977 (1 occs)\n",
      "\t\te.g. Ezekiel 36:35 - הַ in הָאָ֤רֶץ הַלֵּ֨זוּ֙ הַנְּשַׁמָּ֔ה הָיְתָ֖ה כְּגַן־עֵ֑דֶן \n",
      "BN/\n",
      "\t1121 a (4925 occs)\n",
      "\t\te.g. Genesis 3:16 - בָנִ֑ים in בְּעֶ֖צֶב תֵּֽלְדִ֣י בָנִ֑ים \n",
      "\t1145+ (6 occs)\n",
      "\t\te.g. Judges 3:15 - בֶּן in וַיָּקֶם֩ יְהוָ֨ה לָהֶ֜ם מֹושִׁ֗יעַ אֶת־אֵה֤וּד בֶּן־גֵּרָא֙ בֶּן־הַיְמִינִ֔י אִ֥ישׁ אִטֵּ֖ר יַד־יְמִינֹ֑ו \n",
      "\t1133+ (1 occs)\n",
      "\t\te.g. 1_Kings 4:8 - בֶּן in בֶּן־ח֖וּר בְּהַ֥ר אֶפְרָֽיִם׃ ס \n",
      "\t1136+ (1 occs)\n",
      "\t\te.g. 1_Kings 4:10 - בֶּן in בֶּן־חֶ֖סֶד בָּֽאֲרֻבֹּ֑ות \n",
      "\t1125+ (1 occs)\n",
      "\t\te.g. 1_Kings 4:11 - בֶּן in בֶּן־אֲבִֽינָדָ֖ב כָּל־נָ֣פַת דֹּ֑אר \n",
      "\t1127+ (1 occs)\n",
      "\t\te.g. 1_Kings 4:13 - בֶּן in בֶּן־גֶּ֖בֶר בְּרָמֹ֣ת גִּלְעָ֑ד \n",
      "\t1121 b (2 occs)\n",
      "\t\te.g. 1_Chronicles 24:26 - בְנֹֽו in בְּנֵ֖י יַעֲזִיָּ֥הֽוּ בְנֹֽו׃ \n",
      ">L\n",
      "\t413 (5512 occs)\n",
      "\t\te.g. Genesis 1:9 - אֶל in יִקָּו֨וּ הַמַּ֜יִם מִתַּ֤חַת הַשָּׁמַ֨יִם֙ אֶל־מָקֹ֣ום אֶחָ֔ד \n",
      "\t408 (2 occs)\n",
      "\t\te.g. Deuteronomy 2:9 - אֶל in אֶל־תָּ֨צַר֙ אֶת־מֹואָ֔ב \n",
      "\t414 (1 occs)\n",
      "\t\te.g. Isaiah 65:7 - על in וּמַדֹּתִ֧י פְעֻלָּתָ֛ם רִֽאשֹׁנָ֖ה אֶל־חֵיקָֽם׃ ס \n",
      "\t352 d (1 occs)\n",
      "\t\te.g. Ezekiel 31:14 - אֵלֵיהֶ֛ם in וְלֹֽא־יַעַמְד֧וּ אֵלֵיהֶ֛ם בְּגָבְהָ֖ם כָּל־שֹׁ֣תֵי מָ֑יִם \n",
      "\t8680 (1 occs)\n",
      "\t\te.g. Ruth 3:5 -  in כֹּ֛ל אֲשֶׁר־תֹּאמְרִ֥י אֵלַ֖י אֶֽעֱשֶֽׂה׃ \n",
      "\t409 (4 occs)\n",
      "\t\te.g. Daniel 2:24 - אַל in לְחַכִּימֵ֤י בָבֶל֙ אַל־תְּהֹובֵ֔ד \n",
      "RB/\n",
      "\t7227 a (422 occs)\n",
      "\t\te.g. Genesis 6:5 - רַבָּ֛ה in וַיַּ֣רְא יְהוָ֔ה כִּ֥י רַבָּ֛ה רָעַ֥ת הָאָדָ֖ם בָּאָ֑רֶץ וְכָל־יֵ֨צֶר֙ מַחְשְׁבֹ֣ת לִבֹּ֔ו רַ֥ק רַ֖ע כָּל־הַיֹּֽום׃ \n",
      "\t7237 (5 occs)\n",
      "\t\te.g. Deuteronomy 3:11 - רַבַּ֖ת in הֲלֹ֣ה הִ֔וא בְּרַבַּ֖ת בְּנֵ֣י עַמֹּ֑ון \n",
      "\t2579+ (1 occs)\n",
      "\t\te.g. Amos 6:2 - רַבָּ֑ה in וּלְכ֥וּ מִשָּׁ֖ם חֲמַ֣ת רַבָּ֑ה \n",
      "\t7232 (1 occs)\n",
      "\t\te.g. Psalms 18:15 - רָ֝ב in וַיִּשְׁלַ֣ח חִ֭צָּיו וּבְרָקִ֥ים רָ֝ב \n",
      "\t7229 (11 occs)\n",
      "\t\te.g. Daniel 2:10 - רַ֣ב in כָּל־קֳבֵ֗ל דִּ֚י כָּל־מֶ֨לֶךְ֙ רַ֣ב וְשַׁלִּ֔יט מִלָּ֤ה כִדְנָה֙ לָ֣א שְׁאֵ֔ל לְכָל־חַרְטֹּ֖ם וְאָשַׁ֥ף וְכַשְׂדָּֽי׃ \n",
      "\t7260 (8 occs)\n",
      "\t\te.g. Daniel 2:48 - רַבְרְבָ֤ן in וּמַתְּנָ֨ן רַבְרְבָ֤ן שַׂגִּיאָן֙ יְהַב־לֵ֔הּ \n",
      "YRR[\n",
      "\t3334 (10 occs)\n",
      "\t\te.g. Genesis 32:8 - יֵּ֣צֶר in וַיֵּ֣צֶר לֹ֑ו \n",
      "\t6887 b (22 occs)\n",
      "\t\te.g. Exodus 12:34 - צְרֻרֹ֥ת in מִשְׁאֲרֹתָ֛ם צְרֻרֹ֥ת בְּשִׂמְלֹתָ֖ם עַל־שִׁכְמָֽם׃ \n",
      "\t6862 c (4 occs)\n",
      "\t\te.g. Judges 11:7 - צַ֥ר in וּמַדּ֜וּעַ בָּאתֶ֤ם אֵלַי֙ עַ֔תָּה כַּאֲשֶׁ֖ר צַ֥ר לָכֶֽם׃ \n",
      "\t6887 c (3 occs)\n",
      "\t\te.g. Jeremiah 48:41 - מְצֵרָֽה in וְֽ֠הָיָה לֵ֞ב גִּבֹּורֵ֤י מֹואָב֙ בַּיֹּ֣ום הַה֔וּא כְּלֵ֖ב אִשָּׁ֥ה מְצֵרָֽה׃ \n",
      "\t6862 b (2 occs)\n",
      "\t\te.g. Psalms 59:17 - צַר in כִּֽי־הָיִ֣יתָ מִשְׂגָּ֣ב לִ֑י וּ֝מָנֹ֗וס בְּיֹ֣ום צַר־לִֽי׃ \n",
      "\t6696 a (2 occs)\n",
      "\t\te.g. 2_Chronicles 6:28 - יָֽצַר in כִּ֧י יָֽצַר־לֹ֛ו אֹויְבָ֖יו בְּאֶ֣רֶץ שְׁעָרָ֑יו \n",
      "RB==/\n",
      "\t7249+ (1 occs)\n",
      "\t\te.g. 2_Kings 18:17 - רַב in וַיִּשְׁלַ֣ח מֶֽלֶךְ־אַשּׁ֡וּר אֶת־תַּרְתָּ֥ן וְאֶת־רַב־סָרִ֣יס׀ וְאֶת־רַב־שָׁקֵ֨ה מִן־לָכִ֜ישׁ אֶל־הַמֶּ֧לֶךְ חִזְקִיָּ֛הוּ בְּחֵ֥יל כָּבֵ֖ד יְרוּשָׁלִָ֑ם \n",
      "\t7227 b (27 occs)\n",
      "\t\te.g. 2_Kings 25:8 - רַב in וּבַחֹ֤דֶשׁ הַֽחֲמִישִׁי֙ בְּשִׁבְעָ֣ה לַחֹ֔דֶשׁ בָּ֞א נְבוּזַרְאֲדָ֧ן רַב־טַבָּחִ֛ים עֶ֥בֶד מֶֽלֶךְ־בָּבֶ֖ל יְרוּשָׁלִָֽם׃ \n",
      "\t7249 (2 occs)\n",
      "\t\te.g. Jeremiah 39:3 - רַב in וַיָּבֹ֗אוּ כֹּ֚ל שָׂרֵ֣י מֶֽלֶךְ־בָּבֶ֔ל נֵרְגַ֣ל שַׂר־֠אֶצֶר סַֽמְגַּר־נְב֞וּ שַׂר־סְכִ֣ים רַב־סָרִ֗יס נֵרְגַ֤ל שַׂר־אֶ֨צֶר֙ רַב־מָ֔ג וְכָל־שְׁאֵרִ֔ית שָׂרֵ֖י מֶ֥לֶךְ בָּבֶֽל׃ \n",
      "\t7248 (1 occs)\n",
      "\t\te.g. Jeremiah 39:3 - רַב in וַיָּבֹ֗אוּ כֹּ֚ל שָׂרֵ֣י מֶֽלֶךְ־בָּבֶ֔ל נֵרְגַ֣ל שַׂר־֠אֶצֶר סַֽמְגַּר־נְב֞וּ שַׂר־סְכִ֣ים רַב־סָרִ֗יס נֵרְגַ֤ל שַׂר־אֶ֨צֶר֙ רַב־מָ֔ג וְכָל־שְׁאֵרִ֔ית שָׂרֵ֖י מֶ֥לֶךְ בָּבֶֽל׃ \n",
      "\t5371 (1 occs)\n",
      "\t\te.g. Jeremiah 39:13 - רַב in וַיִּשְׁלַ֞ח נְבֽוּזַרְאֲדָ֣ן רַב־טַבָּחִ֗ים וּנְבֽוּשַׁזְבָּן֙ רַב־סָרִ֔יס וְנֵרְגַ֥ל שַׂר־אֶ֖צֶר רַב־מָ֑ג וְכֹ֖ל רַבֵּ֥י מֶֽלֶךְ־בָּבֶֽל׃ \n",
      "\t7227 a (2 occs)\n",
      "\t\te.g. Jeremiah 52:19 - רַב in וְאֶת־הַ֠סִּפִּים וְאֶת־הַמַּחְתֹּ֨ות וְאֶת־הַמִּזְרָקֹ֜ות וְאֶת־הַסִּירֹ֣ות וְאֶת־הַמְּנֹרֹ֗ות וְאֶת־הַכַּפֹּות֙ וְאֶת־הַמְּנַקִיֹ֔ות אֲשֶׁ֤ר זָהָב֙ זָהָ֔ב וַאֲשֶׁר־כֶּ֖סֶף כָּ֑סֶף לָקַ֖ח רַב־טַבָּחִֽים׃ \n",
      "L\n",
      "\t8680 (20442 occs)\n",
      "\t\te.g. Genesis 1:5 - לָ in וַיִּקְרָ֨א אֱלֹהִ֤ים׀ לָאֹור֙ יֹ֔ום \n",
      "\t2574+ (1 occs)\n",
      "\t\te.g. 1_Kings 8:65 - לְּ in וְכָל־יִשְׂרָאֵ֣ל עִמֹּו֩ קָהָ֨ל גָּדֹ֜ול מִלְּבֹ֥וא חֲמָ֣ת׀ עַד־נַ֣חַל מִצְרַ֗יִם \n",
      "\t935 (1 occs)\n",
      "\t\te.g. 2_Kings 14:25 - לְּ in ה֗וּא הֵשִׁיב֙ אֶת־גְּב֣וּל יִשְׂרָאֵ֔ל מִלְּבֹ֥וא חֲמָ֖ת עַד־יָ֣ם הָעֲרָבָ֑ה כִּדְבַ֤ר יְהוָה֙ אֱלֹהֵ֣י יִשְׂרָאֵ֔ל אֲשֶׁ֣ר דִּבֶּ֗ר בְּיַד־עַבְדֹּ֞ו יֹונָ֤ה בֶן־אֲמִתַּי֙ הַנָּבִ֔יא אֲשֶׁ֖ר מִגַּ֥ת הַחֵֽפֶר׃ \n",
      "\t935+ (2 occs)\n",
      "\t\te.g. Ezekiel 47:15 - לְ in לִפְאַ֨ת צָפֹ֜ונָה מִן־הַיָּ֧ם הַגָּדֹ֛ול הַדֶּ֥רֶךְ חֶתְלֹ֖ן לְבֹ֥וא צְדָֽדָה׃ \n",
      "\t1036+ (1 occs)\n",
      "\t\te.g. Micah 1:10 - לְ in בְּבֵ֣ית לְעַפְרָ֔ה עָפָ֖ר הִתְפַּלָּֽשִׁי׃\n",
      "KN\n",
      "\t3651 c (534 occs)\n",
      "\t\te.g. Genesis 1:7 - כֵֽן in וַֽיְהִי־כֵֽן׃ \n",
      "\t3651 b (9 occs)\n",
      "\t\te.g. Genesis 18:5 - כֵּ֥ן in כִּֽי־עַל־כֵּ֥ן עֲבַרְתֶּ֖ם עַֽל־עַבְדְּכֶ֑ם \n",
      "\t5921 b (1 occs)\n",
      "\t\te.g. 2_Samuel 18:20 -  in כִּֽי־עַל־כֵּ֥ן בֶּן־הַמֶּ֖לֶךְ מֵֽת׃ \n",
      "\t3652 (9 occs)\n",
      "\t\te.g. 1_Kings 7:29 - כֵּ֣ן in וְעַל־הַשְׁלַבִּ֖ים כֵּ֣ן מִמָּ֑עַל \n",
      "\t3651 a (1 occs)\n",
      "\t\te.g. Psalms 65:10 - כֵ֥ן in כִּי־כֵ֥ן תְּכִינֶֽהָ׃ \n",
      "FJM[\n",
      "\t7760 a (580 occs)\n",
      "\t\te.g. Genesis 2:8 - יָּ֣שֶׂם in וַיָּ֣שֶׂם שָׁ֔ם אֶת־הָֽאָדָ֖ם אֲשֶׁ֥ר יָצָֽר׃ \n",
      "\t3455 (1 occs)\n",
      "\t\te.g. Genesis 24:33 - יישׂם in וַיּוּשַׂ֤ם לְפָנָיו֙ לֶאֱכֹ֔ל \n",
      "\t7760 b (1 occs)\n",
      "\t\te.g. 2_Samuel 13:32 - שׂוּמָ֔ה in כִּֽי־עַל־פִּ֤י אַבְשָׁלֹום֙ הָיְתָ֣ה שׂוּמָ֔ה מִיֹּום֙ עַנֹּתֹ֔ו אֵ֖ת תָּמָ֥ר אֲחֹתֹֽו׃ \n",
      "\t8074 (1 occs)\n",
      "\t\te.g. Ezekiel 14:8 - הֲשִֽׂמֹתִ֨יהוּ֙ in וַהֲשִֽׂמֹתִ֨יהוּ֙ לְאֹ֣ות וְלִמְשָׁלִ֔ים \n",
      "\t7761 (26 occs)\n",
      "\t\te.g. Daniel 2:5 - יִתְּשָׂמֽוּן in וּבָתֵּיכֹ֖ון נְוָלִ֥י יִתְּשָׂמֽוּן׃ \n"
     ]
    }
   ],
   "source": [
    "inspectTop(lexRanked, lexStrong, 10)"
   ]
  },
  {
   "cell_type": "code",
   "execution_count": 23,
   "metadata": {},
   "outputs": [
    {
     "name": "stdout",
     "output_type": "stream",
     "text": [
      "7227 a\n",
      "\tRB/ (422 occs)\n",
      "\t\te.g. Genesis 6:5 - רַבָּ֛ה in וַיַּ֣רְא יְהוָ֔ה כִּ֥י רַבָּ֛ה רָעַ֥ת הָאָדָ֖ם בָּאָ֑רֶץ וְכָל־יֵ֨צֶר֙ מַחְשְׁבֹ֣ת לִבֹּ֔ו רַ֥ק רַ֖ע כָּל־הַיֹּֽום׃ \n",
      "\tRBB[ (4 occs)\n",
      "\t\te.g. Genesis 18:20 - רָ֑בָּה in זַעֲקַ֛ת סְדֹ֥ם וַעֲמֹרָ֖ה כִּי־רָ֑בָּה \n",
      "\tRJB[ (2 occs)\n",
      "\t\te.g. Deuteronomy 33:7 - רָ֣ב in יָדָיו֙ רָ֣ב לֹ֔ו \n",
      "\tRB==/ (2 occs)\n",
      "\t\te.g. Jeremiah 52:19 - רַב in וְאֶת־הַ֠סִּפִּים וְאֶת־הַמַּחְתֹּ֨ות וְאֶת־הַמִּזְרָקֹ֜ות וְאֶת־הַסִּירֹ֣ות וְאֶת־הַמְּנֹרֹ֗ות וְאֶת־הַכַּפֹּות֙ וְאֶת־הַמְּנַקִיֹ֔ות אֲשֶׁ֤ר זָהָב֙ זָהָ֔ב וַאֲשֶׁר־כֶּ֖סֶף כָּ֑סֶף לָקַ֖ח רַב־טַבָּחִֽים׃ \n",
      "\tRB=/ (4 occs)\n",
      "\t\te.g. Job 23:6 - רָב in הַבְּרָב־כֹּ֖חַ יָרִ֣יב עִמָּדִ֑י לֹ֥א \n",
      "2342 a\n",
      "\tXJL==[ (5 occs)\n",
      "\t\te.g. Genesis 8:10 - יָּ֣חֶל in וַיָּ֣חֶל עֹ֔וד שִׁבְעַ֥ת יָמִ֖ים אֲחֵרִ֑ים \n",
      "\tXJL[ (40 occs)\n",
      "\t\te.g. Deuteronomy 2:25 - חָל֖וּ in הַיֹּ֣ום הַזֶּ֗ה אָחֵל֙ תֵּ֤ת פַּחְדְּךָ֙ וְיִרְאָ֣תְךָ֔ עַל־פְּנֵי֙ הָֽעַמִּ֔ים תַּ֖חַת כָּל־הַשָּׁמָ֑יִם אֲשֶׁ֤ר יִשְׁמְעוּן֙ שִׁמְעֲךָ֔ וְרָגְז֥וּ וְחָל֖וּ מִפָּנֶֽיךָ׃ \n",
      "\tXWL[ (11 occs)\n",
      "\t\te.g. Judges 21:21 - ח֣וּל in אִם־יֵ֨צְא֥וּ בְנֹות־שִׁילֹו֮ לָח֣וּל בַּמְּחֹלֹות֒ \n",
      "\tJXL[ (1 occs)\n",
      "\t\te.g. Jeremiah 4:19 - אחולה in מֵעַ֣י׀ מֵעַ֨י׀ אֹוחִ֜ילָה \n",
      "\tXLL=[ (1 occs)\n",
      "\t\te.g. Proverbs 26:10 - מְחֹֽולֵֽל in רַ֥ב מְחֹֽולֵֽל־כֹּ֑ל \n",
      "8074\n",
      "\tCMM[ (80 occs)\n",
      "\t\te.g. Leviticus 26:22 - נָשַׁ֖מּוּ in וְנָשַׁ֖מּוּ דַּרְכֵיכֶֽם׃ \n",
      "\tFJM[ (1 occs)\n",
      "\t\te.g. Ezekiel 14:8 - הֲשִֽׂמֹתִ֨יהוּ֙ in וַהֲשִֽׂמֹתִ֨יהוּ֙ לְאֹ֣ות וְלִמְשָׁלִ֔ים \n",
      "\tCMH/ (2 occs)\n",
      "\t\te.g. Ezekiel 36:3 - שַׁמֹּות֩ in יַ֣עַן בְּיַ֡עַן שַׁמֹּות֩ \n",
      "\tNCMH/ (1 occs)\n",
      "\t\te.g. Psalms 69:26 - נְשַׁמָּ֑ה in תְּהִי־טִֽירָתָ֥ם נְשַׁמָּ֑ה \n",
      "\tCMM/ (1 occs)\n",
      "\t\te.g. Lamentations 5:18 - שָּׁמֵ֔ם in עַל־אֵ֖לֶּה חָשְׁכ֥וּ עֵינֵֽינוּ׃ עַ֤ל הַר־צִיֹּון֙ שֶׁשָּׁמֵ֔ם שׁוּעָלִ֖ים הִלְּכוּ־בֹֽו׃ פ \n",
      "7200\n",
      "\tR>H[ (1294 occs)\n",
      "\t\te.g. Genesis 1:4 - יַּ֧רְא in וַיַּ֧רְא אֱלֹהִ֛ים אֶת־הָאֹ֖ור כִּי־טֹ֑וב \n",
      "\t>WR[ (1 occs)\n",
      "\t\te.g. 1_Samuel 14:27 - תראנה in וַתָּאֹ֖רְנָה עֵינָֽיו׃ \n",
      "\tR>H/ (7 occs)\n",
      "\t\te.g. 2_Samuel 15:27 - רֹואֶ֣ה in הֲרֹואֶ֣ה אַתָּ֔ה \n",
      "\tR>WH/ (1 occs)\n",
      "\t\te.g. Ezekiel 28:17 - רַ֥אֲוָה in לִפְנֵ֧י מְלָכִ֛ים נְתַתִּ֖יךָ לְרַ֥אֲוָה בָֽךְ׃ \n",
      "3318\n",
      "\tJY>[ (1068 occs)\n",
      "\t\te.g. Genesis 1:12 - תֹּוצֵ֨א in וַתֹּוצֵ֨א הָאָ֜רֶץ דֶּ֠שֶׁא עֵ֣שֶׂב מַזְרִ֤יעַ זֶ֨רַע֙ לְמִינֵ֔הוּ וְעֵ֧ץ עֹ֥שֶׂה פְּרִ֛י אֲשֶׁ֥ר זַרְעֹו־בֹ֖ו לְמִינֵ֑הוּ \n",
      "\tY>/ (1 occs)\n",
      "\t\te.g. Isaiah 30:22 - צֵ֖א in צֵ֖א \n",
      "\tJWY>T/ (1 occs)\n",
      "\t\te.g. Psalms 144:14 - יֹוצֵ֑את in אֲשֶׁ֤ר בָּנֵ֨ינוּ׀ כִּנְטִעִים֮ מְגֻדָּלִ֪ים בִּֽנְעוּרֵ֫יהֶ֥ם בְּנֹותֵ֥ינוּ כְזָוִיֹּ֑ת מְ֝חֻטָּבֹ֗ות תַּבְנִ֥ית הֵיכָֽל׃ מְזָוֵ֣ינוּ מְלֵאִים֮ מְפִיקִ֥ים מִזַּ֗ן אֶ֫ל־זַ֥ן צֹאונֵ֣נוּ מַ֭אֲלִיפֹות מְרֻבָּבֹ֗ות בְּחוּצֹותֵֽינוּ׃ אַלּוּפֵ֗ינוּ מְֽסֻבָּ֫לִ֥ים אֵֽין־פֶּ֭רֶץ וְאֵ֣ין יֹוצֵ֑את וְאֵ֥ין צְ֝וָחָ֗ה בִּרְחֹבֹתֵֽינוּ׃ \n",
      "\tYWH[ (1 occs)\n",
      "\t\te.g. Ezra 8:17 - אוצאה in וָאֲצַוֶּ֤ה אֹותָם֙ עַל־אִדֹּ֣ו הָרֹ֔אשׁ בְּכָסִפְיָ֖א הַמָּקֹ֑ום \n",
      "2416 a\n",
      "\tXJ/ (239 occs)\n",
      "\t\te.g. Genesis 1:20 - חַיָּ֑ה in יִשְׁרְצ֣וּ הַמַּ֔יִם שֶׁ֖רֶץ נֶ֣פֶשׁ חַיָּ֑ה \n",
      "\tXJJM/ (3 occs)\n",
      "\t\te.g. 2_Samuel 11:11 - חַיֶּ֨ךָ֙ in חַיֶּ֨ךָ֙ וְחֵ֣י נַפְשֶׁ֔ךָ \n",
      "\tXJH[ (1 occs)\n",
      "\t\te.g. 2_Samuel 12:22 - חַ֥י in וְחַ֥י הַיָּֽלֶד׃ \n",
      "\tXJH==/ (1 occs)\n",
      "\t\te.g. Psalms 74:19 - חַיַּ֥ת in חַיַּ֥ת עֲ֝נִיֶּ֗יךָ אַל־תִּשְׁכַּ֥ח לָנֶֽצַח׃ \n",
      "935\n",
      "\tBW>[ (2569 occs)\n",
      "\t\te.g. Genesis 2:19 - יָּבֵא֙ in וַיָּבֵא֙ אֶל־הָ֣אָדָ֔ם לִרְאֹ֖ות מַה־יִּקְרָא־לֹ֑ו \n",
      "\tNKH[ (1 occs)\n",
      "\t\te.g. 2_Kings 3:24 - יבו in וַיַּכּוּ־בָ֔הּ וְהַכֹּ֖ות אֶת־מֹואָֽב׃ \n",
      "\tL (1 occs)\n",
      "\t\te.g. 2_Kings 14:25 - לְּ in ה֗וּא הֵשִׁיב֙ אֶת־גְּב֣וּל יִשְׂרָאֵ֔ל מִלְּבֹ֥וא חֲמָ֖ת עַד־יָ֣ם הָעֲרָבָ֑ה כִּדְבַ֤ר יְהוָה֙ אֱלֹהֵ֣י יִשְׂרָאֵ֔ל אֲשֶׁ֣ר דִּבֶּ֗ר בְּיַד־עַבְדֹּ֞ו יֹונָ֤ה בֶן־אֲמִתַּי֙ הַנָּבִ֔יא אֲשֶׁ֖ר מִגַּ֥ת הַחֵֽפֶר׃ \n",
      "\tTBW>H/ (1 occs)\n",
      "\t\te.g. Job 22:21 - תְּֽבֹואַתְךָ֥ in בָּ֝הֶ֗ם תְּֽבֹואַתְךָ֥ טֹובָֽה׃ \n",
      "5704\n",
      "\t<D (1255 occs)\n",
      "\t\te.g. Genesis 3:19 - עַ֤ד in בְּזֵעַ֤ת אַפֶּ֨יךָ֙ תֹּ֣אכַל לֶ֔חֶם עַ֤ד שֽׁוּבְךָ֙ אֶל־הָ֣אֲדָמָ֔ה \n",
      "\tB<D/ (3 occs)\n",
      "\t\te.g. Jeremiah 42:2 - בַּעֲדֵ֨נוּ֙ in וְהִתְפַּלֵּ֤ל בַּעֲדֵ֨נוּ֙ אֶל־יְהוָ֣ה אֱלֹהֶ֔יךָ בְּעַ֖ד כָּל־הַשְּׁאֵרִ֣ית הַזֹּ֑את \n",
      "\t<WD/ (1 occs)\n",
      "\t\te.g. Psalms 39:2 - עֹ֖ד in בְּעֹ֖ד רָשָׁ֣ע לְנֶגְדִּֽי׃ \n",
      "\t<D/ (2 occs)\n",
      "\t\te.g. Psalms 83:18 - עַ֗ד in וְיִבָּהֲל֥וּ עֲדֵי־עַ֗ד \n",
      "1219\n",
      "\tBYR=[ (4 occs)\n",
      "\t\te.g. Genesis 11:6 - יִבָּצֵ֣ר in וְעַתָּה֙ לֹֽא־יִבָּצֵ֣ר מֵהֶ֔ם כֹּ֛ל אֲשֶׁ֥ר יָזְמ֖וּ לַֽעֲשֹֽׂות׃ \n",
      "\tBYR[ (7 occs)\n",
      "\t\te.g. Leviticus 25:5 - תִבְצֹ֑ר in וְאֶת־עִנְּבֵ֥י נְזִירֶ֖ךָ לֹ֣א תִבְצֹ֑ר \n",
      "\tBYWR/ (25 occs)\n",
      "\t\te.g. Numbers 13:28 - בְּצֻרֹ֤ות in וְהֶֽעָרִ֗ים בְּצֻרֹ֤ות גְּדֹלֹת֙ מְאֹ֔ד \n",
      "\tBYR==[ (1 occs)\n",
      "\t\te.g. Psalms 76:13 - יִ֭בְצֹר in כָּל־סְבִיבָ֑יו יֹובִ֥ילוּ שַׁ֝֗י לַמֹּורָֽא׃ יִ֭בְצֹר ר֣וּחַ נְגִידִ֑ים נֹ֝ורָ֗א לְמַלְכֵי־אָֽרֶץ׃ \n",
      "408\n",
      "\t>L= (725 occs)\n",
      "\t\te.g. Genesis 13:8 - אַל in אַל־נָ֨א תְהִ֤י מְרִיבָה֙ בֵּינִ֣י וּבֵינֶ֔יךָ וּבֵ֥ין רֹעַ֖י וּבֵ֣ין רֹעֶ֑יךָ \n",
      "\t>L (2 occs)\n",
      "\t\te.g. Deuteronomy 2:9 - אֶל in אֶל־תָּ֨צַר֙ אֶת־מֹואָ֔ב \n",
      "\t>L== (1 occs)\n",
      "\t\te.g. 1_Samuel 27:10 - אַל in אַל־פְּשַׁטְתֶּ֖ם הַיֹּ֑ום \n",
      "\t>L=/ (1 occs)\n",
      "\t\te.g. Job 24:25 - אַ֗ל in מִ֣י יַכְזִיבֵ֑נִי וְיָשֵׂ֥ם לְ֝אַ֗ל מִלָּתִֽי׃ ס \n"
     ]
    }
   ],
   "source": [
    "inspectTop(sngRanked, strongLex, 10)"
   ]
  },
  {
   "cell_type": "code",
   "execution_count": null,
   "metadata": {
    "collapsed": true
   },
   "outputs": [],
   "source": []
  }
 ],
 "metadata": {
  "kernelspec": {
   "display_name": "Python 3",
   "language": "python",
   "name": "python3"
  },
  "language_info": {
   "codemirror_mode": {
    "name": "ipython",
    "version": 3
   },
   "file_extension": ".py",
   "mimetype": "text/x-python",
   "name": "python",
   "nbconvert_exporter": "python",
   "pygments_lexer": "ipython3",
   "version": "3.6.2"
  }
 },
 "nbformat": 4,
 "nbformat_minor": 2
}
