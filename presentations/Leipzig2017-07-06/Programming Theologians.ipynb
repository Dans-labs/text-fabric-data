{
 "cells": [
  {
   "cell_type": "markdown",
   "metadata": {
    "slideshow": {
     "slide_type": "slide"
    }
   },
   "source": [
    "\n",
    "<img align=\"right\" src=\"tf-small.png\"/>\n",
    "# Programming theologians\n",
    "\n",
    "[Text-Fabric](https://github.com/ETCBC/text-fabric): Ancient texts as fabrics of source and annotations.\n",
    "\n",
    "[data model](https://github.com/ETCBC/text-fabric/wiki/Data-model): Text objects, relationships, features.\n",
    "\n",
    "Got it? Get it! \n",
    "\n",
    "[home page](https://github.com/ETCBC/text-fabric/wiki)\n",
    "\n",
    "$$ x \\over 1 + 2 $$"
   ]
  },
  {
   "cell_type": "markdown",
   "metadata": {
    "slideshow": {
     "slide_type": "subslide"
    }
   },
   "source": [
    "Join the computing gang\n",
    "\n",
    "1. go to [https://shebanq.jove.surfsara.nl](https://shebanq.jove.surfsara.nl) and log in (see paper ticket)\n",
    "1. select assignment `prog_theo`, fetch `leipzig` and click it\n",
    "1. click `Programming theologians.ipynb` and off-you-go\n",
    "\n",
    "![shot](jove.png)"
   ]
  },
  {
   "cell_type": "markdown",
   "metadata": {
    "slideshow": {
     "slide_type": "slide"
    }
   },
   "source": [
    "# Before the beginning"
   ]
  },
  {
   "cell_type": "markdown",
   "metadata": {
    "slideshow": {
     "slide_type": "subslide"
    }
   },
   "source": [
    "<img src=\"https://upload.wikimedia.org/wikipedia/en/6/62/Literate_Programming_book_cover.jpg\" align=\"right\"/>\n",
    "\n",
    "## 1984 Donald Knuth's utopia\n",
    "\n",
    "This paradigm moves away from \n",
    "\n",
    "writing programs in the manner and order imposed by the computer, \n",
    "\n",
    "and instead \n",
    "\n",
    "develops programs in the order demanded by the logic and flow of their thoughts"
   ]
  },
  {
   "cell_type": "code",
   "execution_count": 78,
   "metadata": {
    "collapsed": true,
    "scrolled": true,
    "slideshow": {
     "slide_type": "subslide"
    }
   },
   "outputs": [],
   "source": [
    "import collections\n",
    "\n",
    "from IPython.display import display\n",
    "\n",
    "import matplotlib.pyplot as plt\n",
    "%matplotlib inline\n",
    "\n",
    "import pandas\n",
    "pandas.set_option('display.notebook_repr_html', True)"
   ]
  },
  {
   "cell_type": "markdown",
   "metadata": {
    "slideshow": {
     "slide_type": "subslide"
    }
   },
   "source": [
    "## API to the Hebrew Text"
   ]
  },
  {
   "cell_type": "code",
   "execution_count": 79,
   "metadata": {
    "scrolled": false,
    "slideshow": {
     "slide_type": "fragment"
    }
   },
   "outputs": [
    {
     "name": "stdout",
     "output_type": "stream",
     "text": [
      "This is Text-Fabric 2.3.10\n",
      "Api reference : https://github.com/ETCBC/text-fabric/wiki/Api\n",
      "Tutorial      : https://github.com/ETCBC/text-fabric/blob/master/docs/tutorial.ipynb\n",
      "Data sources  : https://github.com/ETCBC/text-fabric-data\n",
      "Data docs     : https://etcbc.github.io/text-fabric-data\n",
      "Shebanq docs  : https://shebanq.ancient-data.org/text\n",
      "Slack team    : https://shebanq.slack.com/signup\n",
      "Questions? Ask shebanq@ancient-data.org for an invite to Slack\n",
      "111 features found and 0 ignored\n"
     ]
    }
   ],
   "source": [
    "from tf.fabric import Fabric\n",
    "\n",
    "ETCBC = 'hebrew/etcbc4c'\n",
    "PHONO = 'hebrew/phono'\n",
    "\n",
    "TF_H = Fabric( modules=[ETCBC, PHONO], silent=False )"
   ]
  },
  {
   "cell_type": "code",
   "execution_count": 81,
   "metadata": {
    "scrolled": true,
    "slideshow": {
     "slide_type": "subslide"
    }
   },
   "outputs": [
    {
     "name": "stdout",
     "output_type": "stream",
     "text": [
      "  0.00s loading features ...\n",
      "   |     0.00s Feature overview: 104 for nodes; 5 for edges; 2 configs; 7 computed\n",
      "  0.05s All features loaded/computed - for details use loadLog()\n"
     ]
    }
   ],
   "source": [
    "apiH = TF_H.load('sp')"
   ]
  },
  {
   "cell_type": "markdown",
   "metadata": {
    "slideshow": {
     "slide_type": "subslide"
    }
   },
   "source": [
    "## API to the Greek Text"
   ]
  },
  {
   "cell_type": "code",
   "execution_count": 83,
   "metadata": {
    "scrolled": true,
    "slideshow": {
     "slide_type": "fragment"
    }
   },
   "outputs": [
    {
     "name": "stdout",
     "output_type": "stream",
     "text": [
      "This is Text-Fabric 2.3.10\n",
      "Api reference : https://github.com/ETCBC/text-fabric/wiki/Api\n",
      "Tutorial      : https://github.com/ETCBC/text-fabric/blob/master/docs/tutorial.ipynb\n",
      "Data sources  : https://github.com/ETCBC/text-fabric-data\n",
      "Data docs     : https://etcbc.github.io/text-fabric-data\n",
      "Shebanq docs  : https://shebanq.ancient-data.org/text\n",
      "Slack team    : https://shebanq.slack.com/signup\n",
      "Questions? Ask shebanq@ancient-data.org for an invite to Slack\n",
      "63 features found and 0 ignored\n"
     ]
    }
   ],
   "source": [
    "TF_G = Fabric(modules='greek/sblgnt')"
   ]
  },
  {
   "cell_type": "code",
   "execution_count": 84,
   "metadata": {
    "scrolled": true,
    "slideshow": {
     "slide_type": "subslide"
    }
   },
   "outputs": [
    {
     "name": "stdout",
     "output_type": "stream",
     "text": [
      "  0.00s loading features ...\n",
      "   |     0.07s B psp                  from /Users/dirk/github/text-fabric-data/greek/sblgnt\n",
      "   |     0.00s Feature overview: 60 for nodes; 2 for edges; 1 configs; 7 computed\n",
      "  1.76s All features loaded/computed - for details use loadLog()\n"
     ]
    }
   ],
   "source": [
    "apiG = TF_G.load('psp')"
   ]
  },
  {
   "cell_type": "markdown",
   "metadata": {
    "slideshow": {
     "slide_type": "subslide"
    }
   },
   "source": [
    "## Easy switching"
   ]
  },
  {
   "cell_type": "code",
   "execution_count": 85,
   "metadata": {
    "collapsed": true,
    "scrolled": true,
    "slideshow": {
     "slide_type": "fragment"
    }
   },
   "outputs": [],
   "source": [
    "def doGreek():\n",
    "    global T\n",
    "    global L\n",
    "    global F\n",
    "    global Fs\n",
    "    T = apiG.T\n",
    "    L = apiG.L\n",
    "    F = apiG.F\n",
    "    Fs = apiG.Fs\n",
    "\n",
    "def doHebrew():\n",
    "    global T\n",
    "    global L\n",
    "    global F\n",
    "    global Fs\n",
    "    T = apiH.T\n",
    "    L = apiH.L\n",
    "    F = apiH.F\n",
    "    Fs = apiH.Fs\n",
    " \n",
    "def doingHebrew(): return F is apiH.F\n",
    "\n",
    "def doingGreek(): return F is apiG.F"
   ]
  },
  {
   "cell_type": "markdown",
   "metadata": {
    "slideshow": {
     "slide_type": "slide"
    }
   },
   "source": [
    "# In the beginning\n",
    "\n",
    "The first verse"
   ]
  },
  {
   "cell_type": "markdown",
   "metadata": {
    "slideshow": {
     "slide_type": "subslide"
    }
   },
   "source": [
    "## In Hebrew"
   ]
  },
  {
   "cell_type": "code",
   "execution_count": 86,
   "metadata": {
    "collapsed": true,
    "scrolled": true,
    "slideshow": {
     "slide_type": "fragment"
    }
   },
   "outputs": [],
   "source": [
    "doHebrew()"
   ]
  },
  {
   "cell_type": "code",
   "execution_count": 89,
   "metadata": {
    "scrolled": true,
    "slideshow": {
     "slide_type": "fragment"
    }
   },
   "outputs": [
    {
     "data": {
      "text/plain": [
       "'בְּרֵאשִׁ֖ית בָּרָ֣א אֱלֹהִ֑ים אֵ֥ת הַשָּׁמַ֖יִם וְאֵ֥ת הָאָֽרֶץ׃ '"
      ]
     },
     "execution_count": 89,
     "metadata": {},
     "output_type": "execute_result"
    }
   ],
   "source": [
    "T.text(range(1,12))"
   ]
  },
  {
   "cell_type": "code",
   "execution_count": 94,
   "metadata": {
    "scrolled": true,
    "slideshow": {
     "slide_type": "fragment"
    }
   },
   "outputs": [
    {
     "data": {
      "text/plain": [
       "'bᵊrēšˌîṯ bārˈā ʔᵉlōhˈîm ʔˌēṯ haššāmˌayim wᵊʔˌēṯ hāʔˈāreṣ . '"
      ]
     },
     "execution_count": 94,
     "metadata": {},
     "output_type": "execute_result"
    }
   ],
   "source": [
    "T.text(range(1,12), fmt='text-phono-full')"
   ]
  },
  {
   "cell_type": "code",
   "execution_count": 95,
   "metadata": {
    "scrolled": true,
    "slideshow": {
     "slide_type": "subslide"
    }
   },
   "outputs": [
    {
     "data": {
      "text/plain": [
       "{'lex-orig-full',\n",
       " 'lex-orig-plain',\n",
       " 'lex-trans-full',\n",
       " 'lex-trans-plain',\n",
       " 'text-orig-full',\n",
       " 'text-orig-full-ketiv',\n",
       " 'text-orig-plain',\n",
       " 'text-phono-full',\n",
       " 'text-trans-full',\n",
       " 'text-trans-full-ketiv',\n",
       " 'text-trans-plain'}"
      ]
     },
     "execution_count": 95,
     "metadata": {},
     "output_type": "execute_result"
    }
   ],
   "source": [
    "T.formats"
   ]
  },
  {
   "cell_type": "code",
   "execution_count": 96,
   "metadata": {
    "scrolled": true,
    "slideshow": {
     "slide_type": "subslide"
    }
   },
   "outputs": [
    {
     "data": {
      "text/plain": [
       "'ב ראשׁית ברא אלהימ את ה שׁמימ ו את ה ארצ '"
      ]
     },
     "execution_count": 96,
     "metadata": {},
     "output_type": "execute_result"
    }
   ],
   "source": [
    "T.text(range(1,12), fmt='lex-orig-plain')"
   ]
  },
  {
   "cell_type": "markdown",
   "metadata": {
    "slideshow": {
     "slide_type": "subslide"
    }
   },
   "source": [
    "## In Greek"
   ]
  },
  {
   "cell_type": "code",
   "execution_count": 97,
   "metadata": {
    "collapsed": true,
    "scrolled": true,
    "slideshow": {
     "slide_type": "fragment"
    }
   },
   "outputs": [],
   "source": [
    "doGreek()"
   ]
  },
  {
   "cell_type": "code",
   "execution_count": 98,
   "metadata": {
    "scrolled": true,
    "slideshow": {
     "slide_type": "fragment"
    }
   },
   "outputs": [
    {
     "data": {
      "text/plain": [
       "'verse'"
      ]
     },
     "execution_count": 98,
     "metadata": {},
     "output_type": "execute_result"
    }
   ],
   "source": [
    "firstVerse = T.nodeFromSection(('Matthew', 1, 1))\n",
    "F.otype.v(firstVerse)"
   ]
  },
  {
   "cell_type": "code",
   "execution_count": 99,
   "metadata": {
    "scrolled": true,
    "slideshow": {
     "slide_type": "fragment"
    }
   },
   "outputs": [
    {
     "data": {
      "text/plain": [
       "[1, 2, 3, 4, 5, 6, 7, 8]"
      ]
     },
     "execution_count": 99,
     "metadata": {},
     "output_type": "execute_result"
    }
   ],
   "source": [
    "words = L.d(firstVerse, otype='word')\n",
    "words"
   ]
  },
  {
   "cell_type": "code",
   "execution_count": 100,
   "metadata": {
    "scrolled": true,
    "slideshow": {
     "slide_type": "fragment"
    }
   },
   "outputs": [
    {
     "data": {
      "text/plain": [
       "'Βίβλος γενέσεως Ἰησοῦ χριστοῦ υἱοῦ Δαυὶδ υἱοῦ Ἀβραάμ. '"
      ]
     },
     "execution_count": 100,
     "metadata": {},
     "output_type": "execute_result"
    }
   ],
   "source": [
    "T.text(words)"
   ]
  },
  {
   "cell_type": "code",
   "execution_count": 101,
   "metadata": {
    "scrolled": true,
    "slideshow": {
     "slide_type": "subslide"
    }
   },
   "outputs": [
    {
     "data": {
      "text/plain": [
       "{'lex-orig-full', 'text-orig-full', 'text-orig-plain'}"
      ]
     },
     "execution_count": 101,
     "metadata": {},
     "output_type": "execute_result"
    }
   ],
   "source": [
    "T.formats"
   ]
  },
  {
   "cell_type": "code",
   "execution_count": 102,
   "metadata": {
    "scrolled": true,
    "slideshow": {
     "slide_type": "fragment"
    }
   },
   "outputs": [
    {
     "data": {
      "text/plain": [
       "'ΒΙΒΛΟΣ ΓΕΝΕΣΕΩΣ ΙΗΣΟΥ ΧΡΙΣΤΟΥ ΥΙΟΥ ΔΑΥΙΔ ΥΙΟΥ ΑΒΡΑΑΜ. '"
      ]
     },
     "execution_count": 102,
     "metadata": {},
     "output_type": "execute_result"
    }
   ],
   "source": [
    "T.text(words, fmt='text-orig-plain')"
   ]
  },
  {
   "cell_type": "code",
   "execution_count": 103,
   "metadata": {
    "scrolled": true,
    "slideshow": {
     "slide_type": "fragment"
    }
   },
   "outputs": [
    {
     "data": {
      "text/plain": [
       "'βίβλος γένεσις Ἰησοῦς Χριστός υἱός Δαυίδ υἱός Ἀβραάμ '"
      ]
     },
     "execution_count": 103,
     "metadata": {},
     "output_type": "execute_result"
    }
   ],
   "source": [
    "T.text(words, fmt='lex-orig-full')"
   ]
  },
  {
   "cell_type": "markdown",
   "metadata": {
    "slideshow": {
     "slide_type": "slide"
    }
   },
   "source": [
    "# Man and woman\n",
    "God created the genders, we count them."
   ]
  },
  {
   "cell_type": "markdown",
   "metadata": {
    "slideshow": {
     "slide_type": "subslide"
    }
   },
   "source": [
    "### Which genders have we?"
   ]
  },
  {
   "cell_type": "code",
   "execution_count": 104,
   "metadata": {
    "slideshow": {
     "slide_type": "fragment"
    }
   },
   "outputs": [
    {
     "name": "stdout",
     "output_type": "stream",
     "text": [
      "  0.00s loading features ...\n",
      "   |     0.20s B gn                   from /Users/dirk/github/text-fabric-data/hebrew/etcbc4c\n",
      "  0.21s All additional features loaded - for details use loadLog()\n"
     ]
    }
   ],
   "source": [
    "doHebrew()\n",
    "\n",
    "TF_H.load('gn', add=True)"
   ]
  },
  {
   "cell_type": "code",
   "execution_count": 105,
   "metadata": {
    "scrolled": true,
    "slideshow": {
     "slide_type": "subslide"
    }
   },
   "outputs": [
    {
     "data": {
      "text/plain": [
       "{'NA', 'f', 'm', 'unknown'}"
      ]
     },
     "execution_count": 105,
     "metadata": {},
     "output_type": "execute_result"
    }
   ],
   "source": [
    "{F.gn.v(w) for w in F.otype.s('word')}"
   ]
  },
  {
   "cell_type": "markdown",
   "metadata": {
    "slideshow": {
     "slide_type": "subslide"
    }
   },
   "source": [
    "### Genders in Hebrew and Greek"
   ]
  },
  {
   "cell_type": "code",
   "execution_count": 106,
   "metadata": {
    "scrolled": true,
    "slideshow": {
     "slide_type": "subslide"
    }
   },
   "outputs": [
    {
     "name": "stdout",
     "output_type": "stream",
     "text": [
      "  0.00s loading features ...\n",
      "   |     0.07s B Gender               from /Users/dirk/github/text-fabric-data/greek/sblgnt\n",
      "  0.08s All additional features loaded - for details use loadLog()\n"
     ]
    }
   ],
   "source": [
    "doGreek()\n",
    "TF_G.load('Gender', add=True)"
   ]
  },
  {
   "cell_type": "code",
   "execution_count": 107,
   "metadata": {
    "collapsed": true,
    "scrolled": true,
    "slideshow": {
     "slide_type": "fragment"
    }
   },
   "outputs": [],
   "source": [
    "def getGenders():\n",
    "    featureName = 'gn' if doingHebrew() else 'Gender'\n",
    "    return {Fs(featureName).v(w) for w in F.otype.s('word')}"
   ]
  },
  {
   "cell_type": "code",
   "execution_count": 108,
   "metadata": {
    "slideshow": {
     "slide_type": "fragment"
    }
   },
   "outputs": [
    {
     "name": "stdout",
     "output_type": "stream",
     "text": [
      "Greek: {'Neuter', 'Masculine', None, 'Feminine'}\n",
      "Hebrew: {'f', 'm', 'NA', 'unknown'}\n"
     ]
    }
   ],
   "source": [
    "doGreek()\n",
    "print('Greek: {}'.format(getGenders()))\n",
    "doHebrew()\n",
    "print('Hebrew: {}'.format(getGenders()))"
   ]
  },
  {
   "cell_type": "markdown",
   "metadata": {
    "slideshow": {
     "slide_type": "subslide"
    }
   },
   "source": [
    "### Counting genders"
   ]
  },
  {
   "cell_type": "code",
   "execution_count": null,
   "metadata": {
    "scrolled": true,
    "slideshow": {
     "slide_type": "fragment"
    }
   },
   "outputs": [],
   "source": [
    "def countGenders():\n",
    "    featureName = 'gn' if doingHebrew() else 'Gender'\n",
    "    stats = collections.Counter()\n",
    "    for w in F.otype.s('word'):\n",
    "        stats[Fs(featureName).v(w)] += 1\n",
    "    print(stats)\n",
    "countGenders()"
   ]
  },
  {
   "cell_type": "markdown",
   "metadata": {
    "slideshow": {
     "slide_type": "subslide"
    }
   },
   "source": [
    "## ... in graphic detail ..."
   ]
  },
  {
   "cell_type": "code",
   "execution_count": 109,
   "metadata": {
    "collapsed": true,
    "scrolled": true,
    "slideshow": {
     "slide_type": "subslide"
    }
   },
   "outputs": [],
   "source": [
    "def genderBias(book):\n",
    "    bookNode = T.nodeFromSection((book,))\n",
    "    chapterNodes = L.d(bookNode, otype='chapter')\n",
    "    x = [T.sectionFromNode(c)[1] for c in chapterNodes]\n",
    "    masc = dict((c, 0) for c in x)\n",
    "    fem = dict((c, 0) for c in x)\n",
    "    neut = dict((c, 0) for c in x)\n",
    "    absent = dict((c, 0) for c in x)\n",
    "    total = dict((c, 0) for c in x)\n",
    "\n",
    "    genderFeature = 'gn' if doingHebrew() else 'Gender'\n",
    "\n",
    "    for chapterNode in chapterNodes:\n",
    "        chapter = T.sectionFromNode(chapterNode)[1]\n",
    "        words = L.d(chapterNode, otype='word')\n",
    "        for w in words:\n",
    "            total[chapter] += 1\n",
    "            gender = Fs(genderFeature).v(w)\n",
    "            if gender in {'m', 'Masculine'}: masc[chapter] += 1\n",
    "            if gender in {'f', 'Feminine'}: fem[chapter] += 1\n",
    "            if gender in {'Neuter'}: neut[chapter] += 1\n",
    "            if gender in {'NA', 'unknown', None}: absent[chapter] += 1\n",
    "    m = [100 * masc[c] / total[c] for c in x]\n",
    "    f = [100 * fem[c] / total[c] for c in x]\n",
    "    n = [100 * neut[c] / total[c] for c in x]\n",
    "    a = [100 * absent[c] / total[c] for c in x]\n",
    "\n",
    "    fig = plt.figure()\n",
    "    plt.plot(x, m, 'b-', x, f, 'r-', x, n, 'g-', x, a, '0.5')\n",
    "    plt.axis([x[0], x[-1], 0, 70])\n",
    "    plt.xticks(x, x, rotation='vertical')\n",
    "    plt.margins(0.2)\n",
    "    plt.subplots_adjust(bottom=0.15);\n",
    "    plt.title('gender in {} {}-{}'.format(book, x[0], x[-1]))"
   ]
  },
  {
   "cell_type": "code",
   "execution_count": 111,
   "metadata": {
    "slideshow": {
     "slide_type": "subslide"
    }
   },
   "outputs": [
    {
     "name": "stdout",
     "output_type": "stream",
     "text": [
      "Genesis, Exodus, Leviticus, Numbers, Deuteronomy, Joshua, Judges, 1_Samuel, 2_Samuel, 1_Kings, 2_Kings, Isaiah, Jeremiah, Ezekiel, Hosea, Joel, Amos, Obadiah, Jonah, Micah, Nahum, Habakkuk, Zephaniah, Haggai, Zechariah, Malachi, Psalms, Job, Proverbs, Ruth, Song_of_songs, Ecclesiastes, Lamentations, Esther, Daniel, Ezra, Nehemiah, 1_Chronicles, 2_Chronicles\n"
     ]
    }
   ],
   "source": [
    "print(', '.join(T.sectionFromNode(b)[0] for b in F.otype.s('book')))"
   ]
  },
  {
   "cell_type": "code",
   "execution_count": 115,
   "metadata": {
    "scrolled": true,
    "slideshow": {
     "slide_type": "fragment"
    }
   },
   "outputs": [
    {
     "data": {
      "image/png": "[encoded data removed]",
      "text/plain": [
       "<matplotlib.figure.Figure at 0x1bd5450f0>"
      ]
     },
     "metadata": {},
     "output_type": "display_data"
    }
   ],
   "source": [
    "genderBias('Leviticus')"
   ]
  },
  {
   "cell_type": "markdown",
   "metadata": {
    "slideshow": {
     "slide_type": "subslide"
    }
   },
   "source": [
    "## Inspect some peaks and dips"
   ]
  },
  {
   "cell_type": "code",
   "execution_count": 116,
   "metadata": {
    "scrolled": true,
    "slideshow": {
     "slide_type": "fragment"
    }
   },
   "outputs": [
    {
     "name": "stdout",
     "output_type": "stream",
     "text": [
      "  0.00s loading features ...\n",
      "   |     0.03s B gloss                from /Users/dirk/github/text-fabric-data/hebrew/etcbc4c\n",
      "  0.03s All additional features loaded - for details use loadLog()\n"
     ]
    }
   ],
   "source": [
    "TF_H.load('gloss', add=True)"
   ]
  },
  {
   "cell_type": "code",
   "execution_count": 117,
   "metadata": {
    "collapsed": true,
    "slideshow": {
     "slide_type": "fragment"
    }
   },
   "outputs": [],
   "source": [
    "def atAGlance(book, chapter):\n",
    "    words = L.d(T.nodeFromSection((book, chapter)), otype='word')\n",
    "    freqs = collections.Counter()\n",
    "    for w in words:\n",
    "        if doingHebrew():\n",
    "            lexeme = L.u(w, otype='lex')[0]\n",
    "            freqs[F.gloss.v(lexeme)] += 1\n",
    "        else:\n",
    "            freqs[F.UnicodeLemma.v(w)] += 1\n",
    "    for (gloss, freq) in sorted(freqs.items(), key=lambda x: (-x[1], x[0])):\n",
    "        print('{:>3} {}'.format(freq, gloss))"
   ]
  },
  {
   "cell_type": "code",
   "execution_count": 118,
   "metadata": {
    "collapsed": true,
    "scrolled": true,
    "slideshow": {
     "slide_type": "subslide"
    }
   },
   "outputs": [],
   "source": [
    "def inDepth(book, chapter):\n",
    "    chapterNode = T.nodeFromSection((book, chapter))\n",
    "    verseNodes = L.d(chapterNode, otype='verse')\n",
    "    for verseNode in verseNodes:\n",
    "        words = L.d(verseNode, otype='word')\n",
    "        print('{}: {}'.format(T.sectionFromNode(verseNode)[2], T.text(words)))  "
   ]
  },
  {
   "cell_type": "code",
   "execution_count": 119,
   "metadata": {
    "scrolled": true,
    "slideshow": {
     "slide_type": "subslide"
    }
   },
   "outputs": [
    {
     "data": {
      "image/png": "[encoded data removed]",
      "text/plain": [
       "<matplotlib.figure.Figure at 0x275c20a20>"
      ]
     },
     "metadata": {},
     "output_type": "display_data"
    }
   ],
   "source": [
    "genderBias('Leviticus')"
   ]
  },
  {
   "cell_type": "code",
   "execution_count": 120,
   "metadata": {
    "scrolled": true,
    "slideshow": {
     "slide_type": "subslide"
    }
   },
   "outputs": [
    {
     "name": "stdout",
     "output_type": "stream",
     "text": [
      " 31 and\n",
      " 31 not\n",
      " 26 to\n",
      " 24 nakedness\n",
      " 21 the\n",
      " 18 <object marker>\n",
      " 17 uncover\n",
      " 14 in\n",
      " 11 woman\n",
      " 10 daughter\n",
      " 10 make\n",
      " 10 she\n",
      "  9 <relative>\n",
      "  9 father\n",
      "  8 be unclean\n",
      "  8 i\n",
      "  8 whole\n",
      "  7 YHWH\n",
      "  7 earth\n",
      "  6 abomination\n",
      "  6 from\n",
      "  5 face\n",
      "  5 mother\n",
      "  5 regulation\n",
      "  5 sister\n",
      "  5 that\n",
      "  5 these\n",
      "  4 god(s)\n",
      "  4 keep\n",
      "  4 son\n",
      "  3 approach\n",
      "  3 as\n",
      "  3 body\n",
      "  3 brother\n",
      "  3 give\n",
      "  3 justice\n",
      "  3 man\n",
      "  3 offspring\n",
      "  3 or\n",
      "  3 people\n",
      "  3 vomit\n",
      "  2 cattle\n",
      "  2 copulation\n",
      "  2 deed\n",
      "  2 lie down\n",
      "  2 say\n",
      "  2 seed\n",
      "  2 sit\n",
      "  2 speak\n",
      "  2 take\n",
      "  2 they\n",
      "  2 upon\n",
      "  2 walk\n",
      "  1 <uncertain>\n",
      "  1 Canaan\n",
      "  1 Egypt\n",
      "  1 Israel\n",
      "  1 Moloch\n",
      "  1 Moses\n",
      "  1 be alive\n",
      "  1 be hostile\n",
      "  1 bride\n",
      "  1 come\n",
      "  1 couch\n",
      "  1 cut\n",
      "  1 defile\n",
      "  1 dwell\n",
      "  1 failure\n",
      "  1 father's sister\n",
      "  1 fellow\n",
      "  1 flesh\n",
      "  1 guard-post\n",
      "  1 he\n",
      "  1 house\n",
      "  1 human, mankind\n",
      "  1 interior\n",
      "  1 life\n",
      "  1 loose conduct\n",
      "  1 male\n",
      "  1 menstruation\n",
      "  1 midst\n",
      "  1 miss\n",
      "  1 name\n",
      "  1 native\n",
      "  1 outside\n",
      "  1 pass\n",
      "  1 send\n",
      "  1 sin\n",
      "  1 sojourner\n",
      "  1 soul\n",
      "  1 stand\n",
      "  1 there\n",
      "  1 uncleanness\n",
      "  1 you\n"
     ]
    }
   ],
   "source": [
    "atAGlance('Leviticus', 18)"
   ]
  },
  {
   "cell_type": "code",
   "execution_count": 121,
   "metadata": {
    "scrolled": true,
    "slideshow": {
     "slide_type": "subslide"
    }
   },
   "outputs": [
    {
     "data": {
      "image/png": "[encoded data removed]",
      "text/plain": [
       "<matplotlib.figure.Figure at 0x1b043fda0>"
      ]
     },
     "metadata": {},
     "output_type": "display_data"
    }
   ],
   "source": [
    "genderBias('Leviticus')"
   ]
  },
  {
   "cell_type": "code",
   "execution_count": 122,
   "metadata": {
    "scrolled": true,
    "slideshow": {
     "slide_type": "subslide"
    }
   },
   "outputs": [
    {
     "name": "stdout",
     "output_type": "stream",
     "text": [
      "132 and\n",
      " 54 <object marker>\n",
      " 49 in\n",
      " 40 to\n",
      " 32 the\n",
      " 23 earth\n",
      " 19 not\n",
      " 14 give\n",
      " 13 be hostile\n",
      " 11 even\n",
      " 11 i\n",
      " 10 from\n",
      " 10 sin\n",
      " 10 upon\n",
      " 10 walk\n",
      "  8 be\n",
      "  8 covenant\n",
      "  8 if\n",
      "  7 be desolate\n",
      "  7 dagger\n",
      "  7 eat\n",
      "  7 face\n",
      "  7 opposition\n",
      "  7 pursue\n",
      "  7 with\n",
      "  6 <relative>\n",
      "  6 YHWH\n",
      "  5 abhor\n",
      "  5 break\n",
      "  5 god(s)\n",
      "  5 make\n",
      "  5 pay off\n",
      "  5 sabbath\n",
      "  5 soul\n",
      "  4 <NEG>\n",
      "  4 as\n",
      "  4 bread\n",
      "  4 cease\n",
      "  4 hear\n",
      "  4 people\n",
      "  4 remember\n",
      "  4 seven\n",
      "  4 then\n",
      "  4 these\n",
      "  4 whole\n",
      "  3 admonish\n",
      "  3 be complete\n",
      "  3 come\n",
      "  3 commandment\n",
      "  3 fall\n",
      "  3 go out\n",
      "  3 justice\n",
      "  3 midst\n",
      "  3 regulation\n",
      "  3 retract\n",
      "  3 sit\n",
      "  3 this\n",
      "  3 together with\n",
      "  3 town\n",
      "  2 Egypt\n",
      "  2 add\n",
      "  2 arise\n",
      "  2 corpse\n",
      "  2 cut\n",
      "  2 day\n",
      "  2 emptiness\n",
      "  2 eye\n",
      "  2 father\n",
      "  2 flee\n",
      "  2 flesh\n",
      "  2 fruit\n",
      "  2 hand\n",
      "  2 heart\n",
      "  2 hundred\n",
      "  2 interval\n",
      "  2 keep\n",
      "  2 motive\n",
      "  2 old\n",
      "  2 open field\n",
      "  2 overtake\n",
      "  2 produce\n",
      "  2 putrefy\n",
      "  2 remain\n",
      "  2 ruin\n",
      "  2 sanctuary\n",
      "  2 scatter\n",
      "  2 seed\n",
      "  2 send\n",
      "  2 son\n",
      "  2 that\n",
      "  2 tree\n",
      "  2 vintage\n",
      "  2 wild animal\n",
      "  2 you\n",
      "  1 Abraham\n",
      "  1 Isaac\n",
      "  1 Israel\n",
      "  1 Jacob\n",
      "  1 Moses\n",
      "  1 Sinai\n",
      "  1 after\n",
      "  1 avenge\n",
      "  1 bake\n",
      "  1 be bereaved of children\n",
      "  1 be empty\n",
      "  1 be fertile\n",
      "  1 be humble\n",
      "  1 be little\n",
      "  1 be many\n",
      "  1 be old\n",
      "  1 be sated\n",
      "  1 be spacious\n",
      "  1 be unfaithful\n",
      "  1 blow\n",
      "  1 bow down\n",
      "  1 bronze\n",
      "  1 brother\n",
      "  1 cattle\n",
      "  1 consumption\n",
      "  1 daughter\n",
      "  1 desolation\n",
      "  1 destroy\n",
      "  1 dwelling-place\n",
      "  1 evil\n",
      "  1 failure\n",
      "  1 fear\n",
      "  1 figure\n",
      "  1 first\n",
      "  1 five\n",
      "  1 flight\n",
      "  1 furnace\n",
      "  1 gather\n",
      "  1 god\n",
      "  1 hate\n",
      "  1 heat\n",
      "  1 heavens\n",
      "  1 height\n",
      "  1 high place\n",
      "  1 hurt\n",
      "  1 idol\n",
      "  1 idols\n",
      "  1 incense-stand\n",
      "  1 inflammation\n",
      "  1 instruction\n",
      "  1 iron\n",
      "  1 leafage\n",
      "  1 leave\n",
      "  1 lie down\n",
      "  1 man\n",
      "  1 massebe\n",
      "  1 miss\n",
      "  1 mountain\n",
      "  1 multitude\n",
      "  1 new\n",
      "  1 one\n",
      "  1 or\n",
      "  1 pass\n",
      "  1 peace\n",
      "  1 perish\n",
      "  1 pest\n",
      "  1 pine away\n",
      "  1 portion\n",
      "  1 power\n",
      "  1 power to stand\n",
      "  1 praise\n",
      "  1 rain\n",
      "  1 return\n",
      "  1 satiety\n",
      "  1 scent\n",
      "  1 servant\n",
      "  1 smell of appeasement\n",
      "  1 sound\n",
      "  1 sow\n",
      "  1 staff\n",
      "  1 stone\n",
      "  1 strength\n",
      "  1 strike\n",
      "  1 stumble\n",
      "  1 ten\n",
      "  1 terror\n",
      "  1 they\n",
      "  1 threshing\n",
      "  1 time\n",
      "  1 timidity\n",
      "  1 tread, to rule\n",
      "  1 tremble\n",
      "  1 trust\n",
      "  1 turn\n",
      "  1 uncircumcised\n",
      "  1 unfaithfulness\n",
      "  1 unto\n",
      "  1 uprightness\n",
      "  1 vengeance\n",
      "  1 want\n",
      "  1 way\n",
      "  1 weight\n",
      "  1 woman\n",
      "  1 yoke\n",
      "  1 yoke-bar\n"
     ]
    }
   ],
   "source": [
    "atAGlance('Leviticus', 26)"
   ]
  },
  {
   "cell_type": "code",
   "execution_count": 123,
   "metadata": {
    "scrolled": true,
    "slideshow": {
     "slide_type": "subslide"
    }
   },
   "outputs": [
    {
     "name": "stdout",
     "output_type": "stream",
     "text": [
      "1: לֹֽא־תַעֲשׂ֨וּ לָכֶ֜ם אֱלִילִ֗ם וּפֶ֤סֶל וּמַצֵּבָה֙ לֹֽא־תָקִ֣ימוּ לָכֶ֔ם וְאֶ֣בֶן מַשְׂכִּ֗ית לֹ֤א תִתְּנוּ֙ בְּאַרְצְכֶ֔ם לְהִֽשְׁתַּחֲוֹ֖ת עָלֶ֑יהָ כִּ֛י אֲנִ֥י יְהוָ֖ה אֱלֹהֵיכֶֽם׃ \n",
      "2: אֶת־שַׁבְּתֹתַ֣י תִּשְׁמֹ֔רוּ וּמִקְדָּשִׁ֖י תִּירָ֑אוּ אֲנִ֖י יְהוָֽה׃ ס \n",
      "3: אִם־בְּחֻקֹּתַ֖י תֵּלֵ֑כוּ וְאֶת־מִצְוֹתַ֣י תִּשְׁמְר֔וּ וַעֲשִׂיתֶ֖ם אֹתָֽם׃ \n",
      "4: וְנָתַתִּ֥י גִשְׁמֵיכֶ֖ם בְּעִתָּ֑ם וְנָתְנָ֤ה הָאָ֨רֶץ֙ יְבוּלָ֔הּ וְעֵ֥ץ הַשָּׂדֶ֖ה יִתֵּ֥ן פִּרְיֹֽו׃ \n",
      "5: וְהִשִּׂ֨יג לָכֶ֥ם דַּ֨יִשׁ֙ אֶת־בָּצִ֔יר וּבָצִ֖יר יַשִּׂ֣יג אֶת־זָ֑רַע וַאֲכַלְתֶּ֤ם לַחְמְכֶם֙ לָשֹׂ֔בַע וִֽישַׁבְתֶּ֥ם לָבֶ֖טַח בְּאַרְצְכֶֽם׃ \n",
      "6: וְנָתַתִּ֤י שָׁלֹום֙ בָּאָ֔רֶץ וּשְׁכַבְתֶּ֖ם וְאֵ֣ין מַחֲרִ֑יד וְהִשְׁבַּתִּ֞י חַיָּ֤ה רָעָה֙ מִן־הָאָ֔רֶץ וְחֶ֖רֶב לֹא־תַעֲבֹ֥ר בְּאַרְצְכֶֽם׃ \n",
      "7: וּרְדַפְתֶּ֖ם אֶת־אֹיְבֵיכֶ֑ם וְנָפְל֥וּ לִפְנֵיכֶ֖ם לֶחָֽרֶב׃ \n",
      "8: וְרָדְפוּ֙ מִכֶּ֤ם חֲמִשָּׁה֙ מֵאָ֔ה וּמֵאָ֥ה מִכֶּ֖ם רְבָבָ֣ה יִרְדֹּ֑פוּ וְנָפְל֧וּ אֹיְבֵיכֶ֛ם לִפְנֵיכֶ֖ם לֶחָֽרֶב׃ \n",
      "9: וּפָנִ֣יתִי אֲלֵיכֶ֔ם וְהִפְרֵיתִ֣י אֶתְכֶ֔ם וְהִרְבֵּיתִ֖י אֶתְכֶ֑ם וַהֲקִימֹתִ֥י אֶת־בְּרִיתִ֖י אִתְּכֶֽם׃ \n",
      "10: וַאֲכַלְתֶּ֥ם יָשָׁ֖ן נֹושָׁ֑ן וְיָשָׁ֕ן מִפְּנֵ֥י חָדָ֖שׁ תֹּוצִֽיאוּ׃ \n",
      "11: וְנָתַתִּ֥י מִשְׁכָּנִ֖י בְּתֹוכְכֶ֑ם וְלֹֽא־תִגְעַ֥ל נַפְשִׁ֖י אֶתְכֶֽם׃ \n",
      "12: וְהִתְהַלַּכְתִּי֙ בְּתֹ֣וכְכֶ֔ם וְהָיִ֥יתִי לָכֶ֖ם לֵֽאלֹהִ֑ים וְאַתֶּ֖ם תִּהְיוּ־לִ֥י לְעָֽם׃ \n",
      "13: אֲנִ֞י יְהוָ֣ה אֱלֹֽהֵיכֶ֗ם אֲשֶׁ֨ר הֹוצֵ֤אתִי אֶתְכֶם֙ מֵאֶ֣רֶץ מִצְרַ֔יִם מִֽהְיֹ֥ת לָהֶ֖ם עֲבָדִ֑ים וָאֶשְׁבֹּר֙ מֹטֹ֣ת עֻלְּכֶ֔ם וָאֹולֵ֥ךְ אֶתְכֶ֖ם קֹֽומְמִיּֽוּת׃ פ \n",
      "14: וְאִם־לֹ֥א תִשְׁמְע֖וּ לִ֑י וְלֹ֣א תַעֲשׂ֔וּ אֵ֥ת כָּל־הַמִּצְוֹ֖ת הָאֵֽלֶּה׃ \n",
      "15: וְאִם־בְּחֻקֹּתַ֣י תִּמְאָ֔סוּ וְאִ֥ם אֶת־מִשְׁפָּטַ֖י תִּגְעַ֣ל נַפְשְׁכֶ֑ם לְבִלְתִּ֤י עֲשֹׂות֙ אֶת־כָּל־מִצְוֹתַ֔י לְהַפְרְכֶ֖ם אֶת־בְּרִיתִֽי׃ \n",
      "16: אַף־אֲנִ֞י אֶֽעֱשֶׂה־זֹּ֣את לָכֶ֗ם וְהִפְקַדְתִּ֨י עֲלֵיכֶ֤ם בֶּֽהָלָה֙ אֶת־הַשַּׁחֶ֣פֶת וְאֶת־הַקַּדַּ֔חַת מְכַלֹּ֥ות עֵינַ֖יִם וּמְדִיבֹ֣ת נָ֑פֶשׁ וּזְרַעְתֶּ֤ם לָרִיק֙ זַרְעֲכֶ֔ם וַאֲכָלֻ֖הוּ אֹיְבֵיכֶֽם׃ \n",
      "17: וְנָתַתִּ֤י פָנַי֙ בָּכֶ֔ם וְנִגַּפְתֶּ֖ם לִפְנֵ֣י אֹיְבֵיכֶ֑ם וְרָד֤וּ בָכֶם֙ שֹֽׂנְאֵיכֶ֔ם וְנַסְתֶּ֖ם וְאֵין־רֹדֵ֥ף אֶתְכֶֽם׃ ס \n",
      "18: וְאִ֨ם־עַד־אֵ֔לֶּה לֹ֥א תִשְׁמְע֖וּ לִ֑י וְיָסַפְתִּי֙ לְיַסְּרָ֣ה אֶתְכֶ֔ם שֶׁ֖בַע עַל־חַטֹּאתֵיכֶֽם׃ \n",
      "19: וְשָׁבַרְתִּ֖י אֶת־גְּאֹ֣ון עֻזְּכֶ֑ם וְנָתַתִּ֤י אֶת־שְׁמֵיכֶם֙ כַּבַּרְזֶ֔ל וְאֶֽת־אַרְצְכֶ֖ם כַּנְּחֻשָֽׁה׃ \n",
      "20: וְתַ֥ם לָרִ֖יק כֹּחֲכֶ֑ם וְלֹֽא־תִתֵּ֤ן אַרְצְכֶם֙ אֶת־יְבוּלָ֔הּ וְעֵ֣ץ הָאָ֔רֶץ לֹ֥א יִתֵּ֖ן פִּרְיֹֽו׃ \n",
      "21: וְאִם־תֵּֽלְכ֤וּ עִמִּי֙ קֶ֔רִי וְלֹ֥א תֹאב֖וּ לִשְׁמֹ֣עַֽ לִ֑י וְיָסַפְתִּ֤י עֲלֵיכֶם֙ מַכָּ֔ה שֶׁ֖בַע כְּחַטֹּאתֵיכֶֽם׃ \n",
      "22: וְהִשְׁלַחְתִּ֨י בָכֶ֜ם אֶת־חַיַּ֤ת הַשָּׂדֶה֙ וְשִׁכְּלָ֣ה אֶתְכֶ֔ם וְהִכְרִ֨יתָה֙ אֶת־בְּהֶמְתְּכֶ֔ם וְהִמְעִ֖יטָה אֶתְכֶ֑ם וְנָשַׁ֖מּוּ דַּרְכֵיכֶֽם׃ \n",
      "23: וְאִ֨ם־בְּאֵ֔לֶּה לֹ֥א תִוָּסְר֖וּ לִ֑י וַהֲלַכְתֶּ֥ם עִמִּ֖י קֶֽרִי׃ \n",
      "24: וְהָלַכְתִּ֧י אַף־אֲנִ֛י עִמָּכֶ֖ם בְּקֶ֑רִי וְהִכֵּיתִ֤י אֶתְכֶם֙ גַּם־אָ֔נִי שֶׁ֖בַע עַל־חַטֹּאתֵיכֶֽם׃ \n",
      "25: וְהֵבֵאתִ֨י עֲלֵיכֶ֜ם חֶ֗רֶב נֹקֶ֨מֶת֙ נְקַם־בְּרִ֔ית וְנֶאֱסַפְתֶּ֖ם אֶל־עָרֵיכֶ֑ם וְשִׁלַּ֤חְתִּי דֶ֨בֶר֙ בְּתֹ֣וכְכֶ֔ם וְנִתַּתֶּ֖ם בְּיַד־אֹויֵֽב׃ \n",
      "26: בְּשִׁבְרִ֣י לָכֶם֮ מַטֵּה־לֶחֶם֒ וְ֠אָפוּ עֶ֣שֶׂר נָשִׁ֤ים לַחְמְכֶם֙ בְּתַנּ֣וּר אֶחָ֔ד וְהֵשִׁ֥יבוּ לַחְמְכֶ֖ם בַּמִּשְׁקָ֑ל וַאֲכַלְתֶּ֖ם וְלֹ֥א תִשְׂבָּֽעוּ׃ ס \n",
      "27: וְאִ֨ם־בְּזֹ֔את לֹ֥א תִשְׁמְע֖וּ לִ֑י וַהֲלַכְתֶּ֥ם עִמִּ֖י בְּקֶֽרִי׃ \n",
      "28: וְהָלַכְתִּ֥י עִמָּכֶ֖ם בַּחֲמַת־קֶ֑רִי וְיִסַּרְתִּ֤י אֶתְכֶם֙ אַף־אָ֔נִי שֶׁ֖בַע עַל־חַטֹּאתֵיכֶם׃ \n",
      "29: וַאֲכַלְתֶּ֖ם בְּשַׂ֣ר בְּנֵיכֶ֑ם וּבְשַׂ֥ר בְּנֹתֵיכֶ֖ם תֹּאכֵֽלוּ׃ \n",
      "30: וְהִשְׁמַדְתִּ֞י אֶת־בָּמֹֽתֵיכֶ֗ם וְהִכְרַתִּי֙ אֶת־חַמָּ֣נֵיכֶ֔ם וְנָֽתַתִּי֙ אֶת־פִּגְרֵיכֶ֔ם עַל־פִּגְרֵ֖י גִּלּוּלֵיכֶ֑ם וְגָעֲלָ֥ה נַפְשִׁ֖י אֶתְכֶֽם׃ \n",
      "31: וְנָתַתִּ֤י אֶת־עָֽרֵיכֶם֙ חָרְבָּ֔ה וַהֲשִׁמֹּותִ֖י אֶת־מִקְדְּשֵׁיכֶ֑ם וְלֹ֣א אָרִ֔יחַ בְּרֵ֖יחַ נִיחֹֽחֲכֶֽם׃ \n",
      "32: וַהֲשִׁמֹּתִ֥י אֲנִ֖י אֶת־הָאָ֑רֶץ וְשָֽׁמְמ֤וּ עָלֶ֨יהָ֙ אֹֽיְבֵיכֶ֔ם הַיֹּשְׁבִ֖ים בָּֽהּ׃ \n",
      "33: וְאֶתְכֶם֙ אֱזָרֶ֣ה בַגֹּויִ֔ם וַהֲרִיקֹתִ֥י אַחֲרֵיכֶ֖ם חָ֑רֶב וְהָיְתָ֤ה אַרְצְכֶם֙ שְׁמָמָ֔ה וְעָרֵיכֶ֖ם יִהְי֥וּ חָרְבָּֽה׃ \n",
      "34: אָז֩ תִּרְצֶ֨ה הָאָ֜רֶץ אֶת־שַׁבְּתֹתֶ֗יהָ כֹּ֚ל יְמֵ֣י הֳשַּׁמָּ֔ה וְאַתֶּ֖ם בְּאֶ֣רֶץ אֹיְבֵיכֶ֑ם אָ֚ז תִּשְׁבַּ֣ת הָאָ֔רֶץ וְהִרְצָ֖ת אֶת־שַׁבְּתֹתֶֽיהָ׃ \n",
      "35: כָּל־יְמֵ֥י הָשַּׁמָּ֖ה תִּשְׁבֹּ֑ת אֵ֣ת אֲשֶׁ֧ר לֹֽא־שָׁבְתָ֛ה בְּשַׁבְּתֹתֵיכֶ֖ם בְּשִׁבְתְּכֶ֥ם עָלֶֽיהָ׃ \n",
      "36: וְהַנִּשְׁאָרִ֣ים בָּכֶ֔ם וְהֵבֵ֤אתִי מֹ֨רֶךְ֙ בִּלְבָבָ֔ם בְּאַרְצֹ֖ת אֹיְבֵיהֶ֑ם וְרָדַ֣ף אֹתָ֗ם קֹ֚ול עָלֶ֣ה נִדָּ֔ף וְנָס֧וּ מְנֻֽסַת־חֶ֛רֶב וְנָפְל֖וּ וְאֵ֥ין רֹדֵֽף׃ \n",
      "37: וְכָשְׁל֧וּ אִישׁ־בְּאָחִ֛יו כְּמִפְּנֵי־חֶ֖רֶב וְרֹדֵ֣ף אָ֑יִן וְלֹא־תִֽהְיֶ֤ה לָכֶם֙ תְּקוּמָ֔ה לִפְנֵ֖י אֹֽיְבֵיכֶֽם׃ \n",
      "38: וַאֲבַדְתֶּ֖ם בַּגֹּויִ֑ם וְאָכְלָ֣ה אֶתְכֶ֔ם אֶ֖רֶץ אֹיְבֵיכֶֽם׃ \n",
      "39: וְהַנִּשְׁאָרִ֣ים בָּכֶ֗ם יִמַּ֨קּוּ֙ בַּֽעֲוֹנָ֔ם בְּאַרְצֹ֖ת אֹיְבֵיכֶ֑ם וְאַ֛ף בַּעֲוֹנֹ֥ת אֲבֹתָ֖ם אִתָּ֥ם יִמָּֽקּוּ׃ \n",
      "40: וְהִתְוַדּ֤וּ אֶת־עֲוֹנָם֙ וְאֶת־עֲוֹ֣ן אֲבֹתָ֔ם בְּמַעֲלָ֖ם אֲשֶׁ֣ר מָֽעֲלוּ־בִ֑י וְאַ֕ף אֲשֶׁר־הָֽלְכ֥וּ עִמִּ֖י בְּקֶֽרִי׃ \n",
      "41: אַף־אֲנִ֗י אֵלֵ֤ךְ עִמָּם֙ בְּקֶ֔רִי וְהֵבֵאתִ֣י אֹתָ֔ם בְּאֶ֖רֶץ אֹיְבֵיהֶ֑ם אֹו־אָ֣ז יִכָּנַ֗ע לְבָבָם֙ הֶֽעָרֵ֔ל וְאָ֖ז יִרְצ֥וּ אֶת־עֲוֹנָֽם׃ \n",
      "42: וְזָכַרְתִּ֖י אֶת־בְּרִיתִ֣י יַעֲקֹ֑וב וְאַף֩ אֶת־בְּרִיתִ֨י יִצְחָ֜ק וְאַ֨ף אֶת־בְּרִיתִ֧י אַבְרָהָ֛ם אֶזְכֹּ֖ר וְהָאָ֥רֶץ אֶזְכֹּֽר׃ \n",
      "43: וְהָאָרֶץ֩ תֵּעָזֵ֨ב מֵהֶ֜ם וְתִ֣רֶץ אֶת־שַׁבְּתֹתֶ֗יהָ בָּהְשַׁמָּה֙ מֵהֶ֔ם וְהֵ֖ם יִרְצ֣וּ אֶת־עֲוֹנָ֑ם יַ֣עַן וּבְיַ֔עַן בְּמִשְׁפָּטַ֣י מָאָ֔סוּ וְאֶת־חֻקֹּתַ֖י גָּעֲלָ֥ה נַפְשָֽׁם׃ \n",
      "44: וְאַף־גַּם־זֹ֠את בִּֽהְיֹותָ֞ם בְּאֶ֣רֶץ אֹֽיְבֵיהֶ֗ם לֹֽא־מְאַסְתִּ֤ים וְלֹֽא־גְעַלְתִּים֙ לְכַלֹּתָ֔ם לְהָפֵ֥ר בְּרִיתִ֖י אִתָּ֑ם כִּ֛י אֲנִ֥י יְהוָ֖ה אֱלֹהֵיהֶֽם׃ \n",
      "45: וְזָכַרְתִּ֥י לָהֶ֖ם בְּרִ֣ית רִאשֹׁנִ֑ים אֲשֶׁ֣ר הֹוצֵֽאתִי־אֹתָם֩ מֵאֶ֨רֶץ מִצְרַ֜יִם לְעֵינֵ֣י הַגֹּויִ֗ם לִהְיֹ֥ת לָהֶ֛ם לֵאלֹהִ֖ים אֲנִ֥י יְהוָֽה׃ \n",
      "46: אֵ֠לֶּה הַֽחֻקִּ֣ים וְהַמִּשְׁפָּטִים֮ וְהַתֹּורֹת֒ אֲשֶׁר֙ נָתַ֣ן יְהוָ֔ה בֵּינֹ֕ו וּבֵ֖ין בְּנֵ֣י יִשְׂרָאֵ֑ל בְּהַ֥ר סִינַ֖י בְּיַד־מֹשֶֽׁה׃ פ \n"
     ]
    }
   ],
   "source": [
    "inDepth('Leviticus', 26)"
   ]
  },
  {
   "cell_type": "markdown",
   "metadata": {
    "slideshow": {
     "slide_type": "subslide"
    }
   },
   "source": [
    "## Man, woman and thing"
   ]
  },
  {
   "cell_type": "code",
   "execution_count": 125,
   "metadata": {
    "scrolled": true,
    "slideshow": {
     "slide_type": "fragment"
    }
   },
   "outputs": [
    {
     "name": "stdout",
     "output_type": "stream",
     "text": [
      "  0.00s loading features ...\n",
      "  0.01s All additional features loaded - for details use loadLog()\n"
     ]
    }
   ],
   "source": [
    "doGreek()\n",
    "\n",
    "TF_G.load('UnicodeLemma', add=True)"
   ]
  },
  {
   "cell_type": "markdown",
   "metadata": {
    "slideshow": {
     "slide_type": "fragment"
    }
   },
   "source": [
    "### The Greek genders"
   ]
  },
  {
   "cell_type": "code",
   "execution_count": 126,
   "metadata": {
    "scrolled": true,
    "slideshow": {
     "slide_type": "fragment"
    }
   },
   "outputs": [
    {
     "data": {
      "text/plain": [
       "{'Neuter', 'Masculine', None, 'Feminine'}"
      ]
     },
     "execution_count": 126,
     "metadata": {},
     "output_type": "execute_result"
    }
   ],
   "source": [
    "getGenders()"
   ]
  },
  {
   "cell_type": "code",
   "execution_count": 127,
   "metadata": {
    "scrolled": true,
    "slideshow": {
     "slide_type": "subslide"
    }
   },
   "outputs": [
    {
     "data": {
      "image/png": "[encoded data removed]",
      "text/plain": [
       "<matplotlib.figure.Figure at 0x1b090b860>"
      ]
     },
     "metadata": {},
     "output_type": "display_data"
    }
   ],
   "source": [
    "genderBias('Matthew')"
   ]
  },
  {
   "cell_type": "code",
   "execution_count": 129,
   "metadata": {
    "scrolled": true,
    "slideshow": {
     "slide_type": "subslide"
    }
   },
   "outputs": [
    {
     "name": "stdout",
     "output_type": "stream",
     "text": [
      "139 ὁ\n",
      " 57 καί\n",
      " 23 αὐτός\n",
      " 16 εἰμί\n",
      " 16 ἐν\n",
      " 15 δέ\n",
      " 15 οὐ\n",
      " 14 μή\n",
      " 13 σύ\n",
      " 12 λέγω\n",
      " 11 ἐπί\n",
      " 10 ἡμέρα\n",
      "  9 οὗτος\n",
      "  9 πᾶς\n",
      "  9 τότε\n",
      "  9 ἐκεῖνος\n",
      "  8 γάρ\n",
      "  7 γίνομαι\n",
      "  7 οὐρανός\n",
      "  7 πολύς\n",
      "  7 υἱός\n",
      "  7 ἔρχομαι\n",
      "  7 ὅς\n",
      "  7 ὅτι\n",
      "  6 ἀπό\n",
      "  6 ἄνθρωπος\n",
      "  6 ἐγώ\n",
      "  5 γινώσκω\n",
      "  5 διά\n",
      "  5 κύριος\n",
      "  5 μετά\n",
      "  5 οὕτω(ς)\n",
      "  5 ἕως\n",
      "  4 δοῦλος\n",
      "  4 εἰ\n",
      "  4 εἰς\n",
      "  4 εἷς\n",
      "  4 παρουσία\n",
      "  4 πλανάω\n",
      "  4 ἄν\n",
      "  4 ἐάν\n",
      "  4 ἔθνος\n",
      "  4 ἰδού\n",
      "  4 ὁράω\n",
      "  3 αἴρω\n",
      "  3 βασιλεία\n",
      "  3 δίδωμι\n",
      "  3 θλῖψις\n",
      "  3 μέγας\n",
      "  3 οἶδα\n",
      "  3 οὐδέ\n",
      "  3 οὖν\n",
      "  3 παρέρχομαι\n",
      "  3 σημεῖον\n",
      "  3 τέλος\n",
      "  3 ἀμήν\n",
      "  3 ἀφίημι\n",
      "  3 ἐγείρω\n",
      "  3 ἐκλεκτός\n",
      "  3 ἐξέρχομαι\n",
      "  3 ὅταν\n",
      "  3 ὥρα\n",
      "  3 ὧδε\n",
      "  2 Νῶε\n",
      "  2 Χριστός\n",
      "  2 βλέπω\n",
      "  2 γρηγορέω\n",
      "  2 γῆ\n",
      "  2 δύναμις\n",
      "  2 δύο\n",
      "  2 καθίστημι\n",
      "  2 κατά\n",
      "  2 κατακλυσμός\n",
      "  2 κολοβόω\n",
      "  2 λίθος\n",
      "  2 μαθητής\n",
      "  2 μισέω\n",
      "  2 οἰκία\n",
      "  2 πίνω\n",
      "  2 παραδίδωμι\n",
      "  2 παραλαμβάνω\n",
      "  2 πιστεύω\n",
      "  2 ποῖος\n",
      "  2 προσέρχομαι\n",
      "  2 πόλεμος\n",
      "  2 σῴζω\n",
      "  2 τίς\n",
      "  2 τις\n",
      "  2 τόπος\n",
      "  2 φαίνω\n",
      "  2 ψευδοπροφήτης\n",
      "  2 ἀγρός\n",
      "  2 ἀλλήλων\n",
      "  2 ἀποκρίνομαι\n",
      "  2 ἀρχή\n",
      "  2 ἄγγελος\n",
      "  2 ἄκρον\n",
      "  2 ἐγγύς\n",
      "  2 ἐκ\n",
      "  2 ἐκεῖ\n",
      "  2 ἥκω\n",
      "  2 ἱερός\n",
      "  2 Ἰησοῦς\n",
      "  2 ὄνομα\n",
      "  2 ὄρος\n",
      "  2 ὥσπερ\n",
      "  1 Δανιήλ\n",
      "  1 αἰών\n",
      "  1 βδέλυγμα\n",
      "  1 βρυγμός\n",
      "  1 γαμέω\n",
      "  1 γαμίζω\n",
      "  1 γαστήρ\n",
      "  1 γενεά\n",
      "  1 δέω\n",
      "  1 διορύσσω\n",
      "  1 διχοτομέω\n",
      "  1 δοκέω\n",
      "  1 δυνατός\n",
      "  1 δυσμή\n",
      "  1 δόξα\n",
      "  1 δῶμα\n",
      "  1 εἰσέρχομαι\n",
      "  1 εὐαγγέλιον\n",
      "  1 εὐθέως\n",
      "  1 εὑρίσκω\n",
      "  1 θέρος\n",
      "  1 θηλάζω\n",
      "  1 θροέομαι\n",
      "  1 θύρα\n",
      "  1 κάθημαι\n",
      "  1 καιρός\n",
      "  1 κακός\n",
      "  1 καρδία\n",
      "  1 καταβαίνω\n",
      "  1 καταλύω\n",
      "  1 κηρύσσω\n",
      "  1 κιβωτός\n",
      "  1 κλάδος\n",
      "  1 κλέπτης\n",
      "  1 κλαυθμός\n",
      "  1 κόπτω\n",
      "  1 κόσμος\n",
      "  1 λιμός\n",
      "  1 λόγος\n",
      "  1 μέλλω\n",
      "  1 μέρος\n",
      "  1 μακάριος\n",
      "  1 μανθάνω\n",
      "  1 μαρτύριον\n",
      "  1 μεθύω\n",
      "  1 μηδέ\n",
      "  1 μόνος\n",
      "  1 μύλος\n",
      "  1 νεφέλη\n",
      "  1 νοέω\n",
      "  1 νῦν\n",
      "  1 οἰκετεία\n",
      "  1 οἰκοδεσπότης\n",
      "  1 οἰκοδομή\n",
      "  1 οἰκουμένη\n",
      "  1 οἷος\n",
      "  1 οὐαί\n",
      "  1 οὐδείς\n",
      "  1 οὔπω\n",
      "  1 πίπτω\n",
      "  1 παραβολή\n",
      "  1 πατήρ\n",
      "  1 περί\n",
      "  1 πιστός\n",
      "  1 πληθύνω\n",
      "  1 ποιέω\n",
      "  1 πορεύομαι\n",
      "  1 προλέγω\n",
      "  1 προσδοκάω\n",
      "  1 προσεύχομαι\n",
      "  1 προφήτης\n",
      "  1 πρό\n",
      "  1 πτῶμα\n",
      "  1 πότε\n",
      "  1 σάββατον\n",
      "  1 σάλπιγξ\n",
      "  1 σάρξ\n",
      "  1 σαλεύω\n",
      "  1 σεισμός\n",
      "  1 σελήνη\n",
      "  1 σκανδαλίζω\n",
      "  1 σκοτίζομαι\n",
      "  1 συκῆ\n",
      "  1 συνάγω\n",
      "  1 συντέλεια\n",
      "  1 σός\n",
      "  1 σύνδουλος\n",
      "  1 τέρας\n",
      "  1 τέσσαρες\n",
      "  1 τίθημι\n",
      "  1 ταμεῖον\n",
      "  1 τροφή\n",
      "  1 τρώγω\n",
      "  1 τύπτω\n",
      "  1 φέγγος\n",
      "  1 φεύγω\n",
      "  1 φρόνιμος\n",
      "  1 φυγή\n",
      "  1 φυλή\n",
      "  1 φυλακή\n",
      "  1 φύλλον\n",
      "  1 χειμών\n",
      "  1 χρονίζω\n",
      "  1 ψευδόχριστος\n",
      "  1 ψύχομαι\n",
      "  1 ἀγάπη\n",
      "  1 ἀετός\n",
      "  1 ἀκοή\n",
      "  1 ἀκούω\n",
      "  1 ἀλήθω\n",
      "  1 ἀλλά\n",
      "  1 ἀναγινώσκω\n",
      "  1 ἀνατολή\n",
      "  1 ἀνομία\n",
      "  1 ἀποκτείνω\n",
      "  1 ἀποστέλλω\n",
      "  1 ἀστήρ\n",
      "  1 ἀστραπή\n",
      "  1 ἁπαλός\n",
      "  1 ἄνεμος\n",
      "  1 ἄρα\n",
      "  1 ἄρχω\n",
      "  1 ἄχρι\n",
      "  1 ἅγιος\n",
      "  1 ἅπας\n",
      "  1 ἐάω\n",
      "  1 ἐκφύω\n",
      "  1 ἐλαία\n",
      "  1 ἐπιδείκνυμι\n",
      "  1 ἐπιστρέφω\n",
      "  1 ἐπισυνάγω\n",
      "  1 ἐρήμωσις\n",
      "  1 ἐσθίω\n",
      "  1 ἔρημος\n",
      "  1 ἔχω\n",
      "  1 ἕτοιμος\n",
      "  1 ἤ\n",
      "  1 ἤδη\n",
      "  1 ἥλιος\n",
      "  1 ἱμάτιον\n",
      "  1 ἴδιος\n",
      "  1 ἵνα\n",
      "  1 ἵστημι\n",
      "  1 Ἰουδαία\n",
      "  1 ὀδούς\n",
      "  1 ὀπίσω\n",
      "  1 ὅλος\n",
      "  1 ὅπου\n",
      "  1 ὑπάρχω\n",
      "  1 ὑποκριτής\n",
      "  1 ὑπομένω\n",
      "  1 ὑπό\n",
      "  1 ὠδίν\n",
      "  1 ὡς\n",
      "  1 ὥστε\n"
     ]
    }
   ],
   "source": [
    "atAGlance('Matthew', 24)"
   ]
  },
  {
   "cell_type": "code",
   "execution_count": 128,
   "metadata": {
    "scrolled": true,
    "slideshow": {
     "slide_type": "subslide"
    }
   },
   "outputs": [
    {
     "name": "stdout",
     "output_type": "stream",
     "text": [
      "1: Καὶ ὁ Ἰησοῦς ἐξελθὼν ἀπὸ τοῦ ἱεροῦ ἐπορεύετο, καὶ προσῆλθον οἱ μαθηταὶ αὐτοῦ ἐπιδεῖξαι αὐτῷ τὰς οἰκοδομὰς τοῦ ἱεροῦ· \n",
      "2: δὲ ὁ ἀποκριθεὶς εἶπεν αὐτοῖς· Οὐ βλέπετε ταῦτα πάντα; ἀμὴν λέγω ὑμῖν, οὐ μὴ ἀφεθῇ ὧδε ἐπὶ λίθον λίθος ὃς οὐ καταλυθήσεται. \n",
      "3: δὲ Καθημένου αὐτοῦ ἐπὶ τοῦ Ὄρους τῶν Ἐλαιῶν προσῆλθον αὐτῷ οἱ μαθηταὶ κατ’ ἰδίαν λέγοντες· Εἰπὸν ἡμῖν πότε ταῦτα ἔσται, καὶ τί τὸ σημεῖον τῆς σῆς παρουσίας καὶ συντελείας τοῦ αἰῶνος. \n",
      "4: καὶ ἀποκριθεὶς ὁ Ἰησοῦς εἶπεν αὐτοῖς· Βλέπετε μή τις ὑμᾶς πλανήσῃ· \n",
      "5: γὰρ πολλοὶ ἐλεύσονται ἐπὶ τῷ ὀνόματί μου λέγοντες· Ἐγώ εἰμι ὁ χριστός, καὶ πολλοὺς πλανήσουσιν. \n",
      "6: δὲ μελλήσετε ἀκούειν πολέμους καὶ ἀκοὰς πολέμων· ὁρᾶτε, μὴ θροεῖσθε· γὰρ δεῖ γενέσθαι, ἀλλ’ οὔπω ἐστὶν τὸ τέλος. \n",
      "7: γὰρ ἐγερθήσεται ἔθνος ἐπὶ ἔθνος καὶ βασιλεία ἐπὶ βασιλείαν, καὶ ἔσονται λιμοὶ καὶ σεισμοὶ κατὰ τόπους· \n",
      "8: δὲ πάντα ταῦτα ἀρχὴ ὠδίνων. \n",
      "9: Τότε παραδώσουσιν ὑμᾶς εἰς θλῖψιν καὶ ἀποκτενοῦσιν ὑμᾶς, καὶ ἔσεσθε μισούμενοι ὑπὸ πάντων τῶν ἐθνῶν διὰ τὸ ὄνομά μου. \n",
      "10: καὶ τότε σκανδαλισθήσονται πολλοὶ καὶ ἀλλήλους παραδώσουσιν καὶ μισήσουσιν ἀλλήλους· \n",
      "11: καὶ πολλοὶ ψευδοπροφῆται ἐγερθήσονται καὶ πλανήσουσιν πολλούς· \n",
      "12: καὶ διὰ τὸ πληθυνθῆναι τὴν ἀνομίαν ψυγήσεται ἡ ἀγάπη τῶν πολλῶν. \n",
      "13: δὲ ὁ ὑπομείνας εἰς τέλος οὗτος σωθήσεται. \n",
      "14: καὶ κηρυχθήσεται τοῦτο τὸ εὐαγγέλιον τῆς βασιλείας ἐν ὅλῃ τῇ οἰκουμένῃ εἰς μαρτύριον πᾶσιν τοῖς ἔθνεσιν, καὶ τότε ἥξει τὸ τέλος. \n",
      "15: οὖν Ὅταν ἴδητε τὸ βδέλυγμα τῆς ἐρημώσεως τὸ ῥηθὲν διὰ Δανιὴλ τοῦ προφήτου ἑστὸς ἐν τόπῳ ἁγίῳ, ὁ ἀναγινώσκων νοείτω, \n",
      "16: τότε οἱ ἐν τῇ Ἰουδαίᾳ φευγέτωσαν ἐπὶ τὰ ὄρη, \n",
      "17: ὁ ἐπὶ τοῦ δώματος μὴ καταβάτω ἆραι τὰ ἐκ τῆς οἰκίας αὐτοῦ, \n",
      "18: καὶ ὁ ἐν τῷ ἀγρῷ μὴ ἐπιστρεψάτω ὀπίσω ἆραι τὸ ἱμάτιον αὐτοῦ. \n",
      "19: δὲ οὐαὶ ταῖς ἐν γαστρὶ ἐχούσαις καὶ ταῖς θηλαζούσαις ἐν ἐκείναις ταῖς ἡμέραις. \n",
      "20: δὲ προσεύχεσθε ἵνα μὴ γένηται ἡ φυγὴ ὑμῶν χειμῶνος μηδὲ σαββάτῳ· \n",
      "21: γὰρ ἔσται τότε θλῖψις μεγάλη οἵα οὐ γέγονεν ἀπ’ ἀρχῆς κόσμου ἕως τοῦ νῦν οὐδ’ οὐ μὴ γένηται. \n",
      "22: καὶ εἰ μὴ ἐκολοβώθησαν αἱ ἡμέραι ἐκεῖναι, ἂν οὐκ ἐσώθη πᾶσα σάρξ· δὲ διὰ τοὺς ἐκλεκτοὺς κολοβωθήσονται αἱ ἡμέραι ἐκεῖναι. \n",
      "23: ἐάν τότε τις ὑμῖν εἴπῃ· Ἰδοὺ ὧδε ὁ χριστός, ἤ· Ὧδε, μὴ πιστεύσητε· \n",
      "24: γὰρ ἐγερθήσονται ψευδόχριστοι καὶ ψευδοπροφῆται, καὶ δώσουσιν σημεῖα μεγάλα καὶ τέρατα ὥστε πλανῆσαι εἰ δυνατὸν καὶ τοὺς ἐκλεκτούς· \n",
      "25: ἰδοὺ προείρηκα ὑμῖν. \n",
      "26: οὖν ἐὰν εἴπωσιν ὑμῖν· Ἰδοὺ ἐν τῇ ἐρήμῳ ἐστίν, μὴ ἐξέλθητε· Ἰδοὺ ἐν τοῖς ταμείοις, μὴ πιστεύσητε· \n",
      "27: γὰρ ὥσπερ ἡ ἀστραπὴ ἐξέρχεται ἀπὸ ἀνατολῶν καὶ φαίνεται ἕως δυσμῶν, οὕτως ἔσται ἡ παρουσία τοῦ υἱοῦ τοῦ ἀνθρώπου· \n",
      "28: ἐὰν ὅπου ᾖ τὸ πτῶμα, ἐκεῖ συναχθήσονται οἱ ἀετοί. \n",
      "29: δὲ Εὐθέως μετὰ τὴν θλῖψιν τῶν ἡμερῶν ἐκείνων ὁ ἥλιος σκοτισθήσεται, καὶ ἡ σελήνη οὐ δώσει τὸ φέγγος αὐτῆς, καὶ οἱ ἀστέρες πεσοῦνται ἀπὸ τοῦ οὐρανοῦ, καὶ αἱ δυνάμεις τῶν οὐρανῶν σαλευθήσονται. \n",
      "30: καὶ τότε φανήσεται τὸ σημεῖον τοῦ υἱοῦ τοῦ ἀνθρώπου ἐν τῷ οὐρανῷ, καὶ τότε κόψονται πᾶσαι αἱ φυλαὶ τῆς γῆς καὶ ὄψονται τὸν υἱὸν τοῦ ἀνθρώπου ἐρχόμενον ἐπὶ τῶν νεφελῶν τοῦ οὐρανοῦ μετὰ δυνάμεως καὶ δόξης πολλῆς· \n",
      "31: καὶ ἀποστελεῖ τοὺς ἀγγέλους αὐτοῦ μετὰ σάλπιγγος μεγάλης, καὶ ἐπισυνάξουσιν τοὺς ἐκλεκτοὺς αὐτοῦ ἐκ τῶν τεσσάρων ἀνέμων ἀπ’ ἄκρων οὐρανῶν ἕως τῶν ἄκρων αὐτῶν. \n",
      "32: δὲ Ἀπὸ τῆς συκῆς μάθετε τὴν παραβολήν· ὅταν ἤδη ὁ κλάδος αὐτῆς γένηται ἁπαλὸς καὶ τὰ φύλλα ἐκφύῃ, γινώσκετε ὅτι ἐγγὺς τὸ θέρος· \n",
      "33: οὕτως καὶ ὑμεῖς, ὅταν ἴδητε πάντα ταῦτα, γινώσκετε ὅτι ἐγγύς ἐστιν ἐπὶ θύραις. \n",
      "34: ἀμὴν λέγω ὑμῖν ὅτι οὐ μὴ παρέλθῃ ἡ γενεὰ αὕτη ἕως ἂν πάντα ταῦτα γένηται. \n",
      "35: ὁ οὐρανὸς καὶ ἡ γῆ παρελεύσεται, δὲ οἱ λόγοι μου οὐ μὴ παρέλθωσιν. \n",
      "36: δὲ Περὶ τῆς ἡμέρας καὶ ὥρας ἐκείνης οὐδεὶς οἶδεν, οὐδὲ οἱ ἄγγελοι τῶν οὐρανῶν οὐδὲ ὁ υἱός, εἰ μὴ ὁ πατὴρ μόνος. \n",
      "37: γὰρ ὥσπερ αἱ ἡμέραι τοῦ Νῶε, οὕτως ἔσται ἡ παρουσία τοῦ υἱοῦ τοῦ ἀνθρώπου· \n",
      "38: γὰρ ὡς ἐν ταῖς ἡμέραις ταῖς πρὸ τοῦ κατακλυσμοῦ ἦσαν τρώγοντες καὶ πίνοντες, γαμοῦντες καὶ γαμίζοντες, ἄχρι ἧς ἡμέρας εἰσῆλθεν Νῶε εἰς τὴν κιβωτόν, \n",
      "39: καὶ οὐκ ἔγνωσαν ἕως ἦλθεν ὁ κατακλυσμὸς καὶ ἦρεν ἅπαντας, οὕτως ἔσται καὶ ἡ παρουσία τοῦ υἱοῦ τοῦ ἀνθρώπου. \n",
      "40: τότε δύο ἔσονται ἐν τῷ ἀγρῷ, εἷς παραλαμβάνεται καὶ ⸁εἷς ἀφίεται· \n",
      "41: δύο ἀλήθουσαι ἐν τῷ μύλῳ, μία παραλαμβάνεται καὶ μία ἀφίεται. \n",
      "42: οὖν, γρηγορεῖτε ὅτι οὐκ οἴδατε ποίᾳ ἡμέρᾳ ὁ κύριος ὑμῶν ἔρχεται. \n",
      "43: δὲ ἐκεῖνο γινώσκετε ὅτι εἰ ᾔδει ὁ οἰκοδεσπότης ποίᾳ φυλακῇ ὁ κλέπτης ἔρχεται, ἂν ἐγρηγόρησεν καὶ ἂν οὐκ εἴασεν διορυχθῆναι τὴν οἰκίαν αὐτοῦ. \n",
      "44: διὰ τοῦτο καὶ ὑμεῖς γίνεσθε ἕτοιμοι, ὅτι ᾗ οὐ δοκεῖτε ὥρᾳ ὁ υἱὸς τοῦ ἀνθρώπου ἔρχεται. \n",
      "45: ἄρα Τίς ἐστὶν ὁ πιστὸς καὶ φρόνιμος δοῦλος ὃν κατέστησεν ὁ κύριος ἐπὶ τῆς οἰκετείας αὐτοῦ τοῦ δοῦναι αὐτοῖς τὴν τροφὴν ἐν καιρῷ; \n",
      "46: μακάριος ὁ δοῦλος ἐκεῖνος ὃν οὕτως ποιοῦντα· ἐλθὼν ὁ κύριος αὐτοῦ εὑρήσει \n",
      "47: ἀμὴν λέγω ὑμῖν ὅτι ἐπὶ πᾶσιν τοῖς ὑπάρχουσιν αὐτοῦ καταστήσει αὐτόν. \n",
      "48: δὲ ἐὰν εἴπῃ ὁ κακὸς δοῦλος ἐκεῖνος ἐν τῇ καρδίᾳ αὐτοῦ· Χρονίζει μου ὁ κύριος, \n",
      "49: καὶ ἄρξηται τύπτειν τοὺς συνδούλους αὐτοῦ, δὲ ἐσθίῃ καὶ πίνῃ μετὰ τῶν μεθυόντων, \n",
      "50: ἥξει ὁ κύριος τοῦ δούλου ἐκείνου ἐν ἡμέρᾳ ᾗ οὐ προσδοκᾷ καὶ ἐν ὥρᾳ ᾗ οὐ γινώσκει, \n",
      "51: καὶ διχοτομήσει αὐτὸν καὶ τὸ μέρος αὐτοῦ μετὰ τῶν ὑποκριτῶν θήσει· ἐκεῖ ἔσται ὁ κλαυθμὸς καὶ ὁ βρυγμὸς τῶν ὀδόντων. \n"
     ]
    }
   ],
   "source": [
    "inDepth('Matthew', 24)"
   ]
  },
  {
   "cell_type": "code",
   "execution_count": 130,
   "metadata": {
    "scrolled": true,
    "slideshow": {
     "slide_type": "subslide"
    }
   },
   "outputs": [
    {
     "data": {
      "image/png": "[encoded data removed]",
      "text/plain": [
       "<matplotlib.figure.Figure at 0x1b0862f60>"
      ]
     },
     "metadata": {},
     "output_type": "display_data"
    }
   ],
   "source": [
    "genderBias('John')"
   ]
  },
  {
   "cell_type": "code",
   "execution_count": 131,
   "metadata": {
    "scrolled": true,
    "slideshow": {
     "slide_type": "subslide"
    }
   },
   "outputs": [
    {
     "name": "stdout",
     "output_type": "stream",
     "text": [
      " 52 ὁ\n",
      " 40 σύ\n",
      " 34 καί\n",
      " 26 ἐγώ\n",
      " 21 ὅτι\n",
      " 16 λέγω\n",
      " 14 οὐ\n",
      " 13 οὗτος\n",
      " 12 ἐν\n",
      " 11 πατήρ\n",
      " 11 ἔρχομαι\n",
      " 10 αὐτός\n",
      " 10 λαλέω\n",
      "  9 δέ\n",
      "  9 περί\n",
      "  9 ἀλλά\n",
      "  8 κόσμος\n",
      "  8 ἵνα\n",
      "  7 εἰμί\n",
      "  7 μικρός\n",
      "  7 πρός\n",
      "  7 ἔχω\n",
      "  6 ἐκ\n",
      "  5 εἰς\n",
      "  5 οὐδείς\n",
      "  5 πάλιν\n",
      "  5 ἐκεῖνος\n",
      "  5 ἐρωτάω\n",
      "  5 ὥρα\n",
      "  4 αἰτέω\n",
      "  4 θεωρέω\n",
      "  4 λύπη\n",
      "  4 νῦν\n",
      "  4 οὐκέτι\n",
      "  4 πιστεύω\n",
      "  4 πᾶς\n",
      "  4 χαρά\n",
      "  4 ἀμήν\n",
      "  4 ὁράω\n",
      "  4 ὅταν\n",
      "  4 ὑπάγω\n",
      "  3 γάρ\n",
      "  3 θεός\n",
      "  3 λαμβάνω\n",
      "  3 μή\n",
      "  3 μετά\n",
      "  3 οἶδα\n",
      "  3 οὖν\n",
      "  3 παροιμία\n",
      "  3 τίς\n",
      "  3 ἀλήθεια\n",
      "  3 ἀναγγέλλω\n",
      "  3 ἀπό\n",
      "  3 ἄρτι\n",
      "  3 ἐμός\n",
      "  3 ἐξέρχομαι\n",
      "  3 ὄνομα\n",
      "  2 γεννάω\n",
      "  2 γινώσκω\n",
      "  2 διά\n",
      "  2 δικαιοσύνη\n",
      "  2 θλῖψις\n",
      "  2 καρδία\n",
      "  2 κρίσις\n",
      "  2 μέν\n",
      "  2 μαθητής\n",
      "  2 μνημονεύω\n",
      "  2 μόνος\n",
      "  2 πέμπω\n",
      "  2 παρρησία\n",
      "  2 πληρόω\n",
      "  2 ποιέω\n",
      "  2 πορεύομαι\n",
      "  2 τις\n",
      "  2 φιλέω\n",
      "  2 χαίρω\n",
      "  2 ἀλλήλων\n",
      "  2 ἀπέρχομαι\n",
      "  2 ἀφίημι\n",
      "  2 ἁμαρτία\n",
      "  2 ἐάν\n",
      "  2 ἡμέρα\n",
      "  2 Ἰησοῦς\n",
      "  2 ὅς\n",
      "  2 ὅσος\n",
      "  1 αἴρω\n",
      "  1 βαστάζω\n",
      "  1 γίνομαι\n",
      "  1 γυνή\n",
      "  1 δίδωμι\n",
      "  1 δοκέω\n",
      "  1 δοξάζω\n",
      "  1 δύναμαι\n",
      "  1 εἰρήνη\n",
      "  1 ζητέω\n",
      "  1 θέλω\n",
      "  1 θαρρέω\n",
      "  1 θρηνέω\n",
      "  1 κλαίω\n",
      "  1 κρίνω\n",
      "  1 κἀγώ\n",
      "  1 λατρεία\n",
      "  1 λυπέω\n",
      "  1 νικάω\n",
      "  1 οὐδέ\n",
      "  1 παιδίον\n",
      "  1 παρά\n",
      "  1 παράκλητος\n",
      "  1 πνεῦμα\n",
      "  1 πολύς\n",
      "  1 ποῦ\n",
      "  1 προσφέρω\n",
      "  1 σκανδαλίζω\n",
      "  1 σκορπίζω\n",
      "  1 συμφέρω\n",
      "  1 τίκτω\n",
      "  1 χρεία\n",
      "  1 ἀκούω\n",
      "  1 ἀπαγγέλλω\n",
      "  1 ἀποκρίνομαι\n",
      "  1 ἀποκτείνω\n",
      "  1 ἀποσυνάγωγος\n",
      "  1 ἀρχή\n",
      "  1 ἄν\n",
      "  1 ἄνθρωπος\n",
      "  1 ἄρχων\n",
      "  1 ἐλέγχω\n",
      "  1 ἑαυτοῦ\n",
      "  1 ἔτι\n",
      "  1 ἕκαστος\n",
      "  1 ἕως\n",
      "  1 ἰδού\n",
      "  1 ἴδε\n",
      "  1 ἴδιος\n",
      "  1 ὁδηγέω\n",
      "  1 ὅτε\n"
     ]
    }
   ],
   "source": [
    "atAGlance('John', 16)"
   ]
  },
  {
   "cell_type": "markdown",
   "metadata": {
    "slideshow": {
     "slide_type": "slide"
    }
   },
   "source": [
    "# Six days of work (creating data)\n",
    "\n",
    "Semantic plurals in the letter of Jude.\n",
    "\n",
    "Let's get all nominal phrases."
   ]
  },
  {
   "cell_type": "code",
   "execution_count": 132,
   "metadata": {
    "slideshow": {
     "slide_type": "subslide"
    }
   },
   "outputs": [
    {
     "name": "stdout",
     "output_type": "stream",
     "text": [
      "  0.00s loading features ...\n",
      "   |     0.16s B Cat                  from /Users/dirk/github/text-fabric-data/greek/sblgnt\n",
      "  0.17s All additional features loaded - for details use loadLog()\n"
     ]
    }
   ],
   "source": [
    "doGreek()\n",
    "TF_G.load('Cat', add=True)"
   ]
  },
  {
   "cell_type": "code",
   "execution_count": 134,
   "metadata": {
    "scrolled": true,
    "slideshow": {
     "slide_type": "fragment"
    }
   },
   "outputs": [
    {
     "name": "stdout",
     "output_type": "stream",
     "text": [
      "357 NPs in Jude\n"
     ]
    }
   ],
   "source": [
    "bookNode = T.nodeFromSection(('Jude',))\n",
    "phraseNodes = L.d(bookNode, otype='phrase')\n",
    "NPs = [p for p in phraseNodes if F.Cat.v(p) == 'np']\n",
    "\n",
    "print('{} NPs in Jude'.format(len(NPs)))"
   ]
  },
  {
   "cell_type": "markdown",
   "metadata": {
    "slideshow": {
     "slide_type": "subslide"
    }
   },
   "source": [
    "### Generate a data entry form\n",
    "\n",
    "Export this data as CSV \n",
    "so that experts can fill in a new feature: *semantically plural*."
   ]
  },
  {
   "cell_type": "code",
   "execution_count": 135,
   "metadata": {
    "collapsed": true,
    "slideshow": {
     "slide_type": "subslide"
    }
   },
   "outputs": [],
   "source": [
    "enrichFile = 'np.csv'\n",
    "enrichedFile = 'np-enriched.csv'\n",
    "\n",
    "with open(enrichFile, 'w') as f:\n",
    "    fieldNames = ['passage', 'node', 'phrase', 'semantic plural', 'sentence']\n",
    "    f.write('{}\\n'.format('\\t'.join(fieldNames)))\n",
    "    for np in NPs:\n",
    "        sn = L.u(np, otype='sentence')[0]\n",
    "        sentence = L.d(sn, otype='word')\n",
    "        phrase = L.d(np, otype='word')\n",
    "        fields = [\n",
    "            '{} {}:{}'.format(*T.sectionFromNode(np)),\n",
    "            str(np),\n",
    "            T.text(phrase),\n",
    "            '',\n",
    "            T.text(sentence),\n",
    "        ]\n",
    "        f.write('{}\\n'.format('\\t'.join(fields)))"
   ]
  },
  {
   "cell_type": "code",
   "execution_count": 136,
   "metadata": {
    "scrolled": true,
    "slideshow": {
     "slide_type": "subslide"
    }
   },
   "outputs": [
    {
     "data": {
      "text/html": [
       "<div>\n",
       "<style>\n",
       "    .dataframe thead tr:only-child th {\n",
       "        text-align: right;\n",
       "    }\n",
       "\n",
       "    .dataframe thead th {\n",
       "        text-align: left;\n",
       "    }\n",
       "\n",
       "    .dataframe tbody tr th {\n",
       "        vertical-align: top;\n",
       "    }\n",
       "</style>\n",
       "<table border=\"1\" class=\"dataframe\">\n",
       "  <thead>\n",
       "    <tr style=\"text-align: right;\">\n",
       "      <th></th>\n",
       "      <th>passage</th>\n",
       "      <th>node</th>\n",
       "      <th>phrase</th>\n",
       "      <th>semantic plural</th>\n",
       "      <th>sentence</th>\n",
       "    </tr>\n",
       "  </thead>\n",
       "  <tbody>\n",
       "    <tr>\n",
       "      <th>0</th>\n",
       "      <td>Jude 1:1</td>\n",
       "      <td>400492</td>\n",
       "      <td>Ἰούδας Ἰησοῦ Χριστοῦ δοῦλος, δὲ ἀδελφὸς Ἰακώβου,</td>\n",
       "      <td>NaN</td>\n",
       "      <td>Ἰούδας Ἰησοῦ Χριστοῦ δοῦλος, δὲ ἀδελφὸς Ἰακώβο...</td>\n",
       "    </tr>\n",
       "    <tr>\n",
       "      <th>1</th>\n",
       "      <td>Jude 1:1</td>\n",
       "      <td>400493</td>\n",
       "      <td>Ἰούδας</td>\n",
       "      <td>NaN</td>\n",
       "      <td>Ἰούδας Ἰησοῦ Χριστοῦ δοῦλος, δὲ ἀδελφὸς Ἰακώβο...</td>\n",
       "    </tr>\n",
       "    <tr>\n",
       "      <th>2</th>\n",
       "      <td>Jude 1:1</td>\n",
       "      <td>400494</td>\n",
       "      <td>Ἰησοῦ Χριστοῦ δοῦλος, δὲ ἀδελφὸς Ἰακώβου,</td>\n",
       "      <td>NaN</td>\n",
       "      <td>Ἰούδας Ἰησοῦ Χριστοῦ δοῦλος, δὲ ἀδελφὸς Ἰακώβο...</td>\n",
       "    </tr>\n",
       "    <tr>\n",
       "      <th>3</th>\n",
       "      <td>Jude 1:1</td>\n",
       "      <td>400495</td>\n",
       "      <td>Ἰησοῦ Χριστοῦ δοῦλος,</td>\n",
       "      <td>NaN</td>\n",
       "      <td>Ἰούδας Ἰησοῦ Χριστοῦ δοῦλος, δὲ ἀδελφὸς Ἰακώβο...</td>\n",
       "    </tr>\n",
       "    <tr>\n",
       "      <th>4</th>\n",
       "      <td>Jude 1:1</td>\n",
       "      <td>400496</td>\n",
       "      <td>Ἰησοῦ Χριστοῦ</td>\n",
       "      <td>NaN</td>\n",
       "      <td>Ἰούδας Ἰησοῦ Χριστοῦ δοῦλος, δὲ ἀδελφὸς Ἰακώβο...</td>\n",
       "    </tr>\n",
       "    <tr>\n",
       "      <th>5</th>\n",
       "      <td>Jude 1:1</td>\n",
       "      <td>400497</td>\n",
       "      <td>Ἰησοῦ</td>\n",
       "      <td>NaN</td>\n",
       "      <td>Ἰούδας Ἰησοῦ Χριστοῦ δοῦλος, δὲ ἀδελφὸς Ἰακώβο...</td>\n",
       "    </tr>\n",
       "    <tr>\n",
       "      <th>6</th>\n",
       "      <td>Jude 1:1</td>\n",
       "      <td>400498</td>\n",
       "      <td>Χριστοῦ</td>\n",
       "      <td>NaN</td>\n",
       "      <td>Ἰούδας Ἰησοῦ Χριστοῦ δοῦλος, δὲ ἀδελφὸς Ἰακώβο...</td>\n",
       "    </tr>\n",
       "    <tr>\n",
       "      <th>7</th>\n",
       "      <td>Jude 1:1</td>\n",
       "      <td>400499</td>\n",
       "      <td>δοῦλος,</td>\n",
       "      <td>NaN</td>\n",
       "      <td>Ἰούδας Ἰησοῦ Χριστοῦ δοῦλος, δὲ ἀδελφὸς Ἰακώβο...</td>\n",
       "    </tr>\n",
       "    <tr>\n",
       "      <th>8</th>\n",
       "      <td>Jude 1:1</td>\n",
       "      <td>400500</td>\n",
       "      <td>ἀδελφὸς Ἰακώβου,</td>\n",
       "      <td>NaN</td>\n",
       "      <td>Ἰούδας Ἰησοῦ Χριστοῦ δοῦλος, δὲ ἀδελφὸς Ἰακώβο...</td>\n",
       "    </tr>\n",
       "    <tr>\n",
       "      <th>9</th>\n",
       "      <td>Jude 1:1</td>\n",
       "      <td>400501</td>\n",
       "      <td>ἀδελφὸς</td>\n",
       "      <td>NaN</td>\n",
       "      <td>Ἰούδας Ἰησοῦ Χριστοῦ δοῦλος, δὲ ἀδελφὸς Ἰακώβο...</td>\n",
       "    </tr>\n",
       "    <tr>\n",
       "      <th>10</th>\n",
       "      <td>Jude 1:1</td>\n",
       "      <td>400502</td>\n",
       "      <td>Ἰακώβου,</td>\n",
       "      <td>NaN</td>\n",
       "      <td>Ἰούδας Ἰησοῦ Χριστοῦ δοῦλος, δὲ ἀδελφὸς Ἰακώβο...</td>\n",
       "    </tr>\n",
       "    <tr>\n",
       "      <th>11</th>\n",
       "      <td>Jude 1:1</td>\n",
       "      <td>400503</td>\n",
       "      <td>τοῖς ἐν θεῷ πατρὶ ἠγαπημένοις καὶ Ἰησοῦ Χριστῷ...</td>\n",
       "      <td>NaN</td>\n",
       "      <td>Ἰούδας Ἰησοῦ Χριστοῦ δοῦλος, δὲ ἀδελφὸς Ἰακώβο...</td>\n",
       "    </tr>\n",
       "    <tr>\n",
       "      <th>12</th>\n",
       "      <td>Jude 1:1</td>\n",
       "      <td>400504</td>\n",
       "      <td>ἐν θεῷ πατρὶ ἠγαπημένοις καὶ Ἰησοῦ Χριστῷ τετη...</td>\n",
       "      <td>NaN</td>\n",
       "      <td>Ἰούδας Ἰησοῦ Χριστοῦ δοῦλος, δὲ ἀδελφὸς Ἰακώβο...</td>\n",
       "    </tr>\n",
       "    <tr>\n",
       "      <th>13</th>\n",
       "      <td>Jude 1:1</td>\n",
       "      <td>400507</td>\n",
       "      <td>θεῷ πατρὶ</td>\n",
       "      <td>NaN</td>\n",
       "      <td>Ἰούδας Ἰησοῦ Χριστοῦ δοῦλος, δὲ ἀδελφὸς Ἰακώβο...</td>\n",
       "    </tr>\n",
       "    <tr>\n",
       "      <th>14</th>\n",
       "      <td>Jude 1:1</td>\n",
       "      <td>400508</td>\n",
       "      <td>θεῷ</td>\n",
       "      <td>NaN</td>\n",
       "      <td>Ἰούδας Ἰησοῦ Χριστοῦ δοῦλος, δὲ ἀδελφὸς Ἰακώβο...</td>\n",
       "    </tr>\n",
       "    <tr>\n",
       "      <th>15</th>\n",
       "      <td>Jude 1:1</td>\n",
       "      <td>400509</td>\n",
       "      <td>πατρὶ</td>\n",
       "      <td>NaN</td>\n",
       "      <td>Ἰούδας Ἰησοῦ Χριστοῦ δοῦλος, δὲ ἀδελφὸς Ἰακώβο...</td>\n",
       "    </tr>\n",
       "    <tr>\n",
       "      <th>16</th>\n",
       "      <td>Jude 1:1</td>\n",
       "      <td>400511</td>\n",
       "      <td>Ἰησοῦ Χριστῷ</td>\n",
       "      <td>NaN</td>\n",
       "      <td>Ἰούδας Ἰησοῦ Χριστοῦ δοῦλος, δὲ ἀδελφὸς Ἰακώβο...</td>\n",
       "    </tr>\n",
       "    <tr>\n",
       "      <th>17</th>\n",
       "      <td>Jude 1:1</td>\n",
       "      <td>400512</td>\n",
       "      <td>Ἰησοῦ</td>\n",
       "      <td>NaN</td>\n",
       "      <td>Ἰούδας Ἰησοῦ Χριστοῦ δοῦλος, δὲ ἀδελφὸς Ἰακώβο...</td>\n",
       "    </tr>\n",
       "    <tr>\n",
       "      <th>18</th>\n",
       "      <td>Jude 1:1</td>\n",
       "      <td>400513</td>\n",
       "      <td>Χριστῷ</td>\n",
       "      <td>NaN</td>\n",
       "      <td>Ἰούδας Ἰησοῦ Χριστοῦ δοῦλος, δὲ ἀδελφὸς Ἰακώβο...</td>\n",
       "    </tr>\n",
       "    <tr>\n",
       "      <th>19</th>\n",
       "      <td>Jude 1:1</td>\n",
       "      <td>400515</td>\n",
       "      <td>κλητοῖς·</td>\n",
       "      <td>NaN</td>\n",
       "      <td>Ἰούδας Ἰησοῦ Χριστοῦ δοῦλος, δὲ ἀδελφὸς Ἰακώβο...</td>\n",
       "    </tr>\n",
       "    <tr>\n",
       "      <th>20</th>\n",
       "      <td>Jude 1:2</td>\n",
       "      <td>400517</td>\n",
       "      <td>ὑμῖν</td>\n",
       "      <td>NaN</td>\n",
       "      <td>ὑμῖν ἔλεος καὶ εἰρήνη καὶ ἀγάπη πληθυνθείη.</td>\n",
       "    </tr>\n",
       "    <tr>\n",
       "      <th>21</th>\n",
       "      <td>Jude 1:2</td>\n",
       "      <td>400518</td>\n",
       "      <td>ἔλεος καὶ εἰρήνη καὶ ἀγάπη</td>\n",
       "      <td>NaN</td>\n",
       "      <td>ὑμῖν ἔλεος καὶ εἰρήνη καὶ ἀγάπη πληθυνθείη.</td>\n",
       "    </tr>\n",
       "    <tr>\n",
       "      <th>22</th>\n",
       "      <td>Jude 1:2</td>\n",
       "      <td>400519</td>\n",
       "      <td>ἔλεος</td>\n",
       "      <td>NaN</td>\n",
       "      <td>ὑμῖν ἔλεος καὶ εἰρήνη καὶ ἀγάπη πληθυνθείη.</td>\n",
       "    </tr>\n",
       "    <tr>\n",
       "      <th>23</th>\n",
       "      <td>Jude 1:2</td>\n",
       "      <td>400520</td>\n",
       "      <td>εἰρήνη</td>\n",
       "      <td>NaN</td>\n",
       "      <td>ὑμῖν ἔλεος καὶ εἰρήνη καὶ ἀγάπη πληθυνθείη.</td>\n",
       "    </tr>\n",
       "    <tr>\n",
       "      <th>24</th>\n",
       "      <td>Jude 1:2</td>\n",
       "      <td>400521</td>\n",
       "      <td>ἀγάπη</td>\n",
       "      <td>NaN</td>\n",
       "      <td>ὑμῖν ἔλεος καὶ εἰρήνη καὶ ἀγάπη πληθυνθείη.</td>\n",
       "    </tr>\n",
       "    <tr>\n",
       "      <th>25</th>\n",
       "      <td>Jude 1:3</td>\n",
       "      <td>400523</td>\n",
       "      <td>Ἀγαπητοί,</td>\n",
       "      <td>NaN</td>\n",
       "      <td>Ἀγαπητοί, πᾶσαν σπουδὴν ποιούμενος γράφειν ὑμῖ...</td>\n",
       "    </tr>\n",
       "    <tr>\n",
       "      <th>26</th>\n",
       "      <td>Jude 1:3</td>\n",
       "      <td>400525</td>\n",
       "      <td>πᾶσαν σπουδὴν</td>\n",
       "      <td>NaN</td>\n",
       "      <td>Ἀγαπητοί, πᾶσαν σπουδὴν ποιούμενος γράφειν ὑμῖ...</td>\n",
       "    </tr>\n",
       "    <tr>\n",
       "      <th>27</th>\n",
       "      <td>Jude 1:3</td>\n",
       "      <td>400527</td>\n",
       "      <td>σπουδὴν</td>\n",
       "      <td>NaN</td>\n",
       "      <td>Ἀγαπητοί, πᾶσαν σπουδὴν ποιούμενος γράφειν ὑμῖ...</td>\n",
       "    </tr>\n",
       "    <tr>\n",
       "      <th>28</th>\n",
       "      <td>Jude 1:3</td>\n",
       "      <td>400530</td>\n",
       "      <td>ὑμῖν</td>\n",
       "      <td>NaN</td>\n",
       "      <td>Ἀγαπητοί, πᾶσαν σπουδὴν ποιούμενος γράφειν ὑμῖ...</td>\n",
       "    </tr>\n",
       "    <tr>\n",
       "      <th>29</th>\n",
       "      <td>Jude 1:3</td>\n",
       "      <td>400532</td>\n",
       "      <td>τῆς κοινῆς ἡμῶν σωτηρίας</td>\n",
       "      <td>NaN</td>\n",
       "      <td>Ἀγαπητοί, πᾶσαν σπουδὴν ποιούμενος γράφειν ὑμῖ...</td>\n",
       "    </tr>\n",
       "    <tr>\n",
       "      <th>...</th>\n",
       "      <td>...</td>\n",
       "      <td>...</td>\n",
       "      <td>...</td>\n",
       "      <td>...</td>\n",
       "      <td>...</td>\n",
       "    </tr>\n",
       "    <tr>\n",
       "      <th>70</th>\n",
       "      <td>Jude 1:5</td>\n",
       "      <td>400595</td>\n",
       "      <td>πάντα,</td>\n",
       "      <td>NaN</td>\n",
       "      <td>δὲ βούλομαι, εἰδότας ὑμᾶς ἅπαξ πάντα, Ὑπομνῆσα...</td>\n",
       "    </tr>\n",
       "    <tr>\n",
       "      <th>71</th>\n",
       "      <td>Jude 1:5</td>\n",
       "      <td>400598</td>\n",
       "      <td>ὑμᾶς</td>\n",
       "      <td>NaN</td>\n",
       "      <td>δὲ βούλομαι, εἰδότας ὑμᾶς ἅπαξ πάντα, Ὑπομνῆσα...</td>\n",
       "    </tr>\n",
       "    <tr>\n",
       "      <th>72</th>\n",
       "      <td>Jude 1:5</td>\n",
       "      <td>400599</td>\n",
       "      <td>Ἰησοῦς</td>\n",
       "      <td>NaN</td>\n",
       "      <td>δὲ βούλομαι, εἰδότας ὑμᾶς ἅπαξ πάντα, Ὑπομνῆσα...</td>\n",
       "    </tr>\n",
       "    <tr>\n",
       "      <th>73</th>\n",
       "      <td>Jude 1:5</td>\n",
       "      <td>400600</td>\n",
       "      <td>λαὸν</td>\n",
       "      <td>NaN</td>\n",
       "      <td>δὲ βούλομαι, εἰδότας ὑμᾶς ἅπαξ πάντα, Ὑπομνῆσα...</td>\n",
       "    </tr>\n",
       "    <tr>\n",
       "      <th>74</th>\n",
       "      <td>Jude 1:5</td>\n",
       "      <td>400602</td>\n",
       "      <td>γῆς Αἰγύπτου</td>\n",
       "      <td>NaN</td>\n",
       "      <td>δὲ βούλομαι, εἰδότας ὑμᾶς ἅπαξ πάντα, Ὑπομνῆσα...</td>\n",
       "    </tr>\n",
       "    <tr>\n",
       "      <th>75</th>\n",
       "      <td>Jude 1:5</td>\n",
       "      <td>400603</td>\n",
       "      <td>γῆς</td>\n",
       "      <td>NaN</td>\n",
       "      <td>δὲ βούλομαι, εἰδότας ὑμᾶς ἅπαξ πάντα, Ὑπομνῆσα...</td>\n",
       "    </tr>\n",
       "    <tr>\n",
       "      <th>76</th>\n",
       "      <td>Jude 1:5</td>\n",
       "      <td>400604</td>\n",
       "      <td>Αἰγύπτου</td>\n",
       "      <td>NaN</td>\n",
       "      <td>δὲ βούλομαι, εἰδότας ὑμᾶς ἅπαξ πάντα, Ὑπομνῆσα...</td>\n",
       "    </tr>\n",
       "    <tr>\n",
       "      <th>77</th>\n",
       "      <td>Jude 1:5</td>\n",
       "      <td>400606</td>\n",
       "      <td>τὸ δεύτερον</td>\n",
       "      <td>NaN</td>\n",
       "      <td>δὲ βούλομαι, εἰδότας ὑμᾶς ἅπαξ πάντα, Ὑπομνῆσα...</td>\n",
       "    </tr>\n",
       "    <tr>\n",
       "      <th>78</th>\n",
       "      <td>Jude 1:5</td>\n",
       "      <td>400608</td>\n",
       "      <td>τοὺς μὴ πιστεύσαντας</td>\n",
       "      <td>NaN</td>\n",
       "      <td>δὲ βούλομαι, εἰδότας ὑμᾶς ἅπαξ πάντα, Ὑπομνῆσα...</td>\n",
       "    </tr>\n",
       "    <tr>\n",
       "      <th>79</th>\n",
       "      <td>Jude 1:6</td>\n",
       "      <td>400612</td>\n",
       "      <td>ἀγγέλους τοὺς μὴ τηρήσαντας τὴν ἑαυτῶν ἀρχὴν ἀ...</td>\n",
       "      <td>NaN</td>\n",
       "      <td>δὲ βούλομαι, εἰδότας ὑμᾶς ἅπαξ πάντα, Ὑπομνῆσα...</td>\n",
       "    </tr>\n",
       "    <tr>\n",
       "      <th>80</th>\n",
       "      <td>Jude 1:6</td>\n",
       "      <td>400613</td>\n",
       "      <td>ἀγγέλους</td>\n",
       "      <td>NaN</td>\n",
       "      <td>δὲ βούλομαι, εἰδότας ὑμᾶς ἅπαξ πάντα, Ὑπομνῆσα...</td>\n",
       "    </tr>\n",
       "    <tr>\n",
       "      <th>81</th>\n",
       "      <td>Jude 1:6</td>\n",
       "      <td>400614</td>\n",
       "      <td>τοὺς μὴ τηρήσαντας τὴν ἑαυτῶν ἀρχὴν ἀλλὰ ἀπολι...</td>\n",
       "      <td>NaN</td>\n",
       "      <td>δὲ βούλομαι, εἰδότας ὑμᾶς ἅπαξ πάντα, Ὑπομνῆσα...</td>\n",
       "    </tr>\n",
       "    <tr>\n",
       "      <th>82</th>\n",
       "      <td>Jude 1:6</td>\n",
       "      <td>400617</td>\n",
       "      <td>τὴν ἑαυτῶν ἀρχὴν</td>\n",
       "      <td>NaN</td>\n",
       "      <td>δὲ βούλομαι, εἰδότας ὑμᾶς ἅπαξ πάντα, Ὑπομνῆσα...</td>\n",
       "    </tr>\n",
       "    <tr>\n",
       "      <th>83</th>\n",
       "      <td>Jude 1:6</td>\n",
       "      <td>400618</td>\n",
       "      <td>ἑαυτῶν ἀρχὴν</td>\n",
       "      <td>NaN</td>\n",
       "      <td>δὲ βούλομαι, εἰδότας ὑμᾶς ἅπαξ πάντα, Ὑπομνῆσα...</td>\n",
       "    </tr>\n",
       "    <tr>\n",
       "      <th>84</th>\n",
       "      <td>Jude 1:6</td>\n",
       "      <td>400619</td>\n",
       "      <td>ἑαυτῶν</td>\n",
       "      <td>NaN</td>\n",
       "      <td>δὲ βούλομαι, εἰδότας ὑμᾶς ἅπαξ πάντα, Ὑπομνῆσα...</td>\n",
       "    </tr>\n",
       "    <tr>\n",
       "      <th>85</th>\n",
       "      <td>Jude 1:6</td>\n",
       "      <td>400620</td>\n",
       "      <td>ἀρχὴν</td>\n",
       "      <td>NaN</td>\n",
       "      <td>δὲ βούλομαι, εἰδότας ὑμᾶς ἅπαξ πάντα, Ὑπομνῆσα...</td>\n",
       "    </tr>\n",
       "    <tr>\n",
       "      <th>86</th>\n",
       "      <td>Jude 1:6</td>\n",
       "      <td>400622</td>\n",
       "      <td>τὸ ἴδιον οἰκητήριον</td>\n",
       "      <td>NaN</td>\n",
       "      <td>δὲ βούλομαι, εἰδότας ὑμᾶς ἅπαξ πάντα, Ὑπομνῆσα...</td>\n",
       "    </tr>\n",
       "    <tr>\n",
       "      <th>87</th>\n",
       "      <td>Jude 1:6</td>\n",
       "      <td>400623</td>\n",
       "      <td>ἴδιον οἰκητήριον</td>\n",
       "      <td>NaN</td>\n",
       "      <td>δὲ βούλομαι, εἰδότας ὑμᾶς ἅπαξ πάντα, Ὑπομνῆσα...</td>\n",
       "    </tr>\n",
       "    <tr>\n",
       "      <th>88</th>\n",
       "      <td>Jude 1:6</td>\n",
       "      <td>400625</td>\n",
       "      <td>οἰκητήριον</td>\n",
       "      <td>NaN</td>\n",
       "      <td>δὲ βούλομαι, εἰδότας ὑμᾶς ἅπαξ πάντα, Ὑπομνῆσα...</td>\n",
       "    </tr>\n",
       "    <tr>\n",
       "      <th>89</th>\n",
       "      <td>Jude 1:6</td>\n",
       "      <td>400627</td>\n",
       "      <td>κρίσιν μεγάλης ἡμέρας</td>\n",
       "      <td>NaN</td>\n",
       "      <td>δὲ βούλομαι, εἰδότας ὑμᾶς ἅπαξ πάντα, Ὑπομνῆσα...</td>\n",
       "    </tr>\n",
       "    <tr>\n",
       "      <th>90</th>\n",
       "      <td>Jude 1:6</td>\n",
       "      <td>400628</td>\n",
       "      <td>κρίσιν</td>\n",
       "      <td>NaN</td>\n",
       "      <td>δὲ βούλομαι, εἰδότας ὑμᾶς ἅπαξ πάντα, Ὑπομνῆσα...</td>\n",
       "    </tr>\n",
       "    <tr>\n",
       "      <th>91</th>\n",
       "      <td>Jude 1:6</td>\n",
       "      <td>400629</td>\n",
       "      <td>μεγάλης ἡμέρας</td>\n",
       "      <td>NaN</td>\n",
       "      <td>δὲ βούλομαι, εἰδότας ὑμᾶς ἅπαξ πάντα, Ὑπομνῆσα...</td>\n",
       "    </tr>\n",
       "    <tr>\n",
       "      <th>92</th>\n",
       "      <td>Jude 1:6</td>\n",
       "      <td>400631</td>\n",
       "      <td>ἡμέρας</td>\n",
       "      <td>NaN</td>\n",
       "      <td>δὲ βούλομαι, εἰδότας ὑμᾶς ἅπαξ πάντα, Ὑπομνῆσα...</td>\n",
       "    </tr>\n",
       "    <tr>\n",
       "      <th>93</th>\n",
       "      <td>Jude 1:6</td>\n",
       "      <td>400632</td>\n",
       "      <td>δεσμοῖς ἀϊδίοις</td>\n",
       "      <td>NaN</td>\n",
       "      <td>δὲ βούλομαι, εἰδότας ὑμᾶς ἅπαξ πάντα, Ὑπομνῆσα...</td>\n",
       "    </tr>\n",
       "    <tr>\n",
       "      <th>94</th>\n",
       "      <td>Jude 1:6</td>\n",
       "      <td>400633</td>\n",
       "      <td>δεσμοῖς</td>\n",
       "      <td>NaN</td>\n",
       "      <td>δὲ βούλομαι, εἰδότας ὑμᾶς ἅπαξ πάντα, Ὑπομνῆσα...</td>\n",
       "    </tr>\n",
       "    <tr>\n",
       "      <th>95</th>\n",
       "      <td>Jude 1:6</td>\n",
       "      <td>400636</td>\n",
       "      <td>ζόφον</td>\n",
       "      <td>NaN</td>\n",
       "      <td>δὲ βούλομαι, εἰδότας ὑμᾶς ἅπαξ πάντα, Ὑπομνῆσα...</td>\n",
       "    </tr>\n",
       "    <tr>\n",
       "      <th>96</th>\n",
       "      <td>Jude 1:7</td>\n",
       "      <td>400638</td>\n",
       "      <td>Σόδομα καὶ Γόμορρα καὶ αἱ περὶ αὐτὰς πόλεις,</td>\n",
       "      <td>NaN</td>\n",
       "      <td>δὲ βούλομαι, εἰδότας ὑμᾶς ἅπαξ πάντα, Ὑπομνῆσα...</td>\n",
       "    </tr>\n",
       "    <tr>\n",
       "      <th>97</th>\n",
       "      <td>Jude 1:7</td>\n",
       "      <td>400639</td>\n",
       "      <td>Σόδομα</td>\n",
       "      <td>NaN</td>\n",
       "      <td>δὲ βούλομαι, εἰδότας ὑμᾶς ἅπαξ πάντα, Ὑπομνῆσα...</td>\n",
       "    </tr>\n",
       "    <tr>\n",
       "      <th>98</th>\n",
       "      <td>Jude 1:7</td>\n",
       "      <td>400640</td>\n",
       "      <td>Γόμορρα</td>\n",
       "      <td>NaN</td>\n",
       "      <td>δὲ βούλομαι, εἰδότας ὑμᾶς ἅπαξ πάντα, Ὑπομνῆσα...</td>\n",
       "    </tr>\n",
       "    <tr>\n",
       "      <th>99</th>\n",
       "      <td>Jude 1:7</td>\n",
       "      <td>400641</td>\n",
       "      <td>αἱ περὶ αὐτὰς πόλεις,</td>\n",
       "      <td>NaN</td>\n",
       "      <td>δὲ βούλομαι, εἰδότας ὑμᾶς ἅπαξ πάντα, Ὑπομνῆσα...</td>\n",
       "    </tr>\n",
       "  </tbody>\n",
       "</table>\n",
       "<p>100 rows × 5 columns</p>\n",
       "</div>"
      ],
      "text/plain": [
       "     passage    node                                             phrase  \\\n",
       "0   Jude 1:1  400492  Ἰούδας Ἰησοῦ Χριστοῦ δοῦλος, δὲ ἀδελφὸς Ἰακώβου,    \n",
       "1   Jude 1:1  400493                                            Ἰούδας    \n",
       "2   Jude 1:1  400494         Ἰησοῦ Χριστοῦ δοῦλος, δὲ ἀδελφὸς Ἰακώβου,    \n",
       "3   Jude 1:1  400495                             Ἰησοῦ Χριστοῦ δοῦλος,    \n",
       "4   Jude 1:1  400496                                     Ἰησοῦ Χριστοῦ    \n",
       "5   Jude 1:1  400497                                             Ἰησοῦ    \n",
       "6   Jude 1:1  400498                                           Χριστοῦ    \n",
       "7   Jude 1:1  400499                                           δοῦλος,    \n",
       "8   Jude 1:1  400500                                  ἀδελφὸς Ἰακώβου,    \n",
       "9   Jude 1:1  400501                                           ἀδελφὸς    \n",
       "10  Jude 1:1  400502                                          Ἰακώβου,    \n",
       "11  Jude 1:1  400503  τοῖς ἐν θεῷ πατρὶ ἠγαπημένοις καὶ Ἰησοῦ Χριστῷ...   \n",
       "12  Jude 1:1  400504  ἐν θεῷ πατρὶ ἠγαπημένοις καὶ Ἰησοῦ Χριστῷ τετη...   \n",
       "13  Jude 1:1  400507                                         θεῷ πατρὶ    \n",
       "14  Jude 1:1  400508                                               θεῷ    \n",
       "15  Jude 1:1  400509                                             πατρὶ    \n",
       "16  Jude 1:1  400511                                      Ἰησοῦ Χριστῷ    \n",
       "17  Jude 1:1  400512                                             Ἰησοῦ    \n",
       "18  Jude 1:1  400513                                            Χριστῷ    \n",
       "19  Jude 1:1  400515                                          κλητοῖς·    \n",
       "20  Jude 1:2  400517                                              ὑμῖν    \n",
       "21  Jude 1:2  400518                        ἔλεος καὶ εἰρήνη καὶ ἀγάπη    \n",
       "22  Jude 1:2  400519                                             ἔλεος    \n",
       "23  Jude 1:2  400520                                            εἰρήνη    \n",
       "24  Jude 1:2  400521                                             ἀγάπη    \n",
       "25  Jude 1:3  400523                                         Ἀγαπητοί,    \n",
       "26  Jude 1:3  400525                                     πᾶσαν σπουδὴν    \n",
       "27  Jude 1:3  400527                                           σπουδὴν    \n",
       "28  Jude 1:3  400530                                              ὑμῖν    \n",
       "29  Jude 1:3  400532                          τῆς κοινῆς ἡμῶν σωτηρίας    \n",
       "..       ...     ...                                                ...   \n",
       "70  Jude 1:5  400595                                            πάντα,    \n",
       "71  Jude 1:5  400598                                              ὑμᾶς    \n",
       "72  Jude 1:5  400599                                            Ἰησοῦς    \n",
       "73  Jude 1:5  400600                                              λαὸν    \n",
       "74  Jude 1:5  400602                                      γῆς Αἰγύπτου    \n",
       "75  Jude 1:5  400603                                               γῆς    \n",
       "76  Jude 1:5  400604                                          Αἰγύπτου    \n",
       "77  Jude 1:5  400606                                       τὸ δεύτερον    \n",
       "78  Jude 1:5  400608                              τοὺς μὴ πιστεύσαντας    \n",
       "79  Jude 1:6  400612  ἀγγέλους τοὺς μὴ τηρήσαντας τὴν ἑαυτῶν ἀρχὴν ἀ...   \n",
       "80  Jude 1:6  400613                                          ἀγγέλους    \n",
       "81  Jude 1:6  400614  τοὺς μὴ τηρήσαντας τὴν ἑαυτῶν ἀρχὴν ἀλλὰ ἀπολι...   \n",
       "82  Jude 1:6  400617                                  τὴν ἑαυτῶν ἀρχὴν    \n",
       "83  Jude 1:6  400618                                      ἑαυτῶν ἀρχὴν    \n",
       "84  Jude 1:6  400619                                            ἑαυτῶν    \n",
       "85  Jude 1:6  400620                                             ἀρχὴν    \n",
       "86  Jude 1:6  400622                               τὸ ἴδιον οἰκητήριον    \n",
       "87  Jude 1:6  400623                                  ἴδιον οἰκητήριον    \n",
       "88  Jude 1:6  400625                                        οἰκητήριον    \n",
       "89  Jude 1:6  400627                             κρίσιν μεγάλης ἡμέρας    \n",
       "90  Jude 1:6  400628                                            κρίσιν    \n",
       "91  Jude 1:6  400629                                    μεγάλης ἡμέρας    \n",
       "92  Jude 1:6  400631                                            ἡμέρας    \n",
       "93  Jude 1:6  400632                                   δεσμοῖς ἀϊδίοις    \n",
       "94  Jude 1:6  400633                                           δεσμοῖς    \n",
       "95  Jude 1:6  400636                                             ζόφον    \n",
       "96  Jude 1:7  400638      Σόδομα καὶ Γόμορρα καὶ αἱ περὶ αὐτὰς πόλεις,    \n",
       "97  Jude 1:7  400639                                            Σόδομα    \n",
       "98  Jude 1:7  400640                                           Γόμορρα    \n",
       "99  Jude 1:7  400641                             αἱ περὶ αὐτὰς πόλεις,    \n",
       "\n",
       "    semantic plural                                           sentence  \n",
       "0               NaN  Ἰούδας Ἰησοῦ Χριστοῦ δοῦλος, δὲ ἀδελφὸς Ἰακώβο...  \n",
       "1               NaN  Ἰούδας Ἰησοῦ Χριστοῦ δοῦλος, δὲ ἀδελφὸς Ἰακώβο...  \n",
       "2               NaN  Ἰούδας Ἰησοῦ Χριστοῦ δοῦλος, δὲ ἀδελφὸς Ἰακώβο...  \n",
       "3               NaN  Ἰούδας Ἰησοῦ Χριστοῦ δοῦλος, δὲ ἀδελφὸς Ἰακώβο...  \n",
       "4               NaN  Ἰούδας Ἰησοῦ Χριστοῦ δοῦλος, δὲ ἀδελφὸς Ἰακώβο...  \n",
       "5               NaN  Ἰούδας Ἰησοῦ Χριστοῦ δοῦλος, δὲ ἀδελφὸς Ἰακώβο...  \n",
       "6               NaN  Ἰούδας Ἰησοῦ Χριστοῦ δοῦλος, δὲ ἀδελφὸς Ἰακώβο...  \n",
       "7               NaN  Ἰούδας Ἰησοῦ Χριστοῦ δοῦλος, δὲ ἀδελφὸς Ἰακώβο...  \n",
       "8               NaN  Ἰούδας Ἰησοῦ Χριστοῦ δοῦλος, δὲ ἀδελφὸς Ἰακώβο...  \n",
       "9               NaN  Ἰούδας Ἰησοῦ Χριστοῦ δοῦλος, δὲ ἀδελφὸς Ἰακώβο...  \n",
       "10              NaN  Ἰούδας Ἰησοῦ Χριστοῦ δοῦλος, δὲ ἀδελφὸς Ἰακώβο...  \n",
       "11              NaN  Ἰούδας Ἰησοῦ Χριστοῦ δοῦλος, δὲ ἀδελφὸς Ἰακώβο...  \n",
       "12              NaN  Ἰούδας Ἰησοῦ Χριστοῦ δοῦλος, δὲ ἀδελφὸς Ἰακώβο...  \n",
       "13              NaN  Ἰούδας Ἰησοῦ Χριστοῦ δοῦλος, δὲ ἀδελφὸς Ἰακώβο...  \n",
       "14              NaN  Ἰούδας Ἰησοῦ Χριστοῦ δοῦλος, δὲ ἀδελφὸς Ἰακώβο...  \n",
       "15              NaN  Ἰούδας Ἰησοῦ Χριστοῦ δοῦλος, δὲ ἀδελφὸς Ἰακώβο...  \n",
       "16              NaN  Ἰούδας Ἰησοῦ Χριστοῦ δοῦλος, δὲ ἀδελφὸς Ἰακώβο...  \n",
       "17              NaN  Ἰούδας Ἰησοῦ Χριστοῦ δοῦλος, δὲ ἀδελφὸς Ἰακώβο...  \n",
       "18              NaN  Ἰούδας Ἰησοῦ Χριστοῦ δοῦλος, δὲ ἀδελφὸς Ἰακώβο...  \n",
       "19              NaN  Ἰούδας Ἰησοῦ Χριστοῦ δοῦλος, δὲ ἀδελφὸς Ἰακώβο...  \n",
       "20              NaN       ὑμῖν ἔλεος καὶ εἰρήνη καὶ ἀγάπη πληθυνθείη.   \n",
       "21              NaN       ὑμῖν ἔλεος καὶ εἰρήνη καὶ ἀγάπη πληθυνθείη.   \n",
       "22              NaN       ὑμῖν ἔλεος καὶ εἰρήνη καὶ ἀγάπη πληθυνθείη.   \n",
       "23              NaN       ὑμῖν ἔλεος καὶ εἰρήνη καὶ ἀγάπη πληθυνθείη.   \n",
       "24              NaN       ὑμῖν ἔλεος καὶ εἰρήνη καὶ ἀγάπη πληθυνθείη.   \n",
       "25              NaN  Ἀγαπητοί, πᾶσαν σπουδὴν ποιούμενος γράφειν ὑμῖ...  \n",
       "26              NaN  Ἀγαπητοί, πᾶσαν σπουδὴν ποιούμενος γράφειν ὑμῖ...  \n",
       "27              NaN  Ἀγαπητοί, πᾶσαν σπουδὴν ποιούμενος γράφειν ὑμῖ...  \n",
       "28              NaN  Ἀγαπητοί, πᾶσαν σπουδὴν ποιούμενος γράφειν ὑμῖ...  \n",
       "29              NaN  Ἀγαπητοί, πᾶσαν σπουδὴν ποιούμενος γράφειν ὑμῖ...  \n",
       "..              ...                                                ...  \n",
       "70              NaN  δὲ βούλομαι, εἰδότας ὑμᾶς ἅπαξ πάντα, Ὑπομνῆσα...  \n",
       "71              NaN  δὲ βούλομαι, εἰδότας ὑμᾶς ἅπαξ πάντα, Ὑπομνῆσα...  \n",
       "72              NaN  δὲ βούλομαι, εἰδότας ὑμᾶς ἅπαξ πάντα, Ὑπομνῆσα...  \n",
       "73              NaN  δὲ βούλομαι, εἰδότας ὑμᾶς ἅπαξ πάντα, Ὑπομνῆσα...  \n",
       "74              NaN  δὲ βούλομαι, εἰδότας ὑμᾶς ἅπαξ πάντα, Ὑπομνῆσα...  \n",
       "75              NaN  δὲ βούλομαι, εἰδότας ὑμᾶς ἅπαξ πάντα, Ὑπομνῆσα...  \n",
       "76              NaN  δὲ βούλομαι, εἰδότας ὑμᾶς ἅπαξ πάντα, Ὑπομνῆσα...  \n",
       "77              NaN  δὲ βούλομαι, εἰδότας ὑμᾶς ἅπαξ πάντα, Ὑπομνῆσα...  \n",
       "78              NaN  δὲ βούλομαι, εἰδότας ὑμᾶς ἅπαξ πάντα, Ὑπομνῆσα...  \n",
       "79              NaN  δὲ βούλομαι, εἰδότας ὑμᾶς ἅπαξ πάντα, Ὑπομνῆσα...  \n",
       "80              NaN  δὲ βούλομαι, εἰδότας ὑμᾶς ἅπαξ πάντα, Ὑπομνῆσα...  \n",
       "81              NaN  δὲ βούλομαι, εἰδότας ὑμᾶς ἅπαξ πάντα, Ὑπομνῆσα...  \n",
       "82              NaN  δὲ βούλομαι, εἰδότας ὑμᾶς ἅπαξ πάντα, Ὑπομνῆσα...  \n",
       "83              NaN  δὲ βούλομαι, εἰδότας ὑμᾶς ἅπαξ πάντα, Ὑπομνῆσα...  \n",
       "84              NaN  δὲ βούλομαι, εἰδότας ὑμᾶς ἅπαξ πάντα, Ὑπομνῆσα...  \n",
       "85              NaN  δὲ βούλομαι, εἰδότας ὑμᾶς ἅπαξ πάντα, Ὑπομνῆσα...  \n",
       "86              NaN  δὲ βούλομαι, εἰδότας ὑμᾶς ἅπαξ πάντα, Ὑπομνῆσα...  \n",
       "87              NaN  δὲ βούλομαι, εἰδότας ὑμᾶς ἅπαξ πάντα, Ὑπομνῆσα...  \n",
       "88              NaN  δὲ βούλομαι, εἰδότας ὑμᾶς ἅπαξ πάντα, Ὑπομνῆσα...  \n",
       "89              NaN  δὲ βούλομαι, εἰδότας ὑμᾶς ἅπαξ πάντα, Ὑπομνῆσα...  \n",
       "90              NaN  δὲ βούλομαι, εἰδότας ὑμᾶς ἅπαξ πάντα, Ὑπομνῆσα...  \n",
       "91              NaN  δὲ βούλομαι, εἰδότας ὑμᾶς ἅπαξ πάντα, Ὑπομνῆσα...  \n",
       "92              NaN  δὲ βούλομαι, εἰδότας ὑμᾶς ἅπαξ πάντα, Ὑπομνῆσα...  \n",
       "93              NaN  δὲ βούλομαι, εἰδότας ὑμᾶς ἅπαξ πάντα, Ὑπομνῆσα...  \n",
       "94              NaN  δὲ βούλομαι, εἰδότας ὑμᾶς ἅπαξ πάντα, Ὑπομνῆσα...  \n",
       "95              NaN  δὲ βούλομαι, εἰδότας ὑμᾶς ἅπαξ πάντα, Ὑπομνῆσα...  \n",
       "96              NaN  δὲ βούλομαι, εἰδότας ὑμᾶς ἅπαξ πάντα, Ὑπομνῆσα...  \n",
       "97              NaN  δὲ βούλομαι, εἰδότας ὑμᾶς ἅπαξ πάντα, Ὑπομνῆσα...  \n",
       "98              NaN  δὲ βούλομαι, εἰδότας ὑμᾶς ἅπαξ πάντα, Ὑπομνῆσα...  \n",
       "99              NaN  δὲ βούλομαι, εἰδότας ὑμᾶς ἅπαξ πάντα, Ὑπομνῆσα...  \n",
       "\n",
       "[100 rows x 5 columns]"
      ]
     },
     "execution_count": 136,
     "metadata": {},
     "output_type": "execute_result"
    }
   ],
   "source": [
    "dataFrame = pandas.read_csv(enrichFile, sep='\\t')\n",
    "dataFrame.head(100)"
   ]
  },
  {
   "cell_type": "markdown",
   "metadata": {
    "slideshow": {
     "slide_type": "subslide"
    }
   },
   "source": [
    "### Read the data enrichments"
   ]
  },
  {
   "cell_type": "code",
   "execution_count": 137,
   "metadata": {
    "collapsed": true,
    "slideshow": {
     "slide_type": "fragment"
    }
   },
   "outputs": [],
   "source": [
    "semNumber = dict()\n",
    "\n",
    "with open(enrichedFile) as f:\n",
    "    for (i, line) in enumerate(f):\n",
    "        if i == 0: continue                    # header row\n",
    "\n",
    "        fields = line.rstrip('\\n').split(';')\n",
    "        value = fields[3]\n",
    "        if value == '': continue               # no data entered\n",
    "\n",
    "        node = int(fields[1])\n",
    "        semNumber[node] = value"
   ]
  },
  {
   "cell_type": "code",
   "execution_count": 138,
   "metadata": {
    "scrolled": true,
    "slideshow": {
     "slide_type": "subslide"
    }
   },
   "outputs": [
    {
     "name": "stdout",
     "output_type": "stream",
     "text": [
      "400518 => p\n",
      "400523 => p\n",
      "400536 => p\n",
      "400538 => s\n",
      "400544 => s\n",
      "400549 => p\n",
      "400553 => p\n",
      "400578 => s\n",
      "400579 => s\n",
      "400595 => p\n"
     ]
    }
   ],
   "source": [
    "for p in sorted(semNumber):\n",
    "    print('{} => {}'.format(p, semNumber[p]))"
   ]
  },
  {
   "cell_type": "markdown",
   "metadata": {
    "slideshow": {
     "slide_type": "subslide"
    }
   },
   "source": [
    "### Save the new feature as a text-fabric file"
   ]
  },
  {
   "cell_type": "code",
   "execution_count": 139,
   "metadata": {
    "slideshow": {
     "slide_type": "fragment"
    }
   },
   "outputs": [
    {
     "name": "stdout",
     "output_type": "stream",
     "text": [
      "This is Text-Fabric 2.3.10\n",
      "Api reference : https://github.com/ETCBC/text-fabric/wiki/Api\n",
      "Tutorial      : https://github.com/ETCBC/text-fabric/blob/master/docs/tutorial.ipynb\n",
      "Data sources  : https://github.com/ETCBC/text-fabric-data\n",
      "Data docs     : https://etcbc.github.io/text-fabric-data\n",
      "Shebanq docs  : https://shebanq.ancient-data.org/text\n",
      "Slack team    : https://shebanq.slack.com/signup\n",
      "Questions? Ask shebanq@ancient-data.org for an invite to Slack\n",
      "1 features found and 0 ignored\n"
     ]
    },
    {
     "name": "stderr",
     "output_type": "stream",
     "text": [
      "  0.00s Grid feature \"otype\" not found in\n",
      "/Users/dirk/github/text-fabric/presentations/Leipzig2017-07-06/semantic\n",
      "  0.01s Grid feature \"oslots\" not found in\n",
      "/Users/dirk/github/text-fabric/presentations/Leipzig2017-07-06/semantic\n"
     ]
    },
    {
     "name": "stdout",
     "output_type": "stream",
     "text": [
      "  0.01s Grid feature \"otext\" not found. Working without Text-API\n",
      "\n"
     ]
    }
   ],
   "source": [
    "metaData = dict(\n",
    "    semNumber=dict(\n",
    "        valueType='str',\n",
    "        source='Semantic plurality training set',\n",
    "        author='J.S. Bach, Leipzig',\n",
    "    ),\n",
    ")\n",
    "TF_G = Fabric(locations='.', modules='semantic')"
   ]
  },
  {
   "cell_type": "code",
   "execution_count": 140,
   "metadata": {
    "slideshow": {
     "slide_type": "subslide"
    }
   },
   "outputs": [
    {
     "name": "stdout",
     "output_type": "stream",
     "text": [
      "  0.00s Exporting 1 node and 0 edge and 0 config features to /Users/dirk/github/text-fabric/presentations/Leipzig2017-07-06/semantic:\n",
      "   |     0.01s T semNumber            to /Users/dirk/github/text-fabric/presentations/Leipzig2017-07-06/semantic\n",
      "  0.01s Exported 1 node features and 0 edge features and 0 config features to /Users/dirk/github/text-fabric/presentations/Leipzig2017-07-06/semantic\n"
     ]
    }
   ],
   "source": [
    "TF_G.save(\n",
    "    nodeFeatures=dict(semNumber=semNumber),\n",
    "    metaData=metaData,\n",
    ")"
   ]
  },
  {
   "cell_type": "markdown",
   "metadata": {
    "slideshow": {
     "slide_type": "subslide"
    }
   },
   "source": [
    "### Check"
   ]
  },
  {
   "cell_type": "code",
   "execution_count": 141,
   "metadata": {
    "scrolled": true,
    "slideshow": {
     "slide_type": "fragment"
    }
   },
   "outputs": [
    {
     "name": "stdout",
     "output_type": "stream",
     "text": [
      "@node\r\n",
      "@author=J.S. Bach, Leipzig\r\n",
      "@source=Semantic plurality training set\r\n",
      "@valueType=str\r\n",
      "@writtenBy=Text-Fabric\r\n",
      "@dateWritten=2017-09-05T10:40:08Z\r\n",
      "\r\n",
      "400518\tp\r\n",
      "400523\tp\r\n",
      "400536\tp\r\n",
      "400538\ts\r\n",
      "400544\ts\r\n",
      "400549\tp\r\n",
      "400553\tp\r\n",
      "400578\ts\r\n",
      "s\r\n",
      "400595\tp\r\n"
     ]
    }
   ],
   "source": [
    "!cat semantic/semNumber.tf"
   ]
  },
  {
   "cell_type": "markdown",
   "metadata": {
    "slideshow": {
     "slide_type": "subslide"
    }
   },
   "source": [
    "## Use the new feature"
   ]
  },
  {
   "cell_type": "code",
   "execution_count": 142,
   "metadata": {
    "scrolled": true,
    "slideshow": {
     "slide_type": "fragment"
    }
   },
   "outputs": [
    {
     "name": "stdout",
     "output_type": "stream",
     "text": [
      "This is Text-Fabric 2.3.10\n",
      "Api reference : https://github.com/ETCBC/text-fabric/wiki/Api\n",
      "Tutorial      : https://github.com/ETCBC/text-fabric/blob/master/docs/tutorial.ipynb\n",
      "Data sources  : https://github.com/ETCBC/text-fabric-data\n",
      "Data docs     : https://etcbc.github.io/text-fabric-data\n",
      "Shebanq docs  : https://shebanq.ancient-data.org/text\n",
      "Slack team    : https://shebanq.slack.com/signup\n",
      "Questions? Ask shebanq@ancient-data.org for an invite to Slack\n",
      "64 features found and 0 ignored\n"
     ]
    }
   ],
   "source": [
    "LOCATIONS = [\n",
    "    '~/Downloads/text-fabric-data',\n",
    "    '~/text-fabric-data',\n",
    "    '~/github/text-fabric-data',\n",
    "    '/mnt/shared/text-fabric-data',\n",
    "]\n",
    "\n",
    "TF_G = Fabric(\n",
    "    locations=LOCATIONS+['.'], \n",
    "    modules=['greek/sblgnt', 'semantic'],\n",
    ")"
   ]
  },
  {
   "cell_type": "code",
   "execution_count": 143,
   "metadata": {
    "slideshow": {
     "slide_type": "subslide"
    }
   },
   "outputs": [
    {
     "name": "stdout",
     "output_type": "stream",
     "text": [
      "  0.00s loading features ...\n",
      "   |     0.05s B Number               from /Users/dirk/github/text-fabric-data/greek/sblgnt\n",
      "   |     0.00s T semNumber            from /Users/dirk/github/text-fabric/presentations/Leipzig2017-07-06/semantic\n",
      "   |     0.00s Feature overview: 61 for nodes; 2 for edges; 1 configs; 7 computed\n",
      "  1.35s All features loaded/computed - for details use loadLog()\n"
     ]
    }
   ],
   "source": [
    "apiG = TF_G.load('Number semNumber')\n",
    "doGreek()"
   ]
  },
  {
   "cell_type": "markdown",
   "metadata": {
    "slideshow": {
     "slide_type": "subslide"
    }
   },
   "source": [
    "### Observe it in action"
   ]
  },
  {
   "cell_type": "code",
   "execution_count": 144,
   "metadata": {
    "slideshow": {
     "slide_type": "fragment"
    }
   },
   "outputs": [
    {
     "name": "stdout",
     "output_type": "stream",
     "text": [
      "NP 400518: semantically \"p\", words marked as Singular Singular Singular\n",
      "NP 400523: semantically \"p\", words marked as Plural\n",
      "NP 400536: semantically \"p\", words marked as Plural\n",
      "NP 400538: semantically \"s\", words marked as Singular\n",
      "NP 400544: semantically \"s\", words marked as Singular Singular Plural Plural Singular\n",
      "NP 400549: semantically \"p\", words marked as Plural Plural\n",
      "NP 400553: semantically \"p\", words marked as Plural Plural Plural Plural Singular Singular Singular Plural\n",
      "NP 400578: semantically \"s\", words marked as Singular Singular Singular Singular Plural Singular Singular\n",
      "NP 400579: semantically \"s\", words marked as Singular Singular Singular Plural Singular Singular\n",
      "NP 400595: semantically \"p\", words marked as Plural\n"
     ]
    }
   ],
   "source": [
    "for np in NPs:\n",
    "    semNumber = F.semNumber.v(np)\n",
    "    if not semNumber: continue\n",
    "    words = L.d(np, otype='word')\n",
    "    print('NP {}: semantically \"{}\", words marked as {}'.format(\n",
    "        np,\n",
    "        semNumber,\n",
    "        ' '.join(F.Number.v(w) for w in words if F.Number.v(w)),\n",
    "    ))"
   ]
  },
  {
   "cell_type": "markdown",
   "metadata": {
    "slideshow": {
     "slide_type": "slide"
    }
   },
   "source": [
    "# Sabbath\n",
    "Have a look at the (un)finished work and see whether it is good."
   ]
  },
  {
   "cell_type": "markdown",
   "metadata": {
    "collapsed": true,
    "slideshow": {
     "slide_type": "subslide"
    }
   },
   "source": [
    "## Janet Dyk\n",
    "\n",
    "Verbal valence flowchart.\n",
    "\n",
    "![val](valency.png)"
   ]
  },
  {
   "cell_type": "markdown",
   "metadata": {
    "slideshow": {
     "slide_type": "subslide"
    }
   },
   "source": [
    "## Martijn Naaijer\n",
    "\n",
    "Won a grassroots price for setting up a theology course based on SHEBANQ, Jupyter, and R.\n",
    "See [Python course here](https://shebanq.jove.surfsara.nl/user/dirkr/notebooks/shared/martijn/Python_Course/Introduction_to_text_fabric.ipynb).\n",
    "\n",
    "![poster](PosterGrassroots_Naaijer.jpg)"
   ]
  },
  {
   "cell_type": "markdown",
   "metadata": {
    "slideshow": {
     "slide_type": "subslide"
    }
   },
   "source": [
    "## Christiaan Erwich\n",
    "\n",
    "Tries to track who is who in the Psalms, and is deeply into graph visualization.\n",
    "![doxo](doxology.pdf)"
   ]
  },
  {
   "cell_type": "markdown",
   "metadata": {
    "slideshow": {
     "slide_type": "subslide"
    }
   },
   "source": [
    "## Cody Kingham\n",
    "\n",
    "Helped to convert the SBL Greek New Testament to the Text-Fabric format.\n",
    "Tries to\n",
    "[explain to the world](http://www.codykingham.com/etcbc/datacreation)\n",
    "how the ETCBC encoded the Hebrew Bible during a 40 year long struggle with computers.\n",
    "\n",
    "![schema](ps4.p_description.png)"
   ]
  },
  {
   "cell_type": "markdown",
   "metadata": {
    "slideshow": {
     "slide_type": "subslide"
    }
   },
   "source": [
    "## Dirk Roorda\n",
    "\n",
    "Tries to recombine everything.\n",
    "\n",
    "[Phonetic transcription of Hebrew](https://rawgit.com/ETCBC/text-fabric/master/phono/phonoTf.html)\n",
    "\n",
    "![phono](phono_tests.png)"
   ]
  },
  {
   "cell_type": "markdown",
   "metadata": {
    "slideshow": {
     "slide_type": "subslide"
    }
   },
   "source": [
    "[Parallel passages](https://shebanq.ancient-data.org/shebanq/static/docs/tools/parallel/parallels.html)\n",
    "\n",
    "See it in action on SHEBANQ:\n",
    "[etcbc4b Genesis 10:1](https://shebanq.ancient-data.org/hebrew/text?qactive=hlcustom&qsel_one=grey&qpub=x&qget=x&wactive=hlcustom&wsel_one=gray&wpub=x&wget=x&nactive=hlcustom&nsel_one=black&npub=x&nget=v&chapter=10&lang=en&book=Genesis&qw=q&tr=hb&tp=txt_tb1&iid=Mnxjcm9zc3JlZg__&verse=1&version=4b&mr=m&page=1&wd4_statfl=v&ph_arela=v&wd4_statrl=v&sn_an=v&cl=v&wd1_lang=x&wd1_subpos=x&wd2_person=v&sp_rela=v&wd1_pdp=x&sn_n=v&wd3_uvf=x&ph_fun=v&wd1_nmtp=v&gl=v&sp_n=v&pt=v&ph_an=v&ph_typ=x&cl_typ=v&tt=v&wd4_statro=x&wd3_vbs=x&wd1=v&tl=x&wd3=x&wd4=v&wd2_gender=v&ph=v&wd3_vbe=v&wd1_pos=v&ph_det=v&ph_rela=x&wd4_statfo=x&tl_tlv=x&wd2_stem=v&wd2_state=v&ht=v&ph_n=v&tl_tlc=x&cl_tab=v&wd3_nme=x&hl=v&cl_par=v&cl_an=v&cl_n=v&wd3_prs=v&wd3_pfm=x&sp=v&cl_code=v&ht_hk=v&wd2=v&hl_hlc=x&cl_rela=v&wd2_gnumber=v&wd2_tense=v&cl_txt=v&wd1_n=x&sn=v&ht_ht=v&hl_hlv=v&pref=alt)\n",
    "\n",
    "![parallel](parallel.png)"
   ]
  },
  {
   "cell_type": "markdown",
   "metadata": {
    "slideshow": {
     "slide_type": "subslide"
    }
   },
   "source": [
    "## Stand-off markup for changing sources\n",
    "\n",
    "(it is not a nightmare)\n",
    "\n",
    "[Versioning](https://github.com/ETCBC/text-fabric/blob/master/Versions/etcbc-versions.ipynb)"
   ]
  },
  {
   "cell_type": "markdown",
   "metadata": {
    "slideshow": {
     "slide_type": "slide"
    }
   },
   "source": [
    "<img align=\"right\" src=\"tf-small.png\"/>\n",
    "<p style=\"float: right;\">google <a href=\"https://github.com/ETCBC/text-fabric/wiki\">github text-fabric wiki</a></p>\n",
    "\n",
    "\n",
    "# Thanks\n",
    "\n",
    "###  [dirk.roorda@dans.knaw.nl](mailto:dirk.roorda@dans.knaw.nl)\n",
    "\n",
    "[Linguistic Annotation and Philology Workshop](http://www.dh.uni-leipzig.de/wo/laphw/)\n",
    "Leipzig, July 6-7, 2017\n",
    "\n",
    "[<img align=\"right\" src=\"DANS-logo.png\" width=\"400\"/>](https://dans.knaw.nl/en/front-page?set_language=en)"
   ]
  }
 ],
 "metadata": {
  "celltoolbar": "Slideshow",
  "kernelspec": {
   "display_name": "Python 3",
   "language": "python",
   "name": "python3"
  },
  "language_info": {
   "codemirror_mode": {
    "name": "ipython",
    "version": 3
   },
   "file_extension": ".py",
   "mimetype": "text/x-python",
   "name": "python",
   "nbconvert_exporter": "python",
   "pygments_lexer": "ipython3",
   "version": "3.6.2"
  },
  "livereveal": {
   "progress": true,
   "scroll": true,
   "start_slideshow_at": "selected",
   "theme": "simple",
   "transition": "slide"
  }
 },
 "nbformat": 4,
 "nbformat_minor": 2
}
