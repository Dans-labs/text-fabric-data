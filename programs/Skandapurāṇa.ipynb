{
 "cells": [
  {
   "cell_type": "markdown",
   "metadata": {},
   "source": [
    "<img src=\"images/skanda.jpg\" width=\"400\"/>\n",
    "<img src=\"images/tficon-small.png\" width=\"70\"/>\n",
    "\n",
    "# Tutorial\n",
    "\n",
    "We show a few things that you can do with the Skandapurāṇa corpus in Text-Fabric format."
   ]
  },
  {
   "cell_type": "markdown",
   "metadata": {},
   "source": [
    "# Load modules"
   ]
  },
  {
   "cell_type": "code",
   "execution_count": 1,
   "metadata": {},
   "outputs": [],
   "source": [
    "import os"
   ]
  },
  {
   "cell_type": "code",
   "execution_count": 2,
   "metadata": {},
   "outputs": [],
   "source": [
    "from tf.fabric import Fabric"
   ]
  },
  {
   "cell_type": "code",
   "execution_count": 3,
   "metadata": {},
   "outputs": [],
   "source": [
    "SK = os.path.expanduser('~/github/Dans-labs/text-fabric-data/sanskrit/sp/tf')"
   ]
  },
  {
   "cell_type": "markdown",
   "metadata": {},
   "source": [
    "# Start Text-Fabric"
   ]
  },
  {
   "cell_type": "code",
   "execution_count": 4,
   "metadata": {},
   "outputs": [
    {
     "name": "stdout",
     "output_type": "stream",
     "text": [
      "This is Text-Fabric 5.5.18\n",
      "Api reference : https://dans-labs.github.io/text-fabric/Api/General/\n",
      "Tutorial      : https://github.com/Dans-labs/text-fabric/blob/master/docs/tutorial.ipynb\n",
      "Example data  : https://github.com/Dans-labs/text-fabric-data\n",
      "\n",
      "11 features found and 0 ignored\n"
     ]
    }
   ],
   "source": [
    "TF = Fabric(locations=[SK])"
   ]
  },
  {
   "cell_type": "markdown",
   "metadata": {},
   "source": [
    "# Load features"
   ]
  },
  {
   "cell_type": "code",
   "execution_count": 5,
   "metadata": {},
   "outputs": [
    {
     "name": "stdout",
     "output_type": "stream",
     "text": [
      "  0.00s loading features ...\n",
      "   |     0.00s B name                 from /Users/dirk/github/Dans-labs/text-fabric-data/sanskrit/sp/tf\n",
      "   |     0.00s B number               from /Users/dirk/github/Dans-labs/text-fabric-data/sanskrit/sp/tf\n",
      "   |     0.15s B dchar                from /Users/dirk/github/Dans-labs/text-fabric-data/sanskrit/sp/tf\n",
      "   |     0.03s B dword                from /Users/dirk/github/Dans-labs/text-fabric-data/sanskrit/sp/tf\n",
      "   |     0.05s B last                 from /Users/dirk/github/Dans-labs/text-fabric-data/sanskrit/sp/tf\n",
      "   |     0.03s B tword                from /Users/dirk/github/Dans-labs/text-fabric-data/sanskrit/sp/tf\n",
      "   |     0.00s B volume               from /Users/dirk/github/Dans-labs/text-fabric-data/sanskrit/sp/tf\n",
      "  0.70s All features loaded/computed - for details use loadLog()\n"
     ]
    }
   ],
   "source": [
    "api = TF.load('volume dchar dword tword last number name')\n",
    "api.makeAvailableIn(locals())"
   ]
  },
  {
   "cell_type": "markdown",
   "metadata": {},
   "source": [
    "# Work\n",
    "\n",
    "Now we can do real work.\n",
    "\n",
    "We start with basic exploration."
   ]
  },
  {
   "cell_type": "markdown",
   "metadata": {},
   "source": [
    "# Showing"
   ]
  },
  {
   "cell_type": "markdown",
   "metadata": {},
   "source": [
    "Line 2 in verse 3 in document 4:"
   ]
  },
  {
   "cell_type": "code",
   "execution_count": 6,
   "metadata": {},
   "outputs": [
    {
     "name": "stdout",
     "output_type": "stream",
     "text": [
      "तेजसा जगदाविश्य आजगाम तदन्तिकम् \n"
     ]
    }
   ],
   "source": [
    "node = T.nodeFromSection(('004', 3, 2))\n",
    "print(T.text(L.d(node, otype='char')))"
   ]
  },
  {
   "cell_type": "markdown",
   "metadata": {},
   "source": [
    "A function to print a line with section indicator.\n",
    "The line will be printed both in devanagari and in transcription."
   ]
  },
  {
   "cell_type": "code",
   "execution_count": 7,
   "metadata": {},
   "outputs": [],
   "source": [
    "def printLine(line, caption=False):\n",
    "  section = T.sectionFromNode(line)\n",
    "  words = L.d(line, otype='word')\n",
    "  if caption:\n",
    "    print('{} {}:{}'.format(*section))\n",
    "  print(f'  {T.text(words, fmt=\"text-orig-word\")}')\n",
    "  print(f'  {T.text(words, fmt=\"text-trans-word\")}')"
   ]
  },
  {
   "cell_type": "markdown",
   "metadata": {},
   "source": [
    "We print the line with node number 400,000.\n",
    "Note that this number has no recognizable meaning, it is just a kind of bar code."
   ]
  },
  {
   "cell_type": "code",
   "execution_count": 8,
   "metadata": {},
   "outputs": [
    {
     "name": "stdout",
     "output_type": "stream",
     "text": [
      "058 2:2\n",
      "  सा तुष्टा वरदानेन चिन्तयन्ती तदा वरम् \n",
      "  sā tuṣṭā varadānena cintayantī tadā varam \n"
     ]
    }
   ],
   "source": [
    "printLine(400000, caption=True)"
   ]
  },
  {
   "cell_type": "markdown",
   "metadata": {},
   "source": [
    "Text 40, divided in verses and lines:"
   ]
  },
  {
   "cell_type": "code",
   "execution_count": 9,
   "metadata": {},
   "outputs": [],
   "source": [
    "def printText(name):\n",
    "  node = T.nodeFromSection((name,))\n",
    "  print(f'Text {name}')\n",
    "  for verse in L.d(node, otype='verse'):\n",
    "    print(f'verse {F.number.v(verse)}')\n",
    "    for line in L.d(verse, otype='line'):\n",
    "      print(f' line {F.number.v(line)}')\n",
    "      printLine(line)"
   ]
  },
  {
   "cell_type": "code",
   "execution_count": 10,
   "metadata": {},
   "outputs": [
    {
     "name": "stdout",
     "output_type": "stream",
     "text": [
      "Text 040\n",
      "verse 1\n",
      " line 0\n",
      "  सुशर्मोवाच \n",
      "  suśarmovāca \n",
      " line 1\n",
      "  अतः परं प्रवक्ष्यामि कुम्भीपाकं महाभयम् \n",
      "  ataḥ paraṃ pravakṣyāmi kumbhīpākaṃ mahābhayam \n",
      " line 2\n",
      "  श्रोतॄणामपि तत्कालं भयदं ह्यकृतात्मनाम् \n",
      "  śrotṝṇāmapi tatkālaṃ bhayadaṃ hyakṛtātmanām \n",
      "verse 2\n",
      " line 1\n",
      "  आयस्यस्तत्र बह्व्यश्च अञ्जनाचलसंनिभाः \n",
      "  āyasyastatra bahvyaśca añjanācalasaṃnibhāḥ \n",
      " line 2\n",
      "  कुम्भ्यस्तैलेन संपूर्णा वह्नितप्ताः सुदुःसहाः \n",
      "  kumbhyastailena saṃpūrṇā vahnitaptāḥ suduḥsahāḥ \n",
      "verse 3\n",
      " line 1\n",
      "  दुष्कृतींस्तासु तप्तासु बद्ध्वा बद्ध्वा भयावहाः \n",
      "  duṣkṛtīṃstāsu taptāsu baddhvā baddhvā bhayāvahāḥ \n",
      " line 2\n",
      "  चरन्ति राक्षसा घोराः क्रन्दमानान्सुभैरवम् \n",
      "  caranti rākṣasā ghorāḥ krandamānānsubhairavam \n",
      "verse 4\n",
      " line 1\n",
      "  वर्षकोटीश्चतस्रश्च पच्यन्ते तत्र जन्तवः \n",
      "  varṣakoṭīścatasraśca pacyante tatra jantavaḥ \n",
      " line 2\n",
      "  ये तानिमान्निबोध त्वमुच्यमानान्मया विभो \n",
      "  ye tānimānnibodha tvamucyamānānmayā vibho \n",
      "verse 5\n",
      " line 1\n",
      "  इष्टकापाककारी च कुम्भपाचक एव च \n",
      "  iṣṭakāpākakārī ca kumbhapācaka eva ca \n",
      " line 2\n",
      "  तौ विनाशयते यश्च अग्निदो यो गृहेषु च \n",
      "  tau vināśayate yaśca agnido yo gṛheṣu ca \n",
      "verse 6\n",
      " line 1\n",
      "  वने खले ऽथ गोष्ठे वा अन्नपाकविनाशकः \n",
      "  vane khale 'tha goṣṭhe vā annapākavināśakaḥ \n",
      " line 2\n",
      "  भोजने विघ्नकारी च यज्ञहा यज्ञदाहकः \n",
      "  bhojane vighnakārī ca yajñahā yajñadāhakaḥ \n",
      "verse 7\n",
      " line 1\n",
      "  कूटकर्मकरो यश्च कूटसाक्षी तथैव च \n",
      "  kūṭakarmakaro yaśca kūṭasākṣī tathaiva ca \n",
      " line 2\n",
      "  मिथ्याग्निचयनी चैव मिथ्याग्न्याहरणी तथा \n",
      "  mithyāgnicayanī caiva mithyāgnyāharaṇī tathā \n",
      "verse 8\n",
      " line 1\n",
      "  मिथ्यापाकप्रदाता च वेदानां यश्च दूषकः \n",
      "  mithyāpākapradātā ca vedānāṃ yaśca dūṣakaḥ \n",
      " line 2\n",
      "  हर्तोपकरणानां च शिल्पिनां यो नराधमः \n",
      "  hartopakaraṇānāṃ ca śilpināṃ yo narādhamaḥ \n",
      "verse 9\n",
      " line 1\n",
      "  एवं ते यातितास्तत्र विश्रामं पुनरुच्छ्रये \n",
      "  evaṃ te yātitāstatra viśrāmaṃ punarucchraye \n",
      " line 2\n",
      "  संप्राप्य नरके भूयो निपतन्ति क्षयान्तिकम् \n",
      "  saṃprāpya narake bhūyo nipatanti kṣayāntikam \n",
      "verse 10\n",
      " line 1\n",
      "  य इमं बहुदुष्कृतान्तपाकं शृणुयान्मनुजो हि कर्मवासम् \n",
      "  ya imaṃ bahuduṣkṛtāntapākaṃ śṛṇuyānmanujo hi karmavāsam \n",
      " line 2\n",
      "  न स गच्छति तं दुरात्मतापं नरकं कुम्भिसमाख्यमुज्झिताघः \n",
      "  na sa gacchati taṃ durātmatāpaṃ narakaṃ kumbhisamākhyamujjhitāghaḥ \n",
      "verse 999\n",
      " line 9\n",
      "  स्कन्दपुराणे चत्वारिंशो ऽध्यायः \n",
      "  skandapurāṇe catvāriṃśo 'dhyāyaḥ \n"
     ]
    }
   ],
   "source": [
    "printText('040')"
   ]
  },
  {
   "cell_type": "markdown",
   "metadata": {},
   "source": [
    "## Counting\n",
    "\n",
    "How many letters?"
   ]
  },
  {
   "cell_type": "code",
   "execution_count": 11,
   "metadata": {},
   "outputs": [
    {
     "data": {
      "text/plain": [
       "347770"
      ]
     },
     "execution_count": 11,
     "metadata": {},
     "output_type": "execute_result"
    }
   ],
   "source": [
    "len(F.otype.s('char'))"
   ]
  },
  {
   "cell_type": "markdown",
   "metadata": {},
   "source": [
    "How many words?"
   ]
  },
  {
   "cell_type": "code",
   "execution_count": 12,
   "metadata": {},
   "outputs": [
    {
     "data": {
      "text/plain": [
       "45101"
      ]
     },
     "execution_count": 12,
     "metadata": {},
     "output_type": "execute_result"
    }
   ],
   "source": [
    "len(F.otype.s('word'))"
   ]
  },
  {
   "cell_type": "markdown",
   "metadata": {},
   "source": [
    "How many lines?"
   ]
  },
  {
   "cell_type": "code",
   "execution_count": 13,
   "metadata": {},
   "outputs": [
    {
     "data": {
      "text/plain": [
       "10012"
      ]
     },
     "execution_count": 13,
     "metadata": {},
     "output_type": "execute_result"
    }
   ],
   "source": [
    "len(F.otype.s('line'))"
   ]
  },
  {
   "cell_type": "markdown",
   "metadata": {},
   "source": [
    "How many verses?"
   ]
  },
  {
   "cell_type": "code",
   "execution_count": 14,
   "metadata": {},
   "outputs": [
    {
     "data": {
      "text/plain": [
       "4532"
      ]
     },
     "execution_count": 14,
     "metadata": {},
     "output_type": "execute_result"
    }
   ],
   "source": [
    "len(F.otype.s('verse'))"
   ]
  },
  {
   "cell_type": "markdown",
   "metadata": {},
   "source": [
    "How many texts?"
   ]
  },
  {
   "cell_type": "code",
   "execution_count": 15,
   "metadata": {},
   "outputs": [
    {
     "data": {
      "text/plain": [
       "75"
      ]
     },
     "execution_count": 15,
     "metadata": {},
     "output_type": "execute_result"
    }
   ],
   "source": [
    "len(F.otype.s('text'))"
   ]
  },
  {
   "cell_type": "markdown",
   "metadata": {},
   "source": [
    "Frequency list of the devanagari characters:"
   ]
  },
  {
   "cell_type": "code",
   "execution_count": 16,
   "metadata": {},
   "outputs": [
    {
     "name": "stdout",
     "output_type": "stream",
     "text": [
      "45382 x ्\n",
      "28360 x ा\n",
      "25100 x त\n",
      "19963 x र\n",
      "17067 x व\n",
      "15626 x म\n",
      "15421 x ि\n",
      "15097 x न\n",
      "14838 x य\n",
      "14379 x स\n",
      "10345 x े\n",
      " 9746 x द\n",
      " 9473 x ु\n",
      " 9468 x प\n",
      " 9218 x ं\n",
      " 8263 x क\n",
      " 6714 x च\n",
      " 6498 x ः\n",
      " 6211 x श\n",
      " 5790 x ो\n",
      " 4754 x ह\n",
      " 4605 x ष\n",
      " 4430 x भ\n",
      " 4187 x ग\n",
      " 3376 x ण\n",
      " 3209 x ल\n",
      " 3074 x ी\n",
      " 2957 x ज\n",
      " 2794 x ध\n",
      " 2729 x ै\n",
      " 2597 x ृ\n",
      " 2308 x थ\n",
      " 1831 x ू\n",
      " 1587 x ब\n",
      " 1204 x ट\n",
      "  980 x ऽ\n",
      "  963 x अ\n",
      "  818 x ौ\n",
      "  706 x उ\n",
      "  655 x ख\n",
      "  655 x ञ\n",
      "  574 x छ\n",
      "  570 x ङ\n",
      "  491 x ए\n",
      "  436 x इ\n",
      "  431 x घ\n",
      "  330 x ड\n",
      "  311 x ठ\n",
      "  295 x आ\n",
      "  228 x †\n",
      "  218 x फ\n",
      "  182 x -\n",
      "   90 x ऋ\n",
      "   77 x ढ\n",
      "   60 x ऊ\n",
      "   36 x ॄ\n",
      "   26 x ई\n",
      "   15 x ऐ\n",
      "   13 x झ\n",
      "    4 x ओ\n",
      "    4 x औ\n",
      "    1 x .\n"
     ]
    }
   ],
   "source": [
    "for (d, f) in F.dchar.freqList():\n",
    "  print(f'{f:>5} x {d}')"
   ]
  },
  {
   "cell_type": "markdown",
   "metadata": {},
   "source": [
    "How many distinct words, how many hapaxes, and the frequency list of the top 20:"
   ]
  },
  {
   "cell_type": "code",
   "execution_count": 17,
   "metadata": {},
   "outputs": [
    {
     "name": "stdout",
     "output_type": "stream",
     "text": [
      "21980 distinct words\n"
     ]
    }
   ],
   "source": [
    "freqWords = F.dword.freqList()\n",
    "print(f'{len(freqWords)} distinct words')"
   ]
  },
  {
   "cell_type": "code",
   "execution_count": 18,
   "metadata": {},
   "outputs": [
    {
     "name": "stdout",
     "output_type": "stream",
     "text": [
      "\n",
      "17932 hapaxes\n",
      "अकम्पनो\n",
      "अकरोत्किं\n",
      "अकरोत्किमिति\n",
      "अकरोदुदकक्रियाम्\n",
      "अकरोद्भैरवं\n",
      "अकस्मात्सम्प्रदृश्यते\n",
      "अकस्मादथ\n",
      "अकस्मादभवत्सर्वं\n",
      "अकार्याणि\n",
      "अकिंचना\n"
     ]
    }
   ],
   "source": [
    "print()\n",
    "hapaxes = [x[0] for x in freqWords if x[1] == 1]\n",
    "print(f'{len(hapaxes)} hapaxes')\n",
    "print('\\n'.join(hapaxes[0:10]))"
   ]
  },
  {
   "cell_type": "code",
   "execution_count": 19,
   "metadata": {},
   "outputs": [
    {
     "name": "stdout",
     "output_type": "stream",
     "text": [
      " 1312 x च\n",
      "  527 x स\n",
      "  450 x उवाच\n",
      "  419 x न\n",
      "  330 x ते\n",
      "  265 x नमः\n",
      "  246 x सनत्कुमार\n",
      "  231 x चैव\n",
      "  221 x तु\n",
      "  195 x तदा\n",
      "  191 x तं\n",
      "  191 x ततो\n",
      "  184 x वै\n",
      "  175 x हि\n",
      "  166 x तथा\n",
      "  162 x -\n",
      "  156 x नमो\n",
      "  153 x मे\n",
      "  142 x तत्र\n",
      "  142 x व्यास\n"
     ]
    }
   ],
   "source": [
    "for (d, f) in freqWords[0:20]:\n",
    "  print(f'{f:>5} x {d}')"
   ]
  },
  {
   "cell_type": "markdown",
   "metadata": {},
   "source": [
    "# Parallels\n",
    "\n",
    "We find parallels between lines.\n",
    "\n",
    "We compare each pair of lines in the following way:\n",
    "\n",
    "* the set of devanagari letters occurring in each line is computed;\n",
    "* the similarity of two lines is defined as the number of characters;\n",
    "  in the intersection of both sets divided by the number of lines in the union of both sets;\n",
    "* note that if two lines have the same sets of characters, their similarity is 1;\n",
    "* we store the similarity of each pair of lines that are sufficiently similar;\n",
    "* we indicate similarity thresholds: numbers between 0 and 1. If two lines have a similarity\n",
    "  above the similarity threshold in use, we consider them similar.\n",
    "* we play with similarity thresholds and list the similar lines for those thresholds."
   ]
  },
  {
   "cell_type": "code",
   "execution_count": 20,
   "metadata": {},
   "outputs": [],
   "source": [
    "def sim(a, b): return len(a & b) / len(a | b)"
   ]
  },
  {
   "cell_type": "markdown",
   "metadata": {},
   "source": [
    "## Preparation\n",
    "\n",
    "Comparing all lines with each other takes a lot of computations: roughly 10,000 * 10,000 / 2,\n",
    "or 50,000,000.\n",
    "\n",
    "It pays of to do as little work per similarity comparison.\n",
    "\n",
    "On beforehand, we map each line node to the set of characters it contains."
   ]
  },
  {
   "cell_type": "code",
   "execution_count": 21,
   "metadata": {},
   "outputs": [],
   "source": [
    "lines = F.otype.s('line')\n",
    "\n",
    "def prepare():\n",
    "  lineSets = {}\n",
    "  for line in lines:\n",
    "    chars = set()\n",
    "    for word in L.d(line, otype='word'):\n",
    "      chars |= set(F.dword.v(word))\n",
    "    lineSets[line] = chars\n",
    "  return lineSets"
   ]
  },
  {
   "cell_type": "markdown",
   "metadata": {},
   "source": [
    "If 2 lines are too dissimilar, we will not store their similarity, in order to save space."
   ]
  },
  {
   "cell_type": "code",
   "execution_count": 22,
   "metadata": {},
   "outputs": [],
   "source": [
    "MIN_THRESHOLD = 0.75"
   ]
  },
  {
   "cell_type": "code",
   "execution_count": 23,
   "metadata": {},
   "outputs": [],
   "source": [
    "lineSets = prepare()"
   ]
  },
  {
   "cell_type": "markdown",
   "metadata": {},
   "source": [
    "## Filling the similarity matrix"
   ]
  },
  {
   "cell_type": "code",
   "execution_count": 24,
   "metadata": {},
   "outputs": [],
   "source": [
    "def compare():\n",
    "  nLines = len(lines)\n",
    "  indent(reset=True)\n",
    "  matrix = {}\n",
    "  info(f'{int(nLines * nLines / 2)} comparisons to do')\n",
    "  c = 0\n",
    "  k = 0\n",
    "  chunkSize = 1000000\n",
    "  info(f'{c:>8} comparisons and {len(matrix):>8} similarities stored')\n",
    "  for i in range(0, nLines - 1):\n",
    "    for j in range(i + 1, nLines):\n",
    "      c += 1\n",
    "      k += 1\n",
    "      if k == chunkSize:\n",
    "        k = 0\n",
    "        info(f'{c:>8} comparisons and {len(matrix):>8} similarities stored')\n",
    "      li = lines[i]\n",
    "      lj = lines[j]\n",
    "      s = sim(lineSets[li], lineSets[lj])\n",
    "      if s >= MIN_THRESHOLD:\n",
    "        matrix[(li, lj)] = s\n",
    "  info(f'{c:>8} comparisons and {len(matrix):>8} similarities stored')\n",
    "  return matrix"
   ]
  },
  {
   "cell_type": "code",
   "execution_count": 25,
   "metadata": {},
   "outputs": [
    {
     "name": "stdout",
     "output_type": "stream",
     "text": [
      "  0.00s 50120072 comparisons to do\n",
      "  0.00s        0 comparisons and        0 similarities stored\n",
      "  3.24s  1000000 comparisons and     1618 similarities stored\n",
      "  6.82s  2000000 comparisons and     3414 similarities stored\n",
      "    10s  3000000 comparisons and     4743 similarities stored\n",
      "    14s  4000000 comparisons and     5797 similarities stored\n",
      "    17s  5000000 comparisons and     7135 similarities stored\n",
      "    20s  6000000 comparisons and     9564 similarities stored\n",
      "    23s  7000000 comparisons and    12522 similarities stored\n",
      "    26s  8000000 comparisons and    15407 similarities stored\n",
      "    30s  9000000 comparisons and    17576 similarities stored\n",
      "    33s 10000000 comparisons and    19895 similarities stored\n",
      "    36s 11000000 comparisons and    21592 similarities stored\n",
      "    39s 12000000 comparisons and    22666 similarities stored\n",
      "    43s 13000000 comparisons and    23752 similarities stored\n",
      "    46s 14000000 comparisons and    26474 similarities stored\n",
      "    49s 15000000 comparisons and    29766 similarities stored\n",
      "    52s 16000000 comparisons and    32632 similarities stored\n",
      "    55s 17000000 comparisons and    34794 similarities stored\n",
      "    59s 18000000 comparisons and    37157 similarities stored\n",
      " 1m 02s 19000000 comparisons and    38849 similarities stored\n",
      " 1m 05s 20000000 comparisons and    40391 similarities stored\n",
      " 1m 09s 21000000 comparisons and    41497 similarities stored\n",
      " 1m 12s 22000000 comparisons and    43538 similarities stored\n",
      " 1m 15s 23000000 comparisons and    46106 similarities stored\n",
      " 1m 18s 24000000 comparisons and    48800 similarities stored\n",
      " 1m 22s 25000000 comparisons and    50646 similarities stored\n",
      " 1m 25s 26000000 comparisons and    52862 similarities stored\n",
      " 1m 28s 27000000 comparisons and    54192 similarities stored\n",
      " 1m 32s 28000000 comparisons and    56580 similarities stored\n",
      " 1m 36s 29000000 comparisons and    58308 similarities stored\n",
      " 1m 39s 30000000 comparisons and    60050 similarities stored\n",
      " 1m 42s 31000000 comparisons and    62326 similarities stored\n",
      " 1m 45s 32000000 comparisons and    64145 similarities stored\n",
      " 1m 49s 33000000 comparisons and    66111 similarities stored\n",
      " 1m 52s 34000000 comparisons and    68217 similarities stored\n",
      " 1m 55s 35000000 comparisons and    70322 similarities stored\n",
      " 1m 58s 36000000 comparisons and    72092 similarities stored\n",
      " 2m 02s 37000000 comparisons and    73469 similarities stored\n",
      " 2m 05s 38000000 comparisons and    75647 similarities stored\n",
      " 2m 08s 39000000 comparisons and    77309 similarities stored\n",
      " 2m 11s 40000000 comparisons and    78685 similarities stored\n",
      " 2m 14s 41000000 comparisons and    80136 similarities stored\n",
      " 2m 18s 42000000 comparisons and    81425 similarities stored\n",
      " 2m 21s 43000000 comparisons and    83350 similarities stored\n",
      " 2m 24s 44000000 comparisons and    85025 similarities stored\n",
      " 2m 27s 45000000 comparisons and    86545 similarities stored\n",
      " 2m 31s 46000000 comparisons and    88146 similarities stored\n",
      " 2m 34s 47000000 comparisons and    89414 similarities stored\n",
      " 2m 37s 48000000 comparisons and    90588 similarities stored\n",
      " 2m 41s 49000000 comparisons and    91737 similarities stored\n",
      " 2m 44s 50000000 comparisons and    93469 similarities stored\n",
      " 2m 44s 50115066 comparisons and    93603 similarities stored\n"
     ]
    }
   ],
   "source": [
    "matrix = compare()"
   ]
  },
  {
   "cell_type": "markdown",
   "metadata": {},
   "source": [
    "# Selecting the most similar lines\n",
    "\n",
    "We filter the matrix for similarities above a certain threshold."
   ]
  },
  {
   "cell_type": "code",
   "execution_count": 26,
   "metadata": {},
   "outputs": [],
   "source": [
    "def filterMatrix(matrix, threshold):\n",
    "  return {\n",
    "    (li, lj, s)\n",
    "    for ((li, lj), s) in matrix.items()\n",
    "    if s >= threshold\n",
    "  }"
   ]
  },
  {
   "cell_type": "markdown",
   "metadata": {},
   "source": [
    "How many have similarity 1?"
   ]
  },
  {
   "cell_type": "code",
   "execution_count": 27,
   "metadata": {},
   "outputs": [
    {
     "data": {
      "text/plain": [
       "32215"
      ]
     },
     "execution_count": 27,
     "metadata": {},
     "output_type": "execute_result"
    }
   ],
   "source": [
    "matrix100 = filterMatrix(matrix, 1)\n",
    "len(matrix100)"
   ]
  },
  {
   "cell_type": "markdown",
   "metadata": {},
   "source": [
    "How many of these are identical pairs?"
   ]
  },
  {
   "cell_type": "code",
   "execution_count": 28,
   "metadata": {},
   "outputs": [
    {
     "data": {
      "text/plain": [
       "32180"
      ]
     },
     "execution_count": 28,
     "metadata": {},
     "output_type": "execute_result"
    }
   ],
   "source": [
    "def devText(line):\n",
    "  words = L.d(line, otype='word')\n",
    "  return T.text(words, fmt='text-orig-word')\n",
    "\n",
    "def lineEq(li, lj):\n",
    "  return devText(li) == devText(lj)\n",
    "\n",
    "matrixEq = {\n",
    "  (li, lj)\n",
    "  for (li, lj, s) in matrix100\n",
    "  if lineEq(li, lj)\n",
    "}\n",
    "\n",
    "len(matrixEq)"
   ]
  },
  {
   "cell_type": "markdown",
   "metadata": {},
   "source": [
    "Now list the top 100 of similar lines, excluding the perfectly identical lines."
   ]
  },
  {
   "cell_type": "code",
   "execution_count": 32,
   "metadata": {},
   "outputs": [
    {
     "name": "stdout",
     "output_type": "stream",
     "text": [
      "Collected 100 pairs\n"
     ]
    }
   ],
   "source": [
    "similars = []\n",
    "for (li, lj, s) in sorted(\n",
    "  filterMatrix(matrix, 0.95),\n",
    "  key=lambda x: -x[2],\n",
    "):\n",
    "  if (li, lj) in matrixEq: continue\n",
    "  if len(similars) >= 100:\n",
    "    break\n",
    "  similars.append((li, lj, s))\n",
    "print(f'Collected {len(similars)} pairs')"
   ]
  },
  {
   "cell_type": "code",
   "execution_count": 33,
   "metadata": {},
   "outputs": [
    {
     "name": "stdout",
     "output_type": "stream",
     "text": [
      "similarity 1.0:\n",
      "020 999:9\n",
      "  इति स्कन्दपुराणे विंशतितमो ऽध्यायः \n",
      "  iti skandapurāṇe viṃśatitamo 'dhyāyaḥ \n",
      "027 999:9\n",
      "  इति स्कन्दपुराणे सप्तविंशतितमो ऽध्यायः \n",
      "  iti skandapurāṇe saptaviṃśatitamo 'dhyāyaḥ \n",
      "\n",
      "similarity 1.0:\n",
      "013 999:9\n",
      "  इति स्कन्दपुराणे नाम त्रयोदशो ऽध्यायः \n",
      "  iti skandapurāṇe nāma trayodaśo 'dhyāyaḥ \n",
      "017 999:9\n",
      "  इति स्कन्दपुराणे सप्तदशमो ऽध्यायः \n",
      "  iti skandapurāṇe saptadaśamo 'dhyāyaḥ \n",
      "\n",
      "similarity 1.0:\n",
      "018 999:9\n",
      "  इति स्कन्दपुराणे ऽष्टादशमो ऽध्यायः \n",
      "  iti skandapurāṇe 'ṣṭādaśamo 'dhyāyaḥ \n",
      "167S 999:9\n",
      "  इति स्कन्दपुराणे सप्तषष्ट्युत्तरशततमो ऽध्यायः \n",
      "  iti skandapurāṇe saptaṣaṣṭyuttaraśatatamo 'dhyāyaḥ \n",
      "\n",
      "similarity 1.0:\n",
      "042 999:9\n",
      "  स्कन्दपुराणे द्वाचत्वारिंशो ऽध्यायः \n",
      "  skandapurāṇe dvācatvāriṃśo 'dhyāyaḥ \n",
      "047 999:9\n",
      "  स्कन्दपुराणे सप्तचत्वारिंशो ऽध्यायः \n",
      "  skandapurāṇe saptacatvāriṃśo 'dhyāyaḥ \n",
      "\n",
      "similarity 1.0:\n",
      "040 999:9\n",
      "  स्कन्दपुराणे चत्वारिंशो ऽध्यायः \n",
      "  skandapurāṇe catvāriṃśo 'dhyāyaḥ \n",
      "044 999:9\n",
      "  स्कन्दपुराणे चतुश्चत्वारिंशो ऽध्यायः \n",
      "  skandapurāṇe catuścatvāriṃśo 'dhyāyaḥ \n",
      "\n",
      "similarity 1.0:\n",
      "046 999:9\n",
      "  स्कन्दपुराणे षट्चत्वारिंशो ऽध्यायः \n",
      "  skandapurāṇe ṣaṭcatvāriṃśo 'dhyāyaḥ \n",
      "048 999:9\n",
      "  स्कन्दपुराणे ऽष्टचत्वारिंशो ऽध्यायः \n",
      "  skandapurāṇe 'ṣṭacatvāriṃśo 'dhyāyaḥ \n",
      "\n",
      "similarity 1.0:\n",
      "040 999:9\n",
      "  स्कन्दपुराणे चत्वारिंशो ऽध्यायः \n",
      "  skandapurāṇe catvāriṃśo 'dhyāyaḥ \n",
      "047 999:9\n",
      "  स्कन्दपुराणे सप्तचत्वारिंशो ऽध्यायः \n",
      "  skandapurāṇe saptacatvāriṃśo 'dhyāyaḥ \n",
      "\n",
      "similarity 1.0:\n",
      "020 999:9\n",
      "  इति स्कन्दपुराणे विंशतितमो ऽध्यायः \n",
      "  iti skandapurāṇe viṃśatitamo 'dhyāyaḥ \n",
      "023 999:9\n",
      "  इति स्कन्दपुराणे त्रयोविंशतिमो ऽध्यायः \n",
      "  iti skandapurāṇe trayoviṃśatimo 'dhyāyaḥ \n",
      "\n",
      "similarity 1.0:\n",
      "036 999:9\n",
      "  स्कन्दपुराणे षट्त्रिंशत्तमो ऽध्यायः \n",
      "  skandapurāṇe ṣaṭtriṃśattamo 'dhyāyaḥ \n",
      "038 999:9\n",
      "  स्कन्दपुराणे ऽष्टत्रिंशत्तमो ऽध्यायः \n",
      "  skandapurāṇe 'ṣṭatriṃśattamo 'dhyāyaḥ \n",
      "\n",
      "similarity 1.0:\n",
      "022 999:9\n",
      "  इति स्कन्दपुराणे द्वाविंशतिमो ऽध्यायः \n",
      "  iti skandapurāṇe dvāviṃśatimo 'dhyāyaḥ \n",
      "027 999:9\n",
      "  इति स्कन्दपुराणे सप्तविंशतितमो ऽध्यायः \n",
      "  iti skandapurāṇe saptaviṃśatitamo 'dhyāyaḥ \n",
      "\n",
      "similarity 1.0:\n",
      "012 36:1\n",
      "  श्रुत्वा तु देवी तं नादं विप्रस्यार्तस्य शोभना \n",
      "  śrutvā tu devī taṃ nādaṃ viprasyārtasya śobhanā \n",
      "028 1:1\n",
      "  ततो व्यास पुनर्देवी पतिं व्रतपतिं शुभा \n",
      "  tato vyāsa punardevī patiṃ vratapatiṃ śubhā \n",
      "\n",
      "similarity 1.0:\n",
      "053 999:9\n",
      "  इति स्कन्दपुराणे त्रिपञ्चाशो ऽध्यायः \n",
      "  iti skandapurāṇe tripañcāśo 'dhyāyaḥ \n",
      "055 999:9\n",
      "  इति स्कन्दपुराणे पञ्चपञ्चाशो ऽध्यायः \n",
      "  iti skandapurāṇe pañcapañcāśo 'dhyāyaḥ \n",
      "\n",
      "similarity 1.0:\n",
      "063 999:9\n",
      "  इति स्कन्दपुराणे त्रिषष्टो ऽध्यायः \n",
      "  iti skandapurāṇe triṣaṣṭo 'dhyāyaḥ \n",
      "066 999:9\n",
      "  इति स्कन्दपुराणे षट्षष्टो ऽध्यायः \n",
      "  iti skandapurāṇe ṣaṭṣaṣṭo 'dhyāyaḥ \n",
      "\n",
      "similarity 1.0:\n",
      "042 999:9\n",
      "  स्कन्दपुराणे द्वाचत्वारिंशो ऽध्यायः \n",
      "  skandapurāṇe dvācatvāriṃśo 'dhyāyaḥ \n",
      "044 999:9\n",
      "  स्कन्दपुराणे चतुश्चत्वारिंशो ऽध्यायः \n",
      "  skandapurāṇe catuścatvāriṃśo 'dhyāyaḥ \n",
      "\n",
      "similarity 1.0:\n",
      "040 999:9\n",
      "  स्कन्दपुराणे चत्वारिंशो ऽध्यायः \n",
      "  skandapurāṇe catvāriṃśo 'dhyāyaḥ \n",
      "042 999:9\n",
      "  स्कन्दपुराणे द्वाचत्वारिंशो ऽध्यायः \n",
      "  skandapurāṇe dvācatvāriṃśo 'dhyāyaḥ \n",
      "\n",
      "similarity 1.0:\n",
      "040 999:9\n",
      "  स्कन्दपुराणे चत्वारिंशो ऽध्यायः \n",
      "  skandapurāṇe catvāriṃśo 'dhyāyaḥ \n",
      "043 999:9\n",
      "  स्कन्दपुराणे त्रयश्चत्वारिंशो ऽध्यायः \n",
      "  skandapurāṇe trayaścatvāriṃśo 'dhyāyaḥ \n",
      "\n",
      "similarity 1.0:\n",
      "043 999:9\n",
      "  स्कन्दपुराणे त्रयश्चत्वारिंशो ऽध्यायः \n",
      "  skandapurāṇe trayaścatvāriṃśo 'dhyāyaḥ \n",
      "047 999:9\n",
      "  स्कन्दपुराणे सप्तचत्वारिंशो ऽध्यायः \n",
      "  skandapurāṇe saptacatvāriṃśo 'dhyāyaḥ \n",
      "\n",
      "similarity 1.0:\n",
      "020 999:9\n",
      "  इति स्कन्दपुराणे विंशतितमो ऽध्यायः \n",
      "  iti skandapurāṇe viṃśatitamo 'dhyāyaḥ \n",
      "022 999:9\n",
      "  इति स्कन्दपुराणे द्वाविंशतिमो ऽध्यायः \n",
      "  iti skandapurāṇe dvāviṃśatimo 'dhyāyaḥ \n",
      "\n",
      "similarity 1.0:\n",
      "044 999:9\n",
      "  स्कन्दपुराणे चतुश्चत्वारिंशो ऽध्यायः \n",
      "  skandapurāṇe catuścatvāriṃśo 'dhyāyaḥ \n",
      "047 999:9\n",
      "  स्कन्दपुराणे सप्तचत्वारिंशो ऽध्यायः \n",
      "  skandapurāṇe saptacatvāriṃśo 'dhyāyaḥ \n",
      "\n",
      "similarity 1.0:\n",
      "022 999:9\n",
      "  इति स्कन्दपुराणे द्वाविंशतिमो ऽध्यायः \n",
      "  iti skandapurāṇe dvāviṃśatimo 'dhyāyaḥ \n",
      "023 999:9\n",
      "  इति स्कन्दपुराणे त्रयोविंशतिमो ऽध्यायः \n",
      "  iti skandapurāṇe trayoviṃśatimo 'dhyāyaḥ \n",
      "\n",
      "similarity 1.0:\n",
      "043 999:9\n",
      "  स्कन्दपुराणे त्रयश्चत्वारिंशो ऽध्यायः \n",
      "  skandapurāṇe trayaścatvāriṃśo 'dhyāyaḥ \n",
      "044 999:9\n",
      "  स्कन्दपुराणे चतुश्चत्वारिंशो ऽध्यायः \n",
      "  skandapurāṇe catuścatvāriṃśo 'dhyāyaḥ \n",
      "\n",
      "similarity 1.0:\n",
      "063 999:9\n",
      "  इति स्कन्दपुराणे त्रिषष्टो ऽध्यायः \n",
      "  iti skandapurāṇe triṣaṣṭo 'dhyāyaḥ \n",
      "067 999:9\n",
      "  इति स्कन्दपुराणे सप्तषष्टो ऽध्यायः \n",
      "  iti skandapurāṇe saptaṣaṣṭo 'dhyāyaḥ \n",
      "\n",
      "similarity 1.0:\n",
      "010 999:9\n",
      "  इति स्कन्दपुराणे दशमो ऽध्यायः \n",
      "  iti skandapurāṇe daśamo 'dhyāyaḥ \n",
      "017 999:9\n",
      "  इति स्कन्दपुराणे सप्तदशमो ऽध्यायः \n",
      "  iti skandapurāṇe saptadaśamo 'dhyāyaḥ \n",
      "\n",
      "similarity 1.0:\n",
      "066 999:9\n",
      "  इति स्कन्दपुराणे षट्षष्टो ऽध्यायः \n",
      "  iti skandapurāṇe ṣaṭṣaṣṭo 'dhyāyaḥ \n",
      "067 999:9\n",
      "  इति स्कन्दपुराणे सप्तषष्टो ऽध्यायः \n",
      "  iti skandapurāṇe saptaṣaṣṭo 'dhyāyaḥ \n",
      "\n",
      "similarity 1.0:\n",
      "010 999:9\n",
      "  इति स्कन्दपुराणे दशमो ऽध्यायः \n",
      "  iti skandapurāṇe daśamo 'dhyāyaḥ \n",
      "013 999:9\n",
      "  इति स्कन्दपुराणे नाम त्रयोदशो ऽध्यायः \n",
      "  iti skandapurāṇe nāma trayodaśo 'dhyāyaḥ \n",
      "\n",
      "similarity 1.0:\n",
      "167S 95:1\n",
      "  अन्यदुक्तरथं नाम भवस्यायतनं शुभम् \n",
      "  anyaduktarathaṃ nāma bhavasyāyatanaṃ śubham \n",
      "167RA5 17:1\n",
      "  अन्यद्युक्तरथं नाम भवस्यायतनं शुभम् \n",
      "  anyadyuktarathaṃ nāma bhavasyāyatanaṃ śubham \n",
      "\n",
      "similarity 1.0:\n",
      "023 999:9\n",
      "  इति स्कन्दपुराणे त्रयोविंशतिमो ऽध्यायः \n",
      "  iti skandapurāṇe trayoviṃśatimo 'dhyāyaḥ \n",
      "027 999:9\n",
      "  इति स्कन्दपुराणे सप्तविंशतितमो ऽध्यायः \n",
      "  iti skandapurāṇe saptaviṃśatitamo 'dhyāyaḥ \n",
      "\n",
      "similarity 1.0:\n",
      "055 999:9\n",
      "  इति स्कन्दपुराणे पञ्चपञ्चाशो ऽध्यायः \n",
      "  iti skandapurāṇe pañcapañcāśo 'dhyāyaḥ \n",
      "057 999:9\n",
      "  इति स्कन्दपुराणे सप्तपञ्चाशो ऽध्यायः \n",
      "  iti skandapurāṇe saptapañcāśo 'dhyāyaḥ \n",
      "\n",
      "similarity 1.0:\n",
      "053 999:9\n",
      "  इति स्कन्दपुराणे त्रिपञ्चाशो ऽध्यायः \n",
      "  iti skandapurāṇe tripañcāśo 'dhyāyaḥ \n",
      "057 999:9\n",
      "  इति स्कन्दपुराणे सप्तपञ्चाशो ऽध्यायः \n",
      "  iti skandapurāṇe saptapañcāśo 'dhyāyaḥ \n",
      "\n",
      "similarity 1.0:\n",
      "063 999:9\n",
      "  इति स्कन्दपुराणे त्रिषष्टो ऽध्यायः \n",
      "  iti skandapurāṇe triṣaṣṭo 'dhyāyaḥ \n",
      "068 999:9\n",
      "  इति स्कन्दपुराणे ऽष्टषष्टो ऽध्यायः \n",
      "  iti skandapurāṇe 'ṣṭaṣaṣṭo 'dhyāyaḥ \n",
      "\n",
      "similarity 1.0:\n",
      "042 999:9\n",
      "  स्कन्दपुराणे द्वाचत्वारिंशो ऽध्यायः \n",
      "  skandapurāṇe dvācatvāriṃśo 'dhyāyaḥ \n",
      "043 999:9\n",
      "  स्कन्दपुराणे त्रयश्चत्वारिंशो ऽध्यायः \n",
      "  skandapurāṇe trayaścatvāriṃśo 'dhyāyaḥ \n",
      "\n",
      "similarity 1.0:\n",
      "033 115:1\n",
      "  निवासार्थं च दिव्यं तमिन्द्रद्वीपं ददामि ते \n",
      "  nivāsārthaṃ ca divyaṃ tamindradvīpaṃ dadāmi te \n",
      "041 17:2\n",
      "  स्वस्थानं च समासीनांस्त्रासयेद्वारयेदपि \n",
      "  svasthānaṃ ca samāsīnāṃstrāsayedvārayedapi \n",
      "\n",
      "similarity 1.0:\n",
      "167S 105:1\n",
      "  एको राक्षसशार्दूलो यत्राद्यापि विभीषणः \n",
      "  eko rākṣasaśārdūlo yatrādyāpi vibhīṣaṇaḥ \n",
      "167RA5 31:1\n",
      "  एत्य राक्षसशार्दूलो यत्राद्यापि विभीषणः \n",
      "  etya rākṣasaśārdūlo yatrādyāpi vibhīṣaṇaḥ \n",
      "\n",
      "similarity 1.0:\n",
      "066 999:9\n",
      "  इति स्कन्दपुराणे षट्षष्टो ऽध्यायः \n",
      "  iti skandapurāṇe ṣaṭṣaṣṭo 'dhyāyaḥ \n",
      "068 999:9\n",
      "  इति स्कन्दपुराणे ऽष्टषष्टो ऽध्यायः \n",
      "  iti skandapurāṇe 'ṣṭaṣaṣṭo 'dhyāyaḥ \n",
      "\n",
      "similarity 1.0:\n",
      "067 999:9\n",
      "  इति स्कन्दपुराणे सप्तषष्टो ऽध्यायः \n",
      "  iti skandapurāṇe saptaṣaṣṭo 'dhyāyaḥ \n",
      "068 999:9\n",
      "  इति स्कन्दपुराणे ऽष्टषष्टो ऽध्यायः \n",
      "  iti skandapurāṇe 'ṣṭaṣaṣṭo 'dhyāyaḥ \n",
      "\n",
      "similarity 0.96:\n",
      "024 999:9\n",
      "  इति स्कन्दपुराणे चतुर्विंशतिमो ऽध्यायः \n",
      "  iti skandapurāṇe caturviṃśatimo 'dhyāyaḥ \n",
      "025 999:9\n",
      "  इति स्कन्दपुराणे पञ्चविंशतिमो ऽध्यायः \n",
      "  iti skandapurāṇe pañcaviṃśatimo 'dhyāyaḥ \n",
      "\n",
      "similarity 0.9583333333333334:\n",
      "020 999:9\n",
      "  इति स्कन्दपुराणे विंशतितमो ऽध्यायः \n",
      "  iti skandapurāṇe viṃśatitamo 'dhyāyaḥ \n",
      "024 999:9\n",
      "  इति स्कन्दपुराणे चतुर्विंशतिमो ऽध्यायः \n",
      "  iti skandapurāṇe caturviṃśatimo 'dhyāyaḥ \n",
      "\n",
      "similarity 0.9583333333333334:\n",
      "019 999:9\n",
      "  इति स्कन्दपुराणे ऊनविंशतितमो ऽध्यायः \n",
      "  iti skandapurāṇe ūnaviṃśatitamo 'dhyāyaḥ \n",
      "022 999:9\n",
      "  इति स्कन्दपुराणे द्वाविंशतिमो ऽध्यायः \n",
      "  iti skandapurāṇe dvāviṃśatimo 'dhyāyaḥ \n",
      "\n",
      "similarity 0.9583333333333334:\n",
      "019 999:9\n",
      "  इति स्कन्दपुराणे ऊनविंशतितमो ऽध्यायः \n",
      "  iti skandapurāṇe ūnaviṃśatitamo 'dhyāyaḥ \n",
      "027 999:9\n",
      "  इति स्कन्दपुराणे सप्तविंशतितमो ऽध्यायः \n",
      "  iti skandapurāṇe saptaviṃśatitamo 'dhyāyaḥ \n",
      "\n",
      "similarity 0.9583333333333334:\n",
      "019 999:9\n",
      "  इति स्कन्दपुराणे ऊनविंशतितमो ऽध्यायः \n",
      "  iti skandapurāṇe ūnaviṃśatitamo 'dhyāyaḥ \n",
      "023 999:9\n",
      "  इति स्कन्दपुराणे त्रयोविंशतिमो ऽध्यायः \n",
      "  iti skandapurāṇe trayoviṃśatimo 'dhyāyaḥ \n",
      "\n",
      "similarity 0.9583333333333334:\n",
      "019 999:9\n",
      "  इति स्कन्दपुराणे ऊनविंशतितमो ऽध्यायः \n",
      "  iti skandapurāṇe ūnaviṃśatitamo 'dhyāyaḥ \n",
      "020 999:9\n",
      "  इति स्कन्दपुराणे विंशतितमो ऽध्यायः \n",
      "  iti skandapurāṇe viṃśatitamo 'dhyāyaḥ \n",
      "\n",
      "similarity 0.9583333333333334:\n",
      "022 999:9\n",
      "  इति स्कन्दपुराणे द्वाविंशतिमो ऽध्यायः \n",
      "  iti skandapurāṇe dvāviṃśatimo 'dhyāyaḥ \n",
      "024 999:9\n",
      "  इति स्कन्दपुराणे चतुर्विंशतिमो ऽध्यायः \n",
      "  iti skandapurāṇe caturviṃśatimo 'dhyāyaḥ \n",
      "\n",
      "similarity 0.9583333333333334:\n",
      "054 999:9\n",
      "  इति स्कन्दपुराणे चतुष्पञ्चाशो ऽध्यायः \n",
      "  iti skandapurāṇe catuṣpañcāśo 'dhyāyaḥ \n",
      "056 999:9\n",
      "  इति स्कन्दपुराणे षट्पञ्चाशो ऽध्यायः \n",
      "  iti skandapurāṇe ṣaṭpañcāśo 'dhyāyaḥ \n",
      "\n",
      "similarity 0.9583333333333334:\n",
      "024 999:9\n",
      "  इति स्कन्दपुराणे चतुर्विंशतिमो ऽध्यायः \n",
      "  iti skandapurāṇe caturviṃśatimo 'dhyāyaḥ \n",
      "027 999:9\n",
      "  इति स्कन्दपुराणे सप्तविंशतितमो ऽध्यायः \n",
      "  iti skandapurāṇe saptaviṃśatitamo 'dhyāyaḥ \n",
      "\n",
      "similarity 0.9583333333333334:\n",
      "023 999:9\n",
      "  इति स्कन्दपुराणे त्रयोविंशतिमो ऽध्यायः \n",
      "  iti skandapurāṇe trayoviṃśatimo 'dhyāyaḥ \n",
      "024 999:9\n",
      "  इति स्कन्दपुराणे चतुर्विंशतिमो ऽध्यायः \n",
      "  iti skandapurāṇe caturviṃśatimo 'dhyāyaḥ \n",
      "\n",
      "similarity 0.9583333333333334:\n",
      "056 999:9\n",
      "  इति स्कन्दपुराणे षट्पञ्चाशो ऽध्यायः \n",
      "  iti skandapurāṇe ṣaṭpañcāśo 'dhyāyaḥ \n",
      "065 999:9\n",
      "  इति स्कन्दपुराणे पञ्चषष्टो ऽध्यायः \n",
      "  iti skandapurāṇe pañcaṣaṣṭo 'dhyāyaḥ \n",
      "\n",
      "similarity 0.9565217391304348:\n",
      "005 999:9\n",
      "  इति स्कन्दपुराणे पञ्चमो ऽध्यायः \n",
      "  iti skandapurāṇe pañcamo 'dhyāyaḥ \n",
      "015 999:9\n",
      "  इति स्कन्दपुराणे पञ्चदशमो ऽध्यायः \n",
      "  iti skandapurāṇe pañcadaśamo 'dhyāyaḥ \n",
      "\n",
      "similarity 0.9565217391304348:\n",
      "043 999:9\n",
      "  स्कन्दपुराणे त्रयश्चत्वारिंशो ऽध्यायः \n",
      "  skandapurāṇe trayaścatvāriṃśo 'dhyāyaḥ \n",
      "045 999:9\n",
      "  स्कन्दपुराणे पञ्चचत्वारिंशो ऽध्यायः \n",
      "  skandapurāṇe pañcacatvāriṃśo 'dhyāyaḥ \n",
      "\n",
      "similarity 0.9565217391304348:\n",
      "018 999:9\n",
      "  इति स्कन्दपुराणे ऽष्टादशमो ऽध्यायः \n",
      "  iti skandapurāṇe 'ṣṭādaśamo 'dhyāyaḥ \n",
      "060 999:9\n",
      "  इति स्कन्दपुराणे षष्टितमो ऽध्यायः \n",
      "  iti skandapurāṇe ṣaṣṭitamo 'dhyāyaḥ \n",
      "\n",
      "similarity 0.9565217391304348:\n",
      "015 999:9\n",
      "  इति स्कन्दपुराणे पञ्चदशमो ऽध्यायः \n",
      "  iti skandapurāṇe pañcadaśamo 'dhyāyaḥ \n",
      "053 999:9\n",
      "  इति स्कन्दपुराणे त्रिपञ्चाशो ऽध्यायः \n",
      "  iti skandapurāṇe tripañcāśo 'dhyāyaḥ \n",
      "\n",
      "similarity 0.9565217391304348:\n",
      "035 999:9\n",
      "  इति स्कन्दपुराणे पञ्चत्रिंशो ऽध्यायः \n",
      "  iti skandapurāṇe pañcatriṃśo 'dhyāyaḥ \n",
      "055 999:9\n",
      "  इति स्कन्दपुराणे पञ्चपञ्चाशो ऽध्यायः \n",
      "  iti skandapurāṇe pañcapañcāśo 'dhyāyaḥ \n",
      "\n",
      "similarity 0.9565217391304348:\n",
      "052 999:9\n",
      "  इति स्कन्दपुराणे द्विपञ्चाशो ऽध्यायः \n",
      "  iti skandapurāṇe dvipañcāśo 'dhyāyaḥ \n",
      "055 999:9\n",
      "  इति स्कन्दपुराणे पञ्चपञ्चाशो ऽध्यायः \n",
      "  iti skandapurāṇe pañcapañcāśo 'dhyāyaḥ \n",
      "\n",
      "similarity 0.9565217391304348:\n",
      "022 999:9\n",
      "  इति स्कन्दपुराणे द्वाविंशतिमो ऽध्यायः \n",
      "  iti skandapurāṇe dvāviṃśatimo 'dhyāyaḥ \n",
      "030 999:9\n",
      "  इति स्कन्दपुराणे त्रिंशत्तमो ऽध्यायः \n",
      "  iti skandapurāṇe triṃśattamo 'dhyāyaḥ \n",
      "\n",
      "similarity 0.9565217391304348:\n",
      "023 999:9\n",
      "  इति स्कन्दपुराणे त्रयोविंशतिमो ऽध्यायः \n",
      "  iti skandapurāṇe trayoviṃśatimo 'dhyāyaḥ \n",
      "030 999:9\n",
      "  इति स्कन्दपुराणे त्रिंशत्तमो ऽध्यायः \n",
      "  iti skandapurāṇe triṃśattamo 'dhyāyaḥ \n",
      "\n",
      "similarity 0.9565217391304348:\n",
      "027 999:9\n",
      "  इति स्कन्दपुराणे सप्तविंशतितमो ऽध्यायः \n",
      "  iti skandapurāṇe saptaviṃśatitamo 'dhyāyaḥ \n",
      "030 999:9\n",
      "  इति स्कन्दपुराणे त्रिंशत्तमो ऽध्यायः \n",
      "  iti skandapurāṇe triṃśattamo 'dhyāyaḥ \n",
      "\n",
      "similarity 0.9565217391304348:\n",
      "027 999:9\n",
      "  इति स्कन्दपुराणे सप्तविंशतितमो ऽध्यायः \n",
      "  iti skandapurāṇe saptaviṃśatitamo 'dhyāyaḥ \n",
      "032 999:9\n",
      "  इति स्कन्दपुराणे द्वात्रिंशो ऽध्यायः \n",
      "  iti skandapurāṇe dvātriṃśo 'dhyāyaḥ \n",
      "\n",
      "similarity 0.9565217391304348:\n",
      "053 999:9\n",
      "  इति स्कन्दपुराणे त्रिपञ्चाशो ऽध्यायः \n",
      "  iti skandapurāṇe tripañcāśo 'dhyāyaḥ \n",
      "054 999:9\n",
      "  इति स्कन्दपुराणे चतुष्पञ्चाशो ऽध्यायः \n",
      "  iti skandapurāṇe catuṣpañcāśo 'dhyāyaḥ \n",
      "\n",
      "similarity 0.9565217391304348:\n",
      "008 999:9\n",
      "  इति स्कन्दपुराणे अष्टमो ऽध्यायः \n",
      "  iti skandapurāṇe aṣṭamo 'dhyāyaḥ \n",
      "060 999:9\n",
      "  इति स्कन्दपुराणे षष्टितमो ऽध्यायः \n",
      "  iti skandapurāṇe ṣaṣṭitamo 'dhyāyaḥ \n",
      "\n",
      "similarity 0.9565217391304348:\n",
      "045 999:9\n",
      "  स्कन्दपुराणे पञ्चचत्वारिंशो ऽध्यायः \n",
      "  skandapurāṇe pañcacatvāriṃśo 'dhyāyaḥ \n",
      "047 999:9\n",
      "  स्कन्दपुराणे सप्तचत्वारिंशो ऽध्यायः \n",
      "  skandapurāṇe saptacatvāriṃśo 'dhyāyaḥ \n",
      "\n",
      "similarity 0.9565217391304348:\n",
      "042 999:9\n",
      "  स्कन्दपुराणे द्वाचत्वारिंशो ऽध्यायः \n",
      "  skandapurāṇe dvācatvāriṃśo 'dhyāyaḥ \n",
      "045 999:9\n",
      "  स्कन्दपुराणे पञ्चचत्वारिंशो ऽध्यायः \n",
      "  skandapurāṇe pañcacatvāriṃśo 'dhyāyaḥ \n",
      "\n",
      "similarity 0.9565217391304348:\n",
      "012 999:9\n",
      "  इति स्कन्दपुराणे द्वादशमो ऽध्यायः \n",
      "  iti skandapurāṇe dvādaśamo 'dhyāyaḥ \n",
      "023 999:9\n",
      "  इति स्कन्दपुराणे त्रयोविंशतिमो ऽध्यायः \n",
      "  iti skandapurāṇe trayoviṃśatimo 'dhyāyaḥ \n",
      "\n",
      "similarity 0.9565217391304348:\n",
      "023 999:9\n",
      "  इति स्कन्दपुराणे त्रयोविंशतिमो ऽध्यायः \n",
      "  iti skandapurāṇe trayoviṃśatimo 'dhyāyaḥ \n",
      "032 999:9\n",
      "  इति स्कन्दपुराणे द्वात्रिंशो ऽध्यायः \n",
      "  iti skandapurāṇe dvātriṃśo 'dhyāyaḥ \n",
      "\n",
      "similarity 0.9565217391304348:\n",
      "054 999:9\n",
      "  इति स्कन्दपुराणे चतुष्पञ्चाशो ऽध्यायः \n",
      "  iti skandapurāṇe catuṣpañcāśo 'dhyāyaḥ \n",
      "057 999:9\n",
      "  इति स्कन्दपुराणे सप्तपञ्चाशो ऽध्यायः \n",
      "  iti skandapurāṇe saptapañcāśo 'dhyāyaḥ \n",
      "\n",
      "similarity 0.9565217391304348:\n",
      "044 999:9\n",
      "  स्कन्दपुराणे चतुश्चत्वारिंशो ऽध्यायः \n",
      "  skandapurāṇe catuścatvāriṃśo 'dhyāyaḥ \n",
      "045 999:9\n",
      "  स्कन्दपुराणे पञ्चचत्वारिंशो ऽध्यायः \n",
      "  skandapurāṇe pañcacatvāriṃśo 'dhyāyaḥ \n",
      "\n",
      "similarity 0.9565217391304348:\n",
      "022 999:9\n",
      "  इति स्कन्दपुराणे द्वाविंशतिमो ऽध्यायः \n",
      "  iti skandapurāṇe dvāviṃśatimo 'dhyāyaḥ \n",
      "032 999:9\n",
      "  इति स्कन्दपुराणे द्वात्रिंशो ऽध्यायः \n",
      "  iti skandapurāṇe dvātriṃśo 'dhyāyaḥ \n",
      "\n",
      "similarity 0.9565217391304348:\n",
      "012 999:9\n",
      "  इति स्कन्दपुराणे द्वादशमो ऽध्यायः \n",
      "  iti skandapurāṇe dvādaśamo 'dhyāyaḥ \n",
      "027 999:9\n",
      "  इति स्कन्दपुराणे सप्तविंशतितमो ऽध्यायः \n",
      "  iti skandapurāṇe saptaviṃśatitamo 'dhyāyaḥ \n",
      "\n",
      "similarity 0.9565217391304348:\n",
      "039 999:9\n",
      "  स्कन्दपुराण एकोनचत्वारिंशत्तमो ऽध्यायः \n",
      "  skandapurāṇa ekonacatvāriṃśattamo 'dhyāyaḥ \n",
      "041 999:9\n",
      "  स्कन्दपुराण एकचत्वारिंशो ऽध्यायः \n",
      "  skandapurāṇa ekacatvāriṃśo 'dhyāyaḥ \n",
      "\n",
      "similarity 0.9565217391304348:\n",
      "052 999:9\n",
      "  इति स्कन्दपुराणे द्विपञ्चाशो ऽध्यायः \n",
      "  iti skandapurāṇe dvipañcāśo 'dhyāyaḥ \n",
      "053 999:9\n",
      "  इति स्कन्दपुराणे त्रिपञ्चाशो ऽध्यायः \n",
      "  iti skandapurāṇe tripañcāśo 'dhyāyaḥ \n",
      "\n",
      "similarity 0.9565217391304348:\n",
      "012 999:9\n",
      "  इति स्कन्दपुराणे द्वादशमो ऽध्यायः \n",
      "  iti skandapurāṇe dvādaśamo 'dhyāyaḥ \n",
      "020 999:9\n",
      "  इति स्कन्दपुराणे विंशतितमो ऽध्यायः \n",
      "  iti skandapurāṇe viṃśatitamo 'dhyāyaḥ \n",
      "\n",
      "similarity 0.9565217391304348:\n",
      "052 999:9\n",
      "  इति स्कन्दपुराणे द्विपञ्चाशो ऽध्यायः \n",
      "  iti skandapurāṇe dvipañcāśo 'dhyāyaḥ \n",
      "057 999:9\n",
      "  इति स्कन्दपुराणे सप्तपञ्चाशो ऽध्यायः \n",
      "  iti skandapurāṇe saptapañcāśo 'dhyāyaḥ \n",
      "\n",
      "similarity 0.9565217391304348:\n",
      "015 999:9\n",
      "  इति स्कन्दपुराणे पञ्चदशमो ऽध्यायः \n",
      "  iti skandapurāṇe pañcadaśamo 'dhyāyaḥ \n",
      "055 999:9\n",
      "  इति स्कन्दपुराणे पञ्चपञ्चाशो ऽध्यायः \n",
      "  iti skandapurāṇe pañcapañcāśo 'dhyāyaḥ \n",
      "\n",
      "similarity 0.9565217391304348:\n",
      "015 999:9\n",
      "  इति स्कन्दपुराणे पञ्चदशमो ऽध्यायः \n",
      "  iti skandapurāṇe pañcadaśamo 'dhyāyaḥ \n",
      "057 999:9\n",
      "  इति स्कन्दपुराणे सप्तपञ्चाशो ऽध्यायः \n",
      "  iti skandapurāṇe saptapañcāśo 'dhyāyaḥ \n",
      "\n",
      "similarity 0.9565217391304348:\n",
      "012 999:9\n",
      "  इति स्कन्दपुराणे द्वादशमो ऽध्यायः \n",
      "  iti skandapurāṇe dvādaśamo 'dhyāyaḥ \n",
      "022 999:9\n",
      "  इति स्कन्दपुराणे द्वाविंशतिमो ऽध्यायः \n",
      "  iti skandapurāṇe dvāviṃśatimo 'dhyāyaḥ \n",
      "\n",
      "similarity 0.9565217391304348:\n",
      "014 999:9\n",
      "  इति स्कन्दपुराणे चतुर्दशमो ऽध्यायः \n",
      "  iti skandapurāṇe caturdaśamo 'dhyāyaḥ \n",
      "015 999:9\n",
      "  इति स्कन्दपुराणे पञ्चदशमो ऽध्यायः \n",
      "  iti skandapurāṇe pañcadaśamo 'dhyāyaḥ \n",
      "\n",
      "similarity 0.9565217391304348:\n",
      "054 999:9\n",
      "  इति स्कन्दपुराणे चतुष्पञ्चाशो ऽध्यायः \n",
      "  iti skandapurāṇe catuṣpañcāśo 'dhyāyaḥ \n",
      "055 999:9\n",
      "  इति स्कन्दपुराणे पञ्चपञ्चाशो ऽध्यायः \n",
      "  iti skandapurāṇe pañcapañcāśo 'dhyāyaḥ \n",
      "\n",
      "similarity 0.9565217391304348:\n",
      "167S 56:2\n",
      "  तं दृष्ट्वा मनुजो व्यास राजसूयफलं लभेत् \n",
      "  taṃ dṛṣṭvā manujo vyāsa rājasūyaphalaṃ labhet \n",
      "167S 180:2\n",
      "  तं दृष्ट्वा मनुजो भक्त्या राजसूयफलं लभेत् \n",
      "  taṃ dṛṣṭvā manujo bhaktyā rājasūyaphalaṃ labhet \n",
      "\n",
      "similarity 0.9565217391304348:\n",
      "060 999:9\n",
      "  इति स्कन्दपुराणे षष्टितमो ऽध्यायः \n",
      "  iti skandapurāṇe ṣaṣṭitamo 'dhyāyaḥ \n",
      "167S 999:9\n",
      "  इति स्कन्दपुराणे सप्तषष्ट्युत्तरशततमो ऽध्यायः \n",
      "  iti skandapurāṇe saptaṣaṣṭyuttaraśatatamo 'dhyāyaḥ \n",
      "\n",
      "similarity 0.9565217391304348:\n",
      "035 999:9\n",
      "  इति स्कन्दपुराणे पञ्चत्रिंशो ऽध्यायः \n",
      "  iti skandapurāṇe pañcatriṃśo 'dhyāyaḥ \n",
      "057 999:9\n",
      "  इति स्कन्दपुराणे सप्तपञ्चाशो ऽध्यायः \n",
      "  iti skandapurāṇe saptapañcāśo 'dhyāyaḥ \n",
      "\n",
      "similarity 0.9565217391304348:\n",
      "035 999:9\n",
      "  इति स्कन्दपुराणे पञ्चत्रिंशो ऽध्यायः \n",
      "  iti skandapurāṇe pañcatriṃśo 'dhyāyaḥ \n",
      "053 999:9\n",
      "  इति स्कन्दपुराणे त्रिपञ्चाशो ऽध्यायः \n",
      "  iti skandapurāṇe tripañcāśo 'dhyāyaḥ \n",
      "\n",
      "similarity 0.9565217391304348:\n",
      "064 999:9\n",
      "  इति स्कन्दपुराणे चतुःषष्टो ऽध्यायः \n",
      "  iti skandapurāṇe catuḥṣaṣṭo 'dhyāyaḥ \n",
      "065 999:9\n",
      "  इति स्कन्दपुराणे पञ्चषष्टो ऽध्यायः \n",
      "  iti skandapurāṇe pañcaṣaṣṭo 'dhyāyaḥ \n",
      "\n",
      "similarity 0.9565217391304348:\n",
      "040 999:9\n",
      "  स्कन्दपुराणे चत्वारिंशो ऽध्यायः \n",
      "  skandapurāṇe catvāriṃśo 'dhyāyaḥ \n",
      "045 999:9\n",
      "  स्कन्दपुराणे पञ्चचत्वारिंशो ऽध्यायः \n",
      "  skandapurāṇe pañcacatvāriṃśo 'dhyāyaḥ \n",
      "\n",
      "similarity 0.9565217391304348:\n",
      "020 999:9\n",
      "  इति स्कन्दपुराणे विंशतितमो ऽध्यायः \n",
      "  iti skandapurāṇe viṃśatitamo 'dhyāyaḥ \n",
      "030 999:9\n",
      "  इति स्कन्दपुराणे त्रिंशत्तमो ऽध्यायः \n",
      "  iti skandapurāṇe triṃśattamo 'dhyāyaḥ \n",
      "\n",
      "similarity 0.9565217391304348:\n",
      "020 999:9\n",
      "  इति स्कन्दपुराणे विंशतितमो ऽध्यायः \n",
      "  iti skandapurāṇe viṃśatitamo 'dhyāyaḥ \n",
      "032 999:9\n",
      "  इति स्कन्दपुराणे द्वात्रिंशो ऽध्यायः \n",
      "  iti skandapurāṇe dvātriṃśo 'dhyāyaḥ \n",
      "\n",
      "similarity 0.9545454545454546:\n",
      "064 999:9\n",
      "  इति स्कन्दपुराणे चतुःषष्टो ऽध्यायः \n",
      "  iti skandapurāṇe catuḥṣaṣṭo 'dhyāyaḥ \n",
      "068 999:9\n",
      "  इति स्कन्दपुराणे ऽष्टषष्टो ऽध्यायः \n",
      "  iti skandapurāṇe 'ṣṭaṣaṣṭo 'dhyāyaḥ \n",
      "\n",
      "similarity 0.9545454545454546:\n",
      "062 999:9\n",
      "  इति स्कन्दपुराणे द्विषष्टो ऽध्यायः \n",
      "  iti skandapurāṇe dviṣaṣṭo 'dhyāyaḥ \n",
      "068 999:9\n",
      "  इति स्कन्दपुराणे ऽष्टषष्टो ऽध्यायः \n",
      "  iti skandapurāṇe 'ṣṭaṣaṣṭo 'dhyāyaḥ \n",
      "\n",
      "similarity 0.9545454545454546:\n",
      "062 999:9\n",
      "  इति स्कन्दपुराणे द्विषष्टो ऽध्यायः \n",
      "  iti skandapurāṇe dviṣaṣṭo 'dhyāyaḥ \n",
      "063 999:9\n",
      "  इति स्कन्दपुराणे त्रिषष्टो ऽध्यायः \n",
      "  iti skandapurāṇe triṣaṣṭo 'dhyāyaḥ \n",
      "\n",
      "similarity 0.9545454545454546:\n",
      "063 999:9\n",
      "  इति स्कन्दपुराणे त्रिषष्टो ऽध्यायः \n",
      "  iti skandapurāṇe triṣaṣṭo 'dhyāyaḥ \n",
      "064 999:9\n",
      "  इति स्कन्दपुराणे चतुःषष्टो ऽध्यायः \n",
      "  iti skandapurāṇe catuḥṣaṣṭo 'dhyāyaḥ \n",
      "\n",
      "similarity 0.9545454545454546:\n",
      "012 999:9\n",
      "  इति स्कन्दपुराणे द्वादशमो ऽध्यायः \n",
      "  iti skandapurāṇe dvādaśamo 'dhyāyaḥ \n",
      "013 999:9\n",
      "  इति स्कन्दपुराणे नाम त्रयोदशो ऽध्यायः \n",
      "  iti skandapurāṇe nāma trayodaśo 'dhyāyaḥ \n",
      "\n",
      "similarity 0.9545454545454546:\n",
      "010 999:9\n",
      "  इति स्कन्दपुराणे दशमो ऽध्यायः \n",
      "  iti skandapurāṇe daśamo 'dhyāyaḥ \n",
      "014 999:9\n",
      "  इति स्कन्दपुराणे चतुर्दशमो ऽध्यायः \n",
      "  iti skandapurāṇe caturdaśamo 'dhyāyaḥ \n",
      "\n",
      "similarity 0.9545454545454546:\n",
      "062 999:9\n",
      "  इति स्कन्दपुराणे द्विषष्टो ऽध्यायः \n",
      "  iti skandapurāṇe dviṣaṣṭo 'dhyāyaḥ \n",
      "067 999:9\n",
      "  इति स्कन्दपुराणे सप्तषष्टो ऽध्यायः \n",
      "  iti skandapurāṇe saptaṣaṣṭo 'dhyāyaḥ \n",
      "\n",
      "similarity 0.9545454545454546:\n",
      "005 19:2\n",
      "  नास्याः पुण्यतमा काचित्त्रिषु लोकेषु विद्यते \n",
      "  nāsyāḥ puṇyatamā kācittriṣu lokeṣu vidyate \n",
      "167S 46:3\n",
      "  नातः पुण्यतमं किंचित्सर्वलोकेषु विद्यते \n",
      "  nātaḥ puṇyatamaṃ kiṃcitsarvalokeṣu vidyate \n",
      "\n",
      "similarity 0.9545454545454546:\n",
      "062 999:9\n",
      "  इति स्कन्दपुराणे द्विषष्टो ऽध्यायः \n",
      "  iti skandapurāṇe dviṣaṣṭo 'dhyāyaḥ \n",
      "066 999:9\n",
      "  इति स्कन्दपुराणे षट्षष्टो ऽध्यायः \n",
      "  iti skandapurāṇe ṣaṭṣaṣṭo 'dhyāyaḥ \n",
      "\n",
      "similarity 0.9545454545454546:\n",
      "064 999:9\n",
      "  इति स्कन्दपुराणे चतुःषष्टो ऽध्यायः \n",
      "  iti skandapurāṇe catuḥṣaṣṭo 'dhyāyaḥ \n",
      "067 999:9\n",
      "  इति स्कन्दपुराणे सप्तषष्टो ऽध्यायः \n",
      "  iti skandapurāṇe saptaṣaṣṭo 'dhyāyaḥ \n",
      "\n",
      "similarity 0.9545454545454546:\n",
      "012 999:9\n",
      "  इति स्कन्दपुराणे द्वादशमो ऽध्यायः \n",
      "  iti skandapurāṇe dvādaśamo 'dhyāyaḥ \n",
      "017 999:9\n",
      "  इति स्कन्दपुराणे सप्तदशमो ऽध्यायः \n",
      "  iti skandapurāṇe saptadaśamo 'dhyāyaḥ \n",
      "\n",
      "similarity 0.9545454545454546:\n",
      "029 999:9\n",
      "  इति स्कन्दपुराणे ऊनत्रिंशो ऽध्यायः \n",
      "  iti skandapurāṇe ūnatriṃśo 'dhyāyaḥ \n",
      "033 999:9\n",
      "  इति स्कन्दपुराणे त्रयस्त्रिंशो ऽध्यायः \n",
      "  iti skandapurāṇe trayastriṃśo 'dhyāyaḥ \n",
      "\n",
      "similarity 0.9545454545454546:\n",
      "030 999:9\n",
      "  इति स्कन्दपुराणे त्रिंशत्तमो ऽध्यायः \n",
      "  iti skandapurāṇe triṃśattamo 'dhyāyaḥ \n",
      "033 999:9\n",
      "  इति स्कन्दपुराणे त्रयस्त्रिंशो ऽध्यायः \n",
      "  iti skandapurāṇe trayastriṃśo 'dhyāyaḥ \n",
      "\n",
      "similarity 0.9545454545454546:\n",
      "032 999:9\n",
      "  इति स्कन्दपुराणे द्वात्रिंशो ऽध्यायः \n",
      "  iti skandapurāṇe dvātriṃśo 'dhyāyaḥ \n",
      "033 999:9\n",
      "  इति स्कन्दपुराणे त्रयस्त्रिंशो ऽध्यायः \n",
      "  iti skandapurāṇe trayastriṃśo 'dhyāyaḥ \n",
      "\n",
      "similarity 0.9545454545454546:\n",
      "013 999:9\n",
      "  इति स्कन्दपुराणे नाम त्रयोदशो ऽध्यायः \n",
      "  iti skandapurāṇe nāma trayodaśo 'dhyāyaḥ \n",
      "030 999:9\n",
      "  इति स्कन्दपुराणे त्रिंशत्तमो ऽध्यायः \n",
      "  iti skandapurāṇe triṃśattamo 'dhyāyaḥ \n",
      "\n",
      "similarity 0.9545454545454546:\n",
      "167S 83:2\n",
      "  तक्षकेश्वरमित्येवं स्थापितं जाह्नवीतटे \n",
      "  takṣakeśvaramityevaṃ sthāpitaṃ jāhnavītaṭe \n",
      "167RA4 22:2\n",
      "  तक्षेश्वरमिति ख्यातं स्थापितं जाह्नवीतटे \n",
      "  takṣeśvaramiti khyātaṃ sthāpitaṃ jāhnavītaṭe \n",
      "\n",
      "similarity 0.9545454545454546:\n",
      "060 999:9\n",
      "  इति स्कन्दपुराणे षष्टितमो ऽध्यायः \n",
      "  iti skandapurāṇe ṣaṣṭitamo 'dhyāyaḥ \n",
      "066 999:9\n",
      "  इति स्कन्दपुराणे षट्षष्टो ऽध्यायः \n",
      "  iti skandapurāṇe ṣaṭṣaṣṭo 'dhyāyaḥ \n",
      "\n"
     ]
    }
   ],
   "source": [
    "for (li, lj, s) in similars: \n",
    "  print(f'similarity {s}:')\n",
    "  printLine(li, caption=True)\n",
    "  printLine(lj, caption=True)\n",
    "  print()"
   ]
  },
  {
   "cell_type": "code",
   "execution_count": null,
   "metadata": {},
   "outputs": [],
   "source": []
  }
 ],
 "metadata": {
  "kernelspec": {
   "display_name": "Python 3",
   "language": "python",
   "name": "python3"
  },
  "language_info": {
   "codemirror_mode": {
    "name": "ipython",
    "version": 3
   },
   "file_extension": ".py",
   "mimetype": "text/x-python",
   "name": "python",
   "nbconvert_exporter": "python",
   "pygments_lexer": "ipython3",
   "version": "3.7.0"
  }
 },
 "nbformat": 4,
 "nbformat_minor": 2
}
