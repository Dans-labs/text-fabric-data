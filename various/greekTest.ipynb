{
 "cells": [
  {
   "cell_type": "markdown",
   "metadata": {},
   "source": [
    "<img align=\"right\" src=\"tf-small.png\"/>\n",
    "\n",
    "# Greek Test"
   ]
  },
  {
   "cell_type": "code",
   "execution_count": 1,
   "metadata": {
    "collapsed": false
   },
   "outputs": [],
   "source": [
    "%load_ext autoreload\n",
    "%autoreload 2"
   ]
  },
  {
   "cell_type": "code",
   "execution_count": 2,
   "metadata": {
    "collapsed": false
   },
   "outputs": [],
   "source": [
    "import sys, collections\n",
    "from tf.fabric import Fabric"
   ]
  },
  {
   "cell_type": "markdown",
   "metadata": {},
   "source": [
    "# Call Text-Fabric\n",
    "\n",
    "Everything starts by setting up Text-Fabric.\n",
    "It needs to know where to look for data."
   ]
  },
  {
   "cell_type": "code",
   "execution_count": 3,
   "metadata": {
    "collapsed": false
   },
   "outputs": [
    {
     "name": "stdout",
     "output_type": "stream",
     "text": [
      "This is Text-Fabric 2.1.3\n",
      "Api reference : https://github.com/ETCBC/text-fabric/wiki/Api\n",
      "Tutorial      : https://github.com/ETCBC/text-fabric/blob/master/docs/tutorial.ipynb\n",
      "Data sources  : https://github.com/ETCBC/text-fabric-data\n",
      "Data docs     : https://etcbc.github.io/text-fabric-data/features/hebrew/etcbc4c/0_overview.html\n",
      "Shebanq docs  : https://shebanq.ancient-data.org/text\n",
      "Slack team    : https://shebanq.slack.com/signup\n",
      "Questions? Ask shebanq@ancient-data.org for an invite to Slack\n",
      "35 features found and 0 ignored\n"
     ]
    }
   ],
   "source": [
    "SBLGNT = 'greek/sblgnt'\n",
    "TF = Fabric( modules=SBLGNT )"
   ]
  },
  {
   "cell_type": "markdown",
   "metadata": {},
   "source": [
    "# Load Features\n",
    "Specify the features to load, and receive the API to work with that data."
   ]
  },
  {
   "cell_type": "code",
   "execution_count": 4,
   "metadata": {
    "collapsed": false
   },
   "outputs": [
    {
     "name": "stdout",
     "output_type": "stream",
     "text": [
      "  0.00s loading features ...\n",
      "   |     0.28s T otype                from /Users/dirk/github/text-fabric-data/greek/sblgnt\n",
      "   |     2.88s T oslots               from /Users/dirk/github/text-fabric-data/greek/sblgnt\n",
      "   |     0.00s M otext                from /Users/dirk/github/text-fabric-data/greek/sblgnt\n",
      "   |     0.00s T book                 from /Users/dirk/github/text-fabric-data/greek/sblgnt\n",
      "   |     0.00s T chapter              from /Users/dirk/github/text-fabric-data/greek/sblgnt\n",
      "   |     0.03s T verse                from /Users/dirk/github/text-fabric-data/greek/sblgnt\n",
      "   |     0.60s T Unicode              from /Users/dirk/github/text-fabric-data/greek/sblgnt\n",
      "   |     0.53s T UnicodeLemma         from /Users/dirk/github/text-fabric-data/greek/sblgnt\n",
      "   |      |     0.37s C __levels__           from otype, oslots\n",
      "   |      |     4.02s C __order__            from otype, oslots, __levels__\n",
      "   |      |     0.25s C __rank__             from otype, __order__\n",
      "   |      |     6.14s C __levUp__            from otype, oslots, __rank__\n",
      "   |      |     3.41s C __levDown__          from otype, __levUp__, __rank__\n",
      "   |      |     1.23s C __boundary__         from otype, oslots, __rank__\n",
      "   |     0.00s M otext                from /Users/dirk/github/text-fabric-data/greek/sblgnt\n",
      "   |      |     0.07s C __sections__         from otype, oslots, otext, __levUp__, __levels__, book, chapter, verse\n",
      "   |     0.00s T booknum              from /Users/dirk/github/text-fabric-data/greek/sblgnt\n",
      "   |     0.33s T Case                 from /Users/dirk/github/text-fabric-data/greek/sblgnt\n",
      "   |     1.45s T Cat                  from /Users/dirk/github/text-fabric-data/greek/sblgnt\n",
      "   |     1.60s T child                from /Users/dirk/github/text-fabric-data/greek/sblgnt\n",
      "   |     0.02s T ClType               from /Users/dirk/github/text-fabric-data/greek/sblgnt\n",
      "   |     0.00s T Degree               from /Users/dirk/github/text-fabric-data/greek/sblgnt\n",
      "   |     0.82s T End                  from /Users/dirk/github/text-fabric-data/greek/sblgnt\n",
      "   |     0.72s T function             from /Users/dirk/github/text-fabric-data/greek/sblgnt\n",
      "   |     0.30s T Gender               from /Users/dirk/github/text-fabric-data/greek/sblgnt\n",
      "   |     0.20s T HasDet               from /Users/dirk/github/text-fabric-data/greek/sblgnt\n",
      "   |     0.64s T Head                 from /Users/dirk/github/text-fabric-data/greek/sblgnt\n",
      "   |     0.31s T Mood                 from /Users/dirk/github/text-fabric-data/greek/sblgnt\n",
      "   |     0.92s T morphId              from /Users/dirk/github/text-fabric-data/greek/sblgnt\n",
      "   |     1.62s T nodeId               from /Users/dirk/github/text-fabric-data/greek/sblgnt\n",
      "   |     0.44s T Number               from /Users/dirk/github/text-fabric-data/greek/sblgnt\n",
      "   |     0.00s M otext                from /Users/dirk/github/text-fabric-data/greek/sblgnt\n",
      "   |     0.11s T Person               from /Users/dirk/github/text-fabric-data/greek/sblgnt\n",
      "   |     0.47s T psp                  from /Users/dirk/github/text-fabric-data/greek/sblgnt\n",
      "   |     0.95s T Rule                 from /Users/dirk/github/text-fabric-data/greek/sblgnt\n",
      "   |     0.81s T Start                from /Users/dirk/github/text-fabric-data/greek/sblgnt\n",
      "   |     0.15s T Tense                from /Users/dirk/github/text-fabric-data/greek/sblgnt\n",
      "   |     0.21s T Type                 from /Users/dirk/github/text-fabric-data/greek/sblgnt\n",
      "   |     0.14s T Voice                from /Users/dirk/github/text-fabric-data/greek/sblgnt\n",
      "   |     0.47s T freq_occ             from /Users/dirk/github/text-fabric-data/greek/sblgnt\n",
      "   |     0.47s T freq_lex             from /Users/dirk/github/text-fabric-data/greek/sblgnt\n",
      "   |     0.47s T rank_occ             from /Users/dirk/github/text-fabric-data/greek/sblgnt\n",
      "   |     0.47s T rank_lex             from /Users/dirk/github/text-fabric-data/greek/sblgnt\n",
      "   |     0.00s T book@en              from /Users/dirk/github/text-fabric-data/greek/sblgnt\n",
      "   |     0.00s Feature overview: 32 nodes; 2 edges; 1 configs; 7 computeds\n",
      "    35s All features loaded/computed - for details use loadLog()\n"
     ]
    }
   ],
   "source": [
    "api = TF.load('''\n",
    "    book\n",
    "    booknum\n",
    "    Case\n",
    "    Cat\n",
    "    chapter\n",
    "    child\n",
    "    ClType\n",
    "    Degree\n",
    "    End\n",
    "    function\n",
    "    Gender\n",
    "    HasDet\n",
    "    Head\n",
    "    Mood\n",
    "    morphId\n",
    "    nodeId\n",
    "    Number\n",
    "    oslots\n",
    "    otext\n",
    "    otype\n",
    "    Person\n",
    "    psp\n",
    "    Rule\n",
    "    Start\n",
    "    Tense\n",
    "    Type\n",
    "    Unicode\n",
    "    UnicodeLemma\n",
    "    verse\n",
    "    Voice\n",
    "    freq_occ\n",
    "    freq_lex\n",
    "    rank_occ\n",
    "    rank_lex\n",
    "''')\n",
    "api.makeAvailableIn(globals())"
   ]
  },
  {
   "cell_type": "markdown",
   "metadata": {},
   "source": [
    "# Counting\n",
    "\n",
    "In order to get acquainted with the data, we start with simple tasks: counting.\n",
    "\n",
    "## Count all nodes\n",
    "We use the \n",
    "[`N()` generator](https://github.com/ETCBC/text-fabric/wiki/Api#walking-through-nodes)\n",
    "to walk us through the nodes."
   ]
  },
  {
   "cell_type": "code",
   "execution_count": 5,
   "metadata": {
    "collapsed": false
   },
   "outputs": [
    {
     "name": "stdout",
     "output_type": "stream",
     "text": [
      "  0.00s Counting nodes ...\n",
      "  0.12s 428430 nodes\n"
     ]
    }
   ],
   "source": [
    "indent(reset=True)\n",
    "info('Counting nodes ...')\n",
    "i = 0\n",
    "for n in N(): i += 1\n",
    "info('{} nodes'.format(i))"
   ]
  },
  {
   "cell_type": "markdown",
   "metadata": {},
   "source": [
    "## Sort some nodes\n",
    "\n",
    "Get some nodes, \n",
    "[slot](https://github.com/ETCBC/text-fabric/wiki/Data-model#summary)\n",
    "and non-slot, and sort them in the \n",
    "[canonical order](https://github.com/ETCBC/text-fabric/wiki/Api#sorting-nodes).\n",
    "\n",
    "The [`otype` feature](https://github.com/ETCBC/text-fabric/wiki/Data-model#otype-node-feature)\n",
    "is a\n",
    "[GRID feature](https://github.com/ETCBC/text-fabric/wiki/Data-model#more-about-the-grid),\n",
    "a special feature that provides defining characteristics for the\n",
    "data set as a whole. \n",
    "It tells us where the slots end and the other nodes start."
   ]
  },
  {
   "cell_type": "code",
   "execution_count": 6,
   "metadata": {
    "collapsed": false
   },
   "outputs": [
    {
     "data": {
      "text/plain": [
       "[137795,\n",
       " 1,\n",
       " 2,\n",
       " 3,\n",
       " 4,\n",
       " 5,\n",
       " 6,\n",
       " 7,\n",
       " 8,\n",
       " 9,\n",
       " 10,\n",
       " 137796,\n",
       " 137797,\n",
       " 137798,\n",
       " 137799,\n",
       " 137800,\n",
       " 137801,\n",
       " 137802,\n",
       " 137803]"
      ]
     },
     "execution_count": 6,
     "metadata": {},
     "output_type": "execute_result"
    }
   ],
   "source": [
    "sortNodes(list(range(F.otype.maxSlot+1, F.otype.maxSlot+10))+list(range(1,11)))"
   ]
  },
  {
   "cell_type": "markdown",
   "metadata": {},
   "source": [
    "## Numbers in the otype feature\n",
    "Get more information that is readily available in the \n",
    "[GRID feature](https://github.com/ETCBC/text-fabric/wiki/Data-model#more-about-the-grid)\n",
    "[`otype`](https://github.com/ETCBC/text-fabric/wiki/Data-model#otype-node-feature),\n",
    "namely what types of objects there are in the dataset."
   ]
  },
  {
   "cell_type": "code",
   "execution_count": 7,
   "metadata": {
    "collapsed": false
   },
   "outputs": [
    {
     "name": "stdout",
     "output_type": "stream",
     "text": [
      "slotType  = word\n",
      "maxSlot  =137794\n",
      "maxNode  =428430\n",
      "All otypes:\n",
      "\tbook\n",
      "\tchapter\n",
      "\tverse\n",
      "\tsentence\n",
      "\tclause\n",
      "\tclause_atom\n",
      "\tphrase\n",
      "\tconjunction\n",
      "\twordx\n",
      "\tword\n"
     ]
    }
   ],
   "source": [
    "info('{:<9} = {}\\n{:<9}={}\\n{:<9}={}'.format(\n",
    "    'slotType', F.otype.slotType,\n",
    "    'maxSlot', F.otype.maxSlot,\n",
    "    'maxNode', F.otype.maxNode,\n",
    "), tm=False)\n",
    "info('All otypes:\\n\\t', nl=False, tm=False)\n",
    "info('\\n\\t'.join(F.otype.all), tm=False)"
   ]
  },
  {
   "cell_type": "markdown",
   "metadata": {},
   "source": [
    "## Count individual object types"
   ]
  },
  {
   "cell_type": "code",
   "execution_count": 8,
   "metadata": {
    "collapsed": false
   },
   "outputs": [
    {
     "name": "stdout",
     "output_type": "stream",
     "text": [
      "  0.00s counting objects ...\n",
      "   |     0.00s      27 books\n",
      "   |     0.00s     260 chapters\n",
      "   |     0.00s    7939 verses\n",
      "   |     0.00s    8014 sentences\n",
      "   |     0.01s   54800 clauses\n",
      "   |     0.02s   75967 clause_atoms\n",
      "   |     0.04s  142578 phrases\n",
      "   |     0.00s     172 conjunctions\n",
      "   |     0.00s     879 wordxs\n",
      "   |     0.03s  137794 words\n",
      "  0.12s Done\n"
     ]
    }
   ],
   "source": [
    "indent(reset=True)\n",
    "info('counting objects ...')\n",
    "for otype in F.otype.all:\n",
    "    i = 0\n",
    "    indent(level=1, reset=True)\n",
    "    for n in F.otype.s(otype): i+=1\n",
    "    info('{:>7} {}s'.format(i, otype))\n",
    "indent(level=0)\n",
    "info('Done')"
   ]
  },
  {
   "cell_type": "markdown",
   "metadata": {},
   "source": [
    "# Feature statistics\n",
    "\n",
    "The content data resides in the features.\n",
    "The\n",
    "[`F` function](https://github.com/ETCBC/text-fabric/wiki/Api#node-features)\n",
    "gives access to that data.\n",
    "Every feature has a method\n",
    "[`freqList()`](https://github.com/ETCBC/text-fabric/wiki/Api#node-features)\n",
    "to generate a frequency list of its values, ordered by highest frequency first."
   ]
  },
  {
   "cell_type": "code",
   "execution_count": 9,
   "metadata": {
    "collapsed": false
   },
   "outputs": [
    {
     "name": "stdout",
     "output_type": "stream",
     "text": [
      "Cat `np` `CL` `vp` `noun` `verb` `V` `det` `ADV` `S` `conj` `pron` `pp` `prep` `O` `adjp` `adj` `advp` `adv` `P` `IO` `VC` `ptcl` `nump` `num` `intj` `O2`\n",
      "Gender `Masculine` `Feminine` `Neuter`\n",
      "Number `Singular` `Plural`\n",
      "Person `Third` `Second` `First`\n",
      "Case `Nominative` `Accusative` `Genitive` `Dative` `Vocative`\n",
      "Degree `Comparative` `Superlative`\n",
      "Voice `Active` `Middle` `Passive`\n",
      "Tense `Aorist` `Present` `Imperfect` `Future` `Perfect` `Pluperfect`\n",
      "Mood `Indicative` `Participle` `Infinitive` `Subjunctive` `Imperative` `Optative`\n",
      "psp `noun` `verb` `det` `conj` `pron` `prep` `adj` `adv` `ptcl` `num` `intj`\n",
      "Type `Common` `Personal` `Proper` `Demonstrative` `Relative` `Interrogative` `Indefinite`\n",
      "ClType `VerbElided` `Verbless` `Minor`\n",
      "function `np` `vp` `V` `ADV` `pp` `S` `O` `adjp` `advp` `P` `IO` `VC` `nump` `intj` `O2` `adj` `conj` `prep` `adv` `ptcl` `pron`\n",
      "HasDet `True`\n"
     ]
    }
   ],
   "source": [
    "for feat in 'Cat Gender Number Person Case Degree Voice Tense Mood psp Type ClType function HasDet'.split():\n",
    "    print(f\"{feat} `{'` `'.join(x[0] for x in Fs(feat).freqList())}`\")"
   ]
  },
  {
   "cell_type": "code",
   "execution_count": 10,
   "metadata": {
    "collapsed": false
   },
   "outputs": [
    {
     "name": "stdout",
     "output_type": "stream",
     "text": [
      "`matthew` | 28\n",
      "`mark` | 16\n",
      "`luke` | 24\n",
      "`john` | 21\n",
      "`acts` | 28\n",
      "`romans` | 16\n",
      "`1corinthians` | 16\n",
      "`2corinthians` | 13\n",
      "`galatians` |  6\n",
      "`ephesians` |  6\n",
      "`philippians` |  4\n",
      "`colossians` |  4\n",
      "`1thessalonians` |  5\n",
      "`2thessalonians` |  3\n",
      "`1timothy` |  6\n",
      "`2timothy` |  4\n",
      "`titus` |  3\n",
      "`philemon` |  1\n",
      "`hebrews` | 13\n",
      "`james` |  5\n",
      "`1peter` |  5\n",
      "`2peter` |  3\n",
      "`1john` |  5\n",
      "`2john` |  1\n",
      "`3john` |  1\n",
      "`jude` |  1\n",
      "`revelation` | 22\n"
     ]
    }
   ],
   "source": [
    "for book in F.otype.s('book'):\n",
    "    print('`{}` | {:>2}'.format(F.book.v(book), len(L.d(book, otype='chapter'))))"
   ]
  },
  {
   "cell_type": "markdown",
   "metadata": {},
   "source": [
    "# Lexeme matters\n",
    "\n",
    "## Top 10 frequent verbs\n",
    "\n",
    "If we count the frequency of words, we usually mean the frequency of their\n",
    "corresponding lexemes.\n",
    "\n",
    "There are several methods for working with lexemes.\n",
    "\n",
    "### Method 1: counting words"
   ]
  },
  {
   "cell_type": "code",
   "execution_count": 13,
   "metadata": {
    "collapsed": false
   },
   "outputs": [
    {
     "name": "stdout",
     "output_type": "stream",
     "text": [
      "  0.00s Collecting data\n",
      "  0.34s Done\n",
      ">MR[: 5378\n",
      "HJH[: 3561\n",
      "<FH[: 2629\n",
      "BW>[: 2570\n",
      "NTN[: 2017\n",
      "HLK[: 1554\n",
      "R>H[: 1298\n",
      "CM<[: 1168\n",
      "DBR[: 1138\n",
      "JCB[: 1082\n",
      "\n"
     ]
    }
   ],
   "source": [
    "verbs = collections.Counter()\n",
    "indent(reset=True)\n",
    "info('Collecting data')\n",
    "for w in F.otype.s('word'):\n",
    "    if F.sp.v(w) != 'verb': continue\n",
    "    verbs[F.lex.v(w)] +=1\n",
    "info('Done')\n",
    "print(''.join(\n",
    "    '{}: {}\\n'.format(verb, cnt) for (verb, cnt) in sorted(\n",
    "        verbs.items() , key=lambda x: (-x[1], x[0]))[0:10],\n",
    "    )\n",
    ")       "
   ]
  },
  {
   "cell_type": "markdown",
   "metadata": {},
   "source": [
    "### Method 2: counting lexemes\n",
    "\n",
    "An alternative way to do this is to use the feature `freq_lex`, defined for `lex` nodes.\n",
    "Now we walk the lexemes instead of the occurrences.\n",
    "Note that the feature `sp` (part-of-speech) is defined for nodes of type `word` as well as `lex`.\n",
    "Both also have the `lex` feature.\n",
    "Note that we might encounter Hebrew lexemes as well as Aramaic lexemes, so we still have to\n",
    "accumulate the `freq_lex`es of the lexeme nodes with the same lexeme value."
   ]
  },
  {
   "cell_type": "code",
   "execution_count": 14,
   "metadata": {
    "collapsed": false
   },
   "outputs": [
    {
     "name": "stdout",
     "output_type": "stream",
     "text": [
      "  0.00s Collecting data\n",
      "  0.03s Done\n",
      ">MR[: 5378\n",
      "HJH[: 3561\n",
      "<FH[: 2629\n",
      "BW>[: 2570\n",
      "NTN[: 2017\n",
      "HLK[: 1554\n",
      "R>H[: 1298\n",
      "CM<[: 1168\n",
      "DBR[: 1138\n",
      "JCB[: 1082\n",
      "\n"
     ]
    }
   ],
   "source": [
    "verbs = collections.Counter()\n",
    "indent(reset=True)\n",
    "info('Collecting data')\n",
    "for w in F.otype.s('lex'):\n",
    "    if F.sp.v(w) != 'verb': continue\n",
    "    verbs[F.lex.v(w)] += F.freq_lex.v(w)\n",
    "info('Done')\n",
    "print(''.join(\n",
    "    '{}: {}\\n'.format(verb, cnt) for (verb, cnt) in sorted(\n",
    "        verbs.items() , key=lambda x: (-x[1], x[0]))[0:10],\n",
    "    )\n",
    ")       "
   ]
  },
  {
   "cell_type": "markdown",
   "metadata": {},
   "source": [
    "## Lexeme distribution\n",
    "\n",
    "Let's do a bit more fancy lexeme stuff.\n",
    "\n",
    "### Hapaxes\n",
    "\n",
    "A hapax can be found by inspecting lexemes and see to how many word nodes they are linked.\n",
    "If that is number is one, we have a hapax.\n",
    "\n",
    "We print 10 hapaxes with their gloss."
   ]
  },
  {
   "cell_type": "code",
   "execution_count": 15,
   "metadata": {
    "collapsed": false
   },
   "outputs": [
    {
     "name": "stdout",
     "output_type": "stream",
     "text": [
      "  0.18s 3074 hapaxes found\n",
      "No zeroes found\n",
      "\tPJCWN/   Pishon\n",
      "\tCWP[     bruise\n",
      "\tHRWN/    pregnancy\n",
      "\tZ<H/     sweat\n",
      "\tLHV/     flame\n",
      "\tNWD/     Nod\n",
      "\tXNWK=/   Enoch\n",
      "\tMXWJ>L/  Mehujael\n",
      "\tMXJJ>L/  Mehujael\n",
      "\tJBL=/    Jabal\n"
     ]
    }
   ],
   "source": [
    "hapax = []\n",
    "zero = set()\n",
    "\n",
    "indent(reset=True)\n",
    "for l in F.otype.s('lex'):\n",
    "    occs = L.d(l, otype='word')\n",
    "    n = len(occs)\n",
    "    if n == 0: # that's weird: should not happen\n",
    "        zero.add(l)\n",
    "    elif n == 1: # hapax found!\n",
    "        hapax.append(l)\n",
    "info('{} hapaxes found'.format(len(hapax)))\n",
    "if zero:\n",
    "    error('{} zeroes found'.format(len(zero)), tm=False)\n",
    "else:\n",
    "    info('No zeroes found', tm=False)\n",
    "for h in hapax[0:10]:\n",
    "    print('\\t{:<8} {}'.format(F.lex.v(h), F.gloss.v(h)))"
   ]
  },
  {
   "cell_type": "markdown",
   "metadata": {},
   "source": [
    "### Small occurrence base\n",
    "\n",
    "The occurrence base of a lexeme are the verses, chapters and books in which occurs.\n",
    "Let's look for lexemes that occur in a single chapter.\n",
    "\n",
    "If a lexeme occurs in a single chapter, its slots are a subset of the slots of that chapter.\n",
    "So, if you go *up* from the lexeme, you encounter the chapter.\n",
    "\n",
    "Normally, lexemes occur in many chapters, and then none of them totally includes all occurrences of it,\n",
    "so if you go up from such lexemes, you don not find chapters.\n",
    "\n",
    "Let's check it out.\n",
    "\n",
    "Oh yes, we have already found the hapaxes, we will skip them here."
   ]
  },
  {
   "cell_type": "code",
   "execution_count": 16,
   "metadata": {
    "collapsed": false
   },
   "outputs": [
    {
     "name": "stdout",
     "output_type": "stream",
     "text": [
      "  0.00s Finding single chapter lexemes\n",
      "  0.18s 450 single chapter lexemes found\n",
      "No chapter embedders of multiple lexemes found\n",
      "Genesis 4:1          QJN=/ \n",
      "Genesis 4:2          HBL=/ \n",
      "Genesis 4:18         <JRD/ \n",
      "Genesis 4:18         MTWC>L/\n",
      "Genesis 4:19         YLH/  \n",
      "Genesis 4:22         TWBL_QJN/\n",
      "Genesis 10:11        KLX=/ \n",
      "Genesis 14:1         >MRPL/\n",
      "Genesis 14:1         >RJWK/\n",
      "Genesis 14:1         >LSR/ \n"
     ]
    }
   ],
   "source": [
    "singleCh = []\n",
    "multiple = []\n",
    "indent(reset=True)\n",
    "info('Finding single chapter lexemes')\n",
    "for l in F.otype.s('lex'):\n",
    "    chapters = L.u(l, 'chapter')\n",
    "    if len(chapters) == 1:\n",
    "        if l not in hapax:\n",
    "            singleCh.append(l)\n",
    "    elif len(chapters) > 0: # should not happen\n",
    "        multipleCh.append(l)\n",
    "info('{} single chapter lexemes found'.format(len(singleCh)))\n",
    "if multiple:\n",
    "    error('{} chapter embedders of multiple lexemes found'.format(len(multiple)), tm=False)\n",
    "else:\n",
    "    info('No chapter embedders of multiple lexemes found', tm=False)\n",
    "for s in singleCh[0:10]:\n",
    "    print('{:<20} {:<6}'.format(\n",
    "        '{} {}:{}'.format(*T.sectionFromNode(s)),\n",
    "        F.lex.v(s),\n",
    "    ))"
   ]
  },
  {
   "cell_type": "markdown",
   "metadata": {},
   "source": [
    "### Confined to books\n",
    "\n",
    "As a final exercise with lexemes, lets make a list of all books, and show their total number of lexemes and\n",
    "the number of lexemes that occur exclusively in that book."
   ]
  },
  {
   "cell_type": "code",
   "execution_count": 17,
   "metadata": {
    "collapsed": false
   },
   "outputs": [
    {
     "name": "stdout",
     "output_type": "stream",
     "text": [
      "  0.00s Making book-lexeme index\n",
      "  4.79s Found 9236 lexemes\n"
     ]
    }
   ],
   "source": [
    "indent(reset=True)\n",
    "\n",
    "allBook = collections.defaultdict(set)\n",
    "allLex = set()\n",
    "\n",
    "info('Making book-lexeme index')\n",
    "for b in F.otype.s('book'):\n",
    "    for w in L.d(b, 'word'):\n",
    "        l = L.u(w, 'lex')[0]\n",
    "        allBook[b].add(l)\n",
    "        allLex.add(l)\n",
    "info('Found {} lexemes'.format(len(allLex)))"
   ]
  },
  {
   "cell_type": "code",
   "execution_count": 18,
   "metadata": {
    "collapsed": false
   },
   "outputs": [
    {
     "name": "stdout",
     "output_type": "stream",
     "text": [
      "  0.00s Finding single book lexemes\n",
      "  0.06s found 4228 single book lexemes\n"
     ]
    }
   ],
   "source": [
    "indent(reset=True)\n",
    "\n",
    "singleBook = collections.defaultdict(lambda:0)\n",
    "info('Finding single book lexemes')\n",
    "for l in F.otype.s('lex'):\n",
    "    book = L.u(l, 'book')\n",
    "    if len(book) == 1:\n",
    "        singleBook[book[0]] += 1\n",
    "info('found {} single book lexemes'.format(sum(singleBook.values())))"
   ]
  },
  {
   "cell_type": "code",
   "execution_count": 19,
   "metadata": {
    "collapsed": false
   },
   "outputs": [
    {
     "name": "stdout",
     "output_type": "stream",
     "text": [
      "book                 #all #own %own\n",
      "-----------------------------------\n",
      "Daniel               1121  428 38.2%\n",
      "1_Chronicles         2016  489 24.3%\n",
      "Ezra                  991  199 20.1%\n",
      "Joshua               1175  206 17.5%\n",
      "Esther                472   67 14.2%\n",
      "Isaiah               2554  350 13.7%\n",
      "Numbers              1457  197 13.5%\n",
      "Ezekiel              1718  212 12.3%\n",
      "Song_of_songs         503   60 11.9%\n",
      "Job                  1718  202 11.8%\n",
      "Genesis              1817  208 11.4%\n",
      "Nehemiah             1076  110 10.2%\n",
      "Psalms               2251  216  9.6%\n",
      "Leviticus             960   89  9.3%\n",
      "Judges               1210   99  8.2%\n",
      "Ecclesiastes          575   46  8.0%\n",
      "Proverbs             1356  103  7.6%\n",
      "Jeremiah             1950  147  7.5%\n",
      "1_Samuel             1257   86  6.8%\n",
      "2_Samuel             1304   89  6.8%\n",
      "2_Kings              1266   85  6.7%\n",
      "Exodus               1425   92  6.5%\n",
      "1_Kings              1291   81  6.3%\n",
      "Deuteronomy          1449   80  5.5%\n",
      "Lamentations          592   31  5.2%\n",
      "2_Chronicles         1411   67  4.7%\n",
      "Nahum                 357   16  4.5%\n",
      "Hosea                 742   33  4.4%\n",
      "Ruth                  319   14  4.4%\n",
      "Habakkuk              393   17  4.3%\n",
      "Amos                  652   27  4.1%\n",
      "Joel                  398   14  3.5%\n",
      "Zechariah             726   25  3.4%\n",
      "Obadiah               167    5  3.0%\n",
      "Micah                 586   16  2.7%\n",
      "Zephaniah             367   10  2.7%\n",
      "Jonah                 252    5  2.0%\n",
      "Haggai                208    3  1.4%\n",
      "Malachi               314    4  1.3%\n"
     ]
    }
   ],
   "source": [
    "print('{:<20}{:>5}{:>5}{:>5}\\n{}'.format(\n",
    "    'book', '#all', '#own', '%own',\n",
    "    '-'*35,\n",
    "))\n",
    "booklist = []\n",
    "\n",
    "for b in F.otype.s('book'):\n",
    "    book = T.bookName(b)\n",
    "    a = len(allBook[b])\n",
    "    o = singleBook.get(b, 0)\n",
    "    p = 100 * o / a\n",
    "    booklist.append((book, a, o, p))\n",
    "\n",
    "for x in sorted(booklist, key=lambda e: (-e[3], -e[1], e[0])):\n",
    "    print('{:<20} {:>4} {:>4} {:>4.1f}%'.format(*x))"
   ]
  },
  {
   "cell_type": "markdown",
   "metadata": {},
   "source": [
    "## Part of speech counting\n",
    "We count the words of each part of speech, and we list to top 10 of frequent lexemes.\n",
    "\n",
    "**NB**: This is not so much about lexemes as well as\n",
    "generating pretty progress messages."
   ]
  },
  {
   "cell_type": "code",
   "execution_count": 20,
   "metadata": {
    "collapsed": false
   },
   "outputs": [
    {
     "name": "stdout",
     "output_type": "stream",
     "text": [
      "  0.00s Starting tasks\n",
      "   |     0.00s Counting the words by part-of-speech ...\n",
      "   |     0.46s Done: 14 categories\n",
      "   |      |   subs   : 121481x\n",
      "   |      |   verb   :  73710x\n",
      "   |      |   prep   :  73273x\n",
      "   |      |   conj   :  62722x\n",
      "   |      |   nmpr   :  33082x\n",
      "   |      |   art    :  30384x\n",
      "   |      |   adjv   :   9464x\n",
      "   |      |   nega   :   6053x\n",
      "   |      |   prps   :   5011x\n",
      "   |      |   advb   :   4550x\n",
      "   |      |   prde   :   2660x\n",
      "   |      |   intj   :   1885x\n",
      "   |      |   inrg   :   1285x\n",
      "   |      |   prin   :   1021x\n",
      "   |     0.00s Listing the top 10 frequent words ...\n",
      "   |     0.45s Done: 8776 lexemes\n",
      "   |      |   W      :  51003x\n",
      "   |      |   H      :  30390x\n",
      "   |      |   L      :  20447x\n",
      "   |      |   B      :  15768x\n",
      "   |      |   >T     :  11002x\n",
      "   |      |   MN     :   7681x\n",
      "   |      |   JHWH/  :   6828x\n",
      "   |      |   <L     :   5870x\n",
      "   |      |   >L     :   5521x\n",
      "   |      |   >CR    :   5500x\n",
      "  0.94s All tasks completed\n"
     ]
    }
   ],
   "source": [
    "partOfSpeech = collections.Counter()\n",
    "freqLex = collections.Counter()\n",
    "\n",
    "indent(level=0, reset=True)\n",
    "info('Starting tasks')\n",
    "indent(level=1, reset=True)\n",
    "info('Counting the words by part-of-speech ...')\n",
    "for w in F.otype.s('word'):\n",
    "    partOfSpeech[F.sp.v(w)] += 1\n",
    "info('Done: {} categories'.format(len(partOfSpeech)))\n",
    "indent(level=2)\n",
    "info('\\n'.join('{:<7}: {:>6}x'.format(*x) for x in sorted(\n",
    "    partOfSpeech.items(),\n",
    "    key=lambda x: (-x[1], x[0])\n",
    ")), tm=False)\n",
    "indent(level=1, reset=True)\n",
    "info('Listing the top 10 frequent words ...')\n",
    "for w in F.otype.s('word'):\n",
    "    freqLex[F.lex.v(w)] += 1\n",
    "info('Done: {} lexemes'.format(len(freqLex)))\n",
    "indent(level=2)\n",
    "info('\\n'.join('{:<7}: {:>6}x'.format(*x) for x in sorted(\n",
    "    freqLex.items(),\n",
    "    key=lambda x: (-x[1], x[0])\n",
    ")[0:10]), tm=False)\n",
    "indent(level=0)\n",
    "info('All tasks completed')"
   ]
  },
  {
   "cell_type": "markdown",
   "metadata": {},
   "source": [
    "# Layer API\n",
    "We travel upwards and downwards, forwards and backwards through the nodes.\n",
    "The Layer-API (`L`) provides functions: `u()` for going up, and `d()` for going down,\n",
    "`n()` for going to next nodes and `p()` for going to previous nodes.\n",
    "\n",
    "These directions are indirect notions: nodes are just numbers, but by means of the\n",
    "`oslots` feature they are linked to slots. One node *contains* an other node, if the one is linked to a set of slots that contains the set of slots that the other is linked to.\n",
    "And one if next or previous to an other, if its slots follow of precede the slots of the other one.\n",
    "\n",
    "`L.u(node)` **Up** is going to nodes that embed `node`.\n",
    "\n",
    "`L.d(node)` **Down** is the opposite direction, to those that are contained in `node`.\n",
    "\n",
    "`L.n(node)` **Next** are the next *adjacent* nodes, i.e. nodes whose first slot comes immediately after the last slot of `node`.\n",
    "\n",
    "`L.p(node)` **Previous** are the previous *adjacent* nodes, i.e. nodes whose last slot comes immediately before the first slot of `node`.\n",
    "\n",
    "All these functions yield nodes of all possible otypes.\n",
    "By passing an optional parameter, you can restrict the results to nodes of that type.\n",
    "\n",
    "The result is ordered in the canonical node ordering.\n",
    "The functions return always a tuple, even if there is just one node in the result.\n",
    "\n",
    "## Going up\n",
    "We go from the first word to the book it contains."
   ]
  },
  {
   "cell_type": "code",
   "execution_count": 21,
   "metadata": {
    "collapsed": false
   },
   "outputs": [
    {
     "name": "stdout",
     "output_type": "stream",
     "text": [
      "1367534\n"
     ]
    }
   ],
   "source": [
    "firstBook = L.u(1, otype='book')[0]\n",
    "print(firstBook)"
   ]
  },
  {
   "cell_type": "markdown",
   "metadata": {},
   "source": [
    "And let's see all the containing objects of word 3:"
   ]
  },
  {
   "cell_type": "code",
   "execution_count": 28,
   "metadata": {
    "collapsed": false
   },
   "outputs": [
    {
     "name": "stdout",
     "output_type": "stream",
     "text": [
      "word 3 is contained in book 1367534\n",
      "word 3 is contained in chapter 1367573\n",
      "word 3 is contained in lex 1436897\n",
      "word 3 is contained in verse 1413682\n",
      "word 3 is contained in half_verse 1368502\n",
      "word 3 is contained in sentence 1125833\n",
      "word 3 is contained in sentence_atom 1189403\n",
      "word 3 is contained in clause 426582\n",
      "word 3 is contained in clause_atom 514582\n",
      "word 3 is contained in phrase 605145\n",
      "word 3 is contained in phrase_atom 858319\n",
      "word 3 is contained in subphrase x\n"
     ]
    }
   ],
   "source": [
    "w = 3\n",
    "for otype in F.otype.all:\n",
    "    if otype == F.otype.slotType: continue\n",
    "    up = L.u(w, otype=otype)\n",
    "    upNode = 'x' if len(up) == 0 else up[0]\n",
    "    print('word {} is contained in {} {}'.format(w, otype, upNode))"
   ]
  },
  {
   "cell_type": "markdown",
   "metadata": {},
   "source": [
    "## Going next\n",
    "Let's go to the next nodes of the first book."
   ]
  },
  {
   "cell_type": "code",
   "execution_count": 26,
   "metadata": {
    "collapsed": false
   },
   "outputs": [
    {
     "name": "stdout",
     "output_type": "stream",
     "text": [
      "  28763: word          first slot=28763 , last slot=28763 \n",
      " 877074: phrase_atom   first slot=28763 , last slot=28763 \n",
      " 623125: phrase        first slot=28763 , last slot=28763 \n",
      " 520716: clause_atom   first slot=28763 , last slot=28767 \n",
      " 432570: clause        first slot=28763 , last slot=28767 \n",
      "1371502: half_verse    first slot=28763 , last slot=28770 \n",
      "1194035: sentence_atom first slot=28763 , last slot=28772 \n",
      "1130436: sentence      first slot=28763 , last slot=28791 \n",
      "1415215: verse         first slot=28763 , last slot=28776 \n",
      "1367623: chapter       first slot=28763 , last slot=29111 \n",
      "1367535: book          first slot=28763 , last slot=52510 \n"
     ]
    }
   ],
   "source": [
    "afterFirstBook = L.n(firstBook)\n",
    "for n in afterFirstBook:\n",
    "    print('{:>7}: {:<13} first slot={:<6}, last slot={:<6}'.format(\n",
    "        n, F.otype.v(n),\n",
    "        E.oslots.s(n)[0],\n",
    "        E.oslots.s(n)[-1],\n",
    "    ))\n",
    "secondBook = L.n(firstBook, otype='book')[0]"
   ]
  },
  {
   "cell_type": "markdown",
   "metadata": {},
   "source": [
    "## Going previous\n",
    "\n",
    "And let's see what is right before the second book."
   ]
  },
  {
   "cell_type": "code",
   "execution_count": 27,
   "metadata": {
    "collapsed": false
   },
   "outputs": [
    {
     "name": "stdout",
     "output_type": "stream",
     "text": [
      "1367534: book          first slot=1     , last slot=28762 \n",
      "1367622: chapter       first slot=28258 , last slot=28762 \n",
      "1415214: verse         first slot=28745 , last slot=28762 \n",
      "1371501: half_verse    first slot=28753 , last slot=28762 \n",
      "1130435: sentence      first slot=28756 , last slot=28762 \n",
      "1194034: sentence_atom first slot=28756 , last slot=28762 \n",
      " 432569: clause        first slot=28756 , last slot=28762 \n",
      " 520715: clause_atom   first slot=28756 , last slot=28762 \n",
      " 623124: phrase        first slot=28761 , last slot=28762 \n",
      " 877073: phrase_atom   first slot=28761 , last slot=28762 \n",
      "  28762: word          first slot=28762 , last slot=28762 \n"
     ]
    }
   ],
   "source": [
    "for n in L.p(secondBook):\n",
    "    print('{:>7}: {:<13} first slot={:<6}, last slot={:<6}'.format(\n",
    "        n, F.otype.v(n),\n",
    "        E.oslots.s(n)[0],\n",
    "        E.oslots.s(n)[-1],\n",
    "    ))"
   ]
  },
  {
   "cell_type": "markdown",
   "metadata": {},
   "source": [
    "## Going down"
   ]
  },
  {
   "cell_type": "markdown",
   "metadata": {},
   "source": [
    "We go to the chapters of the second book, and just count them."
   ]
  },
  {
   "cell_type": "code",
   "execution_count": 30,
   "metadata": {
    "collapsed": false
   },
   "outputs": [
    {
     "name": "stdout",
     "output_type": "stream",
     "text": [
      "40\n"
     ]
    }
   ],
   "source": [
    "chapters = L.d(secondBook, otype='chapter')\n",
    "print(len(chapters))"
   ]
  },
  {
   "cell_type": "markdown",
   "metadata": {},
   "source": [
    "## The first verse\n",
    "We pick the first verse and the first word, and explore what is above and below them."
   ]
  },
  {
   "cell_type": "code",
   "execution_count": 31,
   "metadata": {
    "collapsed": false
   },
   "outputs": [
    {
     "name": "stdout",
     "output_type": "stream",
     "text": [
      "Node 1\n",
      "   |   UP\n",
      "   |      |   1436895         lex\n",
      "   |      |   858318          phrase_atom\n",
      "   |      |   605144          phrase\n",
      "   |      |   1368502         half_verse\n",
      "   |      |   514582          clause_atom\n",
      "   |      |   426582          clause\n",
      "   |      |   1189403         sentence_atom\n",
      "   |      |   1125833         sentence\n",
      "   |      |   1413682         verse\n",
      "   |      |   1367573         chapter\n",
      "   |      |   1367534         book\n",
      "   |   DOWN\n",
      "   |      |   \n",
      "Node 1413682\n",
      "   |   UP\n",
      "   |      |   1367573         chapter\n",
      "   |      |   1367534         book\n",
      "   |   DOWN\n",
      "   |      |   1125833         sentence\n",
      "   |      |   1189403         sentence_atom\n",
      "   |      |   426582          clause\n",
      "   |      |   514582          clause_atom\n",
      "   |      |   1368502         half_verse\n",
      "   |      |   605144          phrase\n",
      "   |      |   858318          phrase_atom\n",
      "   |      |   1               word\n",
      "   |      |   2               word\n",
      "   |      |   605145          phrase\n",
      "   |      |   858319          phrase_atom\n",
      "   |      |   3               word\n",
      "   |      |   605146          phrase\n",
      "   |      |   858320          phrase_atom\n",
      "   |      |   4               word\n",
      "   |      |   1368503         half_verse\n",
      "   |      |   605147          phrase\n",
      "   |      |   858321          phrase_atom\n",
      "   |      |   1253742         subphrase\n",
      "   |      |   5               word\n",
      "   |      |   6               word\n",
      "   |      |   7               word\n",
      "   |      |   8               word\n",
      "   |      |   1253743         subphrase\n",
      "   |      |   9               word\n",
      "   |      |   10              word\n",
      "   |      |   11              word\n",
      "Done\n"
     ]
    }
   ],
   "source": [
    "for n in [1, L.u(1, otype='verse')[0]]:\n",
    "    indent(level=0)\n",
    "    info('Node {}'.format(n), tm=False)\n",
    "    indent(level=1)\n",
    "    info('UP', tm=False)\n",
    "    indent(level=2)\n",
    "    info('\\n'.join(['{:<15} {}'.format(u, F.otype.v(u)) for u in L.u(n)]), tm=False)\n",
    "    indent(level=1)\n",
    "    info('DOWN', tm=False)\n",
    "    indent(level=2)\n",
    "    info('\\n'.join(['{:<15} {}'.format(u, F.otype.v(u)) for u in L.d(n)]), tm=False)\n",
    "indent(level=0)\n",
    "info('Done', tm=False)"
   ]
  },
  {
   "cell_type": "markdown",
   "metadata": {},
   "source": [
    "# Text API\n",
    "\n",
    "We examine the functions of the Text API: `T`.\n",
    "\n",
    "## Formats\n",
    "First the formats that we have available to represent the actual text.\n",
    "These formats have been defined in the `otext` feature.\n",
    "This is an optional GRID config feature: it has only metadata."
   ]
  },
  {
   "cell_type": "code",
   "execution_count": 11,
   "metadata": {
    "collapsed": false
   },
   "outputs": [
    {
     "data": {
      "text/plain": [
       "['lex-orig-full', 'text-orig-full']"
      ]
     },
     "execution_count": 11,
     "metadata": {},
     "output_type": "execute_result"
    }
   ],
   "source": [
    "sorted(T.formats)"
   ]
  },
  {
   "cell_type": "markdown",
   "metadata": {},
   "source": [
    "Note the `text-phono-full` format here.\n",
    "It does not come from the main data source `etcbc4c`, but from the module `phono`.\n",
    "Look in your data directory, find `text-fabric-data/hebrew/phono/otext@phono.tf`,\n",
    "and you'll see this format defined there."
   ]
  },
  {
   "cell_type": "markdown",
   "metadata": {},
   "source": [
    "## Using the formats\n",
    "Now let's use those formats to print out the first verse of the Hebrew Bible."
   ]
  },
  {
   "cell_type": "code",
   "execution_count": 12,
   "metadata": {
    "collapsed": false
   },
   "outputs": [
    {
     "name": "stdout",
     "output_type": "stream",
     "text": [
      "lex-orig-full:\n",
      "\tβίβλος γένεσις Ἰησοῦς Χριστός υἱός Δαυίδ υἱός Ἀβραάμ Ἀβραάμ γεννάω ὁ \n",
      "text-orig-full:\n",
      "\tΒίβλος γενέσεως Ἰησοῦ χριστοῦ υἱοῦ Δαυὶδ υἱοῦ Ἀβραάμ. Ἀβραὰμ ἐγέννησεν τὸν \n"
     ]
    }
   ],
   "source": [
    "for fmt in sorted(T.formats):\n",
    "    print('{}:\\n\\t{}'.format(fmt, T.text(range(1,12), fmt=fmt)))"
   ]
  },
  {
   "cell_type": "markdown",
   "metadata": {},
   "source": [
    "If we do not specify a format, the **default** format is used (`text-orig-full`)."
   ]
  },
  {
   "cell_type": "code",
   "execution_count": 13,
   "metadata": {
    "collapsed": false
   },
   "outputs": [
    {
     "name": "stdout",
     "output_type": "stream",
     "text": [
      "Βίβλος γενέσεως Ἰησοῦ χριστοῦ υἱοῦ Δαυὶδ υἱοῦ Ἀβραάμ. Ἀβραὰμ ἐγέννησεν τὸν \n"
     ]
    }
   ],
   "source": [
    "print(T.text(range(1,12)))"
   ]
  },
  {
   "cell_type": "markdown",
   "metadata": {},
   "source": [
    "## Whole text in all formats in just 10 seconds\n",
    "We are going to produce the complete text of the Hebrew Bible in all available formats."
   ]
  },
  {
   "cell_type": "code",
   "execution_count": 14,
   "metadata": {
    "collapsed": false
   },
   "outputs": [
    {
     "name": "stdout",
     "output_type": "stream",
     "text": [
      "  0.00s writing plain text of whole Bible in all formats\n",
      "  0.59s done 2 formats\n",
      "lex-orig-full\n",
      "βίβλος γένεσις Ἰησοῦς Χριστός υἱός Δαυίδ υἱός Ἀβραάμ \n",
      "Ἀβραάμ γεννάω ὁ Ἰσαάκ δέ Ἰσαάκ γεννάω ὁ Ἰακώβ δέ Ἰακώβ γεννάω ὁ Ἰούδας καί ὁ ἀδελφός αὐτός \n",
      "δέ Ἰούδας γεννάω ὁ Φαρές καί ὁ Ζάρα ἐκ ὁ Θαμάρ δέ Φαρές γεννάω ὁ Ἑσρώμ δέ Ἑσρώμ γεννάω ὁ Ἀράμ \n",
      "δέ Ἀράμ γεννάω ὁ Ἀμιναδάβ δέ Ἀμιναδάβ γεννάω ὁ Ναασσών δέ Ναασσών γεννάω ὁ Σαλμών \n",
      "δέ Σαλμών γεννάω ὁ Βόες ἐκ ὁ Ῥαχάβ δέ Βόες γεννάω ὁ Ἰωβήδ ἐκ ὁ Ῥούθ δέ Ἰωβήδ γεννάω ὁ Ἰεσσαί \n",
      "\n",
      "text-orig-full\n",
      "Βίβλος γενέσεως Ἰησοῦ χριστοῦ υἱοῦ Δαυὶδ υἱοῦ Ἀβραάμ. \n",
      "Ἀβραὰμ ἐγέννησεν τὸν Ἰσαάκ, δὲ Ἰσαὰκ ἐγέννησεν τὸν Ἰακώβ, δὲ Ἰακὼβ ἐγέννησεν τὸν Ἰούδαν καὶ τοὺς ἀδελφοὺς αὐτοῦ, \n",
      "δὲ Ἰούδας ἐγέννησεν τὸν Φαρὲς καὶ τὸν Ζάρα ἐκ τῆς Θαμάρ, δὲ Φαρὲς ἐγέννησεν τὸν Ἑσρώμ, δὲ Ἑσρὼμ ἐγέννησεν τὸν Ἀράμ, \n",
      "δὲ Ἀρὰμ ἐγέννησεν τὸν Ἀμιναδάβ, δὲ Ἀμιναδὰβ ἐγέννησεν τὸν Ναασσών, δὲ Ναασσὼν ἐγέννησεν τὸν Σαλμών, \n",
      "δὲ Σαλμὼν ἐγέννησεν τὸν Βόες ἐκ τῆς Ῥαχάβ, δὲ Βόες ἐγέννησεν τὸν Ἰωβὴδ ἐκ τῆς Ῥούθ, δὲ Ἰωβὴδ ἐγέννησεν τὸν Ἰεσσαί, \n",
      "\n"
     ]
    }
   ],
   "source": [
    "text = collections.defaultdict(list)\n",
    "indent(reset=True)\n",
    "info('writing plain text of whole Bible in all formats')\n",
    "for v in F.otype.s('verse'):\n",
    "    words = L.d(v, 'word')\n",
    "    for fmt in sorted(T.formats):\n",
    "        text[fmt].append(T.text(words, fmt=fmt))\n",
    "info('done {} formats'.format(len(text)))\n",
    "for fmt in sorted(text):\n",
    "    print('{}\\n{}\\n'.format(fmt, '\\n'.join(text[fmt][0:5])))"
   ]
  },
  {
   "cell_type": "markdown",
   "metadata": {},
   "source": [
    "## Book names\n",
    "\n",
    "For Bible book names, we can use several languages.\n",
    "\n",
    "### Languages\n",
    "Here are the languages that we can use for book names.\n",
    "These languages come from the features `book@ll`, where `ll` is a two letter\n",
    "ISO language code. Have a look in your data directory, you can't miss them."
   ]
  },
  {
   "cell_type": "code",
   "execution_count": 15,
   "metadata": {
    "collapsed": false
   },
   "outputs": [
    {
     "data": {
      "text/plain": [
       "{'en': {'language': 'English', 'languageEnglish': 'english'}}"
      ]
     },
     "execution_count": 15,
     "metadata": {},
     "output_type": "execute_result"
    }
   ],
   "source": [
    "T.languages"
   ]
  },
  {
   "cell_type": "markdown",
   "metadata": {},
   "source": [
    "### Book names in Swahili\n",
    "Get the book names in Swahili."
   ]
  },
  {
   "cell_type": "code",
   "execution_count": 37,
   "metadata": {
    "collapsed": false
   },
   "outputs": [
    {
     "name": "stdout",
     "output_type": "stream",
     "text": [
      "1367534 = Mwanzo\n",
      "1367535 = Kutoka\n",
      "1367536 = Mambo_ya_Walawi\n",
      "1367537 = Hesabu\n",
      "1367538 = Kumbukumbu_la_Torati\n",
      "1367539 = Yoshua\n",
      "1367540 = Waamuzi\n",
      "1367541 = 1_Samweli\n",
      "1367542 = 2_Samweli\n",
      "1367543 = 1_Wafalme\n",
      "1367544 = 2_Wafalme\n",
      "1367545 = Isaya\n",
      "1367546 = Yeremia\n",
      "1367547 = Ezekieli\n",
      "1367548 = Hosea\n",
      "1367549 = Yoeli\n",
      "1367550 = Amosi\n",
      "1367551 = Obadia\n",
      "1367552 = Yona\n",
      "1367553 = Mika\n",
      "1367554 = Nahumu\n",
      "1367555 = Habakuki\n",
      "1367556 = Sefania\n",
      "1367557 = Hagai\n",
      "1367558 = Zekaria\n",
      "1367559 = Malaki\n",
      "1367560 = Zaburi\n",
      "1367561 = Ayubu\n",
      "1367562 = Mithali\n",
      "1367563 = Ruthi\n",
      "1367564 = Wimbo_Ulio_Bora\n",
      "1367565 = Mhubiri\n",
      "1367566 = Maombolezo\n",
      "1367567 = Esta\n",
      "1367568 = Danieli\n",
      "1367569 = Ezra\n",
      "1367570 = Nehemia\n",
      "1367571 = 1_Mambo_ya_Nyakati\n",
      "1367572 = 2_Mambo_ya_Nyakati\n",
      "\n"
     ]
    }
   ],
   "source": [
    "nodeToSwahili = ''\n",
    "for b in F.otype.s('book'):\n",
    "    nodeToSwahili += '{} = {}\\n'.format(b, T.bookName(b, lang='sw'))\n",
    "print(nodeToSwahili)"
   ]
  },
  {
   "cell_type": "markdown",
   "metadata": {},
   "source": [
    "## Book nodes from Swahili\n",
    "OK, there they are. We copy them into a string, and do the opposite: get the nodes back.\n",
    "We check whether we get exactly the same nodes as the ones we started with."
   ]
  },
  {
   "cell_type": "code",
   "execution_count": 38,
   "metadata": {
    "collapsed": false
   },
   "outputs": [
    {
     "name": "stdout",
     "output_type": "stream",
     "text": [
      "Going from nodes to booknames and back yields the original nodes\n"
     ]
    }
   ],
   "source": [
    "swahiliNames = '''\n",
    "Mwanzo\n",
    "Kutoka\n",
    "Mambo_ya_Walawi\n",
    "Hesabu\n",
    "Kumbukumbu_la_Torati\n",
    "Yoshua\n",
    "Waamuzi\n",
    "1_Samweli\n",
    "2_Samweli\n",
    "1_Wafalme\n",
    "2_Wafalme\n",
    "Isaya\n",
    "Yeremia\n",
    "Ezekieli\n",
    "Hosea\n",
    "Yoeli\n",
    "Amosi\n",
    "Obadia\n",
    "Yona\n",
    "Mika\n",
    "Nahumu\n",
    "Habakuki\n",
    "Sefania\n",
    "Hagai\n",
    "Zekaria\n",
    "Malaki\n",
    "Zaburi\n",
    "Ayubu\n",
    "Mithali\n",
    "Ruthi\n",
    "Wimbo_Ulio_Bora\n",
    "Mhubiri\n",
    "Maombolezo\n",
    "Esta\n",
    "Danieli\n",
    "Ezra\n",
    "Nehemia\n",
    "1_Mambo_ya_Nyakati\n",
    "2_Mambo_ya_Nyakati\n",
    "'''.strip().split()\n",
    "\n",
    "swahiliToNode = ''\n",
    "for nm in swahiliNames:\n",
    "    swahiliToNode += '{} = {}\\n'.format(T.bookNode(nm, lang='sw'), nm)\n",
    "    \n",
    "if swahiliToNode != nodeToSwahili:\n",
    "    print('Something is not right with the book names')\n",
    "else:\n",
    "    print('Going from nodes to booknames and back yields the original nodes')"
   ]
  },
  {
   "cell_type": "markdown",
   "metadata": {},
   "source": [
    "## Sections\n",
    "\n",
    "A section in the Hebrew bible is a book, a chapter or a verse.\n",
    "Knowledge of sections is not baked into Text-Fabric. \n",
    "The config feature `otext.tf` may specify three section levels, and tell\n",
    "what the corresponding node types and features are.\n",
    "\n",
    "From that knowledge it can construct mappings from nodes to sections, e.g. from verse\n",
    "nodes to tuples of the form:\n",
    "\n",
    "    (bookName, chapterNumber, verseNumber)\n",
    "   \n",
    "Here are examples of getting the section that corresponds to a node and vice versa.\n",
    "\n",
    "**NB:** `sectionFromNode` always delivers a verse specification, either from the\n",
    "first slot belonging to that node, or, if `lastSlot`, from the last slot\n",
    "belonging to that node."
   ]
  },
  {
   "cell_type": "code",
   "execution_count": 17,
   "metadata": {
    "collapsed": false
   },
   "outputs": [
    {
     "data": {
      "text/plain": [
       "419613"
      ]
     },
     "execution_count": 17,
     "metadata": {},
     "output_type": "execute_result"
    }
   ],
   "source": [
    "T.nodeFromSection(('Matthew', 1, 1))"
   ]
  },
  {
   "cell_type": "code",
   "execution_count": 19,
   "metadata": {
    "collapsed": false
   },
   "outputs": [
    {
     "data": {
      "text/plain": [
       "('Matthew', 1, 1)"
      ]
     },
     "execution_count": 19,
     "metadata": {},
     "output_type": "execute_result"
    }
   ],
   "source": [
    "T.sectionFromNode(419613, lang='en')"
   ]
  },
  {
   "cell_type": "code",
   "execution_count": 16,
   "metadata": {
    "collapsed": false
   },
   "outputs": [
    {
     "ename": "KeyError",
     "evalue": "''",
     "output_type": "error",
     "traceback": [
      "\u001b[0;31m---------------------------------------------------------------------------\u001b[0m",
      "\u001b[0;31mKeyError\u001b[0m                                  Traceback (most recent call last)",
      "\u001b[0;32m<ipython-input-16-6260d458cf02>\u001b[0m in \u001b[0;36m<module>\u001b[0;34m()\u001b[0m\n\u001b[1;32m      2\u001b[0m     \u001b[0;34m(\u001b[0m\u001b[0;34m'section of first word'\u001b[0m\u001b[0;34m,\u001b[0m   \u001b[0mT\u001b[0m\u001b[0;34m.\u001b[0m\u001b[0msectionFromNode\u001b[0m\u001b[0;34m(\u001b[0m\u001b[0;36m1\u001b[0m\u001b[0;34m)\u001b[0m                            \u001b[0;34m)\u001b[0m\u001b[0;34m,\u001b[0m\u001b[0;34m\u001b[0m\u001b[0m\n\u001b[1;32m      3\u001b[0m     \u001b[0;34m(\u001b[0m\u001b[0;34m'node of Gen 1:1'\u001b[0m\u001b[0;34m,\u001b[0m         \u001b[0mT\u001b[0m\u001b[0;34m.\u001b[0m\u001b[0mnodeFromSection\u001b[0m\u001b[0;34m(\u001b[0m\u001b[0;34m(\u001b[0m\u001b[0;34m'Genesis'\u001b[0m\u001b[0;34m,\u001b[0m \u001b[0;36m1\u001b[0m\u001b[0;34m,\u001b[0m \u001b[0;36m1\u001b[0m\u001b[0;34m)\u001b[0m\u001b[0;34m)\u001b[0m            \u001b[0;34m)\u001b[0m\u001b[0;34m,\u001b[0m\u001b[0;34m\u001b[0m\u001b[0m\n\u001b[0;32m----> 4\u001b[0;31m     \u001b[0;34m(\u001b[0m\u001b[0;34m'idem'\u001b[0m\u001b[0;34m,\u001b[0m                    \u001b[0mT\u001b[0m\u001b[0;34m.\u001b[0m\u001b[0mnodeFromSection\u001b[0m\u001b[0;34m(\u001b[0m\u001b[0;34m(\u001b[0m\u001b[0;34m'Mwanzo'\u001b[0m\u001b[0;34m,\u001b[0m \u001b[0;36m1\u001b[0m\u001b[0;34m,\u001b[0m \u001b[0;36m1\u001b[0m\u001b[0;34m)\u001b[0m\u001b[0;34m,\u001b[0m \u001b[0mlang\u001b[0m\u001b[0;34m=\u001b[0m\u001b[0;34m'sw'\u001b[0m\u001b[0;34m)\u001b[0m  \u001b[0;34m)\u001b[0m\u001b[0;34m,\u001b[0m\u001b[0;34m\u001b[0m\u001b[0m\n\u001b[0m\u001b[1;32m      5\u001b[0m     \u001b[0;34m(\u001b[0m\u001b[0;34m'node of book Genesis'\u001b[0m\u001b[0;34m,\u001b[0m    \u001b[0mT\u001b[0m\u001b[0;34m.\u001b[0m\u001b[0mnodeFromSection\u001b[0m\u001b[0;34m(\u001b[0m\u001b[0;34m(\u001b[0m\u001b[0;34m'Genesis'\u001b[0m\u001b[0;34m,\u001b[0m\u001b[0;34m)\u001b[0m\u001b[0;34m)\u001b[0m                 \u001b[0;34m)\u001b[0m\u001b[0;34m,\u001b[0m\u001b[0;34m\u001b[0m\u001b[0m\n\u001b[1;32m      6\u001b[0m     \u001b[0;34m(\u001b[0m\u001b[0;34m'node of Genesis 1'\u001b[0m\u001b[0;34m,\u001b[0m       \u001b[0mT\u001b[0m\u001b[0;34m.\u001b[0m\u001b[0mnodeFromSection\u001b[0m\u001b[0;34m(\u001b[0m\u001b[0;34m(\u001b[0m\u001b[0;34m'Genesis'\u001b[0m\u001b[0;34m,\u001b[0m \u001b[0;36m1\u001b[0m\u001b[0;34m)\u001b[0m\u001b[0;34m)\u001b[0m               \u001b[0;34m)\u001b[0m\u001b[0;34m,\u001b[0m\u001b[0;34m\u001b[0m\u001b[0m\n",
      "\u001b[0;32m/Library/Frameworks/Python.framework/Versions/3.6/lib/python3.6/site-packages/tf/text.py\u001b[0m in \u001b[0;36mnodeFromSection\u001b[0;34m(self, section, lang)\u001b[0m\n\u001b[1;32m     76\u001b[0m         \u001b[0;32mif\u001b[0m \u001b[0mlen\u001b[0m\u001b[0;34m(\u001b[0m\u001b[0msTypes\u001b[0m\u001b[0;34m)\u001b[0m \u001b[0;34m==\u001b[0m \u001b[0;36m0\u001b[0m\u001b[0;34m:\u001b[0m \u001b[0;32mreturn\u001b[0m \u001b[0;32mNone\u001b[0m\u001b[0;34m\u001b[0m\u001b[0m\n\u001b[1;32m     77\u001b[0m         \u001b[0;34m(\u001b[0m\u001b[0msec1\u001b[0m\u001b[0;34m,\u001b[0m \u001b[0msec2\u001b[0m\u001b[0;34m)\u001b[0m \u001b[0;34m=\u001b[0m \u001b[0mself\u001b[0m\u001b[0;34m.\u001b[0m\u001b[0mapi\u001b[0m\u001b[0;34m.\u001b[0m\u001b[0mC\u001b[0m\u001b[0;34m.\u001b[0m\u001b[0msections\u001b[0m\u001b[0;34m.\u001b[0m\u001b[0mdata\u001b[0m\u001b[0;34m\u001b[0m\u001b[0m\n\u001b[0;32m---> 78\u001b[0;31m         \u001b[0msec0node\u001b[0m \u001b[0;34m=\u001b[0m \u001b[0mself\u001b[0m\u001b[0;34m.\u001b[0m\u001b[0m_sec0Node\u001b[0m\u001b[0;34m(\u001b[0m\u001b[0msection\u001b[0m\u001b[0;34m[\u001b[0m\u001b[0;36m0\u001b[0m\u001b[0;34m]\u001b[0m\u001b[0;34m,\u001b[0m \u001b[0mlang\u001b[0m\u001b[0;34m=\u001b[0m\u001b[0mlang\u001b[0m\u001b[0;34m)\u001b[0m\u001b[0;34m\u001b[0m\u001b[0m\n\u001b[0m\u001b[1;32m     79\u001b[0m         \u001b[0;32mif\u001b[0m \u001b[0mlen\u001b[0m\u001b[0;34m(\u001b[0m\u001b[0msection\u001b[0m\u001b[0;34m)\u001b[0m \u001b[0;34m==\u001b[0m \u001b[0;36m1\u001b[0m\u001b[0;34m:\u001b[0m\u001b[0;34m\u001b[0m\u001b[0m\n\u001b[1;32m     80\u001b[0m             \u001b[0;32mreturn\u001b[0m \u001b[0msec0node\u001b[0m\u001b[0;34m\u001b[0m\u001b[0m\n",
      "\u001b[0;32m/Library/Frameworks/Python.framework/Versions/3.6/lib/python3.6/site-packages/tf/text.py\u001b[0m in \u001b[0;36m_sec0Node\u001b[0;34m(self, name, lang)\u001b[0m\n\u001b[1;32m     52\u001b[0m \u001b[0;34m\u001b[0m\u001b[0m\n\u001b[1;32m     53\u001b[0m     \u001b[0;32mdef\u001b[0m \u001b[0m_sec0Node\u001b[0m\u001b[0;34m(\u001b[0m\u001b[0mself\u001b[0m\u001b[0;34m,\u001b[0m \u001b[0mname\u001b[0m\u001b[0;34m,\u001b[0m \u001b[0mlang\u001b[0m\u001b[0;34m=\u001b[0m\u001b[0;34m'en'\u001b[0m\u001b[0;34m)\u001b[0m\u001b[0;34m:\u001b[0m\u001b[0;34m\u001b[0m\u001b[0m\n\u001b[0;32m---> 54\u001b[0;31m         \u001b[0;32mreturn\u001b[0m \u001b[0mself\u001b[0m\u001b[0;34m.\u001b[0m\u001b[0mnodeFromName\u001b[0m\u001b[0;34m[\u001b[0m\u001b[0;34m''\u001b[0m \u001b[0;32mif\u001b[0m \u001b[0mlang\u001b[0m \u001b[0;32mnot\u001b[0m \u001b[0;32min\u001b[0m \u001b[0mself\u001b[0m\u001b[0;34m.\u001b[0m\u001b[0mlanguages\u001b[0m \u001b[0;32melse\u001b[0m \u001b[0mlang\u001b[0m\u001b[0;34m]\u001b[0m\u001b[0;34m.\u001b[0m\u001b[0mget\u001b[0m\u001b[0;34m(\u001b[0m\u001b[0mname\u001b[0m\u001b[0;34m,\u001b[0m \u001b[0;32mNone\u001b[0m\u001b[0;34m)\u001b[0m\u001b[0;34m\u001b[0m\u001b[0m\n\u001b[0m\u001b[1;32m     55\u001b[0m \u001b[0;34m\u001b[0m\u001b[0m\n\u001b[1;32m     56\u001b[0m     \u001b[0;32mdef\u001b[0m \u001b[0msectionFromNode\u001b[0m\u001b[0;34m(\u001b[0m\u001b[0mself\u001b[0m\u001b[0;34m,\u001b[0m \u001b[0mn\u001b[0m\u001b[0;34m,\u001b[0m \u001b[0mlastSlot\u001b[0m\u001b[0;34m=\u001b[0m\u001b[0;32mFalse\u001b[0m\u001b[0;34m,\u001b[0m \u001b[0mlang\u001b[0m\u001b[0;34m=\u001b[0m\u001b[0;34m'en'\u001b[0m\u001b[0;34m)\u001b[0m\u001b[0;34m:\u001b[0m\u001b[0;34m\u001b[0m\u001b[0m\n",
      "\u001b[0;31mKeyError\u001b[0m: ''"
     ]
    }
   ],
   "source": [
    "for x in (\n",
    "    ('section of first word',   T.sectionFromNode(1)                            ),\n",
    "    ('node of Gen 1:1',         T.nodeFromSection(('Genesis', 1, 1))            ),\n",
    "    ('idem',                    T.nodeFromSection(('Mwanzo', 1, 1), lang='sw')  ),\n",
    "    ('node of book Genesis',    T.nodeFromSection(('Genesis',))                 ),\n",
    "    ('node of Genesis 1',       T.nodeFromSection(('Genesis', 1))               ),\n",
    "    ('section of book node',    T.sectionFromNode(1367534)                      ),\n",
    "    ('idem, now last word',     T.sectionFromNode(1367534, lastSlot=True)       ),\n",
    "    ('section of chapter node', T.sectionFromNode(1367573)                      ),\n",
    "    ('idem, now last word',     T.sectionFromNode(1367573, lastSlot=True)       ),\n",
    "): print('{:<30} {}'.format(*x))"
   ]
  },
  {
   "cell_type": "markdown",
   "metadata": {},
   "source": [
    "## Sentences spanning multiple verses\n",
    "If you go up from a sentence node, you expect to find a verse node.\n",
    "But some sentences span multiple verses, and in that case, you will not find the enclosing\n",
    "verse node, because it is not there.\n",
    "\n",
    "Here is a piece of code to detect and list all cases where sentences span multiple verses.\n",
    "\n",
    "The idea is to pick the first and the last word of a sentence, use `T.sectionFromNode` to\n",
    "discover the verse in which that word occurs, and if they are different: bingo!\n",
    "\n",
    "We show the first 10 of 915 cases."
   ]
  },
  {
   "cell_type": "code",
   "execution_count": 40,
   "metadata": {
    "collapsed": false,
    "scrolled": true
   },
   "outputs": [
    {
     "name": "stdout",
     "output_type": "stream",
     "text": [
      "  0.00s Get sentences that span multiple verses\n",
      "  5.19s Found 915 cases\n",
      "  5.19s \n",
      "Genesis 1:17-18\n",
      "Genesis 1:29-30\n",
      "Genesis 2:4-7\n",
      "Genesis 7:2-3\n",
      "Genesis 7:8-9\n",
      "Genesis 7:13-14\n",
      "Genesis 9:9-10\n",
      "Genesis 10:11-12\n",
      "Genesis 10:13-14\n",
      "Genesis 10:15-18\n"
     ]
    }
   ],
   "source": [
    "indent(reset=True)\n",
    "info('Get sentences that span multiple verses')\n",
    "spanSentences = []\n",
    "for s in F.otype.s('sentence'):\n",
    "    f = T.sectionFromNode(s, lastSlot=False)\n",
    "    l = T.sectionFromNode(s, lastSlot=True)\n",
    "    if f != l:\n",
    "        spanSentences.append('{} {}:{}-{}'.format(f[0], f[1], f[2], l[2]))\n",
    "info('Found {} cases'.format(len(spanSentences)))\n",
    "info('\\n{}'.format('\\n'.join(spanSentences[0:10])))"
   ]
  },
  {
   "cell_type": "markdown",
   "metadata": {
    "collapsed": true
   },
   "source": [
    "# Ketiv Qere\n",
    "Let us explore where Ketiv/Qere pairs are and how they render."
   ]
  },
  {
   "cell_type": "code",
   "execution_count": 41,
   "metadata": {
    "collapsed": false
   },
   "outputs": [
    {
     "name": "stdout",
     "output_type": "stream",
     "text": [
      "1892 qeres\n",
      "3897: ketiv = \"*HWY>\"+\" \" qere = \"HAJ:Y;74>\"+\" \"\n",
      "4420: ketiv = \"*>HLH\"+\" \" qere = \">@H:@LO75W\"+\"00\"\n",
      "5645: ketiv = \"*>HLH\"+\" \" qere = \">@H:@LO92W\"+\" \"\n",
      "5912: ketiv = \"*>HLH\"+\" \" qere = \">@95H:@LOW03\"+\" \"\n",
      "6246: ketiv = \"*YBJJM\"+\" \" qere = \"Y:BOWJI80m\"+\" \"\n",
      "6354: ketiv = \"*YBJJM\"+\" \" qere = \"Y:BOWJI80m\"+\" \"\n",
      "11761: ketiv = \"*W-\"+\"\" qere = \"WA\"+\"\"\n",
      "11762: ketiv = \"*JJFM\"+\" \" qere = \"J.W.FA70m\"+\" \"\n",
      "12783: ketiv = \"*GJJM\"+\" \" qere = \"GOWJIm03\"+\" \"\n",
      "13684: ketiv = \"*YJDH\"+\" \" qere = \"Y@75JID\"+\"00\"\n"
     ]
    }
   ],
   "source": [
    "qeres = [w for w in F.otype.s('word') if F.qere.v(w) != None]\n",
    "print('{} qeres'.format(len(qeres)))\n",
    "for w in qeres[0:10]:\n",
    "    print('{}: ketiv = \"{}\"+\"{}\" qere = \"{}\"+\"{}\"'.format(\n",
    "        w, F.g_word.v(w), F.trailer.v(w), F.qere.v(w), F.qere_trailer.v(w),\n",
    "    ))"
   ]
  },
  {
   "cell_type": "markdown",
   "metadata": {},
   "source": [
    "## Show a ketiv-qere pair\n",
    "Let us print all text representations of the verse in which word node 4419 occurs."
   ]
  },
  {
   "cell_type": "code",
   "execution_count": 42,
   "metadata": {
    "collapsed": false
   },
   "outputs": [
    {
     "name": "stdout",
     "output_type": "stream",
     "text": [
      "Genesis 9:21\n",
      "text-orig-full            וַיֵּ֥שְׁתְּ מִן־הַיַּ֖יִן וַיִּשְׁכָּ֑ר וַיִּתְגַּ֖ל בְּתֹ֥וךְ אָהֳלֹֽו׃\n",
      "text-orig-full-ketiv      וַיֵּ֥שְׁתְּ מִן־הַיַּ֖יִן וַיִּשְׁכָּ֑ר וַיִּתְגַּ֖ל בְּתֹ֥וךְ אהלה \n",
      "text-orig-plain           וישׁת מן־היין וישׁכר ויתגל בתוך אהלה \n",
      "text-phono-full           wayyˌēšt min-hayyˌayin wayyiškˈār wayyiṯgˌal bᵊṯˌôḵ *ʔohᵒlˈô .\n",
      "text-trans-full           WA-J.;71C:T.: MIN&HA-J.A73JIN WA-J.IC:K.@92R WA-J.IT:G.A73L B.:-TO71WK: >@H:@LO75W00\n",
      "text-trans-full-ketiv     WA-J.;71C:T.: MIN&HA-J.A73JIN WA-J.IC:K.@92R WA-J.IT:G.A73L B.:-TO71WK: *>HLH \n",
      "text-trans-plain          WJCT MN&HJJN WJCKR WJTGL BTWK >HLH \n"
     ]
    }
   ],
   "source": [
    "refWord = 4419\n",
    "vn = L.u(refWord, otype='verse')[0]\n",
    "ws = L.d(vn, otype='word')\n",
    "print('{} {}:{}'.format(*T.sectionFromNode(refWord)))\n",
    "for fmt in sorted(T.formats):\n",
    "    if fmt.startswith('text-'):\n",
    "        print('{:<25} {}'.format(fmt, T.text(ws, fmt=fmt)))"
   ]
  },
  {
   "cell_type": "markdown",
   "metadata": {},
   "source": [
    "# Edge features: mother\n",
    "\n",
    "Let us do a few basic enquiries on an edge feature:\n",
    "[mother](https://etcbc.github.io/text-fabric-data/features/hebrew/etcbc4c/mother).\n",
    "\n",
    "We count how many mothers nodes can have (it turns to be 0 or 1).\n",
    "We walk through all nodes and per node we retrieve the mother nodes, and\n",
    "we store the lengths (if non-zero) in a dictionary (`mother_len`).\n",
    "\n",
    "We see that nodes have at most one mother.\n",
    "\n",
    "We also count the inverse relationship: daughters."
   ]
  },
  {
   "cell_type": "code",
   "execution_count": 43,
   "metadata": {
    "collapsed": false
   },
   "outputs": [
    {
     "name": "stdout",
     "output_type": "stream",
     "text": [
      "    14s Counting edges\n",
      "    17s 181182 nodes have mothers\n",
      "    17s 143041 nodes have daughters\n",
      "mothers Counter({1: 181182})\n",
      "daughters Counter({1: 116872, 2: 17439, 3: 6277, 4: 1842, 5: 463, 6: 123, 7: 20, 8: 5})\n"
     ]
    }
   ],
   "source": [
    "motherLen = {}\n",
    "daughterLen = {}\n",
    "info('Counting edges')\n",
    "for c in N():\n",
    "    lms = E.mother.f(c) or []\n",
    "    lds = E.mother.t(c) or []\n",
    "    nms = len(lms)\n",
    "    nds = len(lds)\n",
    "    if nms: motherLen[c] = nms\n",
    "    if nds: daughterLen[c] = nds\n",
    "info('{} nodes have mothers'.format(len(motherLen)))\n",
    "info('{} nodes have daughters'.format(len(daughterLen)))\n",
    "\n",
    "motherCount = collections.Counter()\n",
    "daughterCount = collections.Counter()\n",
    "\n",
    "for (n, lm) in motherLen.items(): motherCount[lm] += 1\n",
    "for (n, ld) in daughterLen.items(): daughterCount[ld] += 1\n",
    "\n",
    "print('mothers', motherCount)\n",
    "print('daughters', daughterCount)"
   ]
  },
  {
   "cell_type": "markdown",
   "metadata": {},
   "source": [
    "# Export to Emdros MQL\n",
    "\n",
    "[EMDROS](http://emdros.org), written by Ulrik Petersen.\n",
    "is a text database system with the powerful *topographic* query language MQL.\n",
    "The ideas are based on a model devised by Christ-Jan Doedens in\n",
    "[Text Databases: One Database Model and Several Retrieval Languages](https://books.google.nl/books?id=9ggOBRz1dO4C).\n",
    "\n",
    "Text-Fabric's model of slots, nodes and edges is a fairly straightforward translation of the models of Christ-Jan Doedens and Ulrik Petersen.\n",
    "\n",
    "[SHEBANQ](https://shebanq.ancient-data.org) uses EMDROS to offer users to execute and save MQL queries against the Hebrew Text Database of the ETCBC.\n",
    "\n",
    "So it is kind of logical and convenient to be able to work with a Text-Fabric resource through MQL.\n",
    "\n",
    "After the `Fabric(modules=...)` call, you can call `exportMQL()` in order to save all features of the\n",
    "indicated modules into a big MQL dump, which can be imported by an EMDROS database."
   ]
  },
  {
   "cell_type": "code",
   "execution_count": 44,
   "metadata": {
    "collapsed": false,
    "scrolled": false
   },
   "outputs": [
    {
     "name": "stdout",
     "output_type": "stream",
     "text": [
      "  0.00s Checking features of dataset etcbc4c\n"
     ]
    },
    {
     "name": "stderr",
     "output_type": "stream",
     "text": [
      "   |     0.00s feature \"book@am\" => \"book_am\"\n",
      "   |     0.00s feature \"book@ar\" => \"book_ar\"\n",
      "   |     0.00s feature \"book@bn\" => \"book_bn\"\n",
      "   |     0.00s feature \"book@da\" => \"book_da\"\n",
      "   |     0.00s feature \"book@de\" => \"book_de\"\n",
      "   |     0.00s feature \"book@el\" => \"book_el\"\n",
      "   |     0.00s feature \"book@en\" => \"book_en\"\n",
      "   |     0.00s feature \"book@es\" => \"book_es\"\n",
      "   |     0.00s feature \"book@fa\" => \"book_fa\"\n",
      "   |     0.00s feature \"book@fr\" => \"book_fr\"\n",
      "   |     0.00s feature \"book@he\" => \"book_he\"\n",
      "   |     0.00s feature \"book@hi\" => \"book_hi\"\n",
      "   |     0.00s feature \"book@id\" => \"book_id\"\n",
      "   |     0.00s feature \"book@ja\" => \"book_ja\"\n",
      "   |     0.00s feature \"book@ko\" => \"book_ko\"\n",
      "   |     0.00s feature \"book@la\" => \"book_la\"\n",
      "   |     0.00s feature \"book@nl\" => \"book_nl\"\n",
      "   |     0.00s feature \"book@pa\" => \"book_pa\"\n",
      "   |     0.00s feature \"book@pt\" => \"book_pt\"\n",
      "   |     0.00s feature \"book@ru\" => \"book_ru\"\n",
      "   |     0.00s feature \"book@sw\" => \"book_sw\"\n",
      "   |     0.00s feature \"book@syc\" => \"book_syc\"\n",
      "   |     0.00s feature \"book@tr\" => \"book_tr\"\n",
      "   |     0.00s feature \"book@ur\" => \"book_ur\"\n",
      "   |     0.00s feature \"book@yo\" => \"book_yo\"\n",
      "   |     0.00s feature \"book@zh\" => \"book_zh\"\n"
     ]
    },
    {
     "name": "stdout",
     "output_type": "stream",
     "text": [
      "   |     0.00s M code                 from /Users/dirk/github/text-fabric-data/hebrew/etcbc4c\n",
      "   |     0.00s M det                  from /Users/dirk/github/text-fabric-data/hebrew/etcbc4c\n",
      "   |     0.00s M dist                 from /Users/dirk/github/text-fabric-data/hebrew/etcbc4c\n",
      "   |     0.00s M dist_unit            from /Users/dirk/github/text-fabric-data/hebrew/etcbc4c\n",
      "   |     0.00s M distributional_parent from /Users/dirk/github/text-fabric-data/hebrew/etcbc4c\n",
      "   |     0.00s M domain               from /Users/dirk/github/text-fabric-data/hebrew/etcbc4c\n",
      "   |     0.00s M freq_occ             from /Users/dirk/github/text-fabric-data/hebrew/etcbc4c\n",
      "   |     0.00s M function             from /Users/dirk/github/text-fabric-data/hebrew/etcbc4c\n",
      "   |     0.00s M functional_parent    from /Users/dirk/github/text-fabric-data/hebrew/etcbc4c\n",
      "   |     0.00s M g_nme                from /Users/dirk/github/text-fabric-data/hebrew/etcbc4c\n",
      "   |     0.00s M g_nme_utf8           from /Users/dirk/github/text-fabric-data/hebrew/etcbc4c\n",
      "   |     0.00s M g_pfm                from /Users/dirk/github/text-fabric-data/hebrew/etcbc4c\n",
      "   |     0.00s M g_pfm_utf8           from /Users/dirk/github/text-fabric-data/hebrew/etcbc4c\n",
      "   |     0.00s M g_prs                from /Users/dirk/github/text-fabric-data/hebrew/etcbc4c\n",
      "   |     0.00s M g_prs_utf8           from /Users/dirk/github/text-fabric-data/hebrew/etcbc4c\n",
      "   |     0.00s M g_uvf                from /Users/dirk/github/text-fabric-data/hebrew/etcbc4c\n",
      "   |     0.00s M g_uvf_utf8           from /Users/dirk/github/text-fabric-data/hebrew/etcbc4c\n",
      "   |     0.00s M g_vbe                from /Users/dirk/github/text-fabric-data/hebrew/etcbc4c\n",
      "   |     0.00s M g_vbe_utf8           from /Users/dirk/github/text-fabric-data/hebrew/etcbc4c\n",
      "   |     0.00s M g_vbs                from /Users/dirk/github/text-fabric-data/hebrew/etcbc4c\n",
      "   |     0.00s M g_vbs_utf8           from /Users/dirk/github/text-fabric-data/hebrew/etcbc4c\n",
      "   |     0.00s M gn                   from /Users/dirk/github/text-fabric-data/hebrew/etcbc4c\n",
      "   |     0.00s M instruction          from /Users/dirk/github/text-fabric-data/hebrew/etcbc4c\n",
      "   |     0.00s M is_root              from /Users/dirk/github/text-fabric-data/hebrew/etcbc4c\n",
      "   |     0.00s M kind                 from /Users/dirk/github/text-fabric-data/hebrew/etcbc4c\n",
      "   |     0.00s M label                from /Users/dirk/github/text-fabric-data/hebrew/etcbc4c\n",
      "   |     0.00s M ls                   from /Users/dirk/github/text-fabric-data/hebrew/etcbc4c\n",
      "   |     0.00s M mother_object_type   from /Users/dirk/github/text-fabric-data/hebrew/etcbc4c\n",
      "   |     0.00s M nametype             from /Users/dirk/github/text-fabric-data/hebrew/etcbc4c\n",
      "   |     0.00s M nme                  from /Users/dirk/github/text-fabric-data/hebrew/etcbc4c\n",
      "   |     0.00s M nu                   from /Users/dirk/github/text-fabric-data/hebrew/etcbc4c\n",
      "   |     0.00s M number               from /Users/dirk/github/text-fabric-data/hebrew/etcbc4c\n",
      "   |     0.00s M otext@phono          from /Users/dirk/github/text-fabric-data/hebrew/phono\n",
      "   |     0.00s M pargr                from /Users/dirk/github/text-fabric-data/hebrew/etcbc4c\n",
      "   |     0.00s M pdp                  from /Users/dirk/github/text-fabric-data/hebrew/etcbc4c\n",
      "   |     0.00s M pfm                  from /Users/dirk/github/text-fabric-data/hebrew/etcbc4c\n",
      "   |     0.00s M prs                  from /Users/dirk/github/text-fabric-data/hebrew/etcbc4c\n",
      "   |     0.00s M prs_gn               from /Users/dirk/github/text-fabric-data/hebrew/etcbc4c\n",
      "   |     0.00s M prs_nu               from /Users/dirk/github/text-fabric-data/hebrew/etcbc4c\n",
      "   |     0.00s M prs_ps               from /Users/dirk/github/text-fabric-data/hebrew/etcbc4c\n",
      "   |     0.00s M ps                   from /Users/dirk/github/text-fabric-data/hebrew/etcbc4c\n",
      "   |     0.00s M rank_lex             from /Users/dirk/github/text-fabric-data/hebrew/etcbc4c\n",
      "   |     0.00s M rank_occ             from /Users/dirk/github/text-fabric-data/hebrew/etcbc4c\n",
      "   |     0.00s M rela                 from /Users/dirk/github/text-fabric-data/hebrew/etcbc4c\n",
      "   |     0.00s M root                 from /Users/dirk/github/text-fabric-data/hebrew/etcbc4c\n",
      "   |     0.00s M st                   from /Users/dirk/github/text-fabric-data/hebrew/etcbc4c\n",
      "   |     0.00s M tab                  from /Users/dirk/github/text-fabric-data/hebrew/etcbc4c\n",
      "   |     0.00s M txt                  from /Users/dirk/github/text-fabric-data/hebrew/etcbc4c\n",
      "   |     0.00s M typ                  from /Users/dirk/github/text-fabric-data/hebrew/etcbc4c\n",
      "   |     0.00s M uvf                  from /Users/dirk/github/text-fabric-data/hebrew/etcbc4c\n",
      "   |     0.00s M vbe                  from /Users/dirk/github/text-fabric-data/hebrew/etcbc4c\n",
      "   |     0.00s M vbs                  from /Users/dirk/github/text-fabric-data/hebrew/etcbc4c\n",
      "   |     0.00s M voc                  from /Users/dirk/github/text-fabric-data/hebrew/etcbc4c\n",
      "   |     0.00s M vs                   from /Users/dirk/github/text-fabric-data/hebrew/etcbc4c\n",
      "   |     0.00s M vt                   from /Users/dirk/github/text-fabric-data/hebrew/etcbc4c\n",
      "  0.27s 106 features to export to MQL ...\n",
      "  0.28s Loading 106 features\n",
      "   |     0.06s B code                 from /Users/dirk/github/text-fabric-data/hebrew/etcbc4c\n",
      "   |     0.31s B det                  from /Users/dirk/github/text-fabric-data/hebrew/etcbc4c\n",
      "   |     0.27s B dist                 from /Users/dirk/github/text-fabric-data/hebrew/etcbc4c\n",
      "   |     0.34s B dist_unit            from /Users/dirk/github/text-fabric-data/hebrew/etcbc4c\n",
      "   |     1.87s B distributional_parent from /Users/dirk/github/text-fabric-data/hebrew/etcbc4c\n",
      "   |     0.03s B domain               from /Users/dirk/github/text-fabric-data/hebrew/etcbc4c\n",
      "   |     0.19s B freq_occ             from /Users/dirk/github/text-fabric-data/hebrew/etcbc4c\n",
      "   |     0.10s B function             from /Users/dirk/github/text-fabric-data/hebrew/etcbc4c\n",
      "   |     2.63s B functional_parent    from /Users/dirk/github/text-fabric-data/hebrew/etcbc4c\n",
      "   |     0.12s B g_nme                from /Users/dirk/github/text-fabric-data/hebrew/etcbc4c\n",
      "   |     0.18s B g_nme_utf8           from /Users/dirk/github/text-fabric-data/hebrew/etcbc4c\n",
      "   |     0.09s B g_pfm                from /Users/dirk/github/text-fabric-data/hebrew/etcbc4c\n",
      "   |     0.11s B g_pfm_utf8           from /Users/dirk/github/text-fabric-data/hebrew/etcbc4c\n",
      "   |     0.14s B g_prs                from /Users/dirk/github/text-fabric-data/hebrew/etcbc4c\n",
      "   |     0.11s B g_prs_utf8           from /Users/dirk/github/text-fabric-data/hebrew/etcbc4c\n",
      "   |     0.08s B g_uvf                from /Users/dirk/github/text-fabric-data/hebrew/etcbc4c\n",
      "   |     0.08s B g_uvf_utf8           from /Users/dirk/github/text-fabric-data/hebrew/etcbc4c\n",
      "   |     0.08s B g_vbe                from /Users/dirk/github/text-fabric-data/hebrew/etcbc4c\n",
      "   |     0.09s B g_vbe_utf8           from /Users/dirk/github/text-fabric-data/hebrew/etcbc4c\n",
      "   |     0.08s B g_vbs                from /Users/dirk/github/text-fabric-data/hebrew/etcbc4c\n",
      "   |     0.08s B g_vbs_utf8           from /Users/dirk/github/text-fabric-data/hebrew/etcbc4c\n",
      "   |     0.11s B gn                   from /Users/dirk/github/text-fabric-data/hebrew/etcbc4c\n",
      "   |     0.03s B instruction          from /Users/dirk/github/text-fabric-data/hebrew/etcbc4c\n",
      "   |     0.03s B is_root              from /Users/dirk/github/text-fabric-data/hebrew/etcbc4c\n",
      "   |     0.04s B kind                 from /Users/dirk/github/text-fabric-data/hebrew/etcbc4c\n",
      "   |     0.03s B label                from /Users/dirk/github/text-fabric-data/hebrew/etcbc4c\n",
      "   |     0.23s B ls                   from /Users/dirk/github/text-fabric-data/hebrew/etcbc4c\n",
      "   |     0.07s B mother_object_type   from /Users/dirk/github/text-fabric-data/hebrew/etcbc4c\n",
      "   |     0.00s B nametype             from /Users/dirk/github/text-fabric-data/hebrew/etcbc4c\n",
      "   |     0.15s B nme                  from /Users/dirk/github/text-fabric-data/hebrew/etcbc4c\n",
      "   |     0.29s B nu                   from /Users/dirk/github/text-fabric-data/hebrew/etcbc4c\n",
      "   |     0.40s B number               from /Users/dirk/github/text-fabric-data/hebrew/etcbc4c\n",
      "   |     0.05s B pargr                from /Users/dirk/github/text-fabric-data/hebrew/etcbc4c\n",
      "   |     0.27s B pdp                  from /Users/dirk/github/text-fabric-data/hebrew/etcbc4c\n",
      "   |     0.13s B pfm                  from /Users/dirk/github/text-fabric-data/hebrew/etcbc4c\n",
      "   |     0.13s B prs                  from /Users/dirk/github/text-fabric-data/hebrew/etcbc4c\n",
      "   |     0.13s B prs_gn               from /Users/dirk/github/text-fabric-data/hebrew/etcbc4c\n",
      "   |     0.13s B prs_nu               from /Users/dirk/github/text-fabric-data/hebrew/etcbc4c\n",
      "   |     0.14s B prs_ps               from /Users/dirk/github/text-fabric-data/hebrew/etcbc4c\n",
      "   |     0.13s B ps                   from /Users/dirk/github/text-fabric-data/hebrew/etcbc4c\n",
      "   |     0.00s B rank_lex             from /Users/dirk/github/text-fabric-data/hebrew/etcbc4c\n",
      "   |     0.10s B rank_occ             from /Users/dirk/github/text-fabric-data/hebrew/etcbc4c\n",
      "   |     0.24s B rela                 from /Users/dirk/github/text-fabric-data/hebrew/etcbc4c\n",
      "   |     0.00s B root                 from /Users/dirk/github/text-fabric-data/hebrew/etcbc4c\n",
      "   |     0.25s B st                   from /Users/dirk/github/text-fabric-data/hebrew/etcbc4c\n",
      "   |     0.04s B tab                  from /Users/dirk/github/text-fabric-data/hebrew/etcbc4c\n",
      "   |     0.06s B txt                  from /Users/dirk/github/text-fabric-data/hebrew/etcbc4c\n",
      "   |     0.42s B typ                  from /Users/dirk/github/text-fabric-data/hebrew/etcbc4c\n",
      "   |     0.29s B uvf                  from /Users/dirk/github/text-fabric-data/hebrew/etcbc4c\n",
      "   |     0.35s B vbe                  from /Users/dirk/github/text-fabric-data/hebrew/etcbc4c\n",
      "   |     0.32s B vbs                  from /Users/dirk/github/text-fabric-data/hebrew/etcbc4c\n",
      "   |     0.01s B voc                  from /Users/dirk/github/text-fabric-data/hebrew/etcbc4c\n",
      "   |     0.21s B vs                   from /Users/dirk/github/text-fabric-data/hebrew/etcbc4c\n",
      "   |     0.14s B vt                   from /Users/dirk/github/text-fabric-data/hebrew/etcbc4c\n",
      "    12s Mapping 106 features onto 13 object types\n",
      "    17s Writing 106 features as data in 13 object types\n",
      "   |     0.00s word data ...\n",
      "   |      |     4.75s batch of size               38.7MB with   50000 of   50000 words\n",
      "   |      |     9.07s batch of size               38.7MB with   50000 of  100000 words\n",
      "   |      |       13s batch of size               38.8MB with   50000 of  150000 words\n",
      "   |      |       18s batch of size               38.8MB with   50000 of  200000 words\n",
      "   |      |       23s batch of size               39.0MB with   50000 of  250000 words\n",
      "   |      |       27s batch of size               39.0MB with   50000 of  300000 words\n",
      "   |      |       32s batch of size               39.2MB with   50000 of  350000 words\n",
      "   |      |       36s batch of size               39.0MB with   50000 of  400000 words\n",
      "   |      |       38s batch of size               20.7MB with   26581 of  426581 words\n",
      "   |       38s word data: 426581 objects\n",
      "   |     0.00s subphrase data ...\n",
      "   |      |     0.49s batch of size                5.4MB with   50000 of   50000 subphrases\n",
      "   |      |     0.93s batch of size                5.4MB with   50000 of  100000 subphrases\n",
      "   |      |     1.08s batch of size                1.5MB with   13792 of  113792 subphrases\n",
      "   |     1.09s subphrase data: 113792 objects\n",
      "   |     0.00s phrase_atom data ...\n",
      "   |      |     0.93s batch of size               10.0MB with   50000 of   50000 phrase_atoms\n",
      "   |      |     1.86s batch of size               10.1MB with   50000 of  100000 phrase_atoms\n",
      "   |      |     2.98s batch of size               10.1MB with   50000 of  150000 phrase_atoms\n",
      "   |      |     3.94s batch of size               10.1MB with   50000 of  200000 phrase_atoms\n",
      "   |      |     5.22s batch of size               10.1MB with   50000 of  250000 phrase_atoms\n",
      "   |      |     5.55s batch of size                3.6MB with   17515 of  267515 phrase_atoms\n",
      "   |     5.55s phrase_atom data: 267515 objects\n",
      "   |     0.00s phrase data ...\n",
      "   |      |     0.88s batch of size                9.1MB with   50000 of   50000 phrases\n",
      "   |      |     1.75s batch of size                9.2MB with   50000 of  100000 phrases\n",
      "   |      |     2.62s batch of size                9.2MB with   50000 of  150000 phrases\n",
      "   |      |     3.50s batch of size                9.2MB with   50000 of  200000 phrases\n",
      "   |      |     4.35s batch of size                9.2MB with   50000 of  250000 phrases\n",
      "   |      |     4.42s batch of size              599.8KB with    3174 of  253174 phrases\n",
      "   |     4.42s phrase data: 253174 objects\n",
      "   |     0.00s clause_atom data ...\n",
      "   |      |     1.48s batch of size               12.4MB with   50000 of   50000 clause_atoms\n",
      "   |      |     2.71s batch of size               10.0MB with   40562 of   90562 clause_atoms\n",
      "   |     2.71s clause_atom data: 90562 objects\n",
      "   |     0.00s clause data ...\n",
      "   |      |     1.12s batch of size               11.5MB with   50000 of   50000 clauses\n",
      "   |      |     1.96s batch of size                8.8MB with   38000 of   88000 clauses\n",
      "   |     1.96s clause data: 88000 objects\n",
      "   |     0.00s sentence_atom data ...\n",
      "   |      |     0.79s batch of size                5.4MB with   50000 of   50000 sentence_atoms\n",
      "   |      |     0.95s batch of size                1.5MB with   14339 of   64339 sentence_atoms\n",
      "   |     0.95s sentence_atom data: 64339 objects\n",
      "   |     0.00s sentence data ...\n",
      "   |      |     0.35s batch of size                3.9MB with   50000 of   50000 sentences\n",
      "   |      |     0.45s batch of size                1.1MB with   13570 of   63570 sentences\n",
      "   |     0.45s sentence data: 63570 objects\n",
      "   |     0.00s half_verse data ...\n",
      "   |      |     0.33s batch of size                3.5MB with   45180 of   45180 half_verses\n",
      "   |     0.33s half_verse data: 45180 objects\n",
      "   |     0.00s verse data ...\n",
      "   |      |     0.30s batch of size                2.9MB with   23213 of   23213 verses\n",
      "   |     0.30s verse data: 23213 objects\n",
      "   |     0.00s lex data ...\n",
      "   |      |     0.83s batch of size                5.0MB with    9236 of    9236 lexs\n",
      "   |     0.83s lex data: 9236 objects\n",
      "   |     0.00s chapter data ...\n",
      "   |      |     0.10s batch of size               90.2KB with     929 of     929 chapters\n",
      "   |     0.11s chapter data: 929 objects\n",
      "   |     0.00s book data ...\n",
      "   |      |     0.08s batch of size               27.6KB with      39 of      39 books\n",
      "   |     0.09s book data: 39 objects\n",
      " 1m 14s Done\n"
     ]
    }
   ],
   "source": [
    "TF.exportMQL('etcbc4c','~/Downloads')"
   ]
  },
  {
   "cell_type": "markdown",
   "metadata": {},
   "source": [
    "Now you have a file `~/Downloads/etcbc4c.mql` of 530 MB.\n",
    "You can import it into an Emdros database by saying:\n",
    "\n",
    "    cd ~/Downloads\n",
    "    rm etcbc4c.mql\n",
    "    mql -b 3 < etcbc4c.mql\n",
    "    \n",
    "The result is an sqlite3 database `etcbc4c` in the same directory (168 MB).\n",
    "You can run a query against it by creating a text file test.mql with this contents:\n",
    "\n",
    "    select all objects where\n",
    "    [lex gloss ~ 'make'\n",
    "        [word FOCUS]\n",
    "    ]\n",
    "    \n",
    "And then say\n",
    "\n",
    "    mql -b 3 -d etcbc4c test.mql\n",
    "    \n",
    "You will see raw query results: all word occurrences that belong to lexemes with `make` in their gloss.\n",
    "\n",
    "The end looks like this:\n",
    "\n",
    "    < [ lex 1443661 { 313199, 339890, 343902, 343933, 343998, 344891 } false  //  <  < [ word 313199 { 313199 } true  //  <  > \n",
    "     ]\n",
    "     > \n",
    "     < [ word 339890 { 339890 } true  //  <  > \n",
    "     ]\n",
    "     > \n",
    "     < [ word 343902 { 343902 } true  //  <  > \n",
    "     ]\n",
    "     > \n",
    "     < [ word 343933 { 343933 } true  //  <  > \n",
    "     ]\n",
    "     > \n",
    "     < [ word 343998 { 343998 } true  //  <  > \n",
    "     ]\n",
    "     > \n",
    "     < [ word 344891 { 344891 } true  //  <  > \n",
    "     \n",
    "It is not very pretty, and probably you should use a more visual Emdros tool to run those queries.\n",
    "But, while we're at it, observe how the word object ids coincide with their monad numbers.\n",
    "\n",
    "And let's look up this last lexeme here in TF, together with its first three occurrences."
   ]
  },
  {
   "cell_type": "code",
   "execution_count": 45,
   "metadata": {
    "collapsed": false
   },
   "outputs": [
    {
     "name": "stdout",
     "output_type": "stream",
     "text": [
      "XWH=[ חוה \"make known\"\n",
      "Psalms 19:3 J:XAW.EH\n",
      "\tיֹ֣ום לְ֭יֹום יַבִּ֣יעַֽ אֹ֑מֶר וְלַ֥יְלָה לְּ֝לַ֗יְלָה יְחַוֶּה־דָּֽעַת׃ \n",
      "Job 15:17 >:AXAW:K@71\n",
      "\tאֲחַוְךָ֥ שְֽׁמַֽע־לִ֑י וְזֶֽה־חָ֝זִ֗יתִי וַאֲסַפֵּֽרָה׃ \n"
     ]
    }
   ],
   "source": [
    "lexNode = 1443661\n",
    "print('{} {} \"{}\"'.format(\n",
    "    F.lex.v(lexNode),\n",
    "    F.voc_utf8.v(lexNode),\n",
    "    F.gloss.v(lexNode),\n",
    "))\n",
    "for wordNode in L.d(lexNode, otype='word')[0:2]:\n",
    "    verseNode = L.u(wordNode, otype='verse')[0]\n",
    "    print('{} {}\\n\\t{}'.format(\n",
    "        '{} {}:{}'.format(*T.sectionFromNode(wordNode)),\n",
    "        F.g_word.v(wordNode),\n",
    "        T.text(L.d(verseNode, otype='word')),\n",
    "    ))"
   ]
  },
  {
   "cell_type": "markdown",
   "metadata": {
    "collapsed": true
   },
   "source": [
    "# Clean caches\n",
    "\n",
    "Text-Fabric precomputes data for you, so that it can be loaded faster.\n",
    "If the original data is updated, Text-Fabric detects it, and will recompute that data.\n",
    "\n",
    "But there are cases, when the algorithms of Text-Fabric have changed, without any changes in the data, that you might\n",
    "want to clear the cache of precomputed results.\n",
    "\n",
    "There are two ways to do that:\n",
    "\n",
    "* Locate the `.tf` directory of your dataset, and remove all `.tfx` files in it.\n",
    "  This might be a bit awkward to do, because the `.tf` directory is hidden on Unix-like systems.\n",
    "* Call `TF.clearCache()`, which does exactly the same.\n",
    "\n",
    "It is not handy to execute the following cell all the time, that's why I have commented it out.\n",
    "So if you really want to clear the cache, remove the comment sign below."
   ]
  },
  {
   "cell_type": "code",
   "execution_count": 40,
   "metadata": {
    "collapsed": false
   },
   "outputs": [],
   "source": [
    "# TF.clearCache()"
   ]
  },
  {
   "cell_type": "code",
   "execution_count": null,
   "metadata": {
    "collapsed": true
   },
   "outputs": [],
   "source": []
  }
 ],
 "metadata": {
  "kernelspec": {
   "display_name": "Python 3",
   "language": "python",
   "name": "python3"
  },
  "language_info": {
   "codemirror_mode": {
    "name": "ipython",
    "version": 3
   },
   "file_extension": ".py",
   "mimetype": "text/x-python",
   "name": "python",
   "nbconvert_exporter": "python",
   "pygments_lexer": "ipython3",
   "version": "3.6.0"
  }
 },
 "nbformat": 4,
 "nbformat_minor": 1
}
