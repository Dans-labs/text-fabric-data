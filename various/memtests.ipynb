{
 "cells": [
  {
   "cell_type": "code",
   "execution_count": 2,
   "metadata": {
    "collapsed": false
   },
   "outputs": [],
   "source": [
    "from sys import getsizeof\n",
    "from collections import Mapping, Container\n",
    "import array, collections\n",
    "from tf.fabric import Fabric\n",
    "from tf.timestamp import Timestamp\n",
    "tm = Timestamp()"
   ]
  },
  {
   "cell_type": "code",
   "execution_count": 3,
   "metadata": {
    "collapsed": true
   },
   "outputs": [],
   "source": [
    "def deep_getsizeof(o, ids):\n",
    "    \"\"\"Find the memory footprint of a Python object\n",
    " \n",
    "    This is a recursive function that drills down a Python object graph\n",
    "    like a dictionary holding nested dictionaries with lists of lists\n",
    "    and tuples and sets.\n",
    " \n",
    "    The sys.getsizeof function does a shallow size of only. It counts each\n",
    "    object inside a container as pointer only regardless of how big it\n",
    "    really is.\n",
    " \n",
    "    :param o: the object\n",
    "    :param ids:\n",
    "    :return:\n",
    "    \"\"\"\n",
    "    d = deep_getsizeof\n",
    "    if id(o) in ids:\n",
    "        return 0\n",
    " \n",
    "    r = getsizeof(o)\n",
    "    ids.add(id(o))\n",
    " \n",
    "    if isinstance(o, str):\n",
    "        return r\n",
    " \n",
    "    if isinstance(o, Mapping):\n",
    "        return r + sum(d(k, ids) + d(v, ids) for k, v in o.items())\n",
    " \n",
    "    if isinstance(o, Container):\n",
    "        return r + sum(d(x, ids) for x in o)\n",
    " \n",
    "    return r \n",
    "\n",
    "def dgetsizeof(o): return deep_getsizeof(o, set())"
   ]
  },
  {
   "cell_type": "code",
   "execution_count": 4,
   "metadata": {
    "collapsed": false
   },
   "outputs": [],
   "source": [
    "def tinf(msg, reset=False):\n",
    "    if reset:\n",
    "        tm.indent(reset=True)\n",
    "    tm.info(msg)\n",
    "\n",
    "def nbytes(by):\n",
    "    units = ['B', 'KB', 'MB', 'GB', 'TB']\n",
    "    result = ''\n",
    "    for i in range(len(units)):\n",
    "        if by < 1024 or i == len(units) - 1:\n",
    "            fmt = '{:>5}{}' if i == 0 else '{:>5.1f}{}'\n",
    "            return fmt.format(by, units[i])\n",
    "        by /= 1024\n",
    "\n",
    "def size(data): return nbytes(dgetsizeof(data))\n",
    "\n",
    "def sizes(bunch):\n",
    "    tc = 0\n",
    "    for x in bunch:\n",
    "        lc = dgetsizeof(x)\n",
    "        tc += lc\n",
    "        print('{:<10}: {:>10}'.format('component', nbytes(lc)))\n",
    "    print('{:<10}: {:>10}'.format('total', nbytes(tc)))\n",
    "\n",
    "\n",
    "def fill(n):\n",
    "    if n == 1000000:\n",
    "        for i in range(100): yield i\n",
    "        for i in range(200,300): yield i\n",
    "        for i in range(500, 1001): yield i\n",
    "        for i in (1002, 1004, 1006, 1008, 1010, 1012): yield i\n",
    "        for i in range(1012, 2000): yield 2*i\n",
    "        for i in range(4000, 1002305): yield i\n",
    "    elif n == 100000:\n",
    "        for i in range(100): yield i\n",
    "        for i in range(200,300): yield i\n",
    "        for i in range(500, 1001): yield i\n",
    "        for i in (1002, 1004, 1006, 1008, 1010, 1012): yield i\n",
    "        for i in range(1012, 2000): yield 2*i\n",
    "        for i in range(4000, 102305): yield i\n",
    "\n",
    "def testcases(): return range(1000, 1011)\n",
    "\n",
    "def check(bunch, getter):\n",
    "    for i in testcases():\n",
    "        print('{}={}'.format(repr(i), repr(getter(bunch, i))))\n",
    "\n",
    "def times(n, bunch, getter):\n",
    "    tinf('Getting all keys', reset=True)\n",
    "    for i in range(n):\n",
    "        x = getter(bunch, i)\n",
    "    tinf('Done')\n",
    "\n",
    "def get0(data, i): return data[0].get(i, None)\n",
    "\n",
    "def experiment(n, data, getter):\n",
    "    sizes(data)\n",
    "    check(data, getter)\n",
    "    times(n, data, getter)"
   ]
  },
  {
   "cell_type": "code",
   "execution_count": 5,
   "metadata": {
    "collapsed": false
   },
   "outputs": [
    {
     "name": "stdout",
     "output_type": "stream",
     "text": [
      "95 features found and 0 ignored\n"
     ]
    }
   ],
   "source": [
    "TF = Fabric()"
   ]
  },
  {
   "cell_type": "code",
   "execution_count": 6,
   "metadata": {
    "collapsed": false
   },
   "outputs": [
    {
     "name": "stdout",
     "output_type": "stream",
     "text": [
      "  0.00s loading features ...\n",
      "   |     0.08s B otype                from /Users/dirk/github/text-fabric-data/hebrew/etcbc4c\n",
      "   |     0.90s B oslots               from /Users/dirk/github/text-fabric-data/hebrew/etcbc4c\n",
      "   |     0.00s M otext                from /Users/dirk/github/text-fabric-data/hebrew/etcbc4c\n",
      "   |     0.03s B book                 from /Users/dirk/github/text-fabric-data/hebrew/etcbc4c\n",
      "   |     0.02s B chapter              from /Users/dirk/github/text-fabric-data/hebrew/etcbc4c\n",
      "   |     0.02s B verse                from /Users/dirk/github/text-fabric-data/hebrew/etcbc4c\n",
      "   |     0.20s B g_cons               from /Users/dirk/github/text-fabric-data/hebrew/etcbc4c\n",
      "   |     0.24s B g_cons_utf8          from /Users/dirk/github/text-fabric-data/hebrew/etcbc4c\n",
      "   |     0.20s B g_voc_lex            from /Users/dirk/github/text-fabric-data/hebrew/etcbc4c\n",
      "   |     0.36s B g_voc_lex_utf8       from /Users/dirk/github/text-fabric-data/hebrew/etcbc4c\n",
      "   |     0.31s B g_word               from /Users/dirk/github/text-fabric-data/hebrew/etcbc4c\n",
      "   |     0.25s B g_word_utf8          from /Users/dirk/github/text-fabric-data/hebrew/etcbc4c\n",
      "   |     0.23s B lex                  from /Users/dirk/github/text-fabric-data/hebrew/etcbc4c\n",
      "   |     0.34s B lex_utf8             from /Users/dirk/github/text-fabric-data/hebrew/etcbc4c\n",
      "   |     0.09s B qere                 from /Users/dirk/github/text-fabric-data/hebrew/etcbc4c\n",
      "   |     0.09s B qere_utf8            from /Users/dirk/github/text-fabric-data/hebrew/etcbc4c\n",
      "   |     0.09s B trailer              from /Users/dirk/github/text-fabric-data/hebrew/etcbc4c\n",
      "   |     0.11s B trailer_utf8         from /Users/dirk/github/text-fabric-data/hebrew/etcbc4c\n",
      "   |     0.00s B __levels__           from otype, oslots\n",
      "   |     0.04s B __order__            from otype, oslots, __levels__\n",
      "   |     0.04s B __rank__             from otype, __order__\n",
      "   |     2.15s B __levUp__            from otype, oslots, __rank__\n",
      "   |     1.17s B __levDown__          from otype, __levUp__, __rank__\n",
      "   |     0.06s B __sections__         from otype, oslots, otext, __levUp__, __levels__, book, chapter, verse\n",
      "   |     0.16s B sp                   from /Users/dirk/github/text-fabric-data/hebrew/etcbc4c\n",
      "  7.24s All features loaded/computed\n"
     ]
    }
   ],
   "source": [
    "T = TF.load('sp lex')"
   ]
  },
  {
   "cell_type": "code",
   "execution_count": 7,
   "metadata": {
    "collapsed": false
   },
   "outputs": [
    {
     "name": "stdout",
     "output_type": "stream",
     "text": [
      "__levDown__                       297.9MB\n",
      "__levUp__                         481.4MB\n",
      "__levels__                          2.7KB\n",
      "__order__                          44.2MB\n",
      "__rank__                           44.2MB\n",
      "__sections__                        2.7MB\n",
      "book                                3.4MB\n",
      "book@am                             6.3KB\n",
      "book@ar                             5.9KB\n",
      "book@bn                             6.1KB\n",
      "book@da                             4.9KB\n",
      "book@de                             4.9KB\n",
      "book@el                             6.0KB\n",
      "book@en                             4.8KB\n",
      "book@es                             5.2KB\n",
      "book@fa                             6.0KB\n",
      "book@fr                             5.1KB\n",
      "book@he                             5.9KB\n",
      "book@hi                             6.0KB\n",
      "book@id                             4.8KB\n",
      "book@ja                             5.8KB\n",
      "book@ko                             5.7KB\n",
      "book@la                             4.8KB\n",
      "book@nl                             4.8KB\n",
      "book@pa                             6.0KB\n",
      "book@pt                             5.2KB\n",
      "book@ru                             6.0KB\n",
      "book@sw                             4.8KB\n",
      "book@syc                            5.9KB\n",
      "book@tr                             5.2KB\n",
      "book@ur                             5.9KB\n",
      "book@yo                             5.1KB\n",
      "book@zh                             5.7KB\n",
      "chapter                             3.0MB\n",
      "code                                  16B\n",
      "det                                   16B\n",
      "dist                                  16B\n",
      "dist_unit                             16B\n",
      "distributional_parent                  16B\n",
      "domain                                16B\n",
      "function                              16B\n",
      "functional_parent                     16B\n",
      "g_cons                             50.7MB\n",
      "g_cons_utf8                        67.4MB\n",
      "g_lex                                 16B\n",
      "g_lex_utf8                            16B\n",
      "g_nme                                 16B\n",
      "g_nme_utf8                            16B\n",
      "g_pfm                                 16B\n",
      "g_pfm_utf8                            16B\n",
      "g_prs                                 16B\n",
      "g_prs_utf8                            16B\n",
      "g_uvf                                 16B\n",
      "g_uvf_utf8                            16B\n",
      "g_vbe                                 16B\n",
      "g_vbe_utf8                            16B\n",
      "g_vbs                                 16B\n",
      "g_vbs_utf8                            16B\n",
      "g_voc_lex                          57.0MB\n",
      "g_voc_lex_utf8                     68.8MB\n",
      "g_word                             57.8MB\n",
      "g_word_utf8                        69.8MB\n",
      "gn                                    16B\n",
      "is_root                               16B\n",
      "kind                                  16B\n",
      "label                                 16B\n",
      "language                              16B\n",
      "lex                                50.8MB\n",
      "lex_utf8                           67.9MB\n",
      "ls                                    16B\n",
      "mother                                16B\n",
      "mother_object_type                    16B\n",
      "nme                                   16B\n",
      "nu                                    16B\n",
      "number                                16B\n",
      "oslots                            205.9MB\n",
      "otext                                 16B\n",
      "otype                               7.7MB\n",
      "pdp                                   16B\n",
      "pfm                                   16B\n",
      "prs                                   16B\n",
      "prs_gn                                16B\n",
      "prs_nu                                16B\n",
      "prs_ps                                16B\n",
      "ps                                    16B\n",
      "qere                               35.5MB\n",
      "qere_utf8                          35.5MB\n",
      "rela                                  16B\n",
      "sp                                 56.9MB\n",
      "st                                    16B\n",
      "tab                                   16B\n",
      "trailer                            36.7MB\n",
      "trailer_utf8                       40.4MB\n",
      "txt                                   16B\n",
      "typ                                   16B\n",
      "uvf                                   16B\n",
      "vbe                                   16B\n",
      "vbs                                   16B\n",
      "verse                               2.8MB\n",
      "vs                                    16B\n",
      "vt                                    16B\n"
     ]
    }
   ],
   "source": [
    "for ft in sorted(TF.features.keys()):\n",
    "    print('{:<20} {:>20}'.format(ft, size(TF.features[ft].data)))"
   ]
  },
  {
   "cell_type": "code",
   "execution_count": 61,
   "metadata": {
    "collapsed": true
   },
   "outputs": [],
   "source": [
    "def optimize1(bd):\n",
    "    values = []\n",
    "    keys = array.array('I')\n",
    "    index = 0\n",
    "    for i in sorted(bd):\n",
    "        value = bd[i]\n",
    "        values.append(value)\n",
    "        keys.append(index)\n",
    "        index += len(value)\n",
    "    return (keys, ''.join(values))\n",
    "\n",
    "def get1(optD, i):\n",
    "    (keys, values) = optD\n",
    "    index = keys[i]\n",
    "    index2 = keys[i+1] if i+1 < len(keys) else len(values)\n",
    "    value = values[index:index2]\n",
    "    return value"
   ]
  },
  {
   "cell_type": "code",
   "execution_count": 62,
   "metadata": {
    "collapsed": true
   },
   "outputs": [],
   "source": [
    "def optimize2(bd):\n",
    "    values = []\n",
    "    keys = array.array('I')\n",
    "    lengths = array.array('H')\n",
    "    index = 0\n",
    "    for i in sorted(bd):\n",
    "        value = bd[i]\n",
    "        values.append(value)\n",
    "        keys.append(index)\n",
    "        lval = len(value)\n",
    "        lengths.append(lval)\n",
    "        index += lval\n",
    "    return (keys, lengths, ''.join(values))\n",
    "\n",
    "def get2(optD, i):\n",
    "    (keys, lengths, values) = optD\n",
    "    index = keys[i]\n",
    "    length = lengths[i]\n",
    "    return values[index:index+length]"
   ]
  },
  {
   "cell_type": "code",
   "execution_count": 63,
   "metadata": {
    "collapsed": true
   },
   "outputs": [],
   "source": [
    "def optimize3(bd):\n",
    "    keys = {}\n",
    "    values = []\n",
    "\n",
    "    valindexes = array.array('I')\n",
    "    vallengths = array.array('H')\n",
    "    valindex = 0\n",
    "    index = 0\n",
    "    \n",
    "    for i in sorted(bd):\n",
    "        keys[i] = index\n",
    "\n",
    "        value = bd[i]\n",
    "        lval = len(value)\n",
    "\n",
    "        values.append(value)\n",
    "        valindexes.append(valindex)\n",
    "        valindex += lval\n",
    "        vallengths.append(lval)\n",
    "        index +=1\n",
    "    return (keys, valindexes, vallengths, ''.join(values))\n",
    "\n",
    "def get3(optD, i):\n",
    "    (keys, valindexes, vallengths, values) = optD\n",
    "    index = keys.get(i, None)\n",
    "    if index == None: return None\n",
    "    valindex = valindexes[index]\n",
    "    vallength = vallengths[index]\n",
    "    return values[valindex:valindex+vallength]"
   ]
  },
  {
   "cell_type": "code",
   "execution_count": 90,
   "metadata": {
    "collapsed": false
   },
   "outputs": [],
   "source": [
    "def experiments(n, exclude=set()):\n",
    "    bunch0 = dict((i, str(i)*10) for i in fill(n))\n",
    "    experiments = (\n",
    "        ((bunch0,), get0),\n",
    "        (optimize1(bunch0), get1),\n",
    "        (optimize2(bunch0), get2),\n",
    "        (optimize3(bunch0), get3),\n",
    "    )\n",
    "    for (i,x) in enumerate(experiments):\n",
    "        if i in exclude: continue\n",
    "        print('Experiment {}'.format(i))\n",
    "        experiment(n, *x)"
   ]
  },
  {
   "cell_type": "code",
   "execution_count": 91,
   "metadata": {
    "collapsed": false
   },
   "outputs": [
    {
     "name": "stdout",
     "output_type": "stream",
     "text": [
      "Experiment 0\n",
      "component :     18.1MB\n",
      "total     :     18.1MB\n",
      "1000='1000100010001000100010001000100010001000'\n",
      "1001=None\n",
      "1002='1002100210021002100210021002100210021002'\n",
      "1003=None\n",
      "1004='1004100410041004100410041004100410041004'\n",
      "1005=None\n",
      "1006='1006100610061006100610061006100610061006'\n",
      "1007=None\n",
      "1008='1008100810081008100810081008100810081008'\n",
      "1009=None\n",
      "1010='1010101010101010101010101010101010101010'\n",
      "  0.00s Getting all keys\n",
      "  0.04s Done\n",
      "Experiment 1\n",
      "component :      3.1MB\n",
      "component :      4.7MB\n",
      "total     :      7.8MB\n",
      "1000='2610261026102610261026102610261026102610'\n",
      "1001='2612261226122612261226122612261226122612'\n",
      "1002='2614261426142614261426142614261426142614'\n",
      "1003='2616261626162616261626162616261626162616'\n",
      "1004='2618261826182618261826182618261826182618'\n",
      "1005='2620262026202620262026202620262026202620'\n",
      "1006='2622262226222622262226222622262226222622'\n",
      "1007='2624262426242624262426242624262426242624'\n",
      "1008='2626262626262626262626262626262626262626'\n",
      "1009='2628262826282628262826282628262826282628'\n",
      "1010='2630263026302630263026302630263026302630'\n",
      "  0.00s Getting all keys\n",
      "  0.08s Done\n",
      "Experiment 2\n",
      "component :      3.1MB\n",
      "component :    199.6KB\n",
      "component :      4.7MB\n",
      "total     :      8.0MB\n",
      "1000='2610261026102610261026102610261026102610'\n",
      "1001='2612261226122612261226122612261226122612'\n",
      "1002='2614261426142614261426142614261426142614'\n",
      "1003='2616261626162616261626162616261626162616'\n",
      "1004='2618261826182618261826182618261826182618'\n",
      "1005='2620262026202620262026202620262026202620'\n",
      "1006='2622262226222622262226222622262226222622'\n",
      "1007='2624262426242624262426242624262426242624'\n",
      "1008='2626262626262626262626262626262626262626'\n",
      "1009='2628262826282628262826282628262826282628'\n",
      "1010='2630263026302630263026302630263026302630'\n",
      "  0.00s Getting all keys\n",
      "  0.06s Done\n",
      "Experiment 3\n",
      "component :     11.3MB\n",
      "component :      3.1MB\n",
      "component :    199.6KB\n",
      "component :      4.7MB\n",
      "total     :     19.3MB\n",
      "1000='1000100010001000100010001000100010001000'\n",
      "1001=None\n",
      "1002='1002100210021002100210021002100210021002'\n",
      "1003=None\n",
      "1004='1004100410041004100410041004100410041004'\n",
      "1005=None\n",
      "1006='1006100610061006100610061006100610061006'\n",
      "1007=None\n",
      "1008='1008100810081008100810081008100810081008'\n",
      "1009=None\n",
      "1010='1010101010101010101010101010101010101010'\n",
      "  0.00s Getting all keys\n",
      "  0.09s Done\n"
     ]
    }
   ],
   "source": [
    "experiments(100000, exclude=set())"
   ]
  },
  {
   "cell_type": "code",
   "execution_count": 19,
   "metadata": {
    "collapsed": false
   },
   "outputs": [
    {
     "data": {
      "text/plain": [
       "28"
      ]
     },
     "execution_count": 19,
     "metadata": {},
     "output_type": "execute_result"
    }
   ],
   "source": [
    "x = 1\n",
    "getsizeof(1)"
   ]
  },
  {
   "cell_type": "code",
   "execution_count": 24,
   "metadata": {
    "collapsed": true
   },
   "outputs": [],
   "source": [
    "x = array.array('I', range(100))"
   ]
  },
  {
   "cell_type": "code",
   "execution_count": 25,
   "metadata": {
    "collapsed": false
   },
   "outputs": [
    {
     "data": {
      "text/plain": [
       "472"
      ]
     },
     "execution_count": 25,
     "metadata": {},
     "output_type": "execute_result"
    }
   ],
   "source": [
    "getsizeof(x)"
   ]
  },
  {
   "cell_type": "code",
   "execution_count": 22,
   "metadata": {
    "collapsed": true
   },
   "outputs": [],
   "source": [
    "x.append(1)"
   ]
  },
  {
   "cell_type": "code",
   "execution_count": 57,
   "metadata": {
    "collapsed": true
   },
   "outputs": [],
   "source": [
    "def in256(n):\n",
    "    digits = []\n",
    "    x = n\n",
    "    for i in range(3):\n",
    "        digits.append(x%256)\n",
    "        x = int(x/256)\n",
    "    return tuple(digits)"
   ]
  },
  {
   "cell_type": "code",
   "execution_count": 58,
   "metadata": {
    "collapsed": false
   },
   "outputs": [
    {
     "data": {
      "text/plain": [
       "(64, 66, 15)"
      ]
     },
     "execution_count": 58,
     "metadata": {},
     "output_type": "execute_result"
    }
   ],
   "source": [
    "in256(1000000)"
   ]
  },
  {
   "cell_type": "code",
   "execution_count": 66,
   "metadata": {
    "collapsed": false
   },
   "outputs": [
    {
     "data": {
      "text/plain": [
       "28"
      ]
     },
     "execution_count": 66,
     "metadata": {},
     "output_type": "execute_result"
    }
   ],
   "source": [
    "dgetsizeof(1000000)"
   ]
  },
  {
   "cell_type": "code",
   "execution_count": 67,
   "metadata": {
    "collapsed": true
   },
   "outputs": [],
   "source": [
    "x = in256(1000000)"
   ]
  },
  {
   "cell_type": "code",
   "execution_count": 68,
   "metadata": {
    "collapsed": false
   },
   "outputs": [
    {
     "data": {
      "text/plain": [
       "156"
      ]
     },
     "execution_count": 68,
     "metadata": {},
     "output_type": "execute_result"
    }
   ],
   "source": [
    "dgetsizeof(x)"
   ]
  },
  {
   "cell_type": "code",
   "execution_count": 69,
   "metadata": {
    "collapsed": false
   },
   "outputs": [
    {
     "data": {
      "text/plain": [
       "28"
      ]
     },
     "execution_count": 69,
     "metadata": {},
     "output_type": "execute_result"
    }
   ],
   "source": [
    "dgetsizeof(64)"
   ]
  },
  {
   "cell_type": "code",
   "execution_count": 85,
   "metadata": {
    "collapsed": true
   },
   "outputs": [],
   "source": [
    "x = dict(((i,i) for i in range(1000000)))\n",
    "y = {}\n",
    "for i in range(1000000):\n",
    "    (t1, t2, t3) = in256(i)\n",
    "    y.setdefault(t1, {}).setdefault(t2, {})[t3] = i"
   ]
  },
  {
   "cell_type": "code",
   "execution_count": 86,
   "metadata": {
    "collapsed": false
   },
   "outputs": [
    {
     "name": "stdout",
     "output_type": "stream",
     "text": [
      "x= 74.7MB\n",
      "y= 83.7MB\n"
     ]
    }
   ],
   "source": [
    "print('x={}\\ny={}'.format(nbytes(dgetsizeof(x)), nbytes(dgetsizeof(y))))"
   ]
  },
  {
   "cell_type": "code",
   "execution_count": null,
   "metadata": {
    "collapsed": true
   },
   "outputs": [],
   "source": []
  }
 ],
 "metadata": {
  "kernelspec": {
   "display_name": "Python 3",
   "language": "python",
   "name": "python3"
  },
  "language_info": {
   "codemirror_mode": {
    "name": "ipython",
    "version": 3
   },
   "file_extension": ".py",
   "mimetype": "text/x-python",
   "name": "python",
   "nbconvert_exporter": "python",
   "pygments_lexer": "ipython3",
   "version": "3.5.2"
  }
 },
 "nbformat": 4,
 "nbformat_minor": 1
}
