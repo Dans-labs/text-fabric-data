{
 "cells": [
  {
   "cell_type": "markdown",
   "metadata": {},
   "source": [
    "<img align=\"right\" src=\"tf-small.png\"/>\n",
    "\n",
    "# Search from MQL\n",
    "\n",
    "These are examples of\n",
    "[MQL](https://shebanq.ancient-data.org/static/docs/MQL-Query-Guide.pdf)\n",
    "queries on\n",
    "[SHEBANQ](https://shebanq.ancient-data.org/hebrew/queries), \n",
    "now expressed\n",
    "as Text-Fabric search templates.\n",
    "\n",
    "For more basic examples, see\n",
    "[searchTutorial](https://github.com/etcbc/text-fabric/blob/master/docs/searchTutorial.ipynb).\n",
    "\n",
    "*Search* in Text-Fabric is a template based way of looking for structural patterns in your dataset."
   ]
  },
  {
   "cell_type": "code",
   "execution_count": 1,
   "metadata": {
    "collapsed": false
   },
   "outputs": [],
   "source": [
    "%load_ext autoreload\n",
    "%autoreload 2"
   ]
  },
  {
   "cell_type": "code",
   "execution_count": 2,
   "metadata": {
    "collapsed": false
   },
   "outputs": [],
   "source": [
    "from tf.fabric import Fabric"
   ]
  },
  {
   "cell_type": "code",
   "execution_count": 3,
   "metadata": {
    "collapsed": false
   },
   "outputs": [
    {
     "name": "stdout",
     "output_type": "stream",
     "text": [
      "This is Text-Fabric 2.2.0\n",
      "Api reference : https://github.com/ETCBC/text-fabric/wiki/Api\n",
      "Tutorial      : https://github.com/ETCBC/text-fabric/blob/master/docs/tutorial.ipynb\n",
      "Data sources  : https://github.com/ETCBC/text-fabric-data\n",
      "Data docs     : https://etcbc.github.io/text-fabric-data\n",
      "Shebanq docs  : https://shebanq.ancient-data.org/text\n",
      "Slack team    : https://shebanq.slack.com/signup\n",
      "Questions? Ask shebanq@ancient-data.org for an invite to Slack\n",
      "107 features found and 0 ignored\n"
     ]
    }
   ],
   "source": [
    "ETCBC = 'hebrew/etcbc4c'\n",
    "TF = Fabric( modules=ETCBC )"
   ]
  },
  {
   "cell_type": "code",
   "execution_count": 4,
   "metadata": {
    "collapsed": false
   },
   "outputs": [
    {
     "name": "stdout",
     "output_type": "stream",
     "text": [
      "  0.00s loading features ...\n",
      "   |     0.21s B rela                 from /Users/dirk/github/text-fabric-data/hebrew/etcbc4c\n",
      "   |     0.08s B function             from /Users/dirk/github/text-fabric-data/hebrew/etcbc4c\n",
      "   |     0.13s B pdp                  from /Users/dirk/github/text-fabric-data/hebrew/etcbc4c\n",
      "   |     0.00s Feature overview: 102 nodes; 4 edges; 1 configs; 7 computeds\n",
      "  5.26s All features loaded/computed - for details use loadLog()\n"
     ]
    }
   ],
   "source": [
    "api = TF.load('''\n",
    "    rela function pdp\n",
    "''')\n",
    "api.makeAvailableIn(globals())"
   ]
  },
  {
   "cell_type": "markdown",
   "metadata": {},
   "source": [
    "# By Oliver Glanz\n",
    "\n",
    "[Oliver Glanz: PP with adjective followed by noun](https://shebanq.ancient-data.org/hebrew/query?version=4b&id=547)\n",
    "```\n",
    "select all objects where\n",
    "[phrase FOCUS typ = PP\n",
    "  [word sp= prep]\n",
    "  [word sp=adjv]\n",
    "  [word sp=subs]\n",
    "]\n",
    "```\n",
    "64 results having 251 words."
   ]
  },
  {
   "cell_type": "code",
   "execution_count": 5,
   "metadata": {
    "collapsed": false
   },
   "outputs": [
    {
     "name": "stdout",
     "output_type": "stream",
     "text": [
      "  0.00s Checking search template ...\n",
      "  0.00s loading features ...\n",
      "   |     0.20s B sp                   from /Users/dirk/github/text-fabric-data/hebrew/etcbc4c\n",
      "   |     0.22s B typ                  from /Users/dirk/github/text-fabric-data/hebrew/etcbc4c\n",
      "  0.43s All additional features loaded - for details use loadLog()\n",
      "  0.43s Setting up search space for 4 objects ...\n",
      "  2.56s Constraining search space with 5 relations ...\n",
      "  2.64s Setting up retrieval plan ...\n",
      "  2.64s Ready to deliver results from 256 nodes\n",
      "Iterate over S.fetch() to get the results\n",
      "See S.showPlan() to interpret the results\n",
      "  2.65s The results are connected to the original search template as follows:\n",
      " 0     \n",
      " 1 R0  phrase typ=PP\n",
      " 2 R1    word sp=prep\n",
      " 3 R2    <: word sp=adjv\n",
      " 4 R3    <: word sp=subs\n",
      " 5     \n",
      "  0.00s Counting results per 1000 up to  the end of the results ...\n",
      "  0.00s Done: 64 results\n",
      "phrase[אֵ֖ת רַבַּ֣ת בְּנֵֽי־עַמֹּ֑ון וְ...] אֵ֖ת  רַבַּ֣ת  בְּנֵֽי־\n",
      "phrase[לָכֶ֜ם יִרְאֵ֤י שְׁמִי֙ ] לָכֶ֜ם  יִרְאֵ֤י  שְׁמִי֙ \n",
      "phrase[עַ֥ל רִגְעֵי־אֶ֑רֶץ ] עַ֥ל  רִגְעֵי־ אֶ֑רֶץ \n",
      "phrase[אֶת־חַלְלֵי־חָ֑רֶב ] אֶת־ חַלְלֵי־ חָ֑רֶב \n",
      "phrase[לַחֲכַם־לֵ֭ב ] לַ חֲכַם־ לֵ֭ב \n",
      "phrase[לְמָ֣רֵי נָֽפֶשׁ׃ ] לְ מָ֣רֵי  נָֽפֶשׁ׃ \n",
      "phrase[לְיִשְׁרֵי־לֵֽב׃ ] לְ יִשְׁרֵי־ לֵֽב׃ \n",
      "phrase[עִם־יְפֵ֥ה עֵינַ֖יִם וְטֹ֣וב ...] עִם־ יְפֵ֥ה  עֵינַ֖יִם \n",
      "phrase[עִם־מְלֵ֥א יָמִֽים׃ ] עִם־ מְלֵ֥א  יָמִֽים׃ \n",
      "phrase[אֶת־חַלְלֵי־חָֽרֶב׃ ] אֶת־ חַלְלֵי־ חָֽרֶב׃ \n"
     ]
    }
   ],
   "source": [
    "query = '''\n",
    "phrase typ=PP\n",
    "  word sp=prep\n",
    "  <: word sp=adjv\n",
    "  <: word sp=subs\n",
    "'''\n",
    "S.study(query)\n",
    "S.showPlan()\n",
    "S.count(progress=1000, limit=-1)\n",
    "for r in S.fetch(amount=10):\n",
    "    print(S.glean(r))"
   ]
  },
  {
   "cell_type": "markdown",
   "metadata": {},
   "source": [
    "The number of results is right. The number of words that SHEBANQ reports\n",
    "is the number of words in the phrases of the result. Let us count them:"
   ]
  },
  {
   "cell_type": "code",
   "execution_count": 6,
   "metadata": {
    "collapsed": false
   },
   "outputs": [
    {
     "name": "stdout",
     "output_type": "stream",
     "text": [
      "251\n"
     ]
    }
   ],
   "source": [
    "print(sum([len(L.d(r[0], otype='word')) for r in S.fetch()]))"
   ]
  },
  {
   "cell_type": "markdown",
   "metadata": {},
   "source": [
    "# By Martijn Naaijer\n",
    "\n",
    "[Martijn Naaijer: Object clauses with >CR](https://shebanq.ancient-data.org/hebrew/query?version=4b&id=997)\n",
    "\n",
    "```\n",
    "Select all objects where \n",
    "\n",
    "[clause rela = Objc\n",
    "   [word focus first lex = '>CR']\n",
    "]\n",
    "```\n",
    "\n",
    "157 results"
   ]
  },
  {
   "cell_type": "code",
   "execution_count": 7,
   "metadata": {
    "collapsed": false
   },
   "outputs": [
    {
     "name": "stdout",
     "output_type": "stream",
     "text": [
      "  0.00s Checking search template ...\n",
      "  0.00s loading features ...\n",
      "   |     0.19s B lex                  from /Users/dirk/github/text-fabric-data/hebrew/etcbc4c\n",
      "  0.20s All additional features loaded - for details use loadLog()\n",
      "  0.20s Setting up search space for 3 objects ...\n",
      "  0.94s Constraining search space with 3 relations ...\n",
      "  0.96s Setting up retrieval plan ...\n",
      "  0.96s Ready to deliver results from 284 nodes\n",
      "Iterate over S.fetch() to get the results\n",
      "See S.showPlan() to interpret the results\n",
      "  0.96s The results are connected to the original search template as follows:\n",
      " 0     \n",
      " 1 R0  verse\n",
      " 2 R1      clause rela=Objc\n",
      " 3 R2          =: word lex=>CR\n",
      " 4     \n",
      "  0.00s Counting results per 1000 up to  the end of the results ...\n",
      "  0.00s Done: 96 results\n",
      "Genesis 14:24 clause[אֲשֶׁ֣ר אָֽכְל֣וּ הַנְּעָרִ֔ים ] אֲשֶׁ֣ר \n",
      "Genesis 18:17 clause[אֲשֶׁ֖ר אֲנִ֥י עֹשֶֽׂה׃ ] אֲשֶׁ֖ר \n",
      "Genesis 24:3 clause[אֲשֶׁ֨ר לֹֽא־תִקַּ֤ח אִשָּׁה֙ לִ...] אֲשֶׁ֨ר \n",
      "Genesis 34:11 clause[אֲשֶׁ֥ר תֹּאמְר֛וּ אֵלַ֖י ] אֲשֶׁ֥ר \n",
      "Genesis 39:23 clause[אֲשֶׁר־ה֥וּא עֹשֶׂ֖ה ] אֲשֶׁר־\n",
      "Genesis 41:28 clause[אֲשֶׁ֧ר הָאֱלֹהִ֛ים עֹשֶׂ֖ה ] אֲשֶׁ֧ר \n",
      "Genesis 41:55 clause[אֲשֶׁר־יֹאמַ֥ר לָכֶ֖ם ] אֲשֶׁר־\n",
      "Genesis 44:5 clause[אֲשֶׁ֥ר עֲשִׂיתֶֽם׃ ] אֲשֶׁ֥ר \n",
      "Exodus 4:12 clause[אֲשֶׁ֥ר תְּדַבֵּֽר׃ ] אֲשֶׁ֥ר \n",
      "Exodus 5:21 clause[אֲשֶׁ֧ר הִבְאַשְׁתֶּ֣ם אֶת־רֵיחֵ֗נוּ בְּ...] אֲשֶׁ֧ר \n"
     ]
    }
   ],
   "source": [
    "query = '''\n",
    "verse\n",
    "    clause rela=Objc\n",
    "        =: word lex=>CR\n",
    "'''\n",
    "S.study(query)\n",
    "S.showPlan()\n",
    "S.count(progress=1000, limit=-1)\n",
    "for r in sorted(S.fetch(), key=lambda x: C.rank.data[x[0]-1])[0:10]:\n",
    "    print(S.glean(r))"
   ]
  },
  {
   "cell_type": "markdown",
   "metadata": {},
   "source": [
    "We have fewer cases: 96 instead of 157.\n",
    "We are working on the ETCBC version 4c, and the query has been executed against 4b.\n",
    "There have been coding updates that are relevant to this query, e.g. in Genesis 43:27, which is in the results\n",
    "on SHEBANQ, but not here. In 4c the `rela` is `Attr`, and not `Objc`."
   ]
  },
  {
   "cell_type": "code",
   "execution_count": 8,
   "metadata": {
    "collapsed": false
   },
   "outputs": [
    {
     "name": "stdout",
     "output_type": "stream",
     "text": [
      "  0.00s Checking search template ...\n",
      "  0.00s loading features ...\n",
      "  0.00s All additional features loaded - for details use loadLog()\n",
      "  0.01s Setting up search space for 3 objects ...\n",
      "  0.75s Constraining search space with 3 relations ...\n",
      "  0.84s Setting up retrieval plan ...\n",
      "  0.84s Ready to deliver results from 3 nodes\n",
      "Iterate over S.fetch() to get the results\n",
      "See S.showPlan() to interpret the results\n",
      "  0.85s The results are connected to the original search template as follows:\n",
      " 0     \n",
      " 1 R0  verse book=Genesis chapter=43 verse=27\n",
      " 2 R1      clause\n",
      " 3 R2          =: word lex=>CR\n",
      " 4     \n",
      "  0.00s Counting results per 1000 up to  the end of the results ...\n",
      "  0.00s Done: 1 results\n",
      "431688 Attr Genesis 43:27 clause[אֲשֶׁ֣ר אֲמַרְתֶּ֑ם ] אֲשֶׁ֣ר \n"
     ]
    }
   ],
   "source": [
    "query = '''\n",
    "verse book=Genesis chapter=43 verse=27\n",
    "    clause\n",
    "        =: word lex=>CR\n",
    "'''\n",
    "S.study(query)\n",
    "S.showPlan()\n",
    "S.count(progress=1000, limit=-1)\n",
    "results = sorted(S.fetch(), key=lambda x: C.rank.data[x[0]-1])\n",
    "for r in results:\n",
    "    print(r[1], F.rela.v(r[1]), S.glean(r))"
   ]
  },
  {
   "cell_type": "markdown",
   "metadata": {},
   "source": [
    "# By Cody Kingham\n",
    "\n",
    "[Cody Kingham: MI Hierarchies. p.18n49. First Person Verbs in Narrative](https://shebanq.ancient-data.org/hebrew/query?version=4b&id=1050)\n",
    "\n",
    "```\n",
    "SELECT ALL OBJECTS WHERE\n",
    "\n",
    "[book\n",
    "   [clause txt = 'N'\n",
    "      [word FOCUS sp = verb\n",
    "        [word ps = p1\n",
    "         ]\n",
    "      ]\n",
    "   ]\n",
    "]\n",
    "OR\n",
    "[book\n",
    "   [clause txt = '?N'\n",
    "      [word FOCUS sp = verb\n",
    "        [word ps = p1\n",
    "         ]\n",
    "      ]\n",
    "   ]\n",
    "]\n",
    "```\n",
    "\n",
    "273 results."
   ]
  },
  {
   "cell_type": "code",
   "execution_count": 9,
   "metadata": {
    "collapsed": false
   },
   "outputs": [
    {
     "name": "stdout",
     "output_type": "stream",
     "text": [
      "  0.00s Checking search template ...\n",
      "  0.00s loading features ...\n",
      "   |     0.21s B ps                   from /Users/dirk/github/text-fabric-data/hebrew/etcbc4c\n",
      "   |     0.04s B txt                  from /Users/dirk/github/text-fabric-data/hebrew/etcbc4c\n",
      "  0.26s All additional features loaded - for details use loadLog()\n",
      "  0.26s Setting up search space for 3 objects ...\n",
      "  0.99s Constraining search space with 2 relations ...\n",
      "  1.01s Setting up retrieval plan ...\n",
      "  1.04s Ready to deliver results from 557 nodes\n",
      "Iterate over S.fetch() to get the results\n",
      "See S.showPlan() to interpret the results\n",
      "  1.04s The results are connected to the original search template as follows:\n",
      " 0     \n",
      " 1 R0  book\n",
      " 2 R1      clause txt=N|?N\n",
      " 3 R2          word sp=verb ps=p1\n",
      " 4     \n",
      "  0.00s Counting results per 1000 up to  the end of the results ...\n",
      "  0.05s Done: 273 results\n",
      " clause[וְאֶת־יְהֹושׁ֣וּעַ צִוֵּ֔יתִי בָּ...] צִוֵּ֔יתִי \n",
      " clause[וָאֶתְחַנַּ֖ן אֶל־יְהוָ֑ה בָּ...] אֶתְחַנַּ֖ן \n",
      " clause[וָאֶשְׁלַ֤ח מַלְאָכִים֙ מִמִּדְבַּ֣ר ...] אֶשְׁלַ֤ח \n",
      " clause[וַנֵּ֣שֶׁב בַּגָּ֔יְא ...] נֵּ֣שֶׁב \n",
      " clause[וַנֵּ֜פֶן ] נֵּ֜פֶן \n",
      " clause[וַנַּ֥ךְ אֹתֹ֛ו וְאֶת־...] נַּ֥ךְ \n",
      " clause[וַנִּלְכֹּ֤ד אֶת־כָּל־עָרָיו֙ ...] נִּלְכֹּ֤ד \n",
      " clause[וַֽנַּחֲרֵם֙ אֶת־כָּל־עִ֣יר ...] נַּחֲרֵם֙ \n",
      " clause[וַנָּ֥סָב אֶת־הַר־שֵׂעִ֖יר ...] נָּ֥סָב \n",
      " clause[לֹ֥א הִשְׁאַ֖רְנוּ שָׂרִֽיד׃ ] הִשְׁאַ֖רְנוּ \n"
     ]
    }
   ],
   "source": [
    "query = '''\n",
    "book\n",
    "    clause txt=N|?N\n",
    "        word sp=verb ps=p1\n",
    "'''\n",
    "S.study(query)\n",
    "S.showPlan()\n",
    "S.count(progress=1000, limit=-1)\n",
    "for r in sorted(S.fetch(), key=lambda x: C.rank.data[x[0]-1])[0:10]:\n",
    "    print(S.glean(r))"
   ]
  },
  {
   "cell_type": "markdown",
   "metadata": {},
   "source": [
    "# By Reinoud Oosting\n",
    "\n",
    "[Reinoud Oosting: to go + object marker](https://shebanq.ancient-data.org/hebrew/query?version=4b&id=755)\n",
    "\n",
    "```\n",
    "Select all objects\n",
    "where\n",
    " [clause\n",
    "   [phrase function = Pred OR function = PreC\n",
    "     [word FOCUS sp = verb AND vs = qal AND lex = \"HLK[\" ]\n",
    "         ]\n",
    "    ..\n",
    "    [phrase FOCUS\n",
    "    [word First lex = \">T\"]\n",
    "   ]\n",
    " ]\n",
    "OR\n",
    " [clause\n",
    "    [phrase FOCUS\n",
    "      [word First lex = \">T\" ]\n",
    "    ]\n",
    "..\n",
    "   [phrase function = Pred OR function = PreC\n",
    "     [word FOCUS sp = verb AND vs = qal AND lex = \"HLK[\"]\n",
    "   ]\n",
    " ]\n",
    " ```\n",
    " \n",
    " 4 results.\n",
    " \n",
    " This is a case where we can simplify greatly because we are not hampered\n",
    " by automatic constraints on the order of the phrases."
   ]
  },
  {
   "cell_type": "code",
   "execution_count": 10,
   "metadata": {
    "collapsed": false
   },
   "outputs": [
    {
     "name": "stdout",
     "output_type": "stream",
     "text": [
      "  0.00s Checking search template ...\n",
      "  0.00s loading features ...\n",
      "   |     0.21s B vs                   from /Users/dirk/github/text-fabric-data/hebrew/etcbc4c\n",
      "  0.21s All additional features loaded - for details use loadLog()\n",
      "  0.21s Setting up search space for 5 objects ...\n",
      "  1.84s Constraining search space with 6 relations ...\n",
      "  1.85s Setting up retrieval plan ...\n",
      "  1.89s Ready to deliver results from 430023 nodes\n",
      "Iterate over S.fetch() to get the results\n",
      "See S.showPlan() to interpret the results\n",
      "  1.89s The results are connected to the original search template as follows:\n",
      " 0     \n",
      " 1 R0  clause\n",
      " 2 R1    p1:phrase function=Pred|PreC\n",
      " 3 R2      word sp=verb vs=qal lex=HLK[\n",
      " 4 R3    p2:phrase\n",
      " 5 R4      =: word lex=>T\n",
      " 6       p1 # p2\n",
      " 7     \n",
      "  0.00s Counting results per 1000 up to  the end of the results ...\n",
      "  0.02s Done: 4 results\n",
      "clause[וַנֵּ֡לֶךְ אֵ֣ת כָּל־הַ...] phrase[נֵּ֡לֶךְ ] נֵּ֡לֶךְ  phrase[אֵ֣ת כָּל־הַמִּדְבָּ֣ר הַ...] אֵ֣ת \n",
      "clause[וְאֶת־בֵּ֤ית יְהוָה֙ אֲנִ֣י ...] phrase[הֹלֵ֔ךְ ] הֹלֵ֔ךְ  phrase[אֶת־בֵּ֤ית יְהוָה֙ ] אֶת־\n",
      "clause[הַהֹלְכִ֖ים אֹותָֽךְ׃ ] phrase[הֹלְכִ֖ים ] הֹלְכִ֖ים  phrase[אֹותָֽךְ׃ ] אֹותָֽךְ׃ \n",
      "clause[אֵ֤ת אֲשֶׁר־בְּחֻקַּי֙ תֵּלֵ֔כוּ ] phrase[תֵּלֵ֔כוּ ] תֵּלֵ֔כוּ  phrase[אֵ֤ת אֲשֶׁר־] אֵ֤ת \n"
     ]
    }
   ],
   "source": [
    "query = '''\n",
    "clause\n",
    "  p1:phrase function=Pred|PreC\n",
    "    word sp=verb vs=qal lex=HLK[\n",
    "  p2:phrase\n",
    "    =: word lex=>T\n",
    "  p1 # p2\n",
    "'''\n",
    "\n",
    "S.study(query)\n",
    "S.showPlan()\n",
    "S.count(progress=1000, limit=-1)\n",
    "for r in sorted(S.fetch(), key=lambda x: C.rank.data[x[0]-1])[0:10]:\n",
    "    print(S.glean(r))"
   ]
  },
  {
   "cell_type": "markdown",
   "metadata": {},
   "source": [
    "# By Reinoud Oosting (ii)\n",
    "\n",
    "[Reinoud Oosting: To establish covenant](https://shebanq.ancient-data.org/hebrew/query?version=4b&id=1485)\n",
    "\n",
    "```\n",
    "select all objects\n",
    "where\n",
    "\n",
    " [clause\n",
    "   [phrase function = Pred OR function = PreC\n",
    "     [word FOCUS sp = verb AND vs = hif AND lex = \"QWM[\" ]\n",
    "         ]\n",
    "    ..\n",
    "    [phrase function = Objc\n",
    "    [word FOCUS lex = \"BRJT/\" ]\n",
    "   ]\n",
    " ]\n",
    "OR\n",
    " [clause\n",
    "    [phrase function = Objc\n",
    "      [word FOCUS lex = \"BRJT/\" ]\n",
    "    ]\n",
    "..\n",
    "   [phrase function = Pred OR function = PreC\n",
    "     [word FOCUS sp = verb AND vs = hif AND lex = \"QWM[\"]\n",
    "   ]\n",
    " \n",
    "]\n",
    "```\n",
    "\n",
    "13 results"
   ]
  },
  {
   "cell_type": "code",
   "execution_count": 11,
   "metadata": {
    "collapsed": false
   },
   "outputs": [
    {
     "name": "stdout",
     "output_type": "stream",
     "text": [
      "  0.00s Checking search template ...\n",
      "  0.00s Setting up search space for 5 objects ...\n",
      "  1.94s Constraining search space with 4 relations ...\n",
      "  1.95s Setting up retrieval plan ...\n",
      "  1.96s Ready to deliver results from 65 nodes\n",
      "Iterate over S.fetch() to get the results\n",
      "See S.showPlan() to interpret the results\n",
      "  1.96s The results are connected to the original search template as follows:\n",
      " 0     \n",
      " 1 R0  clause\n",
      " 2 R1    phrase function=Pred|PreC\n",
      " 3 R2      word sp=verb vs=hif lex=QWM[\n",
      " 4 R3    phrase function=Objc\n",
      " 5 R4      word lex=BRJT/\n",
      " 6     \n",
      "  0.00s Counting results per 1000 up to  the end of the results ...\n",
      "  0.00s Done: 13 results\n"
     ]
    }
   ],
   "source": [
    "query = '''\n",
    "clause\n",
    "  phrase function=Pred|PreC\n",
    "    word sp=verb vs=hif lex=QWM[\n",
    "  phrase function=Objc\n",
    "    word lex=BRJT/\n",
    "'''\n",
    "\n",
    "S.study(query)\n",
    "S.showPlan()\n",
    "S.count(progress=1000, limit=-1)"
   ]
  },
  {
   "cell_type": "code",
   "execution_count": 12,
   "metadata": {
    "collapsed": false
   },
   "outputs": [
    {
     "name": "stdout",
     "output_type": "stream",
     "text": [
      "Genesis 6:18 clause[וַהֲקִמֹתִ֥י אֶת־בְּרִיתִ֖י אִתָּ֑ךְ ] phrase[הֲקִמֹתִ֥י ] הֲקִמֹתִ֥י  phrase[אֶת־בְּרִיתִ֖י ] בְּרִיתִ֖י \n",
      "Genesis 9:9 clause[הִנְנִ֥י מֵקִ֛ים אֶת־בְּרִיתִ֖י אִתְּכֶ֑ם ...] phrase[מֵקִ֛ים ] מֵקִ֛ים  phrase[אֶת־בְּרִיתִ֖י ] בְּרִיתִ֖י \n",
      "Genesis 9:11 clause[וַהֲקִמֹתִ֤י אֶת־בְּרִיתִי֙ אִתְּכֶ֔ם ] phrase[הֲקִמֹתִ֤י ] הֲקִמֹתִ֤י  phrase[אֶת־בְּרִיתִי֙ ] בְּרִיתִי֙ \n",
      "Genesis 17:7 clause[וַהֲקִמֹתִ֨י אֶת־בְּרִיתִ֜י בֵּינִ֣י ...] phrase[הֲקִמֹתִ֨י ] הֲקִמֹתִ֨י  phrase[אֶת־בְּרִיתִ֜י ] בְּרִיתִ֜י \n",
      "Genesis 17:19 clause[וַהֲקִמֹתִ֨י אֶת־בְּרִיתִ֥י אִתֹּ֛ו ...] phrase[הֲקִמֹתִ֨י ] הֲקִמֹתִ֨י  phrase[אֶת־בְּרִיתִ֥י ] בְּרִיתִ֥י \n",
      "Genesis 17:21 clause[וְאֶת־בְּרִיתִ֖י אָקִ֣ים אֶת־...] phrase[אָקִ֣ים ] אָקִ֣ים  phrase[אֶת־בְּרִיתִ֖י ] בְּרִיתִ֖י \n",
      "Exodus 6:4 clause[וְגַ֨ם הֲקִמֹ֤תִי אֶת־בְּרִיתִי֙ ...] phrase[הֲקִמֹ֤תִי ] הֲקִמֹ֤תִי  phrase[אֶת־בְּרִיתִי֙ ] בְּרִיתִי֙ \n",
      "Leviticus 26:9 clause[וַהֲקִימֹתִ֥י אֶת־בְּרִיתִ֖י אִתְּכֶֽם׃ ] phrase[הֲקִימֹתִ֥י ] הֲקִימֹתִ֥י  phrase[אֶת־בְּרִיתִ֖י ] בְּרִיתִ֖י \n",
      "Deuteronomy 8:18 clause[לְמַ֨עַן הָקִ֧ים אֶת־בְּרִיתֹ֛ו ] phrase[לְמַ֨עַן הָקִ֧ים ] הָקִ֧ים  phrase[אֶת־בְּרִיתֹ֛ו ] בְּרִיתֹ֛ו \n",
      "2_Kings 23:3 clause[לְהָקִ֗ים אֶת־דִּבְרֵי֙ הַ...] phrase[לְהָקִ֗ים ] הָקִ֗ים  phrase[אֶת־דִּבְרֵי֙ הַבְּרִ֣ית הַ...] בְּרִ֣ית \n",
      "Jeremiah 34:18 clause[אֲשֶׁ֤ר לֹֽא־הֵקִ֨ימוּ֙ אֶת־דִּבְרֵ֣י ...] phrase[הֵקִ֨ימוּ֙ ] הֵקִ֨ימוּ֙  phrase[אֶת־דִּבְרֵ֣י הַבְּרִ֔ית ] בְּרִ֔ית \n",
      "Ezekiel 16:60 clause[וַהֲקִמֹותִ֥י לָ֖ךְ בְּרִ֥ית עֹולָֽם׃ ] phrase[הֲקִמֹותִ֥י ] הֲקִמֹותִ֥י  phrase[בְּרִ֥ית עֹולָֽם׃ ] בְּרִ֥ית \n",
      "Ezekiel 16:62 clause[וַהֲקִימֹותִ֥י אֲנִ֛י אֶת־בְּרִיתִ֖י ...] phrase[הֲקִימֹותִ֥י ] הֲקִימֹותִ֥י  phrase[אֶת־בְּרִיתִ֖י ] בְּרִיתִ֖י \n"
     ]
    }
   ],
   "source": [
    "resultsx = sorted((L.u(r[0], otype='verse')+r for r in S.fetch()), key=lambda r: sortKey(r[0]))\n",
    "for r in resultsx:\n",
    "    print(S.glean(r))"
   ]
  },
  {
   "cell_type": "markdown",
   "metadata": {},
   "source": [
    "# By Reinoud Oosting (iii)\n",
    "\n",
    "[Reinoud Oosting: To find grace in sight of](https://shebanq.ancient-data.org/hebrew/query?version=4b&id=1484)\n",
    "\n",
    "```\n",
    "select all objects\n",
    "where\n",
    "\n",
    " [clause\n",
    "   [phrase FOCUS function = Pred OR function = PreC\n",
    "     [word sp = verb AND vs = qal AND lex = \"MY>[\" ]\n",
    "         ]\n",
    "    ..\n",
    "    [phrase function = Objc\n",
    "    [word FOCUS lex = \"XN/\" ]\n",
    "   ]\n",
    "[phrase function = Cmpl\n",
    "[word FOCUS lex = \"B\"]\n",
    "[word FOCUS lex = \"<JN/\"]\n",
    "]\n",
    " ]\n",
    "OR\n",
    " [clause\n",
    "    [phrase function = Objc\n",
    "      [word FOCUS lex = \"XN/\" ]\n",
    "    ]\n",
    "[phrase function = Cmpl\n",
    "[word FOCUS lex = \"B\"]\n",
    "[word FOCUS lex = \"<JN/\"]\n",
    "..\n",
    "   [phrase function = Pred OR function = PreC\n",
    "     [word FOCUS sp = verb AND vs = qal AND lex = \"MY>[\"]\n",
    "   ]\n",
    " ]\n",
    "]\n",
    "\n",
    "```\n",
    "\n",
    "38 results"
   ]
  },
  {
   "cell_type": "code",
   "execution_count": 34,
   "metadata": {
    "collapsed": false
   },
   "outputs": [
    {
     "name": "stdout",
     "output_type": "stream",
     "text": [
      "  0.00s Checking search template ...\n",
      "  0.00s Setting up search space for 8 objects ...\n",
      "  3.44s Constraining search space with 9 relations ...\n",
      "  3.45s Setting up retrieval plan ...\n",
      "  3.46s Ready to deliver results from 16034 nodes\n",
      "Iterate over S.fetch() to get the results\n",
      "See S.showPlan() to interpret the results\n",
      "Search with 8 objects and 9 relations\n",
      "Results are instantiations of the following objects:\n",
      "node  0-clause                            (    38   choices)\n",
      "node  1-phrase                            (    38   choices)\n",
      "node  2-word                              (    38   choices)\n",
      "node  3-phrase                            (    38   choices)\n",
      "node  4-word                              (    38   choices)\n",
      "node  5-phrase                            (    38   choices)\n",
      "node  6-word                              ( 15768   choices)\n",
      "node  7-word                              (    38   choices)\n",
      "Instantiations are computed along the following relations:\n",
      "node                      0-clause        (    38   choices)\n",
      "edge  0-clause        [[  5-phrase        (     1.0 choices)\n",
      "edge  5-phrase        [[  6-word          (     1.0 choices)\n",
      "edge  6-word          <:  7-word          (     0.0 choices)\n",
      "edge  7-word          ]]  5-phrase        (     1.0 choices)\n",
      "edge  0-clause        [[  3-phrase        (     1.0 choices)\n",
      "edge  3-phrase        <<  5-phrase        (    18.6 choices)\n",
      "edge  3-phrase        [[  4-word          (     1.0 choices)\n",
      "edge  0-clause        [[  1-phrase        (     1.0 choices)\n",
      "edge  1-phrase        [[  2-word          (     1.0 choices)\n",
      "  3.50s The results are connected to the original search template as follows:\n",
      " 0     \n",
      " 1 R0  clause\n",
      " 2 R1    p1:phrase function=Pred|PreC\n",
      " 3 R2      word sp=verb vs=qal lex=MY>[\n",
      " 4 R3    p2:phrase function=Objc\n",
      " 5 R4      word lex=XN/\n",
      " 6 R5    p3:phrase function=Cmpl\n",
      " 7 R6      word lex=B\n",
      " 8 R7      <: word lex=<JN/\n",
      " 9       p2 << p3\n",
      "10     \n",
      "  0.00s Counting results per 1000 up to  the end of the results ...\n",
      "  0.00s Done: 38 results\n"
     ]
    }
   ],
   "source": [
    "query = '''\n",
    "clause\n",
    "  p1:phrase function=Pred|PreC\n",
    "    word sp=verb vs=qal lex=MY>[\n",
    "  p2:phrase function=Objc\n",
    "    word lex=XN/\n",
    "  p3:phrase function=Cmpl\n",
    "    word lex=B\n",
    "    <: word lex=<JN/\n",
    "  p2 << p3\n",
    "'''\n",
    "\n",
    "S.study(query)\n",
    "S.showPlan(details=True)\n",
    "S.count(progress=1000, limit=-1)"
   ]
  },
  {
   "cell_type": "markdown",
   "metadata": {
    "collapsed": true
   },
   "source": [
    "# By Stephen Ku\n",
    "\n",
    "[Stephen Ku: Verbless Clauses](https://shebanq.ancient-data.org/hebrew/query?version=4&id=1314)\n",
    "\n",
    "```\n",
    "SELECT ALL OBJECTS WHERE \n",
    "\n",
    "[clause  \n",
    " [phrase function IN (Subj) \n",
    "    [phrase_atom NOT rela IN (Appo,Para,Spec)\n",
    "      [word FOCUS pdp IN (subs,nmpr,prps,prde,prin,adjv)\n",
    "      ]\n",
    "    ]\n",
    "  ]\n",
    " NOTEXIST [phrase function IN (Pred)]\n",
    " ..\n",
    " NOTEXIST [phrase function IN (Pred)]\n",
    " [phrase function IN (PreC)\n",
    "     NOTEXIST [word pdp IN (prep)]\n",
    "     [word FOCUS pdp IN (subs,nmpr,prin,adjv) AND ls IN (card,ordn)]\n",
    " ]\n",
    "]\n",
    "```\n",
    "\n",
    "1441 results with 1244 words in those results.\n",
    "\n",
    "We do not have the `NOTEXIST` operator, and we cannot say `NOT rela IN`,\n",
    "so we are at a disadvantage here.\n",
    "Let's see what we can do.\n",
    "We can use additional processing to furnish the template and weed out results.\n",
    "\n",
    "The first thing is: we have to fetch all possible values of the `rela` feature,\n",
    "in order to see what other values than `Appo`, `Para`, `Spec` it can take.\n",
    "\n",
    "The function `freqList()` gives us a frequency list of values, we only need the values\n",
    "other than the indicated ones, separated by a `|`.\n",
    "\n",
    "We also need to consult the relation legend to pick the proper ordering between the\n",
    "two phrases."
   ]
  },
  {
   "cell_type": "code",
   "execution_count": 11,
   "metadata": {
    "collapsed": false
   },
   "outputs": [
    {
     "data": {
      "text/plain": [
       "'NA|rec|par|Adju|Attr|adj|Coor|atr|dem|Resu|Objc|Link|mod|Subj|RgRc|ReVo|Cmpl|PrAd|PreC|Sfxs'"
      ]
     },
     "execution_count": 11,
     "metadata": {},
     "output_type": "execute_result"
    }
   ],
   "source": [
    "excludedRela = {'Appo', 'Para', 'Spec'}\n",
    "'|'.join(x[0] for x in F.rela.freqList() if x[0] not in excludedRela)"
   ]
  },
  {
   "cell_type": "code",
   "execution_count": 12,
   "metadata": {
    "collapsed": false
   },
   "outputs": [
    {
     "name": "stdout",
     "output_type": "stream",
     "text": [
      "                      = left equal to right (as node)\n",
      "                      # left unequal to right (as node)\n",
      "                      < left before right (in canonical node ordering)\n",
      "                      > left after right (in canonical node ordering)\n",
      "                     == left occupies same slots as right\n",
      "                     && left has overlapping slots with right\n",
      "                     ## left and right do not have the same slot set\n",
      "                     || left and right do not have common slots\n",
      "                     [[ left embeds right\n",
      "                     ]] left embedded in right\n",
      "                     << left completely before right\n",
      "                     >> left completely after right\n",
      "                     =: left and right start at the same slot\n",
      "                     := left and right end at the same slot\n",
      "                     :: left and right start and end at the same slot\n",
      "                     <: left immediately before right\n",
      "                     :> left immediately after right\n",
      "                    =k: left and right start at k-nearly the same slot\n",
      "                    :k= left and right end at k-nearly the same slot\n",
      "                    :k: left and right start and end at k-near slots\n",
      "                    <k: left k-nearly before right\n",
      "                    :k> left k-nearly after right\n",
      "-distributional_parent> edge feature \"distributional_parent\"\n",
      "<distributional_parent- edge feature \"distributional_parent\" (opposite direction)\n",
      "    -functional_parent> edge feature \"functional_parent\"\n",
      "    <functional_parent- edge feature \"functional_parent\" (opposite direction)\n",
      "               -mother> edge feature \"mother\"\n",
      "               <mother- edge feature \"mother\" (opposite direction)\n",
      "The grid feature \"oslots\" cannot be used in searches.\n",
      "Surely, one of the above relations on nodes and/or slots will suit you better!\n"
     ]
    }
   ],
   "source": [
    "print(S.relationLegend)"
   ]
  },
  {
   "cell_type": "code",
   "execution_count": 13,
   "metadata": {
    "collapsed": false
   },
   "outputs": [
    {
     "name": "stdout",
     "output_type": "stream",
     "text": [
      "  0.00s Checking search template ...\n",
      "  0.00s loading features ...\n",
      "   |     0.14s B ls                   from /Users/dirk/github/text-fabric-data/hebrew/etcbc4c\n",
      "  0.15s All additional features loaded - for details use loadLog()\n",
      "  0.15s Setting up search space for 6 objects ...\n",
      "  2.55s Constraining search space with 6 relations ...\n",
      "  2.56s Setting up retrieval plan ...\n",
      "  2.58s Ready to deliver results from 573297 nodes\n",
      "Iterate over S.fetch() to get the results\n",
      "See S.showPlan() to interpret the results\n",
      "  2.58s The results are connected to the original search template as follows:\n",
      " 0     \n",
      " 1 R0  clause\n",
      " 2 R1    p1:phrase function=Subj\n",
      " 3 R2      phrase_atom rela=NA|rec|par|Adju|Attr|adj|Coor|atr|dem|Resu|Objc|Link|mod|Subj|RgRc|ReVo|Cmpl|PrAd|PreC|Sfxs\n",
      " 4 R3        word pdp=subs|nmpr|prps|prde|prin|adjv\n",
      " 5 R4    p2:phrase function=PreC\n",
      " 6 R5      word pdp=subs|nmpr|prin|adjv ls=card|ordn\n",
      " 7     \n",
      " 8       p1 << p2\n",
      " 9     \n",
      "  0.00s Counting results per 1000 up to  the end of the results ...\n",
      "   |     0.02s 1000\n",
      "   |     0.04s 2000\n",
      "  0.05s Done: 2588 results\n",
      "clause[הֵ֤ן הָֽאָדָם֙ הָיָה֙ כְּ...] phrase[הָֽאָדָם֙ ] phrase_atom[הָֽאָדָם֙ ] אָדָם֙  phrase[כְּאַחַ֣ד מִמֶּ֔נּוּ ] אַחַ֣ד \n",
      "clause[וַיִּֽהְי֣וּ יְמֵי־אָדָ֗ם שְׁמֹנֶ֥ה ...] phrase[יְמֵי־אָדָ֗ם ] phrase_atom[יְמֵי־אָדָ֗ם ] יְמֵי־ phrase[שְׁמֹנֶ֥ה מֵאֹ֖ת שָׁנָ֑ה ] שְׁמֹנֶ֥ה \n",
      "clause[וַיִּֽהְי֣וּ יְמֵי־אָדָ֗ם שְׁמֹנֶ֥ה ...] phrase[יְמֵי־אָדָ֗ם ] phrase_atom[יְמֵי־אָדָ֗ם ] אָדָ֗ם  phrase[שְׁמֹנֶ֥ה מֵאֹ֖ת שָׁנָ֑ה ] שְׁמֹנֶ֥ה \n",
      "clause[וַיִּֽהְי֣וּ יְמֵי־אָדָ֗ם שְׁמֹנֶ֥ה ...] phrase[יְמֵי־אָדָ֗ם ] phrase_atom[יְמֵי־אָדָ֗ם ] יְמֵי־ phrase[שְׁמֹנֶ֥ה מֵאֹ֖ת שָׁנָ֑ה ] מֵאֹ֖ת \n",
      "clause[וַיִּֽהְי֣וּ יְמֵי־אָדָ֗ם שְׁמֹנֶ֥ה ...] phrase[יְמֵי־אָדָ֗ם ] phrase_atom[יְמֵי־אָדָ֗ם ] אָדָ֗ם  phrase[שְׁמֹנֶ֥ה מֵאֹ֖ת שָׁנָ֑ה ] מֵאֹ֖ת \n",
      "clause[וַיִּֽהְי֞וּ כָּל־יְמֵ֤י אָדָם֙ ...] phrase[כָּל־יְמֵ֤י אָדָם֙ ] phrase_atom[כָּל־יְמֵ֤י אָדָם֙ ] כָּל־ phrase[תְּשַׁ֤ע מֵאֹות֙ שָׁנָ֔ה וּשְׁלֹשִׁ֖ים ...] תְּשַׁ֤ע \n",
      "clause[וַיִּֽהְי֞וּ כָּל־יְמֵ֤י אָדָם֙ ...] phrase[כָּל־יְמֵ֤י אָדָם֙ ] phrase_atom[כָּל־יְמֵ֤י אָדָם֙ ] יְמֵ֤י  phrase[תְּשַׁ֤ע מֵאֹות֙ שָׁנָ֔ה וּשְׁלֹשִׁ֖ים ...] תְּשַׁ֤ע \n",
      "clause[וַיִּֽהְי֞וּ כָּל־יְמֵ֤י אָדָם֙ ...] phrase[כָּל־יְמֵ֤י אָדָם֙ ] phrase_atom[כָּל־יְמֵ֤י אָדָם֙ ] אָדָם֙  phrase[תְּשַׁ֤ע מֵאֹות֙ שָׁנָ֔ה וּשְׁלֹשִׁ֖ים ...] תְּשַׁ֤ע \n",
      "clause[וַיִּֽהְי֞וּ כָּל־יְמֵ֤י אָדָם֙ ...] phrase[כָּל־יְמֵ֤י אָדָם֙ ] phrase_atom[כָּל־יְמֵ֤י אָדָם֙ ] כָּל־ phrase[תְּשַׁ֤ע מֵאֹות֙ שָׁנָ֔ה וּשְׁלֹשִׁ֖ים ...] מֵאֹות֙ \n",
      "clause[וַיִּֽהְי֞וּ כָּל־יְמֵ֤י אָדָם֙ ...] phrase[כָּל־יְמֵ֤י אָדָם֙ ] phrase_atom[כָּל־יְמֵ֤י אָדָם֙ ] יְמֵ֤י  phrase[תְּשַׁ֤ע מֵאֹות֙ שָׁנָ֔ה וּשְׁלֹשִׁ֖ים ...] מֵאֹות֙ \n"
     ]
    }
   ],
   "source": [
    "query = '''\n",
    "clause\n",
    "  p1:phrase function=Subj\n",
    "    phrase_atom rela=NA|rec|par|Adju|Attr|adj|Coor|atr|dem|Resu|Objc|Link|mod|Subj|RgRc|ReVo|Cmpl|PrAd|PreC|Sfxs\n",
    "      word pdp=subs|nmpr|prps|prde|prin|adjv\n",
    "  p2:phrase function=PreC\n",
    "    word pdp=subs|nmpr|prin|adjv ls=card|ordn\n",
    "\n",
    "  p1 << p2\n",
    "'''\n",
    "\n",
    "S.study(query)\n",
    "S.showPlan()\n",
    "S.count(progress=1000, limit=-1)\n",
    "for r in sorted(S.fetch(), key=lambda x: C.rank.data[x[0]-1])[0:10]:\n",
    "    print(S.glean(r))"
   ]
  },
  {
   "cell_type": "markdown",
   "metadata": {},
   "source": [
    "We have too many results, because we have not posed the restrictions by the `NOTEXIST` operator.\n",
    "Let's weed out the results that do not satisfy those criteria.\n",
    "That is, essentially, throwing away those clauses \n",
    "\n",
    "* that have a phrase with `function=Pred` after the phrase with `function=Pred`\n",
    "* where the second phrase has a preposition"
   ]
  },
  {
   "cell_type": "code",
   "execution_count": 14,
   "metadata": {
    "collapsed": false
   },
   "outputs": [
    {
     "name": "stdout",
     "output_type": "stream",
     "text": [
      "  0.17s Found 2307 proper results with 2133 words in it\n"
     ]
    }
   ],
   "source": [
    "indent(reset=True)\n",
    "properResults = []\n",
    "resultWords = set()\n",
    "\n",
    "for r in S.fetch():\n",
    "    clause = r[0]\n",
    "    phrase1 = r[1]\n",
    "    phrase2 = r[4]\n",
    "    word1 = r[3]\n",
    "    word2 = r[5]\n",
    "    phrases = [p for p in L.d(clause, otype='phrase') if sortKey(p) > sortKey(phrase1)]\n",
    "        \n",
    "    words2 = L.d(phrase2, otype='word')\n",
    "    if any(F.function.v(phrase) == 'Pred' for phrase in phrases): continue\n",
    "    if any(F.pdp.v(word) == 'prep' for word in words2): continue\n",
    "    resultWords |= {word1, word2}\n",
    "    properResults.append(r)\n",
    "\n",
    "info('Found {} proper results with {} words in it'.format(len(properResults), len(resultWords)))"
   ]
  },
  {
   "cell_type": "markdown",
   "metadata": {},
   "source": [
    "We have still many more results than the MQL query on SHEBANQ.\n",
    "\n",
    "Let us have a look at some results words and compare them with the result words on SHEBANQ.\n",
    "It is handy to fetch from SHEBANQ the csv file with query results."
   ]
  },
  {
   "cell_type": "code",
   "execution_count": 15,
   "metadata": {
    "collapsed": false
   },
   "outputs": [
    {
     "name": "stdout",
     "output_type": "stream",
     "text": [
      "Genesis 5:4 יְמֵי־\n",
      "Genesis 5:4 אָדָ֗ם \n",
      "Genesis 5:4 שְׁמֹנֶ֥ה \n",
      "Genesis 5:4 מֵאֹ֖ת \n",
      "Genesis 5:5 כָּל־\n",
      "Genesis 5:5 יְמֵ֤י \n",
      "Genesis 5:5 אָדָם֙ \n",
      "Genesis 5:5 תְּשַׁ֤ע \n",
      "Genesis 5:5 מֵאֹות֙ \n",
      "Genesis 5:5 שְׁלֹשִׁ֖ים \n",
      "Genesis 5:8 כָּל־\n",
      "Genesis 5:8 יְמֵי־\n",
      "Genesis 5:8 שֵׁ֔ת \n",
      "Genesis 5:8 שְׁתֵּ֤ים \n",
      "Genesis 5:8 עֶשְׂרֵה֙ \n",
      "Genesis 5:8 תְשַׁ֥ע \n",
      "Genesis 5:8 מֵאֹ֖ות \n",
      "Genesis 5:11 כָּל־\n",
      "Genesis 5:11 יְמֵ֣י \n",
      "Genesis 5:11 אֱנֹ֔ושׁ \n",
      "Genesis 5:11 חָמֵ֣שׁ \n",
      "Genesis 5:11 תְשַׁ֥ע \n",
      "Genesis 5:11 מֵאֹ֖ות \n",
      "Genesis 5:14 כָּל־\n",
      "Genesis 5:14 יְמֵ֣י \n",
      "Genesis 5:14 קֵינָ֔ן \n",
      "Genesis 5:14 עֶ֣שֶׂר \n",
      "Genesis 5:14 תְשַׁ֥ע \n",
      "Genesis 5:14 מֵאֹ֖ות \n",
      "Genesis 5:17 כָּל־\n"
     ]
    }
   ],
   "source": [
    "resultsx = sorted((L.u(r[0], otype='verse')+r for r in properResults), key=lambda r: sortKey(r[0]))\n",
    "resultWordsx = [(L.u(w, otype='verse')[0], w) for w in sortNodes(resultWords)]\n",
    "for r in resultWordsx[0:30]:\n",
    "    print(S.glean(r))"
   ]
  },
  {
   "cell_type": "markdown",
   "metadata": {},
   "source": [
    "In the list from SHEBANQ we see this:"
   ]
  },
  {
   "cell_type": "raw",
   "metadata": {},
   "source": [
    "Genesis,5,4,יְמֵי־,,JWM/,day,subs,2169,m,pl,NA,NA,451,1,326,9\n",
    "Genesis,5,4,אָדָ֗ם ,,>DM===/,Adam,nmpr,2170,m,sg,NA,NA,451,1,326,9\n",
    "Genesis,5,4,שְׁמֹנֶ֥ה ,,CMNH/,eight,subs,2175,unknown,sg,NA,NA,453,1,326,9\n",
    "Genesis,5,4,מֵאֹ֖ת ,,M>H/,hundred,subs,2176,f,pl,NA,NA,453,1,326,9\n",
    "Genesis,5,5,כָּל־,,KL/,whole,subs,2185,m,sg,NA,NA,455,1,328,11\n",
    "Genesis,5,5,יְמֵ֤י ,,JWM/,day,subs,2186,m,pl,NA,NA,455,1,328,11\n",
    "Genesis,5,5,אָדָם֙ ,,>DM===/,Adam,nmpr,2187,m,sg,NA,NA,455,1,328,11\n",
    "Genesis,5,5,תְּשַׁ֤ע ,,TC</,nine,subs,2190,unknown,sg,NA,NA,457,1,328,11\n",
    "Genesis,5,5,מֵאֹות֙ ,,M>H/,hundred,subs,2191,f,pl,NA,NA,457,1,328,11\n",
    "Genesis,5,5,שְׁלֹשִׁ֖ים ,,CLC/,three,subs,2194,m,pl,NA,NA,457,1,328,11\n",
    "Genesis,5,8,כָּל־,,KL/,whole,subs,2230,m,sg,NA,NA,465,1,334,17\n",
    "Genesis,5,8,יְמֵי־,,JWM/,day,subs,2231,m,pl,NA,NA,465,1,334,17\n",
    "Genesis,5,8,שֵׁ֔ת ,,CT==/,,nmpr,2232,m,sg,NA,NA,465,1,334,17\n",
    "Genesis,5,8,שְׁתֵּ֤ים ,,CNJM/,two,subs,2233,f,du,NA,NA,465,1,334,17\n",
    "Genesis,5,8,עֶשְׂרֵה֙ ,,<FRH/,ten,subs,2234,unknown,sg,NA,NA,465,1,334,17\n",
    "Genesis,5,8,תְשַׁ֥ע ,,TC</,nine,subs,2237,unknown,sg,NA,NA,465,1,334,17\n",
    "Genesis,5,8,מֵאֹ֖ות ,,M>H/,hundred,subs,2238,f,pl,NA,NA,465,1,334,17\n",
    "Genesis,5,11,כָּל־,,KL/,whole,subs,2272,m,sg,NA,NA,473,1,340,23\n",
    "Genesis,5,11,יְמֵ֣י ,,JWM/,day,subs,2273,m,pl,NA,NA,473,1,340,23\n",
    "Genesis,5,11,אֱנֹ֔ושׁ ,,>NWC==/,,nmpr,2274,m,sg,NA,NA,473,1,340,23\n",
    "Genesis,5,11,חָמֵ֣שׁ ,,XMC/,five,subs,2275,unknown,sg,NA,NA,473,1,340,23\n",
    "Genesis,5,11,תְשַׁ֥ע ,,TC</,nine,subs,2278,unknown,sg,NA,NA,473,1,340,23\n",
    "Genesis,5,11,מֵאֹ֖ות ,,M>H/,hundred,subs,2279,f,pl,NA,NA,473,1,340,23\n",
    "Genesis,5,14,כָּל־,,KL/,whole,subs,2312,m,sg,NA,NA,481,1,346,29\n",
    "Genesis,5,14,יְמֵ֣י ,,JWM/,day,subs,2313,m,pl,NA,NA,481,1,346,29\n",
    "Genesis,5,14,קֵינָ֔ן ,,QJNN/,,nmpr,2314,m,sg,NA,NA,481,1,346,29\n",
    "Genesis,5,14,תְשַׁ֥ע ,,TC</,nine,subs,2318,unknown,sg,NA,NA,481,1,346,29\n",
    "Genesis,5,14,מֵאֹ֖ות ,,M>H/,hundred,subs,2319,f,pl,NA,NA,481,1,346,29\n",
    "Genesis,5,17,כָּל־,,KL/,whole,subs,2355,m,sg,NA,NA,489,1,352,35"
   ]
  },
  {
   "cell_type": "markdown",
   "metadata": {},
   "source": [
    "The first thing we miss in the SHEBANQ output is\n",
    "\n",
    "```\n",
    "Genesis 5:14 עֶ֣שֶׂר\n",
    "```\n",
    "\n",
    "and in SHEBANQ we see that this word has not been marked with `ls=card|ordn`,\n",
    "while in the newer ETCBC4c it is!\n",
    "\n",
    "I have conducted a SHEBANQ query for numerals here\n",
    "[Dirk Roorda: numerals](https://shebanq.ancient-data.org/hebrew/query?id=1487),\n",
    "in versions 4 and 4b, \n",
    "and quite something happened with the encoding of numerals between those versions.\n",
    "\n",
    "Let us also find the numerals in 4c:"
   ]
  },
  {
   "cell_type": "code",
   "execution_count": 16,
   "metadata": {
    "collapsed": false
   },
   "outputs": [
    {
     "name": "stdout",
     "output_type": "stream",
     "text": [
      "  0.00s Checking search template ...\n",
      "  0.00s Setting up search space for 1 objects ...\n",
      "  0.61s Constraining search space with 0 relations ...\n",
      "  0.61s Setting up retrieval plan ...\n",
      "  0.61s Ready to deliver results from 7013 nodes\n",
      "Iterate over S.fetch() to get the results\n",
      "See S.showPlan() to interpret the results\n"
     ]
    }
   ],
   "source": [
    "S.study('''\n",
    "word ls=card|ordn\n",
    "''')"
   ]
  },
  {
   "cell_type": "markdown",
   "metadata": {},
   "source": [
    "So we have for the amount of numerals in the ETCBC versions:\n",
    "\n",
    "4|4b|4c\n",
    "---|---|---\n",
    "6839|7014|7013\n",
    "\n",
    "On the basis of these numbers, this cannot be the sole cause of the discrepancy."
   ]
  },
  {
   "cell_type": "markdown",
   "metadata": {
    "collapsed": true
   },
   "source": [
    "# By Dirk Roorda\n",
    "\n",
    "[Dirk Roorda: Yesh](https://shebanq.ancient-data.org/hebrew/query?version=4b&id=556)\n",
    "\n",
    "```\n",
    "select all objects where\n",
    "[book [chapter [verse\n",
    "[clause\n",
    "    [clause_atom\n",
    "        [phrase\n",
    "            [phrase_atom\n",
    "                [word focus lex=\"JC/\" OR lex=\">JN/\"]\n",
    "            ]\n",
    "        ]\n",
    "    ]\n",
    "]\n",
    "]]]\n",
    "```\n",
    "\n",
    "926 results"
   ]
  },
  {
   "cell_type": "code",
   "execution_count": 17,
   "metadata": {
    "collapsed": false
   },
   "outputs": [
    {
     "name": "stdout",
     "output_type": "stream",
     "text": [
      "  0.00s Checking search template ...\n",
      "  0.00s Setting up search space for 6 objects ...\n",
      "  0.77s Constraining search space with 5 relations ...\n",
      "  0.81s Setting up retrieval plan ...\n",
      "  0.82s Ready to deliver results from 5415 nodes\n",
      "Iterate over S.fetch() to get the results\n",
      "See S.showPlan() to interpret the results\n",
      "  0.82s The results are connected to the original search template as follows:\n",
      " 0     \n",
      " 1 R0  verse\n",
      " 2 R1    clause\n",
      " 3 R2      clause_atom\n",
      " 4 R3        phrase\n",
      " 5 R4          phrase_atom\n",
      " 6 R5            word lex=JC/|>JN/\n",
      " 7     \n",
      "  0.00s Counting results per 1000 up to  the end of the results ...\n",
      "  0.02s Done: 926 results\n",
      "Genesis 2:5 clause[וְאָדָ֣ם אַ֔יִן ] clause_atom[וְאָדָ֣ם אַ֔יִן ] phrase[אַ֔יִן ] phrase_atom[אַ֔יִן ] אַ֔יִן \n",
      "Genesis 5:24 clause[וְאֵינֶ֕נּוּ ] clause_atom[וְאֵינֶ֕נּוּ ] phrase[אֵינֶ֕נּוּ ] phrase_atom[אֵינֶ֕נּוּ ] אֵינֶ֕נּוּ \n",
      "Genesis 7:8 clause[אֲשֶׁ֥ר אֵינֶ֖נָּה טְהֹרָ֑ה ] clause_atom[אֲשֶׁ֥ר אֵינֶ֖נָּה טְהֹרָ֑ה ] phrase[אֵינֶ֖נָּה ] phrase_atom[אֵינֶ֖נָּה ] אֵינֶ֖נָּה \n",
      "Genesis 11:30 clause[אֵ֥ין לָ֖הּ וָלָֽד׃ ] clause_atom[אֵ֥ין לָ֖הּ וָלָֽד׃ ] phrase[אֵ֥ין ] phrase_atom[אֵ֥ין ] אֵ֥ין \n",
      "Genesis 18:24 clause[אוּלַ֥י יֵ֛שׁ חֲמִשִּׁ֥ים צַדִּיקִ֖ם בְּ...] clause_atom[אוּלַ֥י יֵ֛שׁ חֲמִשִּׁ֥ים צַדִּיקִ֖ם בְּ...] phrase[יֵ֛שׁ ] phrase_atom[יֵ֛שׁ ] יֵ֛שׁ \n",
      "Genesis 19:31 clause[וְאִ֨ישׁ אֵ֤ין בָּ...] clause_atom[וְאִ֨ישׁ אֵ֤ין בָּ...] phrase[אֵ֤ין ] phrase_atom[אֵ֤ין ] אֵ֤ין \n",
      "Genesis 20:7 clause[וְאִם־אֵֽינְךָ֣ מֵשִׁ֗יב ] clause_atom[וְאִם־אֵֽינְךָ֣ מֵשִׁ֗יב ] phrase[אֵֽינְךָ֣ ] phrase_atom[אֵֽינְךָ֣ ] אֵֽינְךָ֣ \n",
      "Genesis 20:11 clause[רַ֚ק אֵין־יִרְאַ֣ת אֱלֹהִ֔ים בַּ...] clause_atom[רַ֚ק אֵין־יִרְאַ֣ת אֱלֹהִ֔ים בַּ...] phrase[אֵין־] phrase_atom[אֵין־] אֵין־\n",
      "Genesis 23:8 clause[אִם־יֵ֣שׁ אֶֽת־נַפְשְׁכֶ֗ם ] clause_atom[אִם־יֵ֣שׁ אֶֽת־נַפְשְׁכֶ֗ם ] phrase[יֵ֣שׁ ] phrase_atom[יֵ֣שׁ ] יֵ֣שׁ \n",
      "Genesis 24:23 clause[הֲיֵ֧שׁ בֵּית־אָבִ֛יךְ מָקֹ֥ום ...] clause_atom[הֲיֵ֧שׁ בֵּית־אָבִ֛יךְ מָקֹ֥ום ...] phrase[יֵ֧שׁ ] phrase_atom[יֵ֧שׁ ] יֵ֧שׁ \n"
     ]
    }
   ],
   "source": [
    "query = '''\n",
    "verse\n",
    "  clause\n",
    "    clause_atom\n",
    "      phrase\n",
    "        phrase_atom\n",
    "          word lex=JC/|>JN/\n",
    "'''\n",
    "\n",
    "S.study(query)\n",
    "S.showPlan()\n",
    "S.count(progress=1000, limit=-1)\n",
    "for r in sorted(S.fetch(), key=lambda x: C.rank.data[x[0]-1])[0:10]:\n",
    "    print(S.glean(r))"
   ]
  },
  {
   "cell_type": "code",
   "execution_count": null,
   "metadata": {
    "collapsed": true
   },
   "outputs": [],
   "source": []
  }
 ],
 "metadata": {
  "kernelspec": {
   "display_name": "Python 3",
   "language": "python",
   "name": "python3"
  },
  "language_info": {
   "codemirror_mode": {
    "name": "ipython",
    "version": 3
   },
   "file_extension": ".py",
   "mimetype": "text/x-python",
   "name": "python",
   "nbconvert_exporter": "python",
   "pygments_lexer": "ipython3",
   "version": "3.6.0"
  }
 },
 "nbformat": 4,
 "nbformat_minor": 1
}
