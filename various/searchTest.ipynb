{
 "cells": [
  {
   "cell_type": "code",
   "execution_count": 1,
   "metadata": {
    "collapsed": true
   },
   "outputs": [],
   "source": [
    "%load_ext autoreload\n",
    "%autoreload 2"
   ]
  },
  {
   "cell_type": "code",
   "execution_count": 2,
   "metadata": {
    "collapsed": false,
    "scrolled": false
   },
   "outputs": [
    {
     "name": "stdout",
     "output_type": "stream",
     "text": [
      "This is Text-Fabric 2.1.3\n",
      "Api reference : https://github.com/ETCBC/text-fabric/wiki/Api\n",
      "Tutorial      : https://github.com/ETCBC/text-fabric/blob/master/docs/tutorial.ipynb\n",
      "Data sources  : https://github.com/ETCBC/text-fabric-data\n",
      "Data docs     : https://etcbc.github.io/text-fabric-data\n",
      "Shebanq docs  : https://shebanq.ancient-data.org/text\n",
      "Slack team    : https://shebanq.slack.com/signup\n",
      "Questions? Ask shebanq@ancient-data.org for an invite to Slack\n",
      "107 features found and 0 ignored\n",
      "  0.00s loading features ...\n",
      "   |     0.12s B sp                   from /Users/dirk/github/text-fabric-data/hebrew/etcbc4c\n",
      "   |     0.00s Feature overview: 102 nodes; 4 edges; 1 configs; 7 computeds\n",
      "  4.64s All features loaded/computed - for details use loadLog()\n"
     ]
    }
   ],
   "source": [
    "import sys\n",
    "from tf.fabric import Fabric\n",
    "ETCBC = 'hebrew/etcbc4c'\n",
    "TF = Fabric( modules=ETCBC )\n",
    "api = TF.load('sp')\n",
    "api.makeAvailableIn(globals())"
   ]
  },
  {
   "cell_type": "code",
   "execution_count": 3,
   "metadata": {
    "collapsed": false
   },
   "outputs": [
    {
     "name": "stdout",
     "output_type": "stream",
     "text": [
      "(('subs', 125558), ('verb', 75450), ('prep', 73298), ('conj', 62737), ('nmpr', 35698), ('art', 30385), ('adjv', 10075), ('nega', 6059), ('prps', 5035), ('advb', 4603), ('prde', 2678), ('intj', 1912), ('inrg', 1303), ('prin', 1026))\n"
     ]
    }
   ],
   "source": [
    "print(F.sp.freqList())"
   ]
  },
  {
   "cell_type": "code",
   "execution_count": 34,
   "metadata": {
    "collapsed": true
   },
   "outputs": [],
   "source": [
    "query = '''\n",
    "v:verse book=Genesis chapter=1 verse=5\n",
    "c1:clause\n",
    "c2:clause\n",
    "c1 <1100: c2\n",
    "c1 < v\n",
    "c2 < v\n",
    "'''"
   ]
  },
  {
   "cell_type": "code",
   "execution_count": 35,
   "metadata": {
    "collapsed": false
   },
   "outputs": [
    {
     "name": "stdout",
     "output_type": "stream",
     "text": [
      "  0.00s searching\n",
      "  0.00s Checking search template ...\n",
      "  0.00s Setting up search space for 3 objects ...\n",
      "  0.14s Constraining search space with 3 relations ...\n",
      "  1.22s Setting up retrieval plan ...\n",
      "  3.53s Ready to deliver results from 176001 nodes\n",
      "Iterate over S.fetch() to get the results\n",
      "See S.showPlan() to interpret the results\n",
      "  0.00s Counting results per 1000 up to 20000 ...\n",
      "  0.31s Done: 100 results\n"
     ]
    }
   ],
   "source": [
    "indent(reset=True)\n",
    "info('searching')\n",
    "S.study(query)\n",
    "#S.showPlan(details=True)\n",
    "S.count(progress=1000, limit=20000)\n",
    "#for r in S.fetch(amount=20):\n",
    "#    print(S.glean(r))"
   ]
  },
  {
   "cell_type": "code",
   "execution_count": 37,
   "metadata": {
    "collapsed": false
   },
   "outputs": [
    {
     "name": "stdout",
     "output_type": "stream",
     "text": [
      "                      = left equal to right (as node)\n",
      "                      # left unequal to right (as node)\n",
      "                      < left before right (in canonical node ordering)\n",
      "                      > left after right (in canonical node ordering)\n",
      "                     == left occupies same slots as right\n",
      "                     && left has overlapping slots with right\n",
      "                     ## left and right do not have the same slot set\n",
      "                     || left and right do not have common slots\n",
      "                     [[ left embeds right\n",
      "                     ]] left embedded in right\n",
      "                     << left completely before right\n",
      "                     >> left completely after right\n",
      "                     =: left and right start at the same slot\n",
      "                     := left and right end at the same slot\n",
      "                     :: left and right start and end at the same slot\n",
      "                     <: left immediately before right\n",
      "                     :> left immediately after right\n",
      "                    =k: left and right start at k-nearly the same slot\n",
      "                    :k= left and right end at k-nearly the same slot\n",
      "                    :k: left and right start and end at k-near slots\n",
      "                    <k: left k-nearly before right\n",
      "                    :k> left k-nearly after right\n",
      "-distributional_parent> edge feature \"distributional_parent\"\n",
      "<distributional_parent- edge feature \"distributional_parent\" (opposite direction)\n",
      "    -functional_parent> edge feature \"functional_parent\"\n",
      "    <functional_parent- edge feature \"functional_parent\" (opposite direction)\n",
      "               -mother> edge feature \"mother\"\n",
      "               <mother- edge feature \"mother\" (opposite direction)\n",
      "The grid feature \"oslots\" cannot be used in searches.\n",
      "Surely, one of the above relations on nodes and/or slots will suit you better!\n"
     ]
    }
   ],
   "source": [
    "print(S.relationLegend)"
   ]
  },
  {
   "cell_type": "code",
   "execution_count": 2,
   "metadata": {
    "collapsed": true
   },
   "outputs": [],
   "source": [
    "query = '''\n",
    "clause\n",
    "    =: phrase\n",
    "    <: phrase\n",
    "    :=\n",
    "'''"
   ]
  },
  {
   "cell_type": "code",
   "execution_count": 3,
   "metadata": {
    "collapsed": false
   },
   "outputs": [
    {
     "name": "stdout",
     "output_type": "stream",
     "text": [
      "  0.00s searching\n",
      "  0.00s Checking search template ...\n",
      "  0.01s Setting up search space for 3 objects ...\n",
      "  0.47s Constraining search space with 5 relations ...\n",
      "  0.54s Setting up retrieval plan ...\n",
      "  0.59s Ready to deliver results from 594348 nodes\n",
      "Iterate over S.fetch() to get the results\n",
      "See S.showPlan() to interpret the results\n",
      "Search with 3 objects and 5 relations\n",
      "Results are instantiations of the following objects:\n",
      "node  0-clause                            ( 88000   choices)\n",
      "node  1-phrase                            (253174   choices)\n",
      "node  2-phrase                            (253174   choices)\n",
      "Instantiations are computed along the following relations:\n",
      "node                      0-clause        ( 88000   choices)\n",
      "edge  0-clause        :=  2-phrase        (     1.0 choices)\n",
      "edge  2-phrase        ]]  0-clause        (     1.0 choices)\n",
      "edge  2-phrase        :>  1-phrase        (     1.0 choices)\n",
      "edge  1-phrase        =:  0-clause        (     0.3 choices)\n",
      "edge  1-phrase        ]]  0-clause        (     1.0 choices)\n",
      "  0.61s The results are connected to the original search template as follows:\n",
      " 0     \n",
      " 1 R0  clause\n",
      " 2 R1      =: phrase\n",
      " 3 R2      <: phrase\n",
      " 4         :=\n",
      " 5     \n",
      "  1.90s Done: found 23415\n"
     ]
    }
   ],
   "source": [
    "indent(reset=True)\n",
    "info('searching')\n",
    "S.study(query)\n",
    "S.showPlan(details=True)\n",
    "qresults = sorted(r[1] for r in S.fetch())\n",
    "info(f'Done: found {len(qresults)}')"
   ]
  },
  {
   "cell_type": "code",
   "execution_count": 68,
   "metadata": {
    "collapsed": false
   },
   "outputs": [
    {
     "name": "stdout",
     "output_type": "stream",
     "text": [
      "  0.00s counting ...\n",
      "  2.82s Done: found 23415\n"
     ]
    }
   ],
   "source": [
    "indent(reset=True)\n",
    "info('counting ...')\n",
    "\n",
    "cresults = []\n",
    "for c in F.otype.s('clause'):\n",
    "    ws = L.d(c, otype='word')\n",
    "    ps = L.d(c, otype='phrase')\n",
    "    fp = None\n",
    "    lp = None\n",
    "    if len(ps) >= 2:\n",
    "        for p in ps:\n",
    "            wsp = L.d(p, otype='word')\n",
    "            if wsp[0] == ws[0]: fp = p\n",
    "            if wsp[-1] == ws[-1]: lp = p\n",
    "            if fp and lp: break\n",
    "        wf = L.d(fp, otype='word')\n",
    "        wl = L.d(lp, otype='word')\n",
    "        if wf[-1] + 1 == wl[0]:\n",
    "            cresults.append(c)\n",
    "cresults = sorted(cresults)\n",
    "info(f'Done: found {len(cresults)}')"
   ]
  },
  {
   "cell_type": "code",
   "execution_count": 5,
   "metadata": {
    "collapsed": false
   },
   "outputs": [],
   "source": [
    "query = '''\n",
    "# test\n",
    "# verse book=Genesis chapter=2 verse=25\n",
    "verse\n",
    "  clause\n",
    "                                 \n",
    "    p1:phrase\n",
    "        w1:word\n",
    "        w3:word\n",
    "        w1 =: p1\n",
    "        w3 := p1\n",
    "\n",
    "    p2:phrase\n",
    "        w2:word\n",
    "        w2 =: p2\n",
    "        w1 < w2 \n",
    "        w2 < w3\n",
    "    \n",
    "    p1 < p2   \n",
    "'''"
   ]
  },
  {
   "cell_type": "code",
   "execution_count": 6,
   "metadata": {
    "collapsed": false
   },
   "outputs": [
    {
     "name": "stdout",
     "output_type": "stream",
     "text": [
      "  0.00s Checking search template ...\n",
      "  0.00s Setting up search space for 7 objects ...\n",
      "  0.53s Constraining search space with 12 relations ...\n",
      "  0.60s Setting up retrieval plan ...\n",
      "  0.70s Ready to deliver results from 1897304 nodes\n",
      "Iterate over S.fetch() to get the results\n",
      "See S.showPlan() to interpret the results\n"
     ]
    }
   ],
   "source": [
    "S.study(query, strategy='small_choice_first')"
   ]
  },
  {
   "cell_type": "code",
   "execution_count": 7,
   "metadata": {
    "collapsed": false
   },
   "outputs": [
    {
     "name": "stdout",
     "output_type": "stream",
     "text": [
      "Search with 7 objects and 12 relations\n",
      "Results are instantiations of the following objects:\n",
      "node  0-verse                             ( 23213   choices)\n",
      "node  1-clause                            ( 88000   choices)\n",
      "node  2-phrase                            (253174   choices)\n",
      "node  3-word                              (426581   choices)\n",
      "node  4-word                              (426581   choices)\n",
      "node  5-phrase                            (253174   choices)\n",
      "node  6-word                              (426581   choices)\n",
      "Instantiations are computed along the following relations:\n",
      "node                      0-verse         ( 23213   choices)\n",
      "edge  0-verse         [[  1-clause        (     3.7 choices)\n",
      "edge  1-clause        [[  2-phrase        (     3.0 choices)\n",
      "edge  2-phrase        :=  4-word          (     1.0 choices)\n",
      "edge  4-word          ]]  2-phrase        (     1.0 choices)\n",
      "edge  2-phrase        =:  3-word          (     1.0 choices)\n",
      "edge  3-word          ]]  2-phrase        (     1.0 choices)\n",
      "edge  1-clause        [[  5-phrase        (     3.2 choices)\n",
      "edge  5-phrase        >   2-phrase        (126587.0 choices)\n",
      "edge  5-phrase        =:  6-word          (     1.0 choices)\n",
      "edge  6-word          ]]  5-phrase        (     1.0 choices)\n",
      "edge  4-word          >   6-word          (213290.5 choices)\n",
      "edge  3-word          <   6-word          (213290.5 choices)\n",
      "  1.94s The results are connected to the original search template as follows:\n",
      " 0     \n",
      " 1     # test\n",
      " 2     # verse book=Genesis chapter=2 verse=25\n",
      " 3 R0  verse\n",
      " 4 R1    clause\n",
      " 5                                      \n",
      " 6 R2      p1:phrase\n",
      " 7 R3          w1:word\n",
      " 8 R4          w3:word\n",
      " 9             w1 =: p1\n",
      "10             w3 := p1\n",
      "11     \n",
      "12 R5      p2:phrase\n",
      "13 R6          w2:word\n",
      "14             w2 =: p2\n",
      "15             w1 < w2 \n",
      "16             w2 < w3\n",
      "17         \n",
      "18         p1 < p2   \n",
      "19     \n"
     ]
    }
   ],
   "source": [
    "S.showPlan(details=True)"
   ]
  },
  {
   "cell_type": "code",
   "execution_count": 8,
   "metadata": {
    "collapsed": false
   },
   "outputs": [
    {
     "name": "stdout",
     "output_type": "stream",
     "text": [
      "  0.00s Counting results per 10 up to 100 ...\n",
      "   |     0.14s 10\n",
      "   |     0.27s 20\n",
      "   |     0.34s 30\n",
      "   |     0.42s 40\n",
      "   |     0.52s 50\n",
      "   |     0.63s 60\n",
      "   |     0.66s 70\n",
      "   |     0.72s 80\n",
      "   |     0.77s 90\n",
      "   |     0.81s 100\n",
      "  0.81s Done: 100 results\n"
     ]
    }
   ],
   "source": [
    "S.count(progress=10, limit=100)"
   ]
  },
  {
   "cell_type": "code",
   "execution_count": 9,
   "metadata": {
    "collapsed": false
   },
   "outputs": [
    {
     "name": "stdout",
     "output_type": "stream",
     "text": [
      "  0.00s Counting results per 100 up to 1000 ...\n",
      "   |     0.72s 100\n",
      "   |     1.58s 200\n",
      "   |     2.81s 300\n",
      "  4.97s Done: 369 results\n"
     ]
    }
   ],
   "source": [
    "S.count(progress=100, limit=1000)"
   ]
  },
  {
   "cell_type": "code",
   "execution_count": 8,
   "metadata": {
    "collapsed": false
   },
   "outputs": [
    {
     "name": "stdout",
     "output_type": "stream",
     "text": [
      "  0.00s Counting results per 1000 up to  the end of the results ...\n",
      "   |     2.32s 1000\n",
      "  4.18s Done: 1265 results\n"
     ]
    }
   ],
   "source": [
    "S.count(progress=1000, limit=-1)"
   ]
  },
  {
   "cell_type": "code",
   "execution_count": 10,
   "metadata": {
    "collapsed": false
   },
   "outputs": [
    {
     "name": "stdout",
     "output_type": "stream",
     "text": [
      "(1413737, 426799, 605793, 1159, 1164, 605794, 1160)\n",
      "(1413765, 426921, 606150, 1720, 1723, 606151, 1721)\n",
      "(1413937, 427418, 607746, 4819, 4828, 607747, 4821)\n",
      "(1413997, 427601, 608322, 5803, 5809, 608323, 5805)\n",
      "(1414001, 427616, 608369, 5868, 5875, 608370, 5869)\n",
      "(1414034, 427723, 608705, 6515, 6530, 608706, 6521)\n",
      "(1414086, 427917, 609286, 7431, 7437, 609287, 7432)\n",
      "(1414143, 428159, 609997, 8502, 8520, 609998, 8507)\n",
      "(1414143, 428159, 609997, 8502, 8520, 609999, 8508)\n",
      "(1414172, 428286, 610379, 9127, 9133, 610380, 9129)\n"
     ]
    }
   ],
   "source": [
    "for r in S.fetch(amount=10):\n",
    "    print(r)"
   ]
  },
  {
   "cell_type": "code",
   "execution_count": null,
   "metadata": {
    "collapsed": true
   },
   "outputs": [],
   "source": []
  }
 ],
 "metadata": {
  "kernelspec": {
   "display_name": "Python 3",
   "language": "python",
   "name": "python3"
  },
  "language_info": {
   "codemirror_mode": {
    "name": "ipython",
    "version": 3
   },
   "file_extension": ".py",
   "mimetype": "text/x-python",
   "name": "python",
   "nbconvert_exporter": "python",
   "pygments_lexer": "ipython3",
   "version": "3.6.0"
  }
 },
 "nbformat": 4,
 "nbformat_minor": 1
}
