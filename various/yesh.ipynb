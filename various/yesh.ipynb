{
 "cells": [
  {
   "cell_type": "markdown",
   "metadata": {},
   "source": [
    "<img align=\"right\" src=\"tf-small.png\"/>\n",
    "\n",
    "\n",
    "# From SHEBANQ to Text-Fabric\n",
    "\n",
    "Maybe you arrived here because you are interested in extending the possibilities of using the ETCBC database, after having reached the limits of what is possible in [SHEBANQ](http://shebanq.ancient-data.org).\n",
    "\n",
    "Here is a link (back) to the\n",
    "[description](https://etcbc.github.io/text-fabric-data/features/hebrew/etcbc4c/0_mql.html) of the transition from SHEBANQ to Text-Fabric.\n",
    "\n",
    "And here is the corresponding query on SHEBANQ: [Yesh](http://shebanq.ancient-data.org/hebrew/query?id=556)."
   ]
  },
  {
   "cell_type": "markdown",
   "metadata": {},
   "source": [
    "# Introduction to MQL\n",
    "\n",
    "Coming from Text-Fabric and its notebooks, you might wonder what MQL is.\n",
    "MQL stands for **Mini Query Language**, which is a query language optimized for textual resources.\n",
    "[EMDROS](http://emdros.org) is a text database system written by Ulrik Sandborg-Petersen based on the PhD. thesis of Crist-Jan Doedens: [Text Databases. One Database Model and Several Retrieval Languages](http://books.google.nl/books?id=9ggOBRz1dO4C&dq=editions%3AISBN9051837291&source=gbs_book_other_versions).\n",
    "The Text-Fabric resource which is \n",
    "[ETCBC Hebrew Dataset](https://etcbc.github.io/text-fabric-data/features/hebrew/etcbc4c/0_home.html)\n",
    "is the result of converting an EMDROS database into TF.\n",
    "\n",
    "MQL is good for detecting syntactical patterns.\n",
    "Text-Fabric is good for programmatically walking through the text \n",
    "and gathering information as you go.\n",
    "\n",
    "The query language of this system, MQL, is a so-called *topographic* query language, meaning that the query instruction is at the same time a template for the query results.\n",
    "More formally, there is a correspondence between the structure of the query instruction\n",
    "and the structure of the query results, and this correspondence holds for the sequential order and the embedding order.\n",
    "\n",
    "Put otherwise, MQL is a convenient language to query the data for tree fragments\n",
    "(but not for arbitrary *network* patterns).\n",
    "\n",
    "A specification of MQL can be found at the [Emdros docs page](http://emdros.org/docs.html).\n",
    "\n",
    "In order to run this notebook, you need to have the ETCBC dataset from\n",
    "[text-fabric-data](https://github.com/ETCBC/text-fabric-data)"
   ]
  },
  {
   "cell_type": "markdown",
   "metadata": {},
   "source": [
    "# Mimicking MQL in Text-Fabric"
   ]
  },
  {
   "cell_type": "markdown",
   "metadata": {},
   "source": [
    "This notebook shows how you can mimick MQL in Text-Fabric.\n",
    "\n",
    "We translate a simple MQL query in TF procesing, and show how to add context to the results. "
   ]
  },
  {
   "cell_type": "code",
   "execution_count": 1,
   "metadata": {
    "collapsed": false
   },
   "outputs": [],
   "source": [
    "import sys, collections\n",
    "from tf.fabric import Fabric"
   ]
  },
  {
   "cell_type": "code",
   "execution_count": 2,
   "metadata": {
    "collapsed": false
   },
   "outputs": [
    {
     "name": "stdout",
     "output_type": "stream",
     "text": [
      "This is Text-Fabric 1.2.6\n",
      "Api reference : https://github.com/ETCBC/text-fabric/wiki/Api\n",
      "Tutorial      : https://github.com/ETCBC/text-fabric/blob/master/docs/tutorial.ipynb\n",
      "Data sources  : https://github.com/ETCBC/text-fabric-data\n",
      "Data docs     : https://etcbc.github.io/text-fabric-data/features/hebrew/etcbc4c/0_overview.html\n",
      "Shebanq docs  : https://shebanq.ancient-data.org/text\n",
      "Slack team    : https://shebanq.slack.com/signup\n",
      "Questions? Ask shebanq@ancient-data.org for an invite to Slack\n",
      "105 features found and 0 ignored\n"
     ]
    }
   ],
   "source": [
    "ETCBC = 'hebrew/etcbc4c'\n",
    "TF = Fabric( modules=ETCBC )"
   ]
  },
  {
   "cell_type": "code",
   "execution_count": 3,
   "metadata": {
    "collapsed": false
   },
   "outputs": [
    {
     "name": "stdout",
     "output_type": "stream",
     "text": [
      "  0.00s loading features ...\n",
      "   |     0.62s B oslots               from /Users/dirk/github/text-fabric-data/hebrew/etcbc4c\n",
      "   |     0.00s M otext                from /Users/dirk/github/text-fabric-data/hebrew/etcbc4c\n",
      "   |     0.17s B lex                  from /Users/dirk/github/text-fabric-data/hebrew/etcbc4c\n",
      "   |     0.27s B typ                  from /Users/dirk/github/text-fabric-data/hebrew/etcbc4c\n",
      "   |     0.04s B code                 from /Users/dirk/github/text-fabric-data/hebrew/etcbc4c\n",
      "   |     0.10s B function             from /Users/dirk/github/text-fabric-data/hebrew/etcbc4c\n",
      "   |     0.28s B rela                 from /Users/dirk/github/text-fabric-data/hebrew/etcbc4c\n",
      "   |     0.17s B det                  from /Users/dirk/github/text-fabric-data/hebrew/etcbc4c\n",
      "  5.94s All features loaded/computed - for details use loadLog()\n"
     ]
    }
   ],
   "source": [
    "api = TF.load('''\n",
    "    lex \n",
    "    typ code function rela det\n",
    "    oslots\n",
    "''')\n",
    "api.makeAvailableIn(globals())"
   ]
  },
  {
   "cell_type": "markdown",
   "metadata": {},
   "source": [
    "# The MQL query\n",
    "\n",
    "Here is the basic query that selects two lexemes.\n",
    "\n",
    "    [word lex=\"JC/\" or lex=\">JN/\"]\n",
    "\n",
    "Let us retrieve the word nodes."
   ]
  },
  {
   "cell_type": "code",
   "execution_count": 4,
   "metadata": {
    "collapsed": false
   },
   "outputs": [
    {
     "name": "stdout",
     "output_type": "stream",
     "text": [
      "  8.91s Gathering occurrences of the lexeme set ...\n",
      "  9.18s Found 926 occurrences (788 of >JN/, 138 of JC/)\n"
     ]
    }
   ],
   "source": [
    "lexemes = {'JC/', '>JN/'}\n",
    "nlex = collections.Counter()\n",
    "\n",
    "info('Gathering occurrences of the lexeme set ...')\n",
    "words = []\n",
    "for w in F.otype.s('word'):\n",
    "    lex = F.lex.v(w)\n",
    "    if lex in lexemes:\n",
    "        words.append(w)\n",
    "        nlex[lex] += 1\n",
    "info('Found {} occurrences ({})'.format(\n",
    "    len(words), \n",
    "    ', '.join('{} of {}'.format(n, l) for (l,n) in sorted(nlex.items())),\n",
    "))"
   ]
  },
  {
   "cell_type": "markdown",
   "metadata": {},
   "source": [
    "# Get context\n",
    "\n",
    "We want to retrieve these objects from the context, and in particular the feature(s)\n",
    "that is put between brackets after the object:\n",
    "\n",
    "    book (name)\n",
    "      chapter (number)\n",
    "        verse (number)\n",
    "          clause (typ)\n",
    "            clause_atom (code)\n",
    "              phrase (function)\n",
    "                phrase_atom (det)\n",
    "                  word (lex, text)"
   ]
  },
  {
   "cell_type": "code",
   "execution_count": 10,
   "metadata": {
    "collapsed": false
   },
   "outputs": [
    {
     "name": "stdout",
     "output_type": "stream",
     "text": [
      "Genesis, 2, 5, NmCl, 402, Nega, NA, >JN/, אַ֔יִן \n",
      "Genesis, 5, 24, NmCl, 407, NCoS, NA, >JN/, אֵינֶ֕נּוּ \n",
      "Genesis, 7, 8, AjCl, 10, NCoS, NA, >JN/, אֵינֶ֖נָּה \n",
      "Genesis, 11, 30, NmCl, 107, NCop, NA, >JN/, אֵ֥ין \n",
      "Genesis, 18, 24, NmCl, 101, Exst, und, JC/, יֵ֛שׁ \n",
      "Genesis, 19, 31, NmCl, 402, NCop, NA, >JN/, אֵ֤ין \n",
      "Genesis, 20, 7, Ptcp, 663, NCoS, NA, >JN/, אֵֽינְךָ֣ \n",
      "Genesis, 20, 11, NmCl, 999, NCop, NA, >JN/, אֵין־\n",
      "Genesis, 23, 8, NmCl, 999, Exst, und, JC/, יֵ֣שׁ \n",
      "Genesis, 24, 23, NmCl, 103, Exst, und, JC/, יֵ֧שׁ \n"
     ]
    }
   ],
   "source": [
    "results = []\n",
    "\n",
    "for w in words:\n",
    "    (book, chapter, verse) = T.sectionFromNode(w)\n",
    "    text = T.text([w])\n",
    "    results.append((\n",
    "        book,\n",
    "        chapter,\n",
    "        verse,\n",
    "        F.typ.v(L.u(w, otype='clause')[0]),\n",
    "        F.code.v(L.u(w, otype='clause_atom')[0]),\n",
    "        F.function.v(L.u(w, otype='phrase')[0]),\n",
    "        F.det.v(L.u(w, otype='phrase_atom')[0]),\n",
    "        F.lex.v(w),\n",
    "        text,\n",
    "    ))\n",
    "\n",
    "for result in results[0:10]:\n",
    "    print(', '.join(str(r) for r in result))"
   ]
  },
  {
   "cell_type": "code",
   "execution_count": null,
   "metadata": {
    "collapsed": true
   },
   "outputs": [],
   "source": []
  }
 ],
 "metadata": {
  "kernelspec": {
   "display_name": "Python 3",
   "language": "python",
   "name": "python3"
  },
  "language_info": {
   "codemirror_mode": {
    "name": "ipython",
    "version": 3
   },
   "file_extension": ".py",
   "mimetype": "text/x-python",
   "name": "python",
   "nbconvert_exporter": "python",
   "pygments_lexer": "ipython3",
   "version": "3.6.0"
  }
 },
 "nbformat": 4,
 "nbformat_minor": 0
}
